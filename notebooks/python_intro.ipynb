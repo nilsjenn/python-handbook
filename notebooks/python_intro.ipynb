{
 "nbformat": 4,
 "nbformat_minor": 0,
 "metadata": {
  "colab": {
   "name": "Python Workshop.ipynb",
   "provenance": [],
   "collapsed_sections": [],
   "toc_visible": true,
   "authorship_tag": "ABX9TyPRtLMqV5pg7D+XXJImYXRm",
   "include_colab_link": true
  },
  "kernelspec": {
   "name": "python3",
   "language": "python",
   "display_name": "Python 3 (ipykernel)"
  },
  "language_info": {
   "name": "python"
  }
 },
 "cells": [
  {
   "cell_type": "markdown",
   "metadata": {
    "id": "view-in-github",
    "colab_type": "text"
   },
   "source": [
    "[![Open In Colab](https://colab.research.google.com/assets/colab-badge.svg)](https://colab.research.google.com/github/nilsjennissen/python-handbook/blob/main/notebooks/python_intro.ipynb)"
   ]
  },
  {
   "cell_type": "markdown",
   "source": [
    "# Welcome to your Python Introduction\n",
    "\n",
    "Python is a high-level, interpreted programming language known for its readability and simplicity. Guido van Rossum released the first version of Python in 1991, and since then, it has become one of the most popular programming languages in the world. Python is widely used for various purposes, including web development, data analysis, artificial intelligence, scientific computing, automation, and more.\n",
    "\n",
    "Key features of Python include:\n",
    "\n",
    "1. Readable and Simple Syntax: Python's syntax is designed to be clear and readable, making it easy for developers to write and maintain code.\n",
    "\n",
    "2. Interpreted Language: Python is an interpreted language, which means that code can be executed line by line without the need for compilation. This contributes to a quicker development cycle.\n",
    "\n",
    "3. Dynamic Typing: Python is dynamically typed, meaning that variable types are assigned during runtime. This allows for more flexibility but requires careful attention to variable types during development.\n",
    "\n",
    "4. Extensive Standard Library: Python comes with a vast standard library that includes modules and packages for a wide range of tasks, from working with data structures to networking and web development.\n",
    "\n",
    "5. Cross-platform: Python is compatible with various operating systems, including Windows, macOS, and Linux, making it a versatile choice for developers.\n",
    "\n",
    "6. Community and Ecosystem: Python has a large and active community of developers who contribute to its growth. There are numerous third-party libraries and frameworks available, which further extends its capabilities.\n",
    "\n",
    "7. Object-Oriented: Python supports object-oriented programming principles, allowing developers to create and use classes and objects.\n",
    "\n",
    "Python is often used for web development with frameworks like Django and Flask, data science with libraries such as NumPy and pandas, machine learning with frameworks like TensorFlow and PyTorch, and more. Its versatility, ease of learning, and broad applicability contribute to its popularity among both beginners and experienced developers.\n"
   ],
   "metadata": {
    "id": "DtXDGxD4Hjda"
   }
  },
  {
   "cell_type": "markdown",
   "source": [
    "## Basic Calculations\n",
    "\n",
    "Basic arithmetic operations in Python include addition, subtraction, multiplication, division, exponentiation, and modulo. These operations can be performed using built-in operators in Python. Here are some examples:\n",
    "\n",
    "- Addition (+): 2 + 3 = 5\n",
    "- Substraction (-): 5 - 3 = 2\n",
    "- Division (/): 10 / 2 = 5\n",
    "- Multiplication (*): 2 * 3 = 6\n",
    "- Exponentiation (**): 2 ** 3 = 8\n",
    "- Modulo (%): 18 % 7 = 4\n",
    "- Remainder (//): 18 // 7 = 2\n",
    "\n",
    "\n",
    "In Python, calculation signs are fundamental components that facilitate mathematical operations within the language. These signs, also known as arithmetic operators, enable developers to perform a variety of mathematical computations with ease. Python supports the standard set of arithmetic operators found in most programming languages, allowing for addition, subtraction, multiplication, division, floor division, modulus, and exponentiation.\n",
    "\n",
    "These operators play a crucial role in numerical computations, making Python a versatile language for tasks ranging from simple arithmetic calculations to complex mathematical algorithms. Whether you're working with integers, floating-point numbers, or other numeric types, Python's arithmetic operators provide the tools needed to manipulate and analyze data efficiently.\n",
    "\n",
    "Understanding how to use these calculation signs, along with the rules of operator precedence, allows developers to express mathematical operations in a concise and readable manner. This foundational knowledge is essential for anyone working with Python, whether they are beginners exploring the language's capabilities or experienced developers implementing sophisticated mathematical algorithms in scientific computing, data analysis, or machine learning applications. In the following sections, we'll delve into each arithmetic operator and explore how they can be applied in Python programming."
   ],
   "metadata": {
    "id": "isakngIV9f02"
   }
  },
  {
   "cell_type": "code",
   "execution_count": 45,
   "metadata": {
    "id": "CwAAe1_jHic5",
    "colab": {
     "base_uri": "https://localhost:8080/"
    },
    "outputId": "431ef075-6ed3-4ffd-ac51-05faed0279c2",
    "ExecuteTime": {
     "end_time": "2023-11-14T13:36:42.173277Z",
     "start_time": "2023-11-14T13:36:42.150301Z"
    }
   },
   "outputs": [
    {
     "name": "stdout",
     "output_type": "stream",
     "text": [
      "13\n",
      "-3\n",
      "64.75\n",
      "70\n",
      "16\n",
      "4\n",
      "2\n"
     ]
    }
   ],
   "source": [
    "# Example printing the sum of two numbers\n",
    "# Addition\n",
    "print(5 + 8)\n",
    "\n",
    "# Subtraction\n",
    "print(7 - 10)\n",
    "\n",
    "# Division\n",
    "print(518 / 8)\n",
    "\n",
    "# Multiplication\n",
    "print(7 * 10)\n",
    "\n",
    "# Exponentiation\n",
    "print(4 ** 2)\n",
    "\n",
    "# Modulo\n",
    "print(18 % 7)\n",
    "\n",
    "# Remainder\n",
    "print(18 // 7)"
   ]
  },
  {
   "cell_type": "markdown",
   "source": [
    "## Variables and Types\n",
    "\n",
    "In Python, data types are an essential concept that categorizes and defines the nature of data that a variable can hold. Python is a dynamically-typed language, which means that the interpreter automatically determines the data type of a variable based on the value assigned to it. Here are some fundamental Python data types:\n",
    "\n",
    "Float = real numbers\n",
    "Integer = whole numbers\n",
    "Strings = text string\n",
    "Boolean = True, False\n",
    "\n",
    "Key points about variables and data types in Python:\n",
    "\n",
    "1. Variable names must follow the rules for valid Python identifiers, which include being alphanumeric and starting with a letter or underscore.\n",
    "2. Variables can be declared using the `var` keyword, but it is not strictly necessary. Python will automatically create a variable when you assign a value to it.\n",
    "3. Variables in Python are dynamically typed, which means that you can assign different types of values to a variable at any time. This makes Python very flexible and allows for a\n",
    "wide range of data types to be used in the same program.\n",
    "4. If you need to declare a variable with a specific data type, you can use explicit type hints or annotations. This is especially useful when working with complex data structures\n",
    "5. You can also reassign a variable to another value at any time, as long as the new value is of the same data type.\n",
    "6. Python has several built-in data types, including integers (`int`, `long`, `long long`), floating-point numbers (`float`, `double`, `decimal`), and strings (`str`). It also \n",
    "supports complex numbers (`complex`) and booleans (`True`, `False`).\n",
    "7. Python also has a variety of data structures that can be used to store and manipulate data, such as lists, tuples, sets, dictionaries, and more. These are often used in \n",
    "combination with variables to create complex programs."
   ],
   "metadata": {
    "id": "Qz_0F0KeIeVj"
   }
  },
  {
   "cell_type": "code",
   "source": [
    "# Variable assignment with =\n",
    "\n",
    "w = 3.2\n",
    "x = 10\n",
    "y = \"apples\"\n",
    "z = True\n",
    "\n",
    "type(y)"
   ],
   "metadata": {
    "id": "PlFDNVUUIejE",
    "ExecuteTime": {
     "end_time": "2023-11-14T13:38:44.904568Z",
     "start_time": "2023-11-14T13:38:44.876049Z"
    }
   },
   "execution_count": 46,
   "outputs": [
    {
     "data": {
      "text/plain": "str"
     },
     "execution_count": 46,
     "metadata": {},
     "output_type": "execute_result"
    }
   ]
  },
  {
   "cell_type": "markdown",
   "source": [
    "## Python Sample Case\n",
    "\n",
    "Let's consider a simple scenario where you have an initial savings amount and you want to calculate the future value of your savings after a certain number of years, assuming a fixed annual interest rate. The formula for compound interest can be used for this calculation:\n",
    "\n",
    "Future Value:\n",
    "Future Value=Principal×(1+Interest_Rate)**Number of Years\n",
    " \n",
    "\n",
    "Here's a Python script demonstrating how you can use exponentiation to calculate the future value of savings:"
   ],
   "metadata": {
    "id": "MKg1zPGyKayg"
   }
  },
  {
   "cell_type": "code",
   "source": [
    "# Create a variable savings\n",
    "savings = 100\n",
    "\n",
    "# Print out savings\n",
    "print(savings)"
   ],
   "metadata": {
    "id": "tJH4W8KnKa_6",
    "ExecuteTime": {
     "end_time": "2023-11-14T13:38:50.490788Z",
     "start_time": "2023-11-14T13:38:50.454214Z"
    }
   },
   "execution_count": 47,
   "outputs": [
    {
     "name": "stdout",
     "output_type": "stream",
     "text": [
      "100\n"
     ]
    }
   ]
  },
  {
   "cell_type": "code",
   "source": [
    "# Create a variable savings\n",
    "savings = 100\n",
    "\n",
    "# Create a variable growth_multiplier\n",
    "growth_multiplier = 1.1\n",
    "\n",
    "# Calculate result\n",
    "result = savings * growth_multiplier ** 7\n",
    "\n",
    "# Print out result\n",
    "print(result)"
   ],
   "metadata": {
    "id": "q5WnEKimKksJ",
    "ExecuteTime": {
     "end_time": "2023-11-14T13:38:50.754622Z",
     "start_time": "2023-11-14T13:38:50.725833Z"
    }
   },
   "execution_count": 48,
   "outputs": [
    {
     "name": "stdout",
     "output_type": "stream",
     "text": [
      "194.87171000000012\n"
     ]
    }
   ]
  },
  {
   "cell_type": "code",
   "source": [
    "savings = 100\n",
    "growth_multiplier = 1.1\n",
    "desc = \"compound interest\"\n",
    "\n",
    "# Create a variable profitable\n",
    "profitable = True\n",
    "\n",
    "# Assign product of growth_multiplier and savings to year1\n",
    "year1 = savings * growth_multiplier\n",
    "\n",
    "# Print the type of year1\n",
    "print(type(year1))\n",
    "\n",
    "# Assign sum of desc and desc to doubledesc\n",
    "doubledesc = desc + desc\n",
    "\n",
    "# Print out doubledesc\n",
    "print( doubledesc)"
   ],
   "metadata": {
    "id": "705FQWFkLyGL",
    "ExecuteTime": {
     "end_time": "2023-11-14T13:38:51.106029Z",
     "start_time": "2023-11-14T13:38:51.080136Z"
    }
   },
   "execution_count": 49,
   "outputs": [
    {
     "name": "stdout",
     "output_type": "stream",
     "text": [
      "<class 'float'>\n",
      "compound interestcompound interest\n"
     ]
    }
   ]
  },
  {
   "cell_type": "code",
   "source": [
    "# Definition of savings and result\n",
    "savings = 100\n",
    "result = 100 * 1.10 ** 7\n",
    "\n",
    "# Fix the printout\n",
    "print(\"I started with $\" + str(savings) + \" and now have $\" + str(result) + \". Awesome!\")\n",
    "\n",
    "# Definition of pi_string\n",
    "pi_string = \"3.1415926\"\n",
    "\n",
    "# Convert pi_string into float: pi_float\n",
    "pi_float = float(pi_string)"
   ],
   "metadata": {
    "id": "L-AI0CZsL1xr",
    "ExecuteTime": {
     "end_time": "2023-11-14T13:38:51.483302Z",
     "start_time": "2023-11-14T13:38:51.438673Z"
    }
   },
   "execution_count": 50,
   "outputs": [
    {
     "name": "stdout",
     "output_type": "stream",
     "text": [
      "I started with $100 and now have $194.87171000000012. Awesome!\n"
     ]
    }
   ]
  },
  {
   "cell_type": "markdown",
   "source": [
    "## Python Lists\n",
    "\n",
    "In Python, a list is a built-in data type that represents an ordered, mutable (changeable) sequence of elements. Lists are one of the most versatile and commonly used data structures in Python. They can contain elements of different data types, including numbers, strings, and other lists. Lists are defined by enclosing elements in square brackets [] and separating them with commas.\n",
    "\n",
    "Key characteristics of Python lists:\n",
    "\n",
    "1. Ordered: Lists maintain the order of elements, meaning that the position of an element in the list is preserved.\n",
    "\n",
    "2. Mutable: You can modify the elements of a list by changing, adding, or removing items.\n",
    "\n",
    "3. Heterogeneous: Lists can contain elements of different data types.\n",
    "\n",
    "4. Dynamic: Lists can grow or shrink in size dynamically.\n"
   ],
   "metadata": {
    "id": "gPPwVkerL69B"
   }
  },
  {
   "cell_type": "code",
   "source": [
    "list1 = [3, 5, 8, 4, 5]\n",
    "list2 = [5.1, 4.5, 3.4, 6.7]\n",
    "type(list1)\n",
    " "
   ],
   "metadata": {
    "id": "eTnoD6HSL_s-",
    "ExecuteTime": {
     "end_time": "2023-11-14T12:42:55.489348Z",
     "start_time": "2023-11-14T12:42:55.483245Z"
    }
   },
   "execution_count": 1,
   "outputs": [
    {
     "data": {
      "text/plain": "list"
     },
     "execution_count": 1,
     "metadata": {},
     "output_type": "execute_result"
    }
   ]
  },
  {
   "cell_type": "markdown",
   "source": [
    "### List Operations"
   ],
   "metadata": {
    "collapsed": false
   }
  },
  {
   "cell_type": "code",
   "execution_count": 6,
   "outputs": [
    {
     "name": "stdout",
     "output_type": "stream",
     "text": [
      "[8, 7, 7, 7, 4, 10, 10, 10]\n",
      "8\n"
     ]
    }
   ],
   "source": [
    "list1.remove(3)\n",
    "list1.append(10)\n",
    "list1.insert(2, 7)\n",
    "print(list1)\n",
    "print(len(list1))"
   ],
   "metadata": {
    "collapsed": false,
    "ExecuteTime": {
     "end_time": "2023-11-14T12:44:21.915092Z",
     "start_time": "2023-11-14T12:44:21.882705Z"
    }
   }
  },
  {
   "cell_type": "code",
   "source": [
    "# area variables (in square meters)\n",
    "hall = 11.25\n",
    "kit = 18.0\n",
    "liv = 20.0\n",
    "bed = 10.75\n",
    "bath = 9.50\n",
    "\n",
    "# Create list areas\n",
    "areas = [hall, kit, liv, bed, bath]\n",
    "\n",
    "# Print areas\n",
    "print(areas)\n"
   ],
   "metadata": {
    "id": "FGIDO2CaM6bI"
   },
   "execution_count": null,
   "outputs": []
  },
  {
   "cell_type": "code",
   "source": [
    "# area variables (in square meters)\n",
    "hall = 11.25\n",
    "kit = 18.0\n",
    "liv = 20.0\n",
    "bed = 10.75\n",
    "bath = 9.50\n",
    "\n",
    "# Adapt list areas\n",
    "areas = [\"hallway\", hall, \"kitchen\",  kit, \"living room\", liv, \"bedroom\", bed, \"bathroom\", bath]\n",
    "\n",
    "# Print areas\n",
    "print(areas)"
   ],
   "metadata": {
    "id": "vh0Ou4DSNR1j"
   },
   "execution_count": null,
   "outputs": []
  },
  {
   "cell_type": "code",
   "source": [
    "# area variables (in square meters)\n",
    "hall = 11.25\n",
    "kit = 18.0\n",
    "liv = 20.0\n",
    "bed = 10.75\n",
    "bath = 9.50\n",
    "\n",
    "# house information as list of lists\n",
    "house = [[\"hallway\", hall],\n",
    "         [\"kitchen\", kit],\n",
    "         [\"living room\", liv],\n",
    "         [\"bedroom\", bed],\n",
    "         [\"bathroom\", bath]]\n",
    "\n",
    "# Print out house\n",
    "print(house)\n",
    "\n",
    "# Print out the type of house\n",
    "print(type(house))"
   ],
   "metadata": {
    "id": "TFHbJRDqNWWt"
   },
   "execution_count": null,
   "outputs": []
  },
  {
   "cell_type": "markdown",
   "source": [
    "### Operation on List Indexes\n",
    "Subdividing Lists with the Index\n",
    "\n",
    "Starting with 0!\n",
    "\n",
    "[Inclusive:Exclusiv]"
   ],
   "metadata": {
    "id": "cBBwDdDzNbPF"
   }
  },
  {
   "cell_type": "code",
   "source": [
    "# Create the areas list\n",
    "areas = [\"hallway\", 11.25, \"kitchen\", 18.0, \"living room\", 20.0, \"bedroom\", 10.75, \"bathroom\", 9.50]\n",
    "\n",
    "# Print out second element from areas\n",
    "print(areas[1])\n",
    "\n",
    "# Print out last element from areas\n",
    "print(areas[-1])\n",
    "\n",
    "# Print out the area of the living room\n",
    "print(areas[5:8])"
   ],
   "metadata": {
    "id": "IVoIYsiONd5y"
   },
   "execution_count": null,
   "outputs": []
  },
  {
   "cell_type": "code",
   "source": [
    "# Create the areas list\n",
    "areas = [\"hallway\", 11.25, \"kitchen\", 18.0, \"living room\", 20.0, \"bedroom\", 10.75, \"bathroom\", 9.50]\n",
    "\n",
    "# Sum of kitchen and bedroom area: eat_sleep_area\n",
    "eat_sleep_area = areas[3] + areas[-3]\n",
    "\n",
    "# Print the variable eat_sleep_area\n",
    "print(eat_sleep_area)"
   ],
   "metadata": {
    "id": "7p01xS7lO2ts"
   },
   "execution_count": null,
   "outputs": []
  },
  {
   "cell_type": "code",
   "source": [
    "# Create the areas list\n",
    "areas = [\"hallway\", 11.25, \"kitchen\", 18.0, \"living room\", 20.0, \"bedroom\", 10.75, \"bathroom\", 9.50]\n",
    "\n",
    "# Use slicing to create downstairs\n",
    "downstairs = areas[0:6]\n",
    "\n",
    "# Use slicing to create upstairs\n",
    "upstairs = areas[6:11]\n",
    "\n",
    "# Print out downstairs and upstairs\n",
    "print(downstairs)\n",
    "print(upstairs)"
   ],
   "metadata": {
    "id": "fl6cIBEOO5wC"
   },
   "execution_count": null,
   "outputs": []
  },
  {
   "cell_type": "code",
   "source": [
    "# Create the areas list\n",
    "areas = [\"hallway\", 11.25, \"kitchen\", 18.0, \"living room\", 20.0, \"bedroom\", 10.75, \"bathroom\", 9.50]\n",
    "\n",
    "# Alternative slicing to create downstairs\n",
    "downstairs = areas[:6]\n",
    "\n",
    "# Alternative slicing to create upstairs\n",
    "upstairs = areas[6:]"
   ],
   "metadata": {
    "id": "wQNTXfEtPNWB"
   },
   "execution_count": null,
   "outputs": []
  },
  {
   "cell_type": "code",
   "source": [
    "# Create the areas list\n",
    "areas = [\"hallway\", 11.25, \"kitchen\", 18.0, \"living room\", 20.0, \"bedroom\", 10.75, \"bathroom\", 9.50]\n",
    "\n",
    "# Correct the bathroom area\n",
    "areas[-1] = 10.50\n",
    "\n",
    "# Change \"living room\" to \"chill zone\"\n",
    "areas[4] = \"chill zone\""
   ],
   "metadata": {
    "id": "T9ZsBhP0PU09"
   },
   "execution_count": null,
   "outputs": []
  },
  {
   "cell_type": "code",
   "source": [
    "# Create the areas list and make some changes\n",
    "areas = [\"hallway\", 11.25, \"kitchen\", 18.0, \"chill zone\", 20.0,\n",
    "         \"bedroom\", 10.75, \"bathroom\", 10.50]\n",
    "\n",
    "# Add poolhouse data to areas, new list is areas_1\n",
    "areas_1 = areas + [\"poolhouse\", 24.5]\n",
    "\n",
    "# Add garage data to areas_1, new list is areas_2\n",
    "areas_2 = areas_1 + [\"garage\", 15.45]"
   ],
   "metadata": {
    "id": "wk02pNWhQVMD"
   },
   "execution_count": null,
   "outputs": []
  },
  {
   "cell_type": "markdown",
   "source": [
    "Creating a List"
   ],
   "metadata": {
    "id": "ogP93npLQhtP"
   }
  },
  {
   "cell_type": "code",
   "source": [
    "# Create list areas\n",
    "areas = [11.25, 18.0, 20.0, 10.75, 9.50]\n",
    "\n",
    "# Create areas_copy\n",
    "areas_copy = list(areas)\n",
    "\n",
    "# Change areas_copy\n",
    "areas_copy[0] = 5.0\n",
    "\n",
    "# Print areas\n",
    "print(areas)"
   ],
   "metadata": {
    "id": "3Jbu7zauQgJY"
   },
   "execution_count": null,
   "outputs": []
  },
  {
   "cell_type": "markdown",
   "source": [
    "## Tuples\n",
    "\n",
    "In Python, a tuple is a collection data type that is similar to a list. However, unlike lists, tuples are immutable, meaning their elements cannot be modified or changed after the tuple is created. Tuples are defined by enclosing a sequence of elements in parentheses () and separating them with commas.\n",
    "\n",
    "Key characteristics of Python tuples:\n",
    "\n",
    "1. Immutable: Once a tuple is created, you cannot add, remove, or modify elements. This immutability makes tuples suitable for situations where the data should remain constant throughout the program.\n",
    "\n",
    "2. Ordered: Like lists, tuples maintain the order of elements, meaning the position of an element in the tuple is preserved.\n",
    "\n",
    "3. Heterogeneous: Tuples can contain elements of different data types.\n",
    "\n",
    "4. Indexing and Slicing: Elements in a tuple can be accessed using indexing, and you can create sub-tuples using slicing. \n",
    "5. Length: You can find the number of elements in a tuple using the len() function.\n",
    "\n",
    "Tuples are often used in situations where data integrity and immutability are important. For example, they can be used to represent fixed collections of values, such as coordinates, RGB color values, or configurations. Tuples are also commonly used for returning multiple values from a function."
   ],
   "metadata": {
    "collapsed": false
   }
  },
  {
   "cell_type": "code",
   "execution_count": null,
   "outputs": [],
   "source": [
    "my_tuple = (1, 2, \"three\", 4.0)"
   ],
   "metadata": {
    "collapsed": false
   }
  },
  {
   "cell_type": "code",
   "execution_count": null,
   "outputs": [],
   "source": [
    "def get_coordinates():\n",
    "    x = 10\n",
    "    y = 20\n",
    "    return x, y\n",
    "\n",
    "coordinates = get_coordinates()\n",
    "print(coordinates)  # Output: (10, 20)"
   ],
   "metadata": {
    "collapsed": false
   }
  },
  {
   "cell_type": "markdown",
   "source": [
    "In this example, the function get_coordinates returns a tuple (x, y), which can be easily unpacked into separate variables."
   ],
   "metadata": {
    "collapsed": false
   }
  },
  {
   "cell_type": "markdown",
   "source": [
    "## Functions\n",
    "\n",
    "In Python, a function is a reusable block of code that performs a specific task or set of tasks. Functions allow you to break down your program into smaller, modular components, making your code more organized, readable, and maintainable. Functions in Python are defined using the def keyword, followed by the function name and a pair of parentheses. The syntax for defining a function looks like this:\n",
    "\n",
    "def function_name(parameter1, parameter2, ...):\n",
    "- Code block (body) of the function\n",
    "- Perform tasks using parameters and other statements\n",
    "- return result  # Optional: Return a value\n",
    "    \n",
    "\n",
    "Example:\n",
    "def add_numbers(a, b):\n",
    "-    sum_result = a + b\n",
    "-    return sum_result\n",
    "    \n",
    "In this example:\n",
    "\n",
    "add_numbers is the function name.\n",
    "a and b are parameters (input values) that the function accepts.\n",
    "The body of the function contains the code to add the two parameters.\n",
    "The return statement specifies the value that the function will return.\n",
    "Once a function is defined, you can call or invoke it by using its name and providing arguments (actual values) for the parameters:\n",
    "\n",
    "Key concepts related to functions in Python:\n",
    "\n",
    "1. Parameters and Arguments: Parameters are variables listed in the function definition, while arguments are the values passed to the function when it is called.\n",
    "\n",
    "2. Return Statement: Functions can return a value using the return statement. If no return statement is used, the function returns None by default.\n",
    "\n",
    "3. Scope: Variables defined inside a function have local scope, meaning they are only accessible within that function. Variables defined outside any function have global scope.\n",
    "\n",
    "4. Docstrings: Functions can include documentation strings (docstrings) to provide information about the purpose and usage of the function."
   ],
   "metadata": {
    "id": "7fX2WG-jQnEO"
   }
  },
  {
   "cell_type": "code",
   "source": [
    "# Rounding a number\n",
    "rounded = round(173.9832, 2)\n",
    "print(rounded)\n",
    "help(round)"
   ],
   "metadata": {
    "id": "8D07xmqeQq69"
   },
   "execution_count": null,
   "outputs": []
  },
  {
   "cell_type": "code",
   "source": [
    "# Create variables var1 and var2\n",
    "var1 = [1, 2, 3, 4]\n",
    "var2 = True\n",
    "\n",
    "# Print out type of var1\n",
    "result = type(var1)\n",
    "print(result)\n",
    "# Print out length of var1\n",
    "print(len(var1))\n",
    "# Convert var2 to an integer: out2\n",
    "out2 = int(var2)"
   ],
   "metadata": {
    "id": "gy3KT3ZoRTu6"
   },
   "execution_count": null,
   "outputs": []
  },
  {
   "cell_type": "code",
   "source": [
    "# Create lists first and second\n",
    "first = [11.25, 18.0, 20.0]\n",
    "second = [10.75, 9.50]\n",
    "\n",
    "# Paste together first and second: full\n",
    "full = first + second\n",
    "\n",
    "# Sort full in descending order: full_sorted\n",
    "full_sorted = sorted(full, reverse = True)\n",
    "\n",
    "# Print out full_sorted\n",
    "print(full_sorted)"
   ],
   "metadata": {
    "id": "T02Hvum3Ryy8"
   },
   "execution_count": null,
   "outputs": []
  },
  {
   "cell_type": "markdown",
   "source": [
    "## Methods\n",
    "\n",
    "In Python, a method is a function that is associated with an object. In other words, a method is a function that is called on an object and operates on that object. Methods are invoked using the dot notation, where the method is called on an object, and the object is placed before the dot.\n",
    "\n",
    "Key points about methods in Python:\n",
    "\n",
    "1. Object Association: Methods are associated with specific types of objects (e.g., lists, strings, dictionaries). The available methods depend on the type of the object.\n",
    "\n",
    "2. Syntax: The syntax for calling a method is object.method(arguments), where object is an instance of a class, method is the name of the method, and arguments are the values passed to the method.\n",
    "\n",
    "3. Mutability: Some methods modify the object on which they are called (in-place), while others may return a new object with the result.\n",
    "\n"
   ],
   "metadata": {
    "id": "NIMmZ9iFR4RC"
   }
  },
  {
   "cell_type": "markdown",
   "source": [
    "Python Objects have built-in functions"
   ],
   "metadata": {
    "id": "GZq__qa6R6s6"
   }
  },
  {
   "cell_type": "code",
   "source": [
    "areas.index(\"hallway\")"
   ],
   "metadata": {
    "id": "R72NTlHDR6_5"
   },
   "execution_count": null,
   "outputs": []
  },
  {
   "cell_type": "markdown",
   "source": [
    "### String Methods"
   ],
   "metadata": {
    "id": "0FqYv1LOTKUQ"
   }
  },
  {
   "cell_type": "code",
   "source": [
    "hello = \"Hello\"\n",
    "\n",
    "hello = hello.replace(\"llo\", \"y\")\n",
    "hello = hello.lower()\n",
    "print(hello)"
   ],
   "metadata": {
    "id": "w-o91EOPS88c",
    "ExecuteTime": {
     "end_time": "2023-11-14T12:52:02.588023Z",
     "start_time": "2023-11-14T12:52:02.561846Z"
    }
   },
   "execution_count": 11,
   "outputs": [
    {
     "name": "stdout",
     "output_type": "stream",
     "text": [
      "hey\n"
     ]
    }
   ]
  },
  {
   "cell_type": "code",
   "source": [
    "hello = hello + \" world\"\n",
    "print(hello)"
   ],
   "metadata": {
    "id": "nuDaazACURtq",
    "ExecuteTime": {
     "end_time": "2023-11-14T12:52:03.043077Z",
     "start_time": "2023-11-14T12:52:03.007598Z"
    }
   },
   "execution_count": 12,
   "outputs": [
    {
     "name": "stdout",
     "output_type": "stream",
     "text": [
      "hey world\n"
     ]
    }
   ]
  },
  {
   "cell_type": "markdown",
   "source": [
    "Sample"
   ],
   "metadata": {
    "id": "fF8oQjEGUk2a"
   }
  },
  {
   "cell_type": "code",
   "source": [
    "# string to experiment with: place\n",
    "place = \"poolhouse\"\n",
    "\n",
    "# Use upper() on place: place_up\n",
    "place_up = place.upper()\n",
    "\n",
    "# Print out place and place_up\n",
    "print(place)\n",
    "print(place_up)\n",
    "\n",
    "# Print out the number of o's in place\n",
    "print(place.count('o'))"
   ],
   "metadata": {
    "id": "nF2Pc4PNUjrZ"
   },
   "execution_count": null,
   "outputs": []
  },
  {
   "cell_type": "code",
   "source": [
    "# Create list areas\n",
    "areas = [11.25, 18.0, 20.0, 10.75, 9.50]\n",
    "\n",
    "# Print out the index of the element 20.0\n",
    "print(areas.index(20.0))\n",
    "\n",
    "# Print out how often 9.50 appears in areas\n",
    "print(areas.count(9.50))"
   ],
   "metadata": {
    "id": "va4iP-eZUqQX"
   },
   "execution_count": null,
   "outputs": []
  },
  {
   "cell_type": "code",
   "source": [
    "# Create list areas\n",
    "areas = [11.25, 18.0, 20.0, 10.75, 9.50]\n",
    "\n",
    "# Use append twice to add poolhouse and garage size\n",
    "areas.append(24.5)\n",
    "areas.append(15.45)\n",
    "\n",
    "# Print out areas\n",
    "print(areas)\n",
    "\n",
    "# Reverse the orders of the elements in areas\n",
    "areas.reverse()\n",
    "\n",
    "# Print out areas\n",
    "print(areas)"
   ],
   "metadata": {
    "id": "7Tkfrq_ZUtKF"
   },
   "execution_count": null,
   "outputs": []
  },
  {
   "cell_type": "markdown",
   "source": [
    "## Packages"
   ],
   "metadata": {
    "id": "IszlLJDxUwWY"
   }
  },
  {
   "cell_type": "markdown",
   "source": [
    "In Python, a package is a directory containing one or more Python modules that share a common namespace. A module is a Python file that contains one or more Python statements. \n",
    "When you import a module into your program, you can access its contents using the `import` keyword followed by the name of the module, like this:"
   ],
   "metadata": {
    "id": "VTAqJ9WcVTnY"
   }
  },
  {
   "cell_type": "code",
   "execution_count": null,
   "outputs": [],
   "source": [
    "import math\n",
    "print(math.pi)  # Output: 3.141592653589793"
   ],
   "metadata": {
    "collapsed": false
   }
  },
  {
   "cell_type": "markdown",
   "source": [
    "In this example, the `math` module is imported and the value of the constant `pi` is printed using the `print()` function. The `math` module is part of Python's built-in library \n",
    "of modules, which contains many useful functions and constants for performing mathematical operations.\n",
    "\n",
    "Packages are often used to organize your code into logical groups, making it easier to manage and reuse. You can create a package by creating a directory with the name you want to\n",
    "use for the package and adding one or more Python files inside the directory.\n",
    "\n",
    "You can also install third-party packages using Python's package manager, `pip`, which allows you to download and install pre-written code from other developers. This can save you\n",
    "time and effort by providing you with ready-made modules and functions that you can use in your program."
   ],
   "metadata": {
    "collapsed": false
   }
  },
  {
   "cell_type": "markdown",
   "source": [
    "Packages in Python are generally considered safe, as they are typically built and tested by experienced developers before being released to the public. However, it's always \n",
    "important to be cautious when installing third-party packages using `pip`, as some packages may contain malicious code or have security vulnerabilities that could potentially harm\n",
    "your system.\n",
    "\n",
    "To minimize the risk of installing a potentially unsafe package, you can follow these best practices:\n",
    "\n",
    "1. Always install packages from trusted sources, such as the Python Package Index (PyPI) or a reputable repository for third-party packages.\n",
    "2. Read the documentation and reviews for each package before installing it, to get an idea of its functionality and any potential risks.\n",
    "3. Check the package's version number, and make sure that it is up-to-date with the latest security patches.\n",
    "4. Use a virtual environment (a separate Python installation with its own set of packages) when working on your project, to isolate your code from other projects and ensure that \n",
    "you are using only the packages that are needed for your specific project.\n",
    "5. Regularly update your system and all installed packages to stay up-to-date with the latest security patches and bug fixes."
   ],
   "metadata": {
    "collapsed": false
   }
  },
  {
   "cell_type": "code",
   "source": [
    "import pandas\n",
    "from pandas import DataFrame\n",
    "\n",
    "import seaborn as sns\n",
    "from numpy import array"
   ],
   "metadata": {
    "id": "SyOE6FmSVMZF"
   },
   "execution_count": null,
   "outputs": []
  },
  {
   "cell_type": "code",
   "source": [
    "# Definition of radius\n",
    "r = 0.43\n",
    "\n",
    "# Import the math package\n",
    "import math\n",
    "\n",
    "# Calculate Circumference\n",
    "C = 2 * r * math.pi\n",
    "\n",
    "# Calculate Area\n",
    "A = math.pi * r ** 2\n",
    "\n",
    "# Build printout\n",
    "print(\"Circumference: \" + str(C))\n",
    "print(\"Area: \" + str(A))"
   ],
   "metadata": {
    "id": "YkE_3lrRV0HA"
   },
   "execution_count": null,
   "outputs": []
  },
  {
   "cell_type": "code",
   "source": [
    "# Definition of radius\n",
    "r = 192500\n",
    "\n",
    "# Import radians function of math package\n",
    "from math import radians\n",
    "import numpy as np\n",
    "\n",
    "# Travel distance of Moon over 12 degrees. Store in dist.\n",
    "dist = r * radians(12)\n",
    "\n",
    "# Print out dist\n",
    "print(dist)"
   ],
   "metadata": {
    "id": "wTQCNj-6V1Gs",
    "ExecuteTime": {
     "end_time": "2023-11-14T12:56:56.685463Z",
     "start_time": "2023-11-14T12:56:56.654808Z"
    }
   },
   "execution_count": 29,
   "outputs": [
    {
     "name": "stdout",
     "output_type": "stream",
     "text": [
      "40317.10572106901\n"
     ]
    }
   ]
  },
  {
   "cell_type": "markdown",
   "source": [
    "## Numpy\n",
    "NumPy is a popular Python library for numerical computing, which provides a wide range of functions and data structures for performing mathematical operations on arrays and \n",
    "matrices. NumPy was created by Travis VanderPlas in 2007 as an extension of the Python language that makes it easier to work with large, multi-dimensional arrays.\n",
    "\n",
    "Some of the key features of NumPy include:\n",
    "\n",
    "1. Numeric data types: NumPy supports a variety of numerical data types, including integers, floating-point numbers, and complex numbers.\n",
    "2. Arrays: NumPy provides support for arrays of arbitrary dimensions, which can be used to store and manipulate large amounts of data efficiently. Arrays in NumPy are typically \n",
    "stored as contiguous blocks of memory, which makes them faster to access than lists or other data structures.\n",
    "3. Linear algebra: NumPy includes a variety of functions for performing linear algebra operations, such as matrix multiplication, inversion, and eigenvalue decomposition.\n",
    "4. Statistics: NumPy provides support for many statistical functions, including mean, median, standard deviation, and hypothesis testing.\n",
    "5. Plotting: NumPy can be used with the popular Matplotlib library to create visualizations of data, including line plots, scatter plots, and 3D surface plots.\n",
    "\n",
    "NumPy is widely used in scientific computing, engineering, and other fields where large amounts of numerical data need to be processed and analyzed efficiently."
   ],
   "metadata": {
    "id": "rxKzDh0sWfbM"
   }
  },
  {
   "cell_type": "code",
   "source": [
    "# Create list baseball\n",
    "weight_lb = [180, 215, 210, 210, 188, 176, 209, 200, 231, 180, 188, 180, 185]\n",
    "height_in = [74, 74, 75, 76, 78, 84, 84, 89, 76, 76, 74, 72, 78]\n",
    "\n",
    "# Create a NumPy array\n",
    "np_baseball = np.array(weight_lb)\n",
    "\n",
    "# Print out type of np_baseball\n",
    "print(type(np_baseball))"
   ],
   "metadata": {
    "colab": {
     "base_uri": "https://localhost:8080/"
    },
    "id": "NGYizzhrWgvx",
    "outputId": "d48a398f-862b-42f2-f55f-7d1cf353de6a",
    "ExecuteTime": {
     "end_time": "2023-11-14T12:55:21.477312Z",
     "start_time": "2023-11-14T12:55:21.451326Z"
    }
   },
   "execution_count": 21,
   "outputs": [
    {
     "name": "stdout",
     "output_type": "stream",
     "text": [
      "<class 'numpy.ndarray'>\n"
     ]
    }
   ]
  },
  {
   "cell_type": "code",
   "source": [
    "# height_in is available as a regular list\n",
    "\n",
    "# Create a numpy array from height_in: np_height_in\n",
    "np_height_in = np.array(height_in)\n",
    "\n",
    "# Print out np_height_in\n",
    "print(np_height_in)\n",
    "\n",
    "# Convert np_height_in to m: np_height_m\n",
    "np_height_m = np_height_in * 0.0254\n",
    "\n",
    "# Print np_height_m\n",
    "print(np_height_m)"
   ],
   "metadata": {
    "id": "KHHVwcqTX9Qy",
    "ExecuteTime": {
     "end_time": "2023-11-14T12:55:21.922791Z",
     "start_time": "2023-11-14T12:55:21.896254Z"
    }
   },
   "execution_count": 22,
   "outputs": [
    {
     "name": "stdout",
     "output_type": "stream",
     "text": [
      "[74 74 75 76 78 84 84 89 76 76 74 72 78]\n",
      "[1.8796 1.8796 1.905  1.9304 1.9812 2.1336 2.1336 2.2606 1.9304 1.9304\n",
      " 1.8796 1.8288 1.9812]\n"
     ]
    }
   ]
  },
  {
   "cell_type": "code",
   "source": [
    "# height_in and weight_lb are available as regular lists\n",
    "\n",
    "# Create array from height_in with metric units: np_height_m\n",
    "np_height_m = np.array(height_in) * 0.0254\n",
    "\n",
    "# Create array from weight_lb with metric units: np_weight_kg\n",
    "np_weight_kg = np.array(weight_lb) * 0.453592\n",
    "\n",
    "# Calculate the BMI: bmi\n",
    "bmi = np_weight_kg / np_height_m ** 2\n",
    "\n",
    "# Print out bmi\n",
    "print(bmi)"
   ],
   "metadata": {
    "id": "VIoH-0YqYA6A",
    "ExecuteTime": {
     "end_time": "2023-11-14T12:55:22.351445Z",
     "start_time": "2023-11-14T12:55:22.323377Z"
    }
   },
   "execution_count": 23,
   "outputs": [
    {
     "name": "stdout",
     "output_type": "stream",
     "text": [
      "[23.11037639 27.60406069 26.24790956 25.56171941 21.72534076 17.53686863\n",
      " 20.8250315  17.75202641 28.11789135 21.91004521 24.13750423 24.41211827\n",
      " 21.37865979]\n"
     ]
    }
   ]
  },
  {
   "cell_type": "code",
   "source": [
    "# height_in and weight_lb are available as a regular lists\n",
    "\n",
    "# Calculate the BMI: bmi\n",
    "np_height_m = np.array(height_in) * 0.0254\n",
    "np_weight_kg = np.array(weight_lb) * 0.453592\n",
    "bmi = np_weight_kg / np_height_m ** 2\n",
    "\n",
    "# Create the light array\n",
    "light = bmi < 21\n",
    "\n",
    "# Print out light\n",
    "print(light)\n",
    "\n",
    "# Print out BMIs of all baseball players whose BMI is below 21\n",
    "print(bmi[light])"
   ],
   "metadata": {
    "id": "V2JH-lnCYFd2",
    "ExecuteTime": {
     "end_time": "2023-11-14T12:55:33.456079Z",
     "start_time": "2023-11-14T12:55:33.425297Z"
    }
   },
   "execution_count": 24,
   "outputs": [
    {
     "name": "stdout",
     "output_type": "stream",
     "text": [
      "[False False False False False  True  True  True False False False False\n",
      " False]\n",
      "[17.53686863 20.8250315  17.75202641]\n"
     ]
    }
   ]
  },
  {
   "cell_type": "code",
   "source": [
    "# height_in and weight_lb are available as a regular lists\n",
    "\n",
    "# Store weight and height lists as numpy arrays\n",
    "np_weight_lb = np.array(weight_lb)\n",
    "np_height_in = np.array(height_in)\n",
    "\n",
    "# Print out the weight at index 50\n",
    "print(np_weight_lb[10])\n",
    "\n",
    "# Print out sub-array of np_height_in: index 100 up to and including index 110\n",
    "print(np_height_in[10:12])"
   ],
   "metadata": {
    "id": "mowJZqzDYOak",
    "ExecuteTime": {
     "end_time": "2023-11-14T12:56:03.786659Z",
     "start_time": "2023-11-14T12:56:03.753726Z"
    }
   },
   "execution_count": 27,
   "outputs": [
    {
     "name": "stdout",
     "output_type": "stream",
     "text": [
      "188\n",
      "[74 72]\n"
     ]
    }
   ]
  },
  {
   "cell_type": "markdown",
   "source": [
    "## Numpy 2D\n",
    "\n",
    "In NumPy, a 2D array (also known as a matrix) is a two-dimensional data structure that can be used to store and manipulate rectangular arrays of values. A 2D array in NumPy is created using the `numpy.array()` function, which takes a list of lists as its argument."
   ],
   "metadata": {
    "id": "iLcLgWT3YSCM"
   }
  },
  {
   "cell_type": "code",
   "source": [
    "# Create baseball, a list of lists\n",
    "baseball = [[180, 78.4],\n",
    "            [215, 102.7],\n",
    "            [210, 98.5],\n",
    "            [188, 75.2]]\n",
    "\n",
    "\n",
    "# Create a 2D numpy array from baseball: np_baseball\n",
    "np_baseball = np.array(baseball)\n",
    "\n",
    "# Print out the type of np_baseball\n",
    "print(type(np_baseball))\n",
    "\n",
    "# Print out the shape of np_baseball\n",
    "print(np_baseball.shape)"
   ],
   "metadata": {
    "id": "F11kXXseZNbI",
    "ExecuteTime": {
     "end_time": "2023-11-14T13:48:11.803915Z",
     "start_time": "2023-11-14T13:48:11.743823Z"
    }
   },
   "execution_count": 51,
   "outputs": [
    {
     "name": "stdout",
     "output_type": "stream",
     "text": [
      "<class 'numpy.ndarray'>\n",
      "(4, 2)\n"
     ]
    }
   ]
  },
  {
   "cell_type": "code",
   "source": [
    "# Create a 2D numpy array from baseball: np_baseball\n",
    "np_baseball = np.array(baseball)\n",
    "\n",
    "# Print out the shape of np_baseball\n",
    "print(np_baseball.shape)"
   ],
   "metadata": {
    "id": "hFgBrXKKZOZo",
    "ExecuteTime": {
     "end_time": "2023-11-14T13:49:30.299032Z",
     "start_time": "2023-11-14T13:49:30.271381Z"
    }
   },
   "execution_count": 55,
   "outputs": [
    {
     "name": "stdout",
     "output_type": "stream",
     "text": [
      "(4, 2)\n"
     ]
    }
   ]
  },
  {
   "cell_type": "code",
   "source": [
    "# Create np_baseball (2 cols)\n",
    "np_baseball = np.array(baseball)\n",
    "\n",
    "# Print out the 3rd row of np_baseball\n",
    "print(np_baseball[2,:])\n",
    "\n",
    "# Select the entire second column of np_baseball: np_weight_lb\n",
    "np_weight_lb = np_baseball[:,1]\n",
    "\n",
    "# Print out height of 124th player\n",
    "print(np_weight_lb)"
   ],
   "metadata": {
    "id": "EFB8TjtIZR3S",
    "ExecuteTime": {
     "end_time": "2023-11-14T13:50:01.954387Z",
     "start_time": "2023-11-14T13:50:01.927897Z"
    }
   },
   "execution_count": 59,
   "outputs": [
    {
     "name": "stdout",
     "output_type": "stream",
     "text": [
      "[210.   98.5]\n",
      "[ 78.4 102.7  98.5  75.2]\n"
     ]
    }
   ]
  },
  {
   "cell_type": "code",
   "source": [
    "# baseball is available as a regular list of lists\n",
    "# updated is available as 2D numpy array\n",
    "\n",
    "updated = [[180, 78.4],\n",
    "            [215, 102.7],\n",
    "            [210, 98.5],\n",
    "            [188, 75.2]]\n",
    "\n",
    "\n",
    "# Create np_baseball (3 cols)\n",
    "np_baseball = np.array(baseball)\n",
    "\n",
    "# Print out addition of np_baseball and updated\n",
    "print(np_baseball + updated)\n",
    "\n",
    "# Create numpy array: conversion\n",
    "conversion = np.array([0.0254, 0.453592])\n",
    "\n",
    "# Print out product of np_baseball and conversion\n",
    "print(np_baseball * conversion)"
   ],
   "metadata": {
    "id": "RDKowl_QZZUv",
    "ExecuteTime": {
     "end_time": "2023-11-14T13:50:46.114035Z",
     "start_time": "2023-11-14T13:50:46.085764Z"
    }
   },
   "execution_count": 61,
   "outputs": [
    {
     "name": "stdout",
     "output_type": "stream",
     "text": [
      "[[360.  156.8]\n",
      " [430.  205.4]\n",
      " [420.  197. ]\n",
      " [376.  150.4]]\n",
      "[[ 4.572     35.5616128]\n",
      " [ 5.461     46.5838984]\n",
      " [ 5.334     44.678812 ]\n",
      " [ 4.7752    34.1101184]]\n"
     ]
    }
   ]
  },
  {
   "cell_type": "markdown",
   "source": [
    "## Numpy Basic Statistics\n",
    "\n",
    "Performing basic statistical operations on NumPy arrays is a common task in data science. NumPy provides a variety of functions and methods that can be used to calculate statistics on arrays, including:"
   ],
   "metadata": {
    "id": "6WvjjJZWZcik"
   }
  },
  {
   "cell_type": "code",
   "source": [
    "# Mean and Median\n",
    "\n",
    "# Create np_height_in from np_baseball\n",
    "np_height_in = np_baseball[:,0]\n",
    "\n",
    "# Print out the mean of np_height_in\n",
    "print(np.mean(np_height_in))\n",
    "\n",
    "# Print out the median of np_height_in\n",
    "print(np.median(np_height_in))"
   ],
   "metadata": {
    "id": "eBJELEySZaNQ",
    "ExecuteTime": {
     "end_time": "2023-11-14T13:52:49.192989Z",
     "start_time": "2023-11-14T13:52:49.166134Z"
    }
   },
   "execution_count": 62,
   "outputs": [
    {
     "name": "stdout",
     "output_type": "stream",
     "text": [
      "198.25\n",
      "199.0\n"
     ]
    }
   ]
  },
  {
   "cell_type": "code",
   "source": [
    "# Print mean height (first column)\n",
    "avg = np.mean(np_baseball[:,0])\n",
    "print(\"Average: \" + str(avg))\n",
    "\n",
    "# Print median height. Replace 'None'\n",
    "med = np.median(np_baseball[:,0])\n",
    "print(\"Median: \" + str(med))\n",
    "\n",
    "# Print out the standard deviation on height. Replace 'None'\n",
    "stddev = np.std(np_baseball[:,0])\n",
    "print(\"Standard Deviation: \" + str(stddev))\n",
    "\n",
    "# Print out correlation between first and second column. Replace 'None'\n",
    "corr = np.corrcoef(np_baseball[:,0], np_baseball[:,1])\n",
    "print(\"Correlation: \" + str(corr))"
   ],
   "metadata": {
    "id": "EqOPkt4daPrA",
    "ExecuteTime": {
     "end_time": "2023-11-14T13:52:52.243826Z",
     "start_time": "2023-11-14T13:52:52.210607Z"
    }
   },
   "execution_count": 63,
   "outputs": [
    {
     "name": "stdout",
     "output_type": "stream",
     "text": [
      "Average: 198.25\n",
      "Median: None\n",
      "Standard Deviation: None\n",
      "Correlation: None\n"
     ]
    }
   ]
  },
  {
   "cell_type": "code",
   "source": [
    "# Print mean height (first column)\n",
    "avg = np.mean(np_baseball[:,0])\n",
    "print(\"Average: \" + str(avg))\n",
    "\n",
    "# Print median height. Replace 'None'\n",
    "med = np.median(np_baseball[:,0])\n",
    "print(\"Median: \" + str(med))\n",
    "\n",
    "# Print out the standard deviation on height. Replace 'None'\n",
    "stddev = np.std(np_baseball[:,0])\n",
    "print(\"Standard Deviation: \" + str(stddev))\n",
    "\n",
    "# Print out correlation between first and second column. Replace 'None'\n",
    "corr = np.corrcoef(np_baseball[:,0], np_baseball[:,1])\n",
    "print(\"Correlation: \" + str(corr))"
   ],
   "metadata": {
    "id": "qoMcySr1aVBG",
    "ExecuteTime": {
     "end_time": "2023-11-14T13:53:22.988466Z",
     "start_time": "2023-11-14T13:53:22.952376Z"
    }
   },
   "execution_count": 64,
   "outputs": [
    {
     "name": "stdout",
     "output_type": "stream",
     "text": [
      "Average: 198.25\n",
      "Median: 199.0\n",
      "Standard Deviation: 14.635146053251399\n",
      "Correlation: [[1.         0.95865738]\n",
      " [0.95865738 1.        ]]\n"
     ]
    }
   ]
  },
  {
   "cell_type": "code",
   "source": [
    "positions = ['GK', 'M', 'A', 'D', 'M', 'A', 'D', 'M', 'A', 'D', ]\n",
    "heights = [191, 184, 185, 180, 181, 187, 170, 179, 183, 186]\n",
    "\n",
    "# Convert positions and heights to numpy arrays: np_positions, np_heights\n",
    "np_positions = np.array(positions)\n",
    "np_heights = np.array(heights)\n",
    "\n",
    "# Heights of the goalkeepers: gk_heights\n",
    "gk_heights = np_heights[np_positions == 'GK']\n",
    "\n",
    "# Heights of the other players: other_heights\n",
    "other_heights = np_heights[np_positions != 'GK']\n",
    "\n",
    "# Print out the median height of goalkeepers. Replace 'None'\n",
    "print(\"Median height of goalkeepers: \" + str(np.median(gk_heights)))\n",
    "\n",
    "# Print out the median height of other players. Replace 'None'\n",
    "print(\"Median height of other players: \" + str(np.median(other_heights)))"
   ],
   "metadata": {
    "id": "R9-0-PTqaZmO",
    "ExecuteTime": {
     "end_time": "2023-11-14T13:53:25.079957Z",
     "start_time": "2023-11-14T13:53:25.053151Z"
    }
   },
   "execution_count": 65,
   "outputs": [
    {
     "name": "stdout",
     "output_type": "stream",
     "text": [
      "Median height of goalkeepers: 191.0\n",
      "Median height of other players: 183.0\n"
     ]
    }
   ]
  },
  {
   "cell_type": "markdown",
   "source": [
    "## First Data\n",
    "\n",
    "Gapminder is a non-profit organization that aims to promote sustainable global development by providing accessible and meaningful data about the world.\n",
    "\n",
    "The Gapminder Foundation was founded by Hans Rosling, Ola Rosling, and Anna Rosling Rönnlund. They are known for their work in visualizing global development data through interactive and informative presentations.\n",
    "\n",
    "To work with Gapminder data in Python, you would typically download datasets from the Gapminder website or other sources, and then use data manipulation and analysis libraries such as pandas, NumPy, and matplotlib or seaborn for visualization."
   ],
   "metadata": {
    "id": "NBpCaZnDbcyx"
   }
  },
  {
   "cell_type": "code",
   "source": [
    "# Importing plotly.express and aliasing it as px\n",
    "import plotly.express as px\n",
    "\n",
    "# the gapminder dataset is available as a pandas DataFrame\n",
    "gapminder = px.data.gapminder()\n",
    "print(gapminder)"
   ],
   "metadata": {
    "id": "Q7fDyQyLjgVP",
    "ExecuteTime": {
     "end_time": "2023-11-14T14:03:06.916447Z",
     "start_time": "2023-11-14T14:03:06.873860Z"
    }
   },
   "execution_count": 67,
   "outputs": [
    {
     "name": "stdout",
     "output_type": "stream",
     "text": [
      "          country continent  year  lifeExp       pop   gdpPercap iso_alpha   \n",
      "0     Afghanistan      Asia  1952   28.801   8425333  779.445314       AFG  \\\n",
      "1     Afghanistan      Asia  1957   30.332   9240934  820.853030       AFG   \n",
      "2     Afghanistan      Asia  1962   31.997  10267083  853.100710       AFG   \n",
      "3     Afghanistan      Asia  1967   34.020  11537966  836.197138       AFG   \n",
      "4     Afghanistan      Asia  1972   36.088  13079460  739.981106       AFG   \n",
      "...           ...       ...   ...      ...       ...         ...       ...   \n",
      "1699     Zimbabwe    Africa  1987   62.351   9216418  706.157306       ZWE   \n",
      "1700     Zimbabwe    Africa  1992   60.377  10704340  693.420786       ZWE   \n",
      "1701     Zimbabwe    Africa  1997   46.809  11404948  792.449960       ZWE   \n",
      "1702     Zimbabwe    Africa  2002   39.989  11926563  672.038623       ZWE   \n",
      "1703     Zimbabwe    Africa  2007   43.487  12311143  469.709298       ZWE   \n",
      "\n",
      "      iso_num  \n",
      "0           4  \n",
      "1           4  \n",
      "2           4  \n",
      "3           4  \n",
      "4           4  \n",
      "...       ...  \n",
      "1699      716  \n",
      "1700      716  \n",
      "1701      716  \n",
      "1702      716  \n",
      "1703      716  \n",
      "\n",
      "[1704 rows x 8 columns]\n"
     ]
    }
   ]
  },
  {
   "cell_type": "code",
   "execution_count": 68,
   "outputs": [
    {
     "data": {
      "text/plain": "          country continent  year  lifeExp       pop   gdpPercap iso_alpha   \n0     Afghanistan      Asia  1952   28.801   8425333  779.445314       AFG  \\\n1     Afghanistan      Asia  1957   30.332   9240934  820.853030       AFG   \n2     Afghanistan      Asia  1962   31.997  10267083  853.100710       AFG   \n3     Afghanistan      Asia  1967   34.020  11537966  836.197138       AFG   \n4     Afghanistan      Asia  1972   36.088  13079460  739.981106       AFG   \n...           ...       ...   ...      ...       ...         ...       ...   \n1699     Zimbabwe    Africa  1987   62.351   9216418  706.157306       ZWE   \n1700     Zimbabwe    Africa  1992   60.377  10704340  693.420786       ZWE   \n1701     Zimbabwe    Africa  1997   46.809  11404948  792.449960       ZWE   \n1702     Zimbabwe    Africa  2002   39.989  11926563  672.038623       ZWE   \n1703     Zimbabwe    Africa  2007   43.487  12311143  469.709298       ZWE   \n\n      iso_num  \n0           4  \n1           4  \n2           4  \n3           4  \n4           4  \n...       ...  \n1699      716  \n1700      716  \n1701      716  \n1702      716  \n1703      716  \n\n[1704 rows x 8 columns]",
      "text/html": "<div>\n<style scoped>\n    .dataframe tbody tr th:only-of-type {\n        vertical-align: middle;\n    }\n\n    .dataframe tbody tr th {\n        vertical-align: top;\n    }\n\n    .dataframe thead th {\n        text-align: right;\n    }\n</style>\n<table border=\"1\" class=\"dataframe\">\n  <thead>\n    <tr style=\"text-align: right;\">\n      <th></th>\n      <th>country</th>\n      <th>continent</th>\n      <th>year</th>\n      <th>lifeExp</th>\n      <th>pop</th>\n      <th>gdpPercap</th>\n      <th>iso_alpha</th>\n      <th>iso_num</th>\n    </tr>\n  </thead>\n  <tbody>\n    <tr>\n      <th>0</th>\n      <td>Afghanistan</td>\n      <td>Asia</td>\n      <td>1952</td>\n      <td>28.801</td>\n      <td>8425333</td>\n      <td>779.445314</td>\n      <td>AFG</td>\n      <td>4</td>\n    </tr>\n    <tr>\n      <th>1</th>\n      <td>Afghanistan</td>\n      <td>Asia</td>\n      <td>1957</td>\n      <td>30.332</td>\n      <td>9240934</td>\n      <td>820.853030</td>\n      <td>AFG</td>\n      <td>4</td>\n    </tr>\n    <tr>\n      <th>2</th>\n      <td>Afghanistan</td>\n      <td>Asia</td>\n      <td>1962</td>\n      <td>31.997</td>\n      <td>10267083</td>\n      <td>853.100710</td>\n      <td>AFG</td>\n      <td>4</td>\n    </tr>\n    <tr>\n      <th>3</th>\n      <td>Afghanistan</td>\n      <td>Asia</td>\n      <td>1967</td>\n      <td>34.020</td>\n      <td>11537966</td>\n      <td>836.197138</td>\n      <td>AFG</td>\n      <td>4</td>\n    </tr>\n    <tr>\n      <th>4</th>\n      <td>Afghanistan</td>\n      <td>Asia</td>\n      <td>1972</td>\n      <td>36.088</td>\n      <td>13079460</td>\n      <td>739.981106</td>\n      <td>AFG</td>\n      <td>4</td>\n    </tr>\n    <tr>\n      <th>...</th>\n      <td>...</td>\n      <td>...</td>\n      <td>...</td>\n      <td>...</td>\n      <td>...</td>\n      <td>...</td>\n      <td>...</td>\n      <td>...</td>\n    </tr>\n    <tr>\n      <th>1699</th>\n      <td>Zimbabwe</td>\n      <td>Africa</td>\n      <td>1987</td>\n      <td>62.351</td>\n      <td>9216418</td>\n      <td>706.157306</td>\n      <td>ZWE</td>\n      <td>716</td>\n    </tr>\n    <tr>\n      <th>1700</th>\n      <td>Zimbabwe</td>\n      <td>Africa</td>\n      <td>1992</td>\n      <td>60.377</td>\n      <td>10704340</td>\n      <td>693.420786</td>\n      <td>ZWE</td>\n      <td>716</td>\n    </tr>\n    <tr>\n      <th>1701</th>\n      <td>Zimbabwe</td>\n      <td>Africa</td>\n      <td>1997</td>\n      <td>46.809</td>\n      <td>11404948</td>\n      <td>792.449960</td>\n      <td>ZWE</td>\n      <td>716</td>\n    </tr>\n    <tr>\n      <th>1702</th>\n      <td>Zimbabwe</td>\n      <td>Africa</td>\n      <td>2002</td>\n      <td>39.989</td>\n      <td>11926563</td>\n      <td>672.038623</td>\n      <td>ZWE</td>\n      <td>716</td>\n    </tr>\n    <tr>\n      <th>1703</th>\n      <td>Zimbabwe</td>\n      <td>Africa</td>\n      <td>2007</td>\n      <td>43.487</td>\n      <td>12311143</td>\n      <td>469.709298</td>\n      <td>ZWE</td>\n      <td>716</td>\n    </tr>\n  </tbody>\n</table>\n<p>1704 rows × 8 columns</p>\n</div>"
     },
     "execution_count": 68,
     "metadata": {},
     "output_type": "execute_result"
    }
   ],
   "source": [
    "gapminder"
   ],
   "metadata": {
    "collapsed": false,
    "ExecuteTime": {
     "end_time": "2023-11-14T14:03:16.770542Z",
     "start_time": "2023-11-14T14:03:16.733940Z"
    }
   }
  },
  {
   "cell_type": "code",
   "source": [
    "# The first Plot\n",
    "year = gapminder[\"year\"]\n",
    "pop = gapminder[\"pop\"]\n",
    "\n",
    "print(year[0])\n",
    "print(pop[0])\n",
    "\n",
    "# Import matplotlib.pyplot as plt\n",
    "import matplotlib.pyplot as plt\n",
    "\n",
    "# Make a line plot: year on the x-axis, pop on the y-axis\n",
    "plt.plot(year, pop)\n",
    "\n",
    "# Display the plot with plt.show()\n",
    "plt.show()"
   ],
   "metadata": {
    "id": "lwuPXXvnbGAv",
    "ExecuteTime": {
     "end_time": "2023-11-14T13:05:16.346350Z",
     "start_time": "2023-11-14T13:05:16.133788Z"
    }
   },
   "execution_count": 35,
   "outputs": [
    {
     "name": "stdout",
     "output_type": "stream",
     "text": [
      "1952\n",
      "8425333\n"
     ]
    },
    {
     "data": {
      "text/plain": "<Figure size 640x480 with 1 Axes>",
      "image/png": "[encoded data removed]"
     },
     "metadata": {},
     "output_type": "display_data"
    }
   ]
  },
  {
   "cell_type": "code",
   "source": [
    "# Print the first item of gdp_cap and life_exp\n",
    "gdp_cap = gapminder[\"gdpPercap\"]\n",
    "life_exp = gapminder[\"lifeExp\"]\n",
    "\n",
    "\n",
    "print(gdp_cap[1])\n",
    "print(life_exp[1])\n",
    "\n",
    "# Make a line plot, gdp_cap on the x-axis, life_exp on the y-axis\n",
    "plt.scatter(gdp_cap, life_exp)\n",
    "\n",
    "# Display the plot\n",
    "plt.show()"
   ],
   "metadata": {
    "id": "KQ4bEiICk_MQ",
    "ExecuteTime": {
     "end_time": "2023-11-14T14:04:03.104413Z",
     "start_time": "2023-11-14T14:04:02.983323Z"
    }
   },
   "execution_count": 69,
   "outputs": [
    {
     "name": "stdout",
     "output_type": "stream",
     "text": [
      "820.8530296\n",
      "30.332\n"
     ]
    },
    {
     "data": {
      "text/plain": "<Figure size 640x480 with 1 Axes>",
      "image/png": "[encoded data removed]"
     },
     "metadata": {},
     "output_type": "display_data"
    }
   ]
  },
  {
   "cell_type": "code",
   "execution_count": 74,
   "outputs": [
    {
     "data": {
      "text/plain": "<Figure size 640x480 with 1 Axes>",
      "image/png": "[encoded data removed]"
     },
     "metadata": {},
     "output_type": "display_data"
    }
   ],
   "source": [
    "# Exporting a plot\n",
    "plt.scatter(gdp_cap, life_exp)\n",
    "plt.savefig('my_figure.png')"
   ],
   "metadata": {
    "collapsed": false,
    "ExecuteTime": {
     "end_time": "2023-11-14T14:06:52.639243Z",
     "start_time": "2023-11-14T14:06:52.442117Z"
    }
   }
  },
  {
   "cell_type": "code",
   "source": [
    "# Change the line plot below to a scatter plot\n",
    "plt.scatter(gdp_cap, life_exp)\n",
    "\n",
    "# Put the x-axis on a logarithmic scale\n",
    "plt.xscale('log')\n",
    "\n",
    "# Show plot\n",
    "plt.show()"
   ],
   "metadata": {
    "id": "w-7GLHZcleLp",
    "ExecuteTime": {
     "end_time": "2023-11-14T14:04:11.205780Z",
     "start_time": "2023-11-14T14:04:10.916237Z"
    }
   },
   "execution_count": 70,
   "outputs": [
    {
     "data": {
      "text/plain": "<Figure size 640x480 with 1 Axes>",
      "image/png": "[encoded data removed]"
     },
     "metadata": {},
     "output_type": "display_data"
    }
   ]
  },
  {
   "cell_type": "code",
   "source": [
    "# Build Scatter plot\n",
    "plt.scatter(pop, life_exp)\n",
    "\n",
    "# Show plot\n",
    "plt.show()"
   ],
   "metadata": {
    "id": "M7j63G3fll7R",
    "ExecuteTime": {
     "end_time": "2023-11-14T13:06:12.141785Z",
     "start_time": "2023-11-14T13:06:12.010250Z"
    }
   },
   "execution_count": 38,
   "outputs": [
    {
     "data": {
      "text/plain": "<Figure size 640x480 with 1 Axes>",
      "image/png": "[encoded data removed]"
     },
     "metadata": {},
     "output_type": "display_data"
    }
   ]
  },
  {
   "cell_type": "code",
   "source": [
    "# Create histogram of life_exp data\n",
    "plt.hist(life_exp)\n",
    "\n",
    "# Display histogram\n",
    "plt.show()"
   ],
   "metadata": {
    "id": "HuZX_-DBmBVC",
    "ExecuteTime": {
     "end_time": "2023-11-14T13:06:26.268575Z",
     "start_time": "2023-11-14T13:06:26.141874Z"
    }
   },
   "execution_count": 39,
   "outputs": [
    {
     "data": {
      "text/plain": "<Figure size 640x480 with 1 Axes>",
      "image/png": "[encoded data removed]"
     },
     "metadata": {},
     "output_type": "display_data"
    }
   ]
  },
  {
   "cell_type": "code",
   "source": [
    "# Build histogram with 5 bins\n",
    "plt.hist(life_exp, bins = 5)\n",
    "\n",
    "# Show and clear plot\n",
    "plt.show()\n",
    "plt.clf()\n",
    "\n",
    "# Build histogram with 20 bins\n",
    "plt.hist(life_exp, bins = 20)\n",
    "\n",
    "# Show and clear plot again\n",
    "plt.show()\n",
    "plt.clf()"
   ],
   "metadata": {
    "id": "0IJGiXFimk6A",
    "ExecuteTime": {
     "end_time": "2023-11-14T13:06:41.020970Z",
     "start_time": "2023-11-14T13:06:40.756330Z"
    }
   },
   "execution_count": 40,
   "outputs": [
    {
     "data": {
      "text/plain": "<Figure size 640x480 with 1 Axes>",
      "image/png": "[encoded data removed]"
     },
     "metadata": {},
     "output_type": "display_data"
    },
    {
     "data": {
      "text/plain": "<Figure size 640x480 with 1 Axes>",
      "image/png": "[encoded data removed]"
     },
     "metadata": {},
     "output_type": "display_data"
    },
    {
     "data": {
      "text/plain": "<Figure size 640x480 with 0 Axes>"
     },
     "metadata": {},
     "output_type": "display_data"
    }
   ]
  },
  {
   "cell_type": "code",
   "source": [
    "# Histogram of life_exp, 15 bins\n",
    "plt.hist(life_exp, bins = 15)\n",
    "\n",
    "# Show and clear plot\n",
    "plt.show()\n",
    "plt.clf()"
   ],
   "metadata": {
    "id": "fHlnzRcFmwoR",
    "ExecuteTime": {
     "end_time": "2023-11-14T14:05:19.652184Z",
     "start_time": "2023-11-14T14:05:19.518704Z"
    }
   },
   "execution_count": 73,
   "outputs": [
    {
     "data": {
      "text/plain": "<Figure size 640x480 with 1 Axes>",
      "image/png": "[encoded data removed]"
     },
     "metadata": {},
     "output_type": "display_data"
    },
    {
     "data": {
      "text/plain": "<Figure size 640x480 with 0 Axes>"
     },
     "metadata": {},
     "output_type": "display_data"
    }
   ]
  },
  {
   "cell_type": "markdown",
   "source": [
    "## Customization\n",
    "\n",
    "Matplotlib is a powerful Python library for creating static, animated, and interactive visualizations. It provides a wide range of customization options to make your plots visually appealing and informative. Here are some common customization techniques for Matplotlib plots:\n",
    "\n",
    "1. Titles and Labels:\n",
    "plt.title('Title'): Set the title of the plot.\n",
    "plt.xlabel('X-axis label'), plt.ylabel('Y-axis label'): Set labels for the x and y axes.\n",
    "2. Line Styles, Markers, and Colors:\n",
    "plt.plot(x, y, linestyle='--', color='red', marker='o', markersize=8, label='Label'): Customize line styles, colors, and markers.\n",
    "plt.legend(): Display a legend for labeled elements.\n",
    "3. Axis Limits and Ticks:\n",
    "plt.xlim(min_value, max_value), plt.ylim(min_value, max_value): Set axis limits.\n",
    "plt.xticks([tick_positions], [tick_labels]): Set positions and labels for ticks on the x-axis.\n",
    "4. Grid Lines:\n",
    "plt.grid(True, linestyle='--', alpha=0.7): Display grid lines.\n",
    "5. Figure Size and Resolution:\n",
    "plt.figure(figsize=(width, height), dpi=resolution): Set the figure size and resolution.\n",
    "6. Text Annotations:\n",
    "plt.annotate('Text', xy=(x, y), xytext=(text_x, text_y), arrowprops=dict(facecolor='color', shrink=0.05)): Add text annotations with arrows.\n",
    "7. Background Color:\n",
    "plt.figure(facecolor='color'): Set the background color of the entire figure.\n",
    "8. Subplots:\n",
    "plt.subplots(nrows, ncols, index): Create subplots to display multiple plots in one figure.\n",
    "9. Color Maps:\n",
    "Use color maps for colormapping in visualizations, e.g., plt.scatter(x, y, c=z, cmap='viridis').\n",
    "10. Styles and Themes:\n",
    "plt.style.use('style_name'): Apply predefined styles.\n",
    "plt.xkcd(): Emulate xkcd-style plots for a playful look.\n",
    "11. Save and Export:\n",
    "plt.savefig('filename.png', dpi=resolution): Save the plot to a file."
   ],
   "metadata": {
    "id": "-j9X6blgm67_"
   }
  },
  {
   "cell_type": "code",
   "source": [
    "# Basic scatter plot, log scale\n",
    "plt.scatter(gdp_cap, life_exp)\n",
    "plt.xscale('log') \n",
    "\n",
    "# Strings\n",
    "xlab = 'GDP per Capita [in USD]'\n",
    "ylab = 'Life Expectancy [in years]'\n",
    "title = 'World Development in 2007'\n",
    "\n",
    "# Add axis labels\n",
    "plt.xlabel(xlab)\n",
    "plt.ylabel(ylab)\n",
    "\n",
    "# Add title\n",
    "plt.title(title)\n",
    "\n",
    "# After customizing, display the plot\n",
    "plt.show()"
   ],
   "metadata": {
    "id": "qRdUoNa-nVr2"
   },
   "execution_count": null,
   "outputs": []
  },
  {
   "cell_type": "code",
   "source": [
    "# Scatter plot\n",
    "plt.scatter(gdp_cap, life_exp)\n",
    "\n",
    "# Previous customizations\n",
    "plt.xscale('log') \n",
    "plt.xlabel('GDP per Capita [in USD]')\n",
    "plt.ylabel('Life Expectancy [in years]')\n",
    "plt.title('World Development in 2007')\n",
    "\n",
    "# Definition of tick_val and tick_lab\n",
    "tick_val = [1000, 10000, 100000]\n",
    "tick_lab = ['1k', '10k', '100k']\n",
    "\n",
    "# Adapt the ticks on the x-axis\n",
    "plt.xticks(tick_val, tick_lab)\n",
    "\n",
    "# After customizing, display the plot\n",
    "plt.show()"
   ],
   "metadata": {
    "id": "7jjs_a1rn8G-"
   },
   "execution_count": null,
   "outputs": []
  },
  {
   "cell_type": "code",
   "source": [
    "px.scatter(px.data.gapminder(), x=\"gdpPercap\", y=\"lifeExp\", animation_frame=\"year\",\n",
    "           size=\"pop\", color=\"country\", hover_name=\"country\", \n",
    "           log_x = True, \n",
    "           size_max=45, range_x=[100,100000], range_y=[25,90])"
   ],
   "metadata": {
    "id": "yMiF6OfVtAhn"
   },
   "execution_count": null,
   "outputs": []
  },
  {
   "cell_type": "markdown",
   "source": [
    "## Dictionaries\n",
    "\n",
    "In Python, dictionaries are a versatile and fundamental data type that allows the storage and retrieval of data using key-value pairs. Here's a summary of key points about dictionaries in Python:\n",
    "\n",
    "1. Definition: A dictionary is defined using curly braces {}, and it consists of key-value pairs separated by colons. Keys and values can be of any data type, and keys must be unique.\n",
    "2. Accessing Values: Values in a dictionary are accessed using their corresponding keys.\n",
    "3. Mutable and Dynamic: Dictionaries are mutable, allowing for the addition, modification, and removal of key-value pairs. They can grow or shrink in size dynamically.\n",
    "4. Unordered: Dictionaries are unordered, meaning that the order of elements is not guaranteed. As of Python 3.7, insertion order is maintained, but this is officially guaranteed only from Python 3.7 onwards.\n",
    "\n",
    "5. Key Uniqueness: Each key in a dictionary must be unique. If a duplicate key is added, the new value overwrites the existing one.\n",
    "\n",
    "6. Basic Operations:\n",
    "\n",
    "    Adding, updating, and removing key-value pairs.\n",
    "    Checking membership (key in my_dict).\n",
    "    Getting keys (my_dict.keys()), values (my_dict.values()), or items (my_dict.items()).\n",
    "    Iterating over key-value pairs using loops.\n",
    "\n",
    "7. Use Cases: Dictionaries are used for various purposes, including:\n",
    "    Storing configurations and settings.\n",
    "    Representing JSON-like data structures.\n",
    "    Efficiently looking up values based on keys.\n",
    "\n",
    "Dictionaries are an essential part of the Python language, offering a flexible and efficient way to organize and manipulate data. Understanding how to use dictionaries is crucial for effective Python programming."
   ],
   "metadata": {
    "id": "it4Dz5S6wzs1"
   }
  },
  {
   "cell_type": "markdown",
   "source": [],
   "metadata": {
    "id": "oMx0Mxjqw4Tn"
   }
  },
  {
   "cell_type": "code",
   "source": [
    "# Definition of countries and capital\n",
    "countries = ['spain', 'france', 'germany', 'norway']\n",
    "capitals = ['madrid', 'paris', 'berlin', 'oslo']\n",
    "\n",
    "# Get index of 'germany': ind_ger\n",
    "ind_ger = countries.index('germany')\n",
    "\n",
    "# Use ind_ger to print out capital of Germany\n",
    "print(capitals[ind_ger])"
   ],
   "metadata": {
    "colab": {
     "base_uri": "https://localhost:8080/"
    },
    "id": "HRinS7u6w4p5",
    "outputId": "6d1ee826-a7c9-4a1a-b100-b3879273111e"
   },
   "execution_count": null,
   "outputs": [
    {
     "output_type": "stream",
     "name": "stdout",
     "text": [
      "berlin\n"
     ]
    }
   ]
  },
  {
   "cell_type": "code",
   "source": [
    "# Definition of countries and capital\n",
    "countries = ['spain', 'france', 'germany', 'norway']\n",
    "capitals = ['madrid', 'paris', 'berlin', 'oslo']\n",
    "\n",
    "# From string in countries and capitals, create dictionary europe\n",
    "europe = {'spain':'madrid', 'france':'paris', 'germany':'berlin', 'norway':'oslo'}\n",
    "\n",
    "# Print europe\n",
    "print(europe)"
   ],
   "metadata": {
    "id": "XWqjXlhWyCpb"
   },
   "execution_count": null,
   "outputs": []
  },
  {
   "cell_type": "code",
   "source": [
    "# Definition of dictionary\n",
    "europe = {'spain':'madrid', 'france':'paris', 'germany':'berlin', 'norway':'oslo' }\n",
    "\n",
    "# Print out the keys in europe\n",
    "print(europe.keys())\n",
    "\n",
    "# Print out value that belongs to key 'norway'\n",
    "print(europe['norway'])"
   ],
   "metadata": {
    "id": "LMV-1yI2yO1_"
   },
   "execution_count": null,
   "outputs": []
  },
  {
   "cell_type": "markdown",
   "source": [
    "Mutable and immutable objects"
   ],
   "metadata": {
    "id": "1pn5EWQiyiFv"
   }
  },
  {
   "cell_type": "code",
   "source": [
    "# Definition of dictionary\n",
    "europe = {'spain':'madrid', 'france':'paris', 'germany':'berlin', 'norway':'oslo' }\n",
    "\n",
    "# Add italy to europe\n",
    "europe['italy'] = 'rome'\n",
    "\n",
    "# Print out italy in europe\n",
    "print('italy' in europe)\n",
    "\n",
    "# Add poland to europe\n",
    "europe['poland'] = 'warsaw'\n",
    "\n",
    "# Print europe\n",
    "print(europe)"
   ],
   "metadata": {
    "id": "5Je7_6GEylTw"
   },
   "execution_count": null,
   "outputs": []
  },
  {
   "cell_type": "code",
   "source": [
    "# Definition of dictionary\n",
    "europe = {'spain':'madrid', 'france':'paris', 'germany':'bonn',\n",
    "          'norway':'oslo', 'italy':'rome', 'poland':'warsaw',\n",
    "          'australia':'vienna' }\n",
    "\n",
    "# Update capital of germany\n",
    "europe['germany'] = 'berlin'\n",
    "\n",
    "# Remove australia\n",
    "del(europe['australia'])\n",
    "\n",
    "# Print europe\n",
    "print(europe)"
   ],
   "metadata": {
    "id": "imJ5kbLQzSim"
   },
   "execution_count": null,
   "outputs": []
  },
  {
   "cell_type": "code",
   "source": [
    "# Dictionary of dictionaries\n",
    "europe = { 'spain': { 'capital':'madrid', 'population':46.77 },\n",
    "           'france': { 'capital':'paris', 'population':66.03 },\n",
    "           'germany': { 'capital':'berlin', 'population':80.62 },\n",
    "           'norway': { 'capital':'oslo', 'population':5.084 } }\n",
    "\n",
    "\n",
    "# Print out the capital of France\n",
    "print(europe['france']['capital'])\n",
    "\n",
    "# Create sub-dictionary data\n",
    "data = { 'capital':'rome', 'population':59.83 }\n",
    "\n",
    "# Add data to europe under key 'italy'\n",
    "europe['italy'] = data\n",
    "\n",
    "# Print europe\n",
    "print(europe)"
   ],
   "metadata": {
    "id": "9hhAhdyBzbgv"
   },
   "execution_count": null,
   "outputs": []
  },
  {
   "cell_type": "markdown",
   "source": [
    "## Pandas\n",
    "\n",
    "Pandas is a popular open-source data manipulation and analysis library for Python. It provides high-level data structures, such as DataFrame and Series, along with a variety of functions for data cleaning, exploration, and analysis. Developed by Wes McKinney, Pandas is built on top of the NumPy library and is a key tool in the data science and machine learning ecosystem.\n",
    "\n",
    "Here are some key components and features of Pandas:\n",
    "\n",
    "1. DataFrame:\n",
    "\n",
    "    - The core data structure in Pandas is the DataFrame, a two-dimensional tabular data structure with labeled axes (rows and columns). It is similar to a spreadsheet or a SQL table.\n",
    "    - DataFrame allows you to store and manipulate heterogeneous types of data, making it suitable for real-world data.\n",
    "2. Series:\n",
    "\n",
    "    - A Series is a one-dimensional labeled array and is often used to represent a single column or row in a DataFrame.\n",
    "    - Series can hold various data types, including integers, floats, strings, and more.\n",
    "3. Data Input/Output:\n",
    "\n",
    "    - Pandas supports reading and writing data in various formats, such as CSV, Excel, SQL databases, JSON, and more. The pd.read_csv() and pd.to_csv() functions, for example, are commonly used for working with CSV files.\n",
    "4. Data Cleaning and Transformation:\n",
    "\n",
    "    - Pandas provides powerful tools for cleaning and transforming data, including handling missing values, reshaping data, and filtering rows or columns.\n",
    "    - Methods like dropna(), fillna(), groupby(), and merge() are commonly used for data manipulation.\n",
    "5. Indexing and Selection:\n",
    "\n",
    "    - Pandas allows for easy indexing and selection of data. You can use labels or integer-based indexing to access specific rows, columns, or elements in a DataFrame or Series.\n",
    "6. Descriptive Statistics:\n",
    "\n",
    "    - Pandas provides functions for calculating descriptive statistics on data, such as mean, median, standard deviation, and percentiles.\n",
    "    - The describe() function is useful for generating summary statistics of a DataFrame.\n",
    "7. Visualization:\n",
    "\n",
    "    - Pandas integrates with Matplotlib for basic plotting functionality. You can create various types of plots directly from a DataFrame or Series.\n",
    "8. Time Series Data:\n",
    "\n",
    "    - Pandas has built-in support for working with time series data, including date range generation, resampling, and time-based indexing.\n",
    "9. Integration with Other Libraries:\n",
    "\n",
    "    - Pandas is often used in conjunction with other libraries in the PyData ecosystem, such as NumPy, Matplotlib, Seaborn, and scikit-learn."
   ],
   "metadata": {
    "id": "Ebx02NpDzfGt"
   }
  },
  {
   "cell_type": "code",
   "source": [
    "dict = {\"country\": [\"Brazil\", \"Russia\", \"India\", \"China\", \"South Africa\"],\n",
    "       \"capital\": [\"Brasilia\", \"Moscow\", \"New Dehli\", \"Beijing\", \"Pretoria\"],\n",
    "       \"area\": [8.516, 17.10, 3.286, 9.597, 1.221],\n",
    "       \"population\": [200.4, 143.5, 1252, 1357, 52.98] }\n",
    "\n",
    "import pandas as pd\n",
    "brics = pd.DataFrame(dict)\n",
    "print(brics)"
   ],
   "metadata": {
    "id": "82fiSRS30il3"
   },
   "execution_count": null,
   "outputs": []
  },
  {
   "cell_type": "code",
   "source": [
    "# Pre-defined lists\n",
    "names = ['United States', 'Australia', 'Japan', 'India', 'Russia', 'Morocco', 'Egypt']\n",
    "dr =  [True, False, False, False, True, True, True]\n",
    "cpc = [809, 731, 588, 18, 200, 70, 45]\n",
    "\n",
    "# Import pandas as pd\n",
    "import pandas as pd\n",
    "\n",
    "# Create dictionary my_dict with three key:value pairs: my_dict\n",
    "my_dict = { 'country':names, 'drives_right':dr, 'cars_per_cap':cpc }\n",
    "\n",
    "# Build a DataFrame cars from my_dict: cars\n",
    "cars = pd.DataFrame(my_dict)\n",
    "\n",
    "# Print cars\n",
    "print(cars)"
   ],
   "metadata": {
    "id": "hJP89g310p5e"
   },
   "execution_count": null,
   "outputs": []
  },
  {
   "cell_type": "code",
   "source": [
    "import pandas as pd\n",
    "\n",
    "# Build cars DataFrame\n",
    "names = ['United States', 'Australia', 'Japan', 'India', 'Russia', 'Morocco', 'Egypt']\n",
    "dr =  [True, False, False, False, True, True, True]\n",
    "cpc = [809, 731, 588, 18, 200, 70, 45]\n",
    "cars_dict = { 'country':names, 'drives_right':dr, 'cars_per_cap':cpc }\n",
    "cars_summary = pd.DataFrame(cars_dict)\n",
    "print(cars)\n",
    "\n",
    "# Definition of row_labels\n",
    "row_labels = ['US', 'AUS', 'JPN', 'IN', 'RU', 'MOR', 'EG']\n",
    "\n",
    "# Specify row labels of cars\n",
    "cars_summary.index = row_labels\n",
    "\n",
    "# Print cars again\n",
    "print(cars_summary)"
   ],
   "metadata": {
    "id": "rrDumgB20vfh"
   },
   "execution_count": null,
   "outputs": []
  },
  {
   "cell_type": "code",
   "source": [
    "# Import the cars.csv data: cars\n",
    "from vega_datasets import data\n",
    "cars = data.cars()\n",
    "\n",
    "# Print out cars\n",
    "print(cars)"
   ],
   "metadata": {
    "id": "k8gSNVGj05Bw"
   },
   "execution_count": null,
   "outputs": []
  },
  {
   "cell_type": "code",
   "source": [
    "# plot the dataset, referencing dataframe column names\n",
    "import altair as alt\n",
    "alt.Chart(cars).mark_bar().encode(\n",
    "  x='mean(Miles_per_Gallon)',\n",
    "  y='Origin',\n",
    "  color='Origin'\n",
    ")"
   ],
   "metadata": {
    "id": "-NruDqjs2w4W"
   },
   "execution_count": null,
   "outputs": []
  },
  {
   "cell_type": "markdown",
   "source": [
    "## LOC and iLOC\n",
    "\n",
    "   - Both loc and iloc support boolean indexing, allowing you to filter rows based on conditions.\n",
    "   - When working with integer-based indices, loc can be used if the index labels are integers, but iloc is explicitly designed for integer-based indexing.\n",
    "\n",
    "   - Generally, loc is more flexible and powerful for complex selections based on labels, while iloc is more straightforward and efficient for simple numeric indexing.\n",
    "\n",
    "   - Choose between loc and iloc based on your specific use case and whether you need label-based or integer-based indexing.\n",
    "   \n",
    "1. loc (Label-based Indexing):\n",
    "    - loc is primarily label-based indexing, meaning you use the actual row and column labels to index and select data.\n",
    "    \n",
    "    - Syntax: df.loc[row_label, column_label] or df.loc[row_label, :] for selecting entire rows.\n",
    "    \n",
    "2. iloc (Integer-based Indexing):\n",
    "    - iloc is primarily integer-based indexing, meaning you use integer positions to index and select data.\n",
    "\n",
    "    - Syntax: df.iloc[row_index, column_index] or df.iloc[row_index, :] for selecting entire rows."
   ],
   "metadata": {
    "id": "tA1njXwX17wz"
   }
  },
  {
   "cell_type": "code",
   "source": [
    "# Print out origin column as Pandas Series\n",
    "print(cars['Origin'])\n",
    "\n",
    "# Print out origin column as Pandas DataFrame\n",
    "print(cars[['Origin']])\n",
    "\n",
    "# Print out DataFrame with origin and cylinder columns\n",
    "print(cars[['Origin', 'Cylinders']])"
   ],
   "metadata": {
    "id": "1bAM857B3IWX"
   },
   "execution_count": null,
   "outputs": []
  },
  {
   "cell_type": "code",
   "source": [
    "# Import cars data\n",
    "import pandas as pd\n",
    "\n",
    "# Print out first 3 observations\n",
    "print(cars[0:3])\n",
    "\n",
    "# Print out fourth, fifth and sixth observation\n",
    "print(cars[3:6])"
   ],
   "metadata": {
    "id": "19EaBuA_3tkE"
   },
   "execution_count": null,
   "outputs": []
  },
  {
   "cell_type": "code",
   "source": [
    "\n",
    "\n",
    "# Print out observation for Japan\n",
    "print(cars_summary.iloc[2])\n",
    "\n",
    "# Print out observations for Australia and Egypt\n",
    "print(cars_summary.loc[['AUS', 'EG']])"
   ],
   "metadata": {
    "id": "RvANGv3_4Yk-"
   },
   "execution_count": null,
   "outputs": []
  },
  {
   "cell_type": "code",
   "source": [
    "# Print out drives_right value of Morocco\n",
    "print(cars_summary.iloc[5, 2])\n",
    "\n",
    "# Print sub-DataFrame\n",
    "print(cars_summary.loc[['RU', 'MOR'], ['country', 'drives_right']])"
   ],
   "metadata": {
    "id": "zjq6Vl7m4-Cy"
   },
   "execution_count": null,
   "outputs": []
  },
  {
   "cell_type": "code",
   "source": [
    "# Print out drives_right column as Series\n",
    "print(cars_summary.iloc[:, 2])\n",
    "\n",
    "# Print out drives_right column as DataFrame\n",
    "print(cars_summary.iloc[:, [2]])\n",
    "\n",
    "# Print out cars_per_cap and drives_right as DataFrame\n",
    "print(cars_summary.loc[:, ['cars_per_cap', 'drives_right']])"
   ],
   "metadata": {
    "id": "DygYkcYS5HNp"
   },
   "execution_count": null,
   "outputs": []
  },
  {
   "cell_type": "markdown",
   "source": [
    "## Comparison Operators"
   ],
   "metadata": {
    "id": "WSx9vPMn5T0l"
   }
  },
  {
   "cell_type": "markdown",
   "source": [],
   "metadata": {
    "id": "8aOy85Oh5Wk0"
   }
  },
  {
   "cell_type": "code",
   "source": [
    "# Comparison of booleans\n",
    "print(True == False)\n",
    "\n",
    "# Comparison of integers\n",
    "print(-5 * 15 != 75)\n",
    "\n",
    "# Comparison of strings\n",
    "print(\"pyscript\" == \"PyScript\")\n",
    "\n",
    "# Compare a boolean with a numeric\n",
    "print(True == 1)"
   ],
   "metadata": {
    "id": "6O_BP-2k6KYP"
   },
   "execution_count": null,
   "outputs": []
  },
  {
   "cell_type": "code",
   "source": [
    "# Comparison of integers\n",
    "x = -3 * 6\n",
    "print(x >= -10)\n",
    "\n",
    "# Comparison of strings\n",
    "y = \"test\"\n",
    "print(\"test\" <= y)\n",
    "\n",
    "# Comparison of booleans\n",
    "print(True > False)"
   ],
   "metadata": {
    "id": "fiN8zOxU6TOT"
   },
   "execution_count": null,
   "outputs": []
  },
  {
   "cell_type": "code",
   "source": [
    "# Create arrays\n",
    "import numpy as np\n",
    "my_house = np.array([18.0, 20.0, 10.75, 9.50])\n",
    "your_house = np.array([14.0, 24.0, 14.25, 9.0])\n",
    "\n",
    "# my_house greater than or equal to 18\n",
    "print(my_house >= 18)\n",
    "\n",
    "# my_house less than your_house\n",
    "print(my_house < your_house)"
   ],
   "metadata": {
    "id": "3h0yiKhk6Wcl"
   },
   "execution_count": null,
   "outputs": []
  },
  {
   "cell_type": "markdown",
   "source": [
    "## Boolean Operators"
   ],
   "metadata": {
    "id": "tGJi0Dhy6gZc"
   }
  },
  {
   "cell_type": "code",
   "source": [
    "print(True and True)\n",
    "print(False and True)\n",
    "print(6 > 5 and 4 > 9)"
   ],
   "metadata": {
    "id": "zJf26FRJ8pWB"
   },
   "execution_count": null,
   "outputs": []
  },
  {
   "cell_type": "code",
   "source": [
    "print(True or False)\n",
    "print(False or False)\n",
    "print(True or True)"
   ],
   "metadata": {
    "id": "j_ZXuSQa85T-"
   },
   "execution_count": null,
   "outputs": []
  },
  {
   "cell_type": "code",
   "source": [
    "print(not True)\n",
    "print(not False)"
   ],
   "metadata": {
    "id": "V-NrBbyz9QW1"
   },
   "execution_count": null,
   "outputs": []
  },
  {
   "cell_type": "code",
   "source": [
    "# Define variables\n",
    "my_kitchen = 18.0\n",
    "your_kitchen = 14.0\n",
    "\n",
    "# my_kitchen bigger than 10 and smaller than 18?\n",
    "print(my_kitchen > 10 and my_kitchen < 18)\n",
    "\n",
    "# my_kitchen smaller than 14 or bigger than 17?\n",
    "print(my_kitchen < 14 or my_kitchen > 17)\n",
    "\n",
    "# Double my_kitchen smaller than triple your_kitchen?\n",
    "print(my_kitchen * 2 < your_kitchen * 3)"
   ],
   "metadata": {
    "id": "tKwQRKw06jFG"
   },
   "execution_count": null,
   "outputs": []
  },
  {
   "cell_type": "code",
   "source": [
    "# Create arrays\n",
    "import numpy as np\n",
    "my_house = np.array([18.0, 20.0, 10.75, 9.50])\n",
    "your_house = np.array([14.0, 24.0, 14.25, 9.0])\n",
    "\n",
    "# my_house greater than 18.5 or smaller than 10\n",
    "print(np.logical_or(my_house > 18.5, my_house < 10))\n",
    "\n",
    "# Both my_house and your_house smaller than 11\n",
    "print(np.logical_and(my_house < 11, your_house < 11))"
   ],
   "metadata": {
    "id": "Y54p-G_u7gPs"
   },
   "execution_count": null,
   "outputs": []
  },
  {
   "cell_type": "markdown",
   "source": [
    "## Conditional Statements"
   ],
   "metadata": {
    "id": "p9yD3Q8V-d0x"
   }
  },
  {
   "cell_type": "code",
   "source": [
    "condition = 4 \n",
    "expression = \"\"\n",
    "\n",
    "if condition % 2 == 0 :\n",
    "  print(\"contition is even\")\n",
    "  print(\"checking \" + str(condition))"
   ],
   "metadata": {
    "id": "7r9oM2XO93nH"
   },
   "execution_count": null,
   "outputs": []
  },
  {
   "cell_type": "markdown",
   "source": [],
   "metadata": {
    "id": "bMxQuGeq_QGU"
   }
  },
  {
   "cell_type": "code",
   "source": [
    "if condition > 4 :\n",
    "  print(\"condition greater than 4\")\n",
    "else :\n",
    "  print(\"condition smaller or equal to 4\")"
   ],
   "metadata": {
    "id": "vHvkACz79_IT"
   },
   "execution_count": null,
   "outputs": []
  },
  {
   "cell_type": "code",
   "source": [
    "if condition > 4 :\n",
    "  print(\"condition greater than 4\")\n",
    "elif condition == 4 :\n",
    "  print(\"condition equal to 4\")\n",
    "else :\n",
    "  print(\"condition smaller than 4\")"
   ],
   "metadata": {
    "id": "as5D-NKSBDh9"
   },
   "execution_count": null,
   "outputs": []
  },
  {
   "cell_type": "code",
   "source": [
    "number = 23866\n",
    "if number % 2 == 0:\n",
    "  print(\"number is divisible by 3\") # If true\n",
    "elif number % 8  == 0:\n",
    "  print(\"number is divisible by 8\") # Never reached\n",
    "else :\n",
    "  print(\"no condition true\")"
   ],
   "metadata": {
    "id": "cgUsdoEtBZ05"
   },
   "execution_count": null,
   "outputs": []
  },
  {
   "cell_type": "markdown",
   "source": [
    "## Controll flow"
   ],
   "metadata": {
    "id": "16HUVNnfCq7G"
   }
  },
  {
   "cell_type": "code",
   "source": [
    "# Define variables\n",
    "room = \"kitchen\"\n",
    "area = 14.0\n",
    "\n",
    "# if statement for room\n",
    "if room == \"kitchen\" :\n",
    "    print(\"looking around in the kitchen.\")\n",
    "\n",
    "# if statement for area\n",
    "if area > 15 :\n",
    "    print(\"big place!\")"
   ],
   "metadata": {
    "colab": {
     "base_uri": "https://localhost:8080/"
    },
    "id": "V_MFZhvzCxz9",
    "outputId": "aaa68a27-64a1-43a9-917d-d6d7d2cbb3f0"
   },
   "execution_count": null,
   "outputs": [
    {
     "output_type": "stream",
     "name": "stdout",
     "text": [
      "looking around in the kitchen.\n"
     ]
    }
   ]
  },
  {
   "cell_type": "code",
   "source": [
    "# Define variables\n",
    "room = \"kit\"\n",
    "area = 14.0\n",
    "\n",
    "# if-else construct for room\n",
    "if room == \"kit\" :\n",
    "    print(\"looking around in the kitchen.\")\n",
    "else :\n",
    "    print(\"looking around elsewhere.\")\n",
    "\n",
    "# if-else construct for area :\n",
    "if area > 15 :\n",
    "    print(\"big place!\")\n",
    "else :\n",
    "    print(\"pretty small.\")"
   ],
   "metadata": {
    "id": "QGxZfJl9DHia"
   },
   "execution_count": null,
   "outputs": []
  },
  {
   "cell_type": "code",
   "source": [
    "# Define variables\n",
    "room = \"bed\"\n",
    "area = 14.0\n",
    "\n",
    "# if-elif-else construct for room\n",
    "if room == \"kit\" :\n",
    "    print(\"looking around in the kitchen.\")\n",
    "elif room == \"bed\":\n",
    "    print(\"looking around in the bedroom.\")\n",
    "else :\n",
    "    print(\"looking around elsewhere.\")\n",
    "\n",
    "# if-elif-else construct for area\n",
    "if area > 15 :\n",
    "    print(\"big place!\")\n",
    "elif area > 10 :\n",
    "    print(\"medium size, nice!\")\n",
    "else :\n",
    "    print(\"pretty small.\")"
   ],
   "metadata": {
    "id": "_zmTyVoIDNYN"
   },
   "execution_count": null,
   "outputs": []
  },
  {
   "cell_type": "markdown",
   "source": [
    "## Filtering Pandas Data Frame"
   ],
   "metadata": {
    "id": "mKUgmcZLDRSb"
   }
  },
  {
   "cell_type": "code",
   "source": [
    "# Build cars DataFrame\n",
    "import pandas as pd\n",
    "names = ['United States', 'Australia', 'Japan', 'India', 'Russia', 'Morocco', 'Egypt']\n",
    "dr =  [True, False, False, False, True, True, True]\n",
    "cpc = [809, 731, 588, 18, 200, 70, 45]\n",
    "cars_dict = { 'country':names, 'drives_right':dr, 'cars_per_cap':cpc }\n",
    "cars_summary = pd.DataFrame(cars_dict)\n",
    "\n",
    "# Extract drives_right column as Series: dr\n",
    "dr = cars_summary['drives_right']\n",
    "\n",
    "# Use dr to subset cars: sel\n",
    "sel = cars_summary[dr]\n",
    "\n",
    "# Print sel\n",
    "print(sel)"
   ],
   "metadata": {
    "id": "oS2z5v7cDQ-p"
   },
   "execution_count": null,
   "outputs": []
  },
  {
   "cell_type": "code",
   "source": [
    "\n",
    "# Convert code to a one-liner\n",
    "sel = cars_summary[cars_summary['drives_right']]\n",
    "\n",
    "# Print sel\n",
    "print(sel)"
   ],
   "metadata": {
    "id": "3KozGrelOd9p"
   },
   "execution_count": null,
   "outputs": []
  },
  {
   "cell_type": "code",
   "source": [
    "# Create car_maniac: observations that have a cars_per_cap over 500\n",
    "cpc = cars_summary['cars_per_cap']\n",
    "many_cars = cpc > 500\n",
    "car_maniac = cars_summary[many_cars]\n",
    "\n",
    "# Print car_maniac\n",
    "print(car_maniac)"
   ],
   "metadata": {
    "id": "40R3dVIjPHgG"
   },
   "execution_count": null,
   "outputs": []
  },
  {
   "cell_type": "code",
   "source": [
    "# Import numpy, you'll need this\n",
    "import numpy as np\n",
    "\n",
    "# Create medium: observations with cars_per_cap between 100 and 500\n",
    "cpc = cars_summary['cars_per_cap']\n",
    "between = np.logical_and(cpc > 100, cpc < 500)\n",
    "medium = cars_summary[between]\n",
    "\n",
    "# Print medium\n",
    "print(medium)"
   ],
   "metadata": {
    "id": "uvo08yVfPpN5"
   },
   "execution_count": null,
   "outputs": []
  },
  {
   "cell_type": "markdown",
   "source": [
    "##While loop"
   ],
   "metadata": {
    "id": "xRbhWuFOQtID"
   }
  },
  {
   "cell_type": "markdown",
   "source": [
    "Attention, while loops only stop when the condition is met"
   ],
   "metadata": {
    "id": "O3bX5E7eR09r"
   }
  },
  {
   "cell_type": "code",
   "source": [
    "# Initialize offset\n",
    "offset = 8\n",
    "\n",
    "# Code the while loop\n",
    "while offset != 0 :\n",
    "    print(\"correcting...\")\n",
    "    offset = offset - 1\n",
    "    print(offset)"
   ],
   "metadata": {
    "id": "iZU9nBlJQvKz"
   },
   "execution_count": null,
   "outputs": []
  },
  {
   "cell_type": "code",
   "source": [
    "# Initialize offset\n",
    "offset = -6\n",
    "\n",
    "# Code the while loop\n",
    "while offset != 0 :\n",
    "    print(\"correcting...\")\n",
    "    if offset > 0 :\n",
    "        offset = offset - 1\n",
    "    else :\n",
    "        offset = offset + 1\n",
    "    print(offset)"
   ],
   "metadata": {
    "id": "SaYVxF13SAW4"
   },
   "execution_count": null,
   "outputs": []
  },
  {
   "cell_type": "markdown",
   "source": [
    "## For loop"
   ],
   "metadata": {
    "id": "_8-UushASFGM"
   }
  },
  {
   "cell_type": "code",
   "source": [
    "# areas list\n",
    "areas = [11.25, 18.0, 20.0, 10.75, 9.50]\n",
    "\n",
    "# Code the for loop\n",
    "for area in areas :\n",
    "    print(area)"
   ],
   "metadata": {
    "id": "h6VqrOGGSLMB"
   },
   "execution_count": null,
   "outputs": []
  },
  {
   "cell_type": "code",
   "source": [
    "# areas list\n",
    "areas = [11.25, 18.0, 20.0, 10.75, 9.50]\n",
    "\n",
    "# Change for loop to use enumerate() and update print()\n",
    "for index, area in enumerate(areas) :\n",
    "    print(\"room \" + str(index) + \": \" + str(area))"
   ],
   "metadata": {
    "id": "xWWcm7TQUpc6"
   },
   "execution_count": null,
   "outputs": []
  },
  {
   "cell_type": "code",
   "source": [
    "# areas list\n",
    "areas = [11.25, 18.0, 20.0, 10.75, 9.50]\n",
    "\n",
    "# Adapt the printout\n",
    "for index, area in enumerate(areas) :\n",
    "    print(\"room \" + str(index + 1) + \": \" + str(area))"
   ],
   "metadata": {
    "id": "BggPzC9jU_Zy"
   },
   "execution_count": null,
   "outputs": []
  },
  {
   "cell_type": "code",
   "source": [
    "# house list of lists\n",
    "house = [[\"hallway\", 11.25], \n",
    "         [\"kitchen\", 18.0], \n",
    "         [\"living room\", 20.0], \n",
    "         [\"bedroom\", 10.75], \n",
    "         [\"bathroom\", 9.50]]\n",
    "         \n",
    "# Build a for loop from scratch\n",
    "for x in house :\n",
    "    print(\"the \" + x[0] + \" is \" + str(x[1]) + \" sqm\")"
   ],
   "metadata": {
    "id": "GgjdTwANVDud"
   },
   "execution_count": null,
   "outputs": []
  },
  {
   "cell_type": "markdown",
   "source": [
    "## Loop data structures"
   ],
   "metadata": {
    "id": "CCp1oN-xVG4l"
   }
  },
  {
   "cell_type": "markdown",
   "source": [
    "Numpy Arrays\n",
    "\n",
    "Pandas Data Frames"
   ],
   "metadata": {
    "id": "_soeyGvBV1TG"
   }
  },
  {
   "cell_type": "code",
   "source": [
    "# Definition of dictionary\n",
    "europe = {'spain':'madrid', 'france':'paris', 'germany':'berlin',\n",
    "          'norway':'oslo', 'italy':'rome', 'poland':'warsaw', 'austria':'vienna' }\n",
    "          \n",
    "# Iterate over europe\n",
    "for key, value in europe.items() :\n",
    "     print(\"the capital of \" + str(key) + \" is \" + str(value))"
   ],
   "metadata": {
    "id": "mwWeBnPyVMdQ"
   },
   "execution_count": null,
   "outputs": []
  },
  {
   "cell_type": "code",
   "source": [
    "# Import numpy as np\n",
    "import numpy as np\n",
    "\n",
    "# Crate Arrays\n",
    "baseball = [180, 215, 210, 210, 188, 176, 209, 200]\n",
    "height_in = [74, 74, 75, 76, 78, 84, 84, 89, 76, 76, 74, 72, 78]\n",
    "\n",
    "np_baseball = np.array(baseball)\n",
    "np_height = np.array(height_in)\n",
    "\n",
    "# For loop over np_height\n",
    "for x in np_height :\n",
    "    print(str(x) + \" inches\")\n",
    "\n",
    "# For loop over np_baseball\n",
    "for x in np.nditer(np_baseball) :\n",
    "    print(x)\n",
    "\n"
   ],
   "metadata": {
    "id": "lbn6dZmgWMCa"
   },
   "execution_count": null,
   "outputs": []
  },
  {
   "cell_type": "markdown",
   "source": [
    " Pandas Iterrows"
   ],
   "metadata": {
    "id": "g03ioGgUZXaQ"
   }
  },
  {
   "cell_type": "code",
   "source": [
    "# Import cars data\n",
    "import pandas as pd\n",
    "cars = cars_summary\n",
    "\n",
    "# Iterate over rows of cars\n",
    "for lab, row in cars.iterrows() :\n",
    "    print(lab)\n",
    "    print(row)"
   ],
   "metadata": {
    "id": "tikU8o4sZK5o"
   },
   "execution_count": null,
   "outputs": []
  },
  {
   "cell_type": "code",
   "source": [
    "# Pre-defined lists\n",
    "names = ['United States', 'Australia', 'Japan', 'India', 'Russia', 'Morocco', 'Egypt']\n",
    "dr =  [True, False, False, False, True, True, True]\n",
    "cpc = [809, 731, 588, 18, 200, 70, 45]\n",
    "\n",
    "# Import pandas as pd\n",
    "import pandas as pd\n",
    "\n",
    "# Create dictionary my_dict with three key:value pairs: my_dict\n",
    "my_dict = { 'country':names, 'drives_right':dr, 'cars_per_cap':cpc }\n",
    "\n",
    "# Build a DataFrame cars from my_dict: cars\n",
    "cars = pd.DataFrame(my_dict)\n",
    "\n",
    "# Adapt for loop\n",
    "for lab, row in cars.iterrows() :\n",
    "    print(str(lab) + \": \" + str(row['cars_per_cap']))"
   ],
   "metadata": {
    "id": "zMryEexpaY3n"
   },
   "execution_count": null,
   "outputs": []
  },
  {
   "cell_type": "code",
   "source": [
    "# Import cars data\n",
    "import pandas as pd\n",
    "\n",
    "# Code for loop that adds COUNTRY column\n",
    "for lab, row in cars.iterrows() :\n",
    "    cars.loc[lab, \"COUNTRY\"] = row[\"country\"].upper()\n",
    "    \n",
    "# Print cars\n",
    "print(cars)"
   ],
   "metadata": {
    "id": "Oieox_GEcVA-"
   },
   "execution_count": null,
   "outputs": []
  },
  {
   "cell_type": "code",
   "source": [
    "# Use .apply(str.upper)\n",
    "for lab, row in cars.iterrows() :\n",
    "    cars.loc[lab, \"COUNTRY\"] = row[\"country\"].upper()\n",
    "\n",
    "# Use .apply(str.upper)\n",
    "cars[\"COUNTRY\"] = cars[\"country\"].apply(str.upper)\n",
    "print(cars)"
   ],
   "metadata": {
    "id": "VgCC7UwRcX9i"
   },
   "execution_count": null,
   "outputs": []
  },
  {
   "cell_type": "markdown",
   "source": [
    "## Hackerstatistics"
   ],
   "metadata": {
    "id": "_uyXG8JndH7q"
   }
  },
  {
   "cell_type": "markdown",
   "source": [
    "Random Numbers\n",
    "\n",
    "100 dice throws\n",
    "1 or 2 = -1\n",
    "3, 4, 5 = +1\n",
    "6 = roll and walk"
   ],
   "metadata": {
    "id": "kc5b_VSfd6kB"
   }
  },
  {
   "cell_type": "code",
   "source": [
    "# Import numpy as np\n",
    "import numpy as np\n",
    "\n",
    "# Set the seed\n",
    "np.random.seed(123)\n",
    "\n",
    "# Generate and print random float\n",
    "print(np.random.rand())"
   ],
   "metadata": {
    "colab": {
     "base_uri": "https://localhost:8080/"
    },
    "id": "y-m8AGRidvyn",
    "outputId": "60ae47b8-baf8-4fc9-a7fc-898ebcea022b"
   },
   "execution_count": null,
   "outputs": [
    {
     "output_type": "stream",
     "name": "stdout",
     "text": [
      "0.6964691855978616\n"
     ]
    }
   ]
  },
  {
   "cell_type": "code",
   "source": [
    "# Import numpy and set seed\n",
    "import numpy as np\n",
    "np.random.seed(123)\n",
    "\n",
    "# Use randint() to simulate a dice\n",
    "print(np.random.randint(1,7))\n",
    "\n",
    "# Use randint() again\n",
    "print(np.random.randint(1,7))"
   ],
   "metadata": {
    "id": "e7sACBN1d_MT"
   },
   "execution_count": null,
   "outputs": []
  },
  {
   "cell_type": "code",
   "source": [
    "# NumPy is imported, seed is set\n",
    "\n",
    "# Starting step\n",
    "step = 50\n",
    "\n",
    "# Roll the dice\n",
    "dice = np.random.randint(1,7)\n",
    "\n",
    "# Finish the control construct\n",
    "if dice <= 2 :\n",
    "    step = step - 1\n",
    "elif dice <= 5 :\n",
    "    step = step + 1\n",
    "else :\n",
    "    step = step + np.random.randint(1,7)\n",
    "\n",
    "# Print out dice and step\n",
    "print(dice)\n",
    "print(step)"
   ],
   "metadata": {
    "id": "d5N9n1iZeE44"
   },
   "execution_count": null,
   "outputs": []
  },
  {
   "cell_type": "markdown",
   "source": [
    "## Saving random walks"
   ],
   "metadata": {
    "id": "L2BTuj4oeEjc"
   }
  },
  {
   "cell_type": "code",
   "source": [
    "# NumPy is imported, seed is set\n",
    "\n",
    "# Initialize random_walk\n",
    "random_walk = [0]\n",
    "\n",
    "# Complete the ___\n",
    "for x in range(100) :\n",
    "    # Set step: last element in random_walk\n",
    "    step = random_walk[-1]\n",
    "\n",
    "    # Roll the dice\n",
    "    dice = np.random.randint(1,7)\n",
    "\n",
    "    # Determine next step\n",
    "    if dice <= 2:\n",
    "        step = step - 1\n",
    "    elif dice <= 5:\n",
    "        step = step + 1\n",
    "    else:\n",
    "        step = step + np.random.randint(1,7)\n",
    "\n",
    "    # append next_step to random_walk\n",
    "    random_walk.append(step)\n",
    "\n",
    "# Print random_walk\n",
    "print(random_walk)"
   ],
   "metadata": {
    "id": "ww84ePtbfvI1"
   },
   "execution_count": null,
   "outputs": []
  },
  {
   "cell_type": "code",
   "source": [
    "# NumPy is imported, seed is set\n",
    "\n",
    "# Initialize random_walk\n",
    "random_walk = [0]\n",
    "\n",
    "for x in range(100) :\n",
    "    step = random_walk[-1]\n",
    "    dice = np.random.randint(1,7)\n",
    "\n",
    "    if dice <= 2:\n",
    "        # Replace below: use max to make sure step can't go below 0\n",
    "        step = max(0, step - 1)\n",
    "    elif dice <= 5:\n",
    "        step = step + 1\n",
    "    else:\n",
    "        step = step + np.random.randint(1,7)\n",
    "\n",
    "    random_walk.append(step)\n",
    "\n",
    "print(random_walk)"
   ],
   "metadata": {
    "id": "0ucAUJ6ssRYo"
   },
   "execution_count": null,
   "outputs": []
  },
  {
   "cell_type": "code",
   "source": [
    "# NumPy is imported, seed is set\n",
    "\n",
    "# Initialization\n",
    "random_walk = [0]\n",
    "\n",
    "for x in range(100) :\n",
    "    step = random_walk[-1]\n",
    "    dice = np.random.randint(1,7)\n",
    "\n",
    "    if dice <= 2:\n",
    "        step = max(0, step - 1)\n",
    "    elif dice <= 5:\n",
    "        step = step + 1\n",
    "    else:\n",
    "        step = step + np.random.randint(1,7)\n",
    "\n",
    "    random_walk.append(step)\n",
    "\n",
    "# Import matplotlib.pyplot as plt\n",
    "import matplotlib.pyplot as plt\n",
    "\n",
    "# Plot random_walk\n",
    "plt.plot(random_walk)\n",
    "\n",
    "# Show the plot\n",
    "plt.show()"
   ],
   "metadata": {
    "id": "bPiE3jWqsaCn"
   },
   "execution_count": null,
   "outputs": []
  },
  {
   "cell_type": "markdown",
   "source": [
    "## Distribution"
   ],
   "metadata": {
    "id": "saO3As1usgAF"
   }
  },
  {
   "cell_type": "code",
   "source": [
    "# NumPy is imported; seed is set\n",
    "\n",
    "# Initialize all_walks (don't change this line)\n",
    "all_walks = []\n",
    "\n",
    "# Simulate random walk 10 times\n",
    "for i in range(10) :\n",
    "\n",
    "    # Code from before\n",
    "    random_walk = [0]\n",
    "    for x in range(100) :\n",
    "        step = random_walk[-1]\n",
    "        dice = np.random.randint(1,7)\n",
    "\n",
    "        if dice <= 2:\n",
    "            step = max(0, step - 1)\n",
    "        elif dice <= 5:\n",
    "            step = step + 1\n",
    "        else:\n",
    "            step = step + np.random.randint(1,7)\n",
    "        random_walk.append(step)\n",
    "\n",
    "    # Append random_walk to all_walks\n",
    "    all_walks.append(random_walk)\n",
    "\n",
    "# Print all_walks\n",
    "print(all_walks)"
   ],
   "metadata": {
    "colab": {
     "base_uri": "https://localhost:8080/"
    },
    "id": "xvXlZky8si5o",
    "outputId": "f4df9093-57fd-436f-d261-df3c148ebd7a"
   },
   "execution_count": null,
   "outputs": [
    {
     "output_type": "stream",
     "name": "stdout",
     "text": [
      "[[0, 1, 2, 5, 4, 5, 4, 5, 6, 7, 6, 7, 6, 7, 8, 10, 9, 8, 9, 10, 9, 11, 12, 13, 14, 15, 16, 17, 16, 17, 18, 23, 24, 23, 22, 21, 20, 21, 22, 23, 28, 29, 28, 29, 30, 31, 32, 33, 34, 33, 32, 33, 32, 38, 37, 38, 37, 38, 37, 38, 42, 46, 48, 50, 49, 50, 52, 51, 57, 58, 60, 61, 60, 61, 62, 63, 62, 63, 64, 65, 67, 66, 65, 66, 72, 77, 76, 75, 79, 80, 81, 82, 84, 83, 84, 83, 84, 83, 82, 88, 87], [0, 1, 2, 3, 4, 5, 6, 7, 8, 7, 8, 7, 6, 7, 6, 7, 6, 7, 8, 12, 13, 12, 18, 17, 16, 17, 16, 15, 16, 15, 19, 18, 19, 18, 19, 18, 19, 21, 20, 19, 18, 19, 18, 23, 24, 25, 24, 23, 24, 23, 24, 23, 28, 29, 28, 27, 26, 25, 26, 27, 31, 37, 38, 39, 40, 41, 40, 41, 43, 44, 45, 46, 45, 44, 45, 44, 45, 46, 47, 46, 47, 48, 49, 48, 47, 48, 49, 54, 55, 56, 61, 60, 61, 60, 61, 62, 63, 64, 63, 69, 68], [0, 1, 0, 0, 1, 5, 6, 7, 8, 9, 8, 7, 6, 5, 4, 5, 6, 7, 8, 9, 10, 9, 10, 11, 10, 11, 12, 15, 14, 15, 14, 15, 18, 19, 20, 21, 20, 19, 22, 23, 24, 25, 24, 23, 24, 27, 28, 33, 34, 33, 34, 33, 34, 33, 39, 38, 37, 38, 40, 39, 38, 37, 38, 39, 40, 41, 45, 50, 51, 52, 53, 56, 57, 58, 59, 60, 61, 62, 61, 60, 61, 62, 61, 67, 66, 67, 68, 67, 66, 67, 66, 65, 71, 70, 69, 70, 71, 70, 69, 68, 67], [0, 1, 7, 8, 11, 12, 18, 19, 20, 26, 25, 31, 30, 31, 32, 33, 32, 38, 39, 38, 39, 38, 39, 38, 39, 38, 39, 43, 44, 46, 45, 46, 45, 44, 45, 44, 45, 44, 48, 52, 51, 50, 49, 50, 51, 55, 56, 57, 61, 60, 59, 58, 59, 60, 62, 61, 60, 61, 62, 64, 67, 72, 73, 72, 73, 74, 75, 76, 77, 76, 77, 78, 84, 83, 88, 87, 91, 90, 94, 93, 96, 97, 96, 97, 103, 102, 101, 100, 104, 103, 102, 103, 104, 103, 104, 105, 106, 107, 106, 105, 104], [0, 1, 0, 0, 4, 5, 7, 11, 17, 16, 15, 16, 17, 18, 17, 18, 17, 18, 19, 18, 17, 18, 19, 20, 21, 22, 23, 24, 25, 26, 27, 33, 32, 35, 36, 35, 34, 35, 36, 37, 36, 35, 34, 33, 34, 35, 36, 37, 38, 39, 40, 39, 40, 41, 43, 42, 43, 44, 47, 49, 50, 49, 48, 47, 46, 45, 46, 45, 46, 48, 49, 50, 49, 50, 49, 48, 49, 48, 47, 46, 47, 46, 45, 46, 47, 48, 50, 51, 52, 51, 50, 51, 57, 56, 57, 58, 63, 62, 63, 62, 63], [0, 1, 0, 1, 2, 8, 9, 10, 11, 10, 12, 13, 14, 15, 14, 15, 16, 17, 18, 17, 18, 17, 18, 19, 18, 19, 23, 24, 27, 28, 32, 33, 32, 33, 34, 33, 32, 37, 38, 39, 38, 37, 38, 39, 40, 39, 43, 42, 43, 44, 45, 46, 47, 48, 49, 48, 47, 46, 47, 48, 52, 53, 52, 53, 54, 53, 59, 60, 61, 62, 61, 62, 63, 66, 65, 66, 65, 64, 63, 64, 65, 67, 68, 69, 73, 74, 73, 72, 73, 74, 73, 72, 73, 74, 75, 74, 73, 74, 75, 76, 75], [0, 1, 2, 1, 0, 0, 1, 2, 3, 4, 5, 10, 14, 13, 14, 13, 12, 11, 12, 11, 12, 13, 12, 16, 17, 16, 17, 16, 15, 16, 15, 19, 20, 21, 22, 23, 24, 23, 24, 25, 26, 27, 28, 27, 32, 33, 34, 33, 34, 33, 34, 35, 34, 35, 40, 41, 42, 41, 42, 43, 44, 43, 44, 43, 44, 45, 44, 43, 42, 43, 44, 43, 42, 41, 42, 46, 47, 48, 49, 50, 51, 50, 51, 52, 51, 52, 57, 58, 57, 56, 57, 56, 55, 54, 58, 59, 60, 61, 60, 61, 62], [0, 1, 2, 3, 2, 1, 4, 3, 2, 1, 0, 1, 7, 8, 7, 8, 9, 8, 7, 8, 9, 10, 9, 13, 14, 13, 15, 16, 15, 16, 17, 18, 19, 20, 21, 20, 19, 20, 21, 20, 21, 22, 21, 20, 19, 23, 24, 25, 26, 27, 28, 29, 30, 31, 32, 31, 32, 33, 34, 35, 36, 35, 34, 40, 41, 42, 41, 40, 39, 43, 44, 48, 47, 53, 54, 55, 59, 60, 59, 58, 59, 60, 61, 62, 61, 67, 68, 67, 71, 72, 71, 72, 71, 77, 83, 84, 83, 84, 85, 86, 87], [0, 1, 0, 3, 2, 4, 5, 11, 10, 11, 12, 11, 10, 11, 10, 11, 12, 13, 14, 15, 16, 17, 18, 19, 20, 21, 22, 23, 24, 23, 24, 25, 26, 25, 24, 23, 24, 23, 27, 26, 25, 26, 28, 29, 34, 33, 34, 35, 39, 38, 39, 40, 39, 38, 39, 40, 41, 40, 39, 38, 39, 38, 37, 38, 37, 36, 35, 36, 37, 36, 35, 34, 35, 36, 37, 36, 35, 36, 37, 38, 39, 38, 39, 38, 39, 40, 41, 42, 43, 48, 53, 52, 53, 54, 53, 54, 60, 59, 60, 59, 60], [0, 0, 1, 2, 3, 2, 1, 2, 3, 4, 3, 2, 1, 3, 4, 5, 4, 3, 2, 3, 4, 5, 4, 3, 4, 7, 12, 15, 16, 17, 23, 24, 25, 26, 25, 27, 32, 33, 34, 35, 36, 37, 38, 37, 38, 39, 40, 41, 42, 44, 48, 49, 50, 51, 52, 56, 61, 60, 59, 58, 57, 60, 61, 62, 63, 62, 61, 64, 65, 64, 63, 62, 63, 64, 65, 66, 65, 66, 65, 66, 67, 66, 67, 68, 69, 70, 71, 72, 73, 72, 71, 72, 73, 76, 77, 76, 75, 76, 77, 78, 83]]\n"
     ]
    }
   ]
  },
  {
   "cell_type": "code",
   "source": [
    "# numpy and matplotlib imported, seed set.\n",
    "\n",
    "# initialize and populate all_walks\n",
    "all_walks = []\n",
    "for i in range(10) :\n",
    "    random_walk = [0]\n",
    "    for x in range(100) :\n",
    "        step = random_walk[-1]\n",
    "        dice = np.random.randint(1,7)\n",
    "        if dice <= 2:\n",
    "            step = max(0, step - 1)\n",
    "        elif dice <= 5:\n",
    "            step = step + 1\n",
    "        else:\n",
    "            step = step + np.random.randint(1,7)\n",
    "        random_walk.append(step)\n",
    "    all_walks.append(random_walk)\n",
    "\n",
    "# Convert all_walks to NumPy array: np_aw\n",
    "np_aw = np.array(all_walks)\n",
    "\n",
    "# Plot np_aw and show\n",
    "plt.plot(np_aw)\n",
    "plt.show()\n",
    "\n",
    "# Clear the figure\n",
    "plt.clf()\n",
    "\n",
    "# Transpose np_aw: np_aw_t\n",
    "np_aw_t = np.transpose(np_aw)\n",
    "\n",
    "# Plot np_aw_t and show\n",
    "plt.plot(np_aw_t)\n",
    "plt.show()"
   ],
   "metadata": {
    "id": "AGlyH4FLtlgl"
   },
   "execution_count": null,
   "outputs": []
  },
  {
   "cell_type": "code",
   "source": [
    "# numpy and matplotlib imported, seed set\n",
    "\n",
    "# Simulate random walk 250 times\n",
    "all_walks = []\n",
    "for i in range(250) :\n",
    "    random_walk = [0]\n",
    "    for x in range(100) :\n",
    "        step = random_walk[-1]\n",
    "        dice = np.random.randint(1,7)\n",
    "        if dice <= 2:\n",
    "            step = max(0, step - 1)\n",
    "        elif dice <= 5:\n",
    "            step = step + 1\n",
    "        else:\n",
    "            step = step + np.random.randint(1,7)\n",
    "\n",
    "        # Implement clumsiness\n",
    "        if np.random.rand() <= 0.001 :\n",
    "            step = 0\n",
    "\n",
    "        random_walk.append(step)\n",
    "    all_walks.append(random_walk)\n",
    "\n",
    "# Create and plot np_aw_t\n",
    "np_aw_t = np.transpose(np.array(all_walks))\n",
    "plt.plot(np_aw_t)\n",
    "plt.show()"
   ],
   "metadata": {
    "id": "oF2scpsBtsX9"
   },
   "execution_count": null,
   "outputs": []
  },
  {
   "cell_type": "code",
   "source": [
    "# numpy and matplotlib imported, seed set\n",
    "\n",
    "# Simulate random walk 500 times\n",
    "all_walks = []\n",
    "for i in range(500) :\n",
    "    random_walk = [0]\n",
    "    for x in range(100) :\n",
    "        step = random_walk[-1]\n",
    "        dice = np.random.randint(1,7)\n",
    "        if dice <= 2:\n",
    "            step = max(0, step - 1)\n",
    "        elif dice <= 5:\n",
    "            step = step + 1\n",
    "        else:\n",
    "            step = step + np.random.randint(1,7)\n",
    "        if np.random.rand() <= 0.001 :\n",
    "            step = 0\n",
    "        random_walk.append(step)\n",
    "    all_walks.append(random_walk)\n",
    "\n",
    "# Create and plot np_aw_t\n",
    "np_aw_t = np.transpose(np.array(all_walks))\n",
    "\n",
    "# Select last row from np_aw_t: ends\n",
    "ends = np_aw_t[-1,:]\n",
    "\n",
    "# Plot histogram of ends, display plot\n",
    "plt.hist(ends)\n",
    "plt.show()"
   ],
   "metadata": {
    "id": "vIcR7xRJt2O2"
   },
   "execution_count": null,
   "outputs": []
  },
  {
   "cell_type": "code",
   "source": [
    "# Count Integers above 60 in ends\n",
    "np.mean(ends >= 60)"
   ],
   "metadata": {
    "colab": {
     "base_uri": "https://localhost:8080/"
    },
    "id": "ahVglTn7uT4Z",
    "outputId": "85496c90-5a41-4cbe-b98f-c0450c2e0758"
   },
   "execution_count": null,
   "outputs": [
    {
     "output_type": "execute_result",
     "data": {
      "text/plain": [
       "0.782"
      ]
     },
     "metadata": {},
     "execution_count": 57
    }
   ]
  }
 ]
}
