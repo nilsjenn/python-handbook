{
 "nbformat": 4,
 "nbformat_minor": 0,
 "metadata": {
  "colab": {
   "name": "Python Workshop.ipynb",
   "provenance": [],
   "collapsed_sections": [],
   "toc_visible": true,
   "authorship_tag": "ABX9TyPRtLMqV5pg7D+XXJImYXRm",
   "include_colab_link": true
  },
  "kernelspec": {
   "name": "python3",
   "language": "python",
   "display_name": "Python 3 (ipykernel)"
  },
  "language_info": {
   "name": "python"
  }
 },
 "cells": [
  {
   "cell_type": "markdown",
   "metadata": {
    "id": "view-in-github",
    "colab_type": "text"
   },
   "source": [
    "[![Open In Colab](https://colab.research.google.com/assets/colab-badge.svg)](https://colab.research.google.com/github/nilsjennissen/python-handbook/blob/main/notebooks/python_intro.ipynb)"
   ]
  },
  {
   "cell_type": "markdown",
   "source": [
    "# Welcome to your Python Introduction\n",
    "\n",
    "Python is a high-level, interpreted programming language known for its readability and simplicity. Guido van Rossum released the first version of Python in 1991, and since then, it has become one of the most popular programming languages in the world. Python is widely used for various purposes, including web development, data analysis, artificial intelligence, scientific computing, automation, and more.\n",
    "\n",
    "Key features of Python include:\n",
    "\n",
    "1. Readable and Simple Syntax: Python's syntax is designed to be clear and readable, making it easy for developers to write and maintain code.\n",
    "\n",
    "2. Interpreted Language: Python is an interpreted language, which means that code can be executed line by line without the need for compilation. This contributes to a quicker development cycle.\n",
    "\n",
    "3. Dynamic Typing: Python is dynamically typed, meaning that variable types are assigned during runtime. This allows for more flexibility but requires careful attention to variable types during development.\n",
    "\n",
    "4. Extensive Standard Library: Python comes with a vast standard library that includes modules and packages for a wide range of tasks, from working with data structures to networking and web development.\n",
    "\n",
    "5. Cross-platform: Python is compatible with various operating systems, including Windows, macOS, and Linux, making it a versatile choice for developers.\n",
    "\n",
    "6. Community and Ecosystem: Python has a large and active community of developers who contribute to its growth. There are numerous third-party libraries and frameworks available, which further extends its capabilities.\n",
    "\n",
    "7. Object-Oriented: Python supports object-oriented programming principles, allowing developers to create and use classes and objects.\n",
    "\n",
    "Python is often used for web development with frameworks like Django and Flask, data science with libraries such as NumPy and pandas, machine learning with frameworks like TensorFlow and PyTorch, and more. Its versatility, ease of learning, and broad applicability contribute to its popularity among both beginners and experienced developers.\n"
   ],
   "metadata": {
    "id": "DtXDGxD4Hjda"
   }
  },
  {
   "cell_type": "markdown",
   "source": [
    "## Basic Calculations\n",
    "\n",
    "Basic arithmetic operations in Python include addition, subtraction, multiplication, division, exponentiation, and modulo. These operations can be performed using built-in operators in Python. Here are some examples:\n",
    "\n",
    "- Addition\n",
    "- Substraction\n",
    "- Division\n",
    "- Multiplication"
   ],
   "metadata": {
    "id": "isakngIV9f02"
   }
  },
  {
   "cell_type": "code",
   "execution_count": 1,
   "metadata": {
    "id": "CwAAe1_jHic5",
    "colab": {
     "base_uri": "https://localhost:8080/"
    },
    "outputId": "431ef075-6ed3-4ffd-ac51-05faed0279c2"
   },
   "outputs": [
    {
     "output_type": "stream",
     "name": "stdout",
     "text": [
      "0.625\n",
      "17\n",
      "64.75\n",
      "733\n"
     ]
    }
   ],
   "source": [
    "# Example to modify\n",
    "print(5 / 8)\n",
    "\n",
    "# Print the sum of 7 and 10\n",
    "print(7 + 10)\n",
    "\n",
    "# Division\n",
    "print(518 / 8)\n",
    "\n",
    "# Summarization\n",
    "print(723 + 10)"
   ]
  },
  {
   "cell_type": "markdown",
   "source": [
    "## Calculation Signs\n",
    "\n",
    "In Python, calculation signs are fundamental components that facilitate mathematical operations within the language. These signs, also known as arithmetic operators, enable developers to perform a variety of mathematical computations with ease. Python supports the standard set of arithmetic operators found in most programming languages, allowing for addition, subtraction, multiplication, division, floor division, modulus, and exponentiation.\n",
    "\n",
    "These operators play a crucial role in numerical computations, making Python a versatile language for tasks ranging from simple arithmetic calculations to complex mathematical algorithms. Whether you're working with integers, floating-point numbers, or other numeric types, Python's arithmetic operators provide the tools needed to manipulate and analyze data efficiently.\n",
    "\n",
    "Understanding how to use these calculation signs, along with the rules of operator precedence, allows developers to express mathematical operations in a concise and readable manner. This foundational knowledge is essential for anyone working with Python, whether they are beginners exploring the language's capabilities or experienced developers implementing sophisticated mathematical algorithms in scientific computing, data analysis, or machine learning applications. In the following sections, we'll delve into each arithmetic operator and explore how they can be applied in Python programming."
   ],
   "metadata": {
    "id": "qCpIw-GNIHZU"
   }
  },
  {
   "cell_type": "code",
   "source": [
    "# Addition, subtraction\n",
    "print(5 + 5)\n",
    "print(5 - 5)\n",
    "\n",
    "# Multiplication, division, modulo, and exponentiation\n",
    "print(3 * 5)\n",
    "print(10 / 2)\n",
    "print(18 % 7)\n",
    "print(4 ** 2)\n",
    "\n",
    "# How much is your $100 worth after 7 years?\n",
    "print(100 * 1.1 ** 7)"
   ],
   "metadata": {
    "id": "6I74gBH8IHGV",
    "colab": {
     "base_uri": "https://localhost:8080/"
    },
    "outputId": "cc089f9c-cd9e-4c8d-eee6-e00ac408c23d"
   },
   "execution_count": 3,
   "outputs": [
    {
     "output_type": "stream",
     "name": "stdout",
     "text": [
      "10\n",
      "0\n",
      "15\n",
      "5.0\n",
      "4\n",
      "16\n",
      "194.87171000000012\n"
     ]
    }
   ]
  },
  {
   "cell_type": "markdown",
   "source": [
    "## Variables and Types\n",
    "\n",
    "In Python, data types are an essential concept that categorizes and defines the nature of data that a variable can hold. Python is a dynamically-typed language, which means that the interpreter automatically determines the data type of a variable based on the value assigned to it. Here are some fundamental Python data types:\n",
    "\n",
    "Float = real numbers\n",
    "Integer = whole numbers\n",
    "Strings = text string\n",
    "Boolean = True, False"
   ],
   "metadata": {
    "id": "Qz_0F0KeIeVj"
   }
  },
  {
   "cell_type": "code",
   "source": [
    "# Variable assignement with =\n",
    "\n",
    "w = 3.2\n",
    "x = 10\n",
    "y = \"apples\"\n",
    "z = True\n",
    "\n",
    "type(y)"
   ],
   "metadata": {
    "id": "PlFDNVUUIejE"
   },
   "execution_count": null,
   "outputs": []
  },
  {
   "cell_type": "markdown",
   "source": [
    "## Python Sample Case\n",
    "\n",
    "Let's consider a simple scenario where you have an initial savings amount and you want to calculate the future value of your savings after a certain number of years, assuming a fixed annual interest rate. The formula for compound interest can be used for this calculation:\n",
    "\n",
    "Future Value:\n",
    "Future Value=Principal×(1+Interest_Rate)**Number of Years\n",
    " \n",
    "\n",
    "Here's a Python script demonstrating how you can use exponentiation to calculate the future value of savings:"
   ],
   "metadata": {
    "id": "MKg1zPGyKayg"
   }
  },
  {
   "cell_type": "code",
   "source": [
    "# Create a variable savings\n",
    "savings = 100\n",
    "\n",
    "# Print out savings\n",
    "print(savings)"
   ],
   "metadata": {
    "id": "tJH4W8KnKa_6"
   },
   "execution_count": null,
   "outputs": []
  },
  {
   "cell_type": "code",
   "source": [
    "# Create a variable savings\n",
    "savings = 100\n",
    "\n",
    "# Create a variable growth_multiplier\n",
    "growth_multiplier = 1.1\n",
    "\n",
    "# Calculate result\n",
    "result = savings * growth_multiplier ** 7\n",
    "\n",
    "# Print out result\n",
    "print(result)"
   ],
   "metadata": {
    "id": "q5WnEKimKksJ"
   },
   "execution_count": null,
   "outputs": []
  },
  {
   "cell_type": "code",
   "source": [
    "savings = 100\n",
    "growth_multiplier = 1.1\n",
    "desc = \"compound interest\"\n",
    "\n",
    "# Create a variable profitable\n",
    "profitable = True\n",
    "\n",
    "# Assign product of growth_multiplier and savings to year1\n",
    "year1 = savings * growth_multiplier\n",
    "\n",
    "# Print the type of year1\n",
    "print(type(year1))\n",
    "\n",
    "# Assign sum of desc and desc to doubledesc\n",
    "doubledesc = desc + desc\n",
    "\n",
    "# Print out doubledesc\n",
    "print( doubledesc)"
   ],
   "metadata": {
    "id": "705FQWFkLyGL"
   },
   "execution_count": null,
   "outputs": []
  },
  {
   "cell_type": "code",
   "source": [
    "# Definition of savings and result\n",
    "savings = 100\n",
    "result = 100 * 1.10 ** 7\n",
    "\n",
    "# Fix the printout\n",
    "print(\"I started with $\" + str(savings) + \" and now have $\" + str(result) + \". Awesome!\")\n",
    "\n",
    "# Definition of pi_string\n",
    "pi_string = \"3.1415926\"\n",
    "\n",
    "# Convert pi_string into float: pi_float\n",
    "pi_float = float(pi_string)"
   ],
   "metadata": {
    "id": "L-AI0CZsL1xr"
   },
   "execution_count": null,
   "outputs": []
  },
  {
   "cell_type": "markdown",
   "source": [
    "## Python Lists\n",
    "\n",
    "In Python, a list is a built-in data type that represents an ordered, mutable (changeable) sequence of elements. Lists are one of the most versatile and commonly used data structures in Python. They can contain elements of different data types, including numbers, strings, and other lists. Lists are defined by enclosing elements in square brackets [] and separating them with commas.\n",
    "\n",
    "Key characteristics of Python lists:\n",
    "\n",
    "1. Ordered: Lists maintain the order of elements, meaning that the position of an element in the list is preserved.\n",
    "\n",
    "2. Mutable: You can modify the elements of a list by changing, adding, or removing items.\n",
    "\n",
    "3. Heterogeneous: Lists can contain elements of different data types.\n",
    "\n",
    "4. Dynamic: Lists can grow or shrink in size dynamically.\n"
   ],
   "metadata": {
    "id": "gPPwVkerL69B"
   }
  },
  {
   "cell_type": "code",
   "source": [
    "list1 = [3, 5, 8, 4, 5]\n",
    "list2 = [5.1, 4.5, 3.4, 6.7]\n",
    "type(list1)\n",
    " "
   ],
   "metadata": {
    "id": "eTnoD6HSL_s-",
    "ExecuteTime": {
     "end_time": "2023-11-14T12:42:55.489348Z",
     "start_time": "2023-11-14T12:42:55.483245Z"
    }
   },
   "execution_count": 1,
   "outputs": [
    {
     "data": {
      "text/plain": "list"
     },
     "execution_count": 1,
     "metadata": {},
     "output_type": "execute_result"
    }
   ]
  },
  {
   "cell_type": "code",
   "execution_count": 6,
   "outputs": [
    {
     "name": "stdout",
     "output_type": "stream",
     "text": [
      "[8, 7, 7, 7, 4, 10, 10, 10]\n",
      "8\n"
     ]
    }
   ],
   "source": [
    "list1.remove(3)\n",
    "list1.append(10)\n",
    "list1.insert(2, 7)\n",
    "print(list1)\n",
    "print(len(list1))"
   ],
   "metadata": {
    "collapsed": false,
    "ExecuteTime": {
     "end_time": "2023-11-14T12:44:21.915092Z",
     "start_time": "2023-11-14T12:44:21.882705Z"
    }
   }
  },
  {
   "cell_type": "markdown",
   "source": [
    "Sample"
   ],
   "metadata": {
    "id": "g8VxcoIHM8v9"
   }
  },
  {
   "cell_type": "code",
   "source": [
    "# area variables (in square meters)\n",
    "hall = 11.25\n",
    "kit = 18.0\n",
    "liv = 20.0\n",
    "bed = 10.75\n",
    "bath = 9.50\n",
    "\n",
    "# Create list areas\n",
    "areas = [hall, kit, liv, bed, bath]\n",
    "\n",
    "# Print areas\n",
    "print(areas)\n"
   ],
   "metadata": {
    "id": "FGIDO2CaM6bI"
   },
   "execution_count": null,
   "outputs": []
  },
  {
   "cell_type": "code",
   "source": [
    "# area variables (in square meters)\n",
    "hall = 11.25\n",
    "kit = 18.0\n",
    "liv = 20.0\n",
    "bed = 10.75\n",
    "bath = 9.50\n",
    "\n",
    "# Adapt list areas\n",
    "areas = [\"hallway\", hall, \"kitchen\",  kit, \"living room\", liv, \"bedroom\", bed, \"bathroom\", bath]\n",
    "\n",
    "# Print areas\n",
    "print(areas)"
   ],
   "metadata": {
    "id": "vh0Ou4DSNR1j"
   },
   "execution_count": null,
   "outputs": []
  },
  {
   "cell_type": "code",
   "source": [
    "# area variables (in square meters)\n",
    "hall = 11.25\n",
    "kit = 18.0\n",
    "liv = 20.0\n",
    "bed = 10.75\n",
    "bath = 9.50\n",
    "\n",
    "# house information as list of lists\n",
    "house = [[\"hallway\", hall],\n",
    "         [\"kitchen\", kit],\n",
    "         [\"living room\", liv],\n",
    "         [\"bedroom\", bed],\n",
    "         [\"bathroom\", bath]]\n",
    "\n",
    "# Print out house\n",
    "print(house)\n",
    "\n",
    "# Print out the type of house\n",
    "print(type(house))"
   ],
   "metadata": {
    "id": "TFHbJRDqNWWt"
   },
   "execution_count": null,
   "outputs": []
  },
  {
   "cell_type": "markdown",
   "source": [
    "### Operation on Lists\n",
    "Subdividing Lists with the Index\n",
    "\n",
    "Starting with 0!\n",
    "\n",
    "[Inclusive:Exclusiv]"
   ],
   "metadata": {
    "id": "cBBwDdDzNbPF"
   }
  },
  {
   "cell_type": "code",
   "source": [
    "# Create the areas list\n",
    "areas = [\"hallway\", 11.25, \"kitchen\", 18.0, \"living room\", 20.0, \"bedroom\", 10.75, \"bathroom\", 9.50]\n",
    "\n",
    "# Print out second element from areas\n",
    "print(areas[1])\n",
    "\n",
    "# Print out last element from areas\n",
    "print(areas[-1])\n",
    "\n",
    "# Print out the area of the living room\n",
    "print(areas[5:8])"
   ],
   "metadata": {
    "id": "IVoIYsiONd5y"
   },
   "execution_count": null,
   "outputs": []
  },
  {
   "cell_type": "code",
   "source": [
    "# Create the areas list\n",
    "areas = [\"hallway\", 11.25, \"kitchen\", 18.0, \"living room\", 20.0, \"bedroom\", 10.75, \"bathroom\", 9.50]\n",
    "\n",
    "# Sum of kitchen and bedroom area: eat_sleep_area\n",
    "eat_sleep_area = areas[3] + areas[-3]\n",
    "\n",
    "# Print the variable eat_sleep_area\n",
    "print(eat_sleep_area)"
   ],
   "metadata": {
    "id": "7p01xS7lO2ts"
   },
   "execution_count": null,
   "outputs": []
  },
  {
   "cell_type": "code",
   "source": [
    "# Create the areas list\n",
    "areas = [\"hallway\", 11.25, \"kitchen\", 18.0, \"living room\", 20.0, \"bedroom\", 10.75, \"bathroom\", 9.50]\n",
    "\n",
    "# Use slicing to create downstairs\n",
    "downstairs = areas[0:6]\n",
    "\n",
    "# Use slicing to create upstairs\n",
    "upstairs = areas[6:11]\n",
    "\n",
    "# Print out downstairs and upstairs\n",
    "print(downstairs)\n",
    "print(upstairs)"
   ],
   "metadata": {
    "id": "fl6cIBEOO5wC"
   },
   "execution_count": null,
   "outputs": []
  },
  {
   "cell_type": "code",
   "source": [
    "# Create the areas list\n",
    "areas = [\"hallway\", 11.25, \"kitchen\", 18.0, \"living room\", 20.0, \"bedroom\", 10.75, \"bathroom\", 9.50]\n",
    "\n",
    "# Alternative slicing to create downstairs\n",
    "downstairs = areas[:6]\n",
    "\n",
    "# Alternative slicing to create upstairs\n",
    "upstairs = areas[6:]"
   ],
   "metadata": {
    "id": "wQNTXfEtPNWB"
   },
   "execution_count": null,
   "outputs": []
  },
  {
   "cell_type": "code",
   "source": [
    "# Create the areas list\n",
    "areas = [\"hallway\", 11.25, \"kitchen\", 18.0, \"living room\", 20.0, \"bedroom\", 10.75, \"bathroom\", 9.50]\n",
    "\n",
    "# Correct the bathroom area\n",
    "areas[-1] = 10.50\n",
    "\n",
    "# Change \"living room\" to \"chill zone\"\n",
    "areas[4] = \"chill zone\""
   ],
   "metadata": {
    "id": "T9ZsBhP0PU09"
   },
   "execution_count": null,
   "outputs": []
  },
  {
   "cell_type": "code",
   "source": [
    "# Create the areas list and make some changes\n",
    "areas = [\"hallway\", 11.25, \"kitchen\", 18.0, \"chill zone\", 20.0,\n",
    "         \"bedroom\", 10.75, \"bathroom\", 10.50]\n",
    "\n",
    "# Add poolhouse data to areas, new list is areas_1\n",
    "areas_1 = areas + [\"poolhouse\", 24.5]\n",
    "\n",
    "# Add garage data to areas_1, new list is areas_2\n",
    "areas_2 = areas_1 + [\"garage\", 15.45]"
   ],
   "metadata": {
    "id": "wk02pNWhQVMD"
   },
   "execution_count": null,
   "outputs": []
  },
  {
   "cell_type": "markdown",
   "source": [
    "Creating a List"
   ],
   "metadata": {
    "id": "ogP93npLQhtP"
   }
  },
  {
   "cell_type": "code",
   "source": [
    "# Create list areas\n",
    "areas = [11.25, 18.0, 20.0, 10.75, 9.50]\n",
    "\n",
    "# Create areas_copy\n",
    "areas_copy = list(areas)\n",
    "\n",
    "# Change areas_copy\n",
    "areas_copy[0] = 5.0\n",
    "\n",
    "# Print areas\n",
    "print(areas)"
   ],
   "metadata": {
    "id": "3Jbu7zauQgJY"
   },
   "execution_count": null,
   "outputs": []
  },
  {
   "cell_type": "markdown",
   "source": [
    "## Functions\n",
    "\n",
    "In Python, a function is a reusable block of code that performs a specific task or set of tasks. Functions allow you to break down your program into smaller, modular components, making your code more organized, readable, and maintainable. Functions in Python are defined using the def keyword, followed by the function name and a pair of parentheses. The syntax for defining a function looks like this:\n",
    "\n",
    "def function_name(parameter1, parameter2, ...):\n",
    "- Code block (body) of the function\n",
    "- Perform tasks using parameters and other statements\n",
    "- return result  # Optional: Return a value\n",
    "    \n",
    "\n",
    "Example:\n",
    "def add_numbers(a, b):\n",
    "-    sum_result = a + b\n",
    "-    return sum_result\n",
    "    \n",
    "In this example:\n",
    "\n",
    "add_numbers is the function name.\n",
    "a and b are parameters (input values) that the function accepts.\n",
    "The body of the function contains the code to add the two parameters.\n",
    "The return statement specifies the value that the function will return.\n",
    "Once a function is defined, you can call or invoke it by using its name and providing arguments (actual values) for the parameters:\n",
    "\n",
    "Key concepts related to functions in Python:\n",
    "\n",
    "1. Parameters and Arguments: Parameters are variables listed in the function definition, while arguments are the values passed to the function when it is called.\n",
    "\n",
    "2. Return Statement: Functions can return a value using the return statement. If no return statement is used, the function returns None by default.\n",
    "\n",
    "3. Scope: Variables defined inside a function have local scope, meaning they are only accessible within that function. Variables defined outside any function have global scope.\n",
    "\n",
    "4. Docstrings: Functions can include documentation strings (docstrings) to provide information about the purpose and usage of the function."
   ],
   "metadata": {
    "id": "7fX2WG-jQnEO"
   }
  },
  {
   "cell_type": "code",
   "source": [
    "rounded = round(173.9832, 2)\n",
    "print(rounded)\n",
    "help(round)"
   ],
   "metadata": {
    "id": "8D07xmqeQq69"
   },
   "execution_count": null,
   "outputs": []
  },
  {
   "cell_type": "code",
   "source": [
    "# Create variables var1 and var2\n",
    "var1 = [1, 2, 3, 4]\n",
    "var2 = True\n",
    "\n",
    "# Print out type of var1\n",
    "result = type(var1)\n",
    "print(result)\n",
    "# Print out length of var1\n",
    "print(len(var1))\n",
    "# Convert var2 to an integer: out2\n",
    "out2 = int(var2)"
   ],
   "metadata": {
    "id": "gy3KT3ZoRTu6"
   },
   "execution_count": null,
   "outputs": []
  },
  {
   "cell_type": "code",
   "source": [
    "# Create lists first and second\n",
    "first = [11.25, 18.0, 20.0]\n",
    "second = [10.75, 9.50]\n",
    "\n",
    "# Paste together first and second: full\n",
    "full = first + second\n",
    "\n",
    "# Sort full in descending order: full_sorted\n",
    "full_sorted = sorted(full, reverse = True)\n",
    "\n",
    "# Print out full_sorted\n",
    "print(full_sorted)"
   ],
   "metadata": {
    "id": "T02Hvum3Ryy8"
   },
   "execution_count": null,
   "outputs": []
  },
  {
   "cell_type": "markdown",
   "source": [
    "## Methods\n",
    "\n",
    "In Python, a method is a function that is associated with an object. In other words, a method is a function that is called on an object and operates on that object. Methods are invoked using the dot notation, where the method is called on an object, and the object is placed before the dot.\n",
    "\n",
    "Key points about methods in Python:\n",
    "\n",
    "1. Object Association: Methods are associated with specific types of objects (e.g., lists, strings, dictionaries). The available methods depend on the type of the object.\n",
    "\n",
    "2. Syntax: The syntax for calling a method is object.method(arguments), where object is an instance of a class, method is the name of the method, and arguments are the values passed to the method.\n",
    "\n",
    "3. Mutability: Some methods modify the object on which they are called (in-place), while others may return a new object with the result.\n",
    "\n"
   ],
   "metadata": {
    "id": "NIMmZ9iFR4RC"
   }
  },
  {
   "cell_type": "markdown",
   "source": [
    "Python Objects have built-in functions"
   ],
   "metadata": {
    "id": "GZq__qa6R6s6"
   }
  },
  {
   "cell_type": "code",
   "source": [
    "areas.index(\"hallway\")"
   ],
   "metadata": {
    "id": "R72NTlHDR6_5"
   },
   "execution_count": null,
   "outputs": []
  },
  {
   "cell_type": "markdown",
   "source": [
    "### String Methods"
   ],
   "metadata": {
    "id": "0FqYv1LOTKUQ"
   }
  },
  {
   "cell_type": "code",
   "source": [
    "hello = \"Hello\"\n",
    "\n",
    "hello = hello.replace(\"llo\", \"y\")\n",
    "hello = hello.lower()\n",
    "print(hello)"
   ],
   "metadata": {
    "id": "w-o91EOPS88c",
    "ExecuteTime": {
     "end_time": "2023-11-14T12:52:02.588023Z",
     "start_time": "2023-11-14T12:52:02.561846Z"
    }
   },
   "execution_count": 11,
   "outputs": [
    {
     "name": "stdout",
     "output_type": "stream",
     "text": [
      "hey\n"
     ]
    }
   ]
  },
  {
   "cell_type": "code",
   "source": [
    "hello = hello + \" world\"\n",
    "print(hello)"
   ],
   "metadata": {
    "id": "nuDaazACURtq",
    "ExecuteTime": {
     "end_time": "2023-11-14T12:52:03.043077Z",
     "start_time": "2023-11-14T12:52:03.007598Z"
    }
   },
   "execution_count": 12,
   "outputs": [
    {
     "name": "stdout",
     "output_type": "stream",
     "text": [
      "hey world\n"
     ]
    }
   ]
  },
  {
   "cell_type": "markdown",
   "source": [
    "Sample"
   ],
   "metadata": {
    "id": "fF8oQjEGUk2a"
   }
  },
  {
   "cell_type": "code",
   "source": [
    "# string to experiment with: place\n",
    "place = \"poolhouse\"\n",
    "\n",
    "# Use upper() on place: place_up\n",
    "place_up = place.upper()\n",
    "\n",
    "# Print out place and place_up\n",
    "print(place)\n",
    "print(place_up)\n",
    "\n",
    "# Print out the number of o's in place\n",
    "print(place.count('o'))"
   ],
   "metadata": {
    "id": "nF2Pc4PNUjrZ"
   },
   "execution_count": null,
   "outputs": []
  },
  {
   "cell_type": "code",
   "source": [
    "# Create list areas\n",
    "areas = [11.25, 18.0, 20.0, 10.75, 9.50]\n",
    "\n",
    "# Print out the index of the element 20.0\n",
    "print(areas.index(20.0))\n",
    "\n",
    "# Print out how often 9.50 appears in areas\n",
    "print(areas.count(9.50))"
   ],
   "metadata": {
    "id": "va4iP-eZUqQX"
   },
   "execution_count": null,
   "outputs": []
  },
  {
   "cell_type": "code",
   "source": [
    "# Create list areas\n",
    "areas = [11.25, 18.0, 20.0, 10.75, 9.50]\n",
    "\n",
    "# Use append twice to add poolhouse and garage size\n",
    "areas.append(24.5)\n",
    "areas.append(15.45)\n",
    "\n",
    "# Print out areas\n",
    "print(areas)\n",
    "\n",
    "# Reverse the orders of the elements in areas\n",
    "areas.reverse()\n",
    "\n",
    "# Print out areas\n",
    "print(areas)"
   ],
   "metadata": {
    "id": "7Tkfrq_ZUtKF"
   },
   "execution_count": null,
   "outputs": []
  },
  {
   "cell_type": "markdown",
   "source": [
    "## Packages"
   ],
   "metadata": {
    "id": "IszlLJDxUwWY"
   }
  },
  {
   "cell_type": "markdown",
   "source": [
    "Import Packages"
   ],
   "metadata": {
    "id": "VTAqJ9WcVTnY"
   }
  },
  {
   "cell_type": "code",
   "source": [
    "import pandas\n",
    "from pandas import DataFrame\n",
    "\n",
    "import seaborn as sns\n",
    "from numpy import array"
   ],
   "metadata": {
    "id": "SyOE6FmSVMZF"
   },
   "execution_count": null,
   "outputs": []
  },
  {
   "cell_type": "code",
   "source": [
    "# Definition of radius\n",
    "r = 0.43\n",
    "\n",
    "# Import the math package\n",
    "import math\n",
    "\n",
    "# Calculate C\n",
    "C = 2 * r * math.pi\n",
    "\n",
    "# Calculate A\n",
    "A = math.pi * r ** 2\n",
    "\n",
    "# Build printout\n",
    "print(\"Circumference: \" + str(C))\n",
    "print(\"Area: \" + str(A))"
   ],
   "metadata": {
    "id": "YkE_3lrRV0HA"
   },
   "execution_count": null,
   "outputs": []
  },
  {
   "cell_type": "code",
   "source": [
    "# Definition of radius\n",
    "r = 192500\n",
    "\n",
    "# Import radians function of math package\n",
    "from math import radians\n",
    "import numpy as np\n",
    "\n",
    "# Travel distance of Moon over 12 degrees. Store in dist.\n",
    "dist = r * radians(12)\n",
    "\n",
    "# Print out dist\n",
    "print(dist)"
   ],
   "metadata": {
    "id": "wTQCNj-6V1Gs",
    "ExecuteTime": {
     "end_time": "2023-11-14T12:56:56.685463Z",
     "start_time": "2023-11-14T12:56:56.654808Z"
    }
   },
   "execution_count": 29,
   "outputs": [
    {
     "name": "stdout",
     "output_type": "stream",
     "text": [
      "40317.10572106901\n"
     ]
    }
   ]
  },
  {
   "cell_type": "markdown",
   "source": [
    "Numpy = Numeric Python"
   ],
   "metadata": {
    "id": "rxKzDh0sWfbM"
   }
  },
  {
   "cell_type": "code",
   "source": [
    "# Create list baseball\n",
    "weight_lb = [180, 215, 210, 210, 188, 176, 209, 200, 231, 180, 188, 180, 185]\n",
    "height_in = [74, 74, 75, 76, 78, 84, 84, 89, 76, 76, 74, 72, 78]\n",
    "\n",
    "# Create a NumPy array\n",
    "np_baseball = np.array(weight_lb)\n",
    "\n",
    "# Print out type of np_baseball\n",
    "print(type(np_baseball))"
   ],
   "metadata": {
    "colab": {
     "base_uri": "https://localhost:8080/"
    },
    "id": "NGYizzhrWgvx",
    "outputId": "d48a398f-862b-42f2-f55f-7d1cf353de6a",
    "ExecuteTime": {
     "end_time": "2023-11-14T12:55:21.477312Z",
     "start_time": "2023-11-14T12:55:21.451326Z"
    }
   },
   "execution_count": 21,
   "outputs": [
    {
     "name": "stdout",
     "output_type": "stream",
     "text": [
      "<class 'numpy.ndarray'>\n"
     ]
    }
   ]
  },
  {
   "cell_type": "code",
   "source": [
    "# height_in is available as a regular list\n",
    "\n",
    "# Create a numpy array from height_in: np_height_in\n",
    "np_height_in = np.array(height_in)\n",
    "\n",
    "# Print out np_height_in\n",
    "print(np_height_in)\n",
    "\n",
    "# Convert np_height_in to m: np_height_m\n",
    "np_height_m = np_height_in * 0.0254\n",
    "\n",
    "# Print np_height_m\n",
    "print(np_height_m)"
   ],
   "metadata": {
    "id": "KHHVwcqTX9Qy",
    "ExecuteTime": {
     "end_time": "2023-11-14T12:55:21.922791Z",
     "start_time": "2023-11-14T12:55:21.896254Z"
    }
   },
   "execution_count": 22,
   "outputs": [
    {
     "name": "stdout",
     "output_type": "stream",
     "text": [
      "[74 74 75 76 78 84 84 89 76 76 74 72 78]\n",
      "[1.8796 1.8796 1.905  1.9304 1.9812 2.1336 2.1336 2.2606 1.9304 1.9304\n",
      " 1.8796 1.8288 1.9812]\n"
     ]
    }
   ]
  },
  {
   "cell_type": "code",
   "source": [
    "# height_in and weight_lb are available as regular lists\n",
    "\n",
    "# Create array from height_in with metric units: np_height_m\n",
    "np_height_m = np.array(height_in) * 0.0254\n",
    "\n",
    "# Create array from weight_lb with metric units: np_weight_kg\n",
    "np_weight_kg = np.array(weight_lb) * 0.453592\n",
    "\n",
    "# Calculate the BMI: bmi\n",
    "bmi = np_weight_kg / np_height_m ** 2\n",
    "\n",
    "# Print out bmi\n",
    "print(bmi)"
   ],
   "metadata": {
    "id": "VIoH-0YqYA6A",
    "ExecuteTime": {
     "end_time": "2023-11-14T12:55:22.351445Z",
     "start_time": "2023-11-14T12:55:22.323377Z"
    }
   },
   "execution_count": 23,
   "outputs": [
    {
     "name": "stdout",
     "output_type": "stream",
     "text": [
      "[23.11037639 27.60406069 26.24790956 25.56171941 21.72534076 17.53686863\n",
      " 20.8250315  17.75202641 28.11789135 21.91004521 24.13750423 24.41211827\n",
      " 21.37865979]\n"
     ]
    }
   ]
  },
  {
   "cell_type": "code",
   "source": [
    "# height_in and weight_lb are available as a regular lists\n",
    "\n",
    "# Calculate the BMI: bmi\n",
    "np_height_m = np.array(height_in) * 0.0254\n",
    "np_weight_kg = np.array(weight_lb) * 0.453592\n",
    "bmi = np_weight_kg / np_height_m ** 2\n",
    "\n",
    "# Create the light array\n",
    "light = bmi < 21\n",
    "\n",
    "# Print out light\n",
    "print(light)\n",
    "\n",
    "# Print out BMIs of all baseball players whose BMI is below 21\n",
    "print(bmi[light])"
   ],
   "metadata": {
    "id": "V2JH-lnCYFd2",
    "ExecuteTime": {
     "end_time": "2023-11-14T12:55:33.456079Z",
     "start_time": "2023-11-14T12:55:33.425297Z"
    }
   },
   "execution_count": 24,
   "outputs": [
    {
     "name": "stdout",
     "output_type": "stream",
     "text": [
      "[False False False False False  True  True  True False False False False\n",
      " False]\n",
      "[17.53686863 20.8250315  17.75202641]\n"
     ]
    }
   ]
  },
  {
   "cell_type": "code",
   "source": [
    "# height_in and weight_lb are available as a regular lists\n",
    "\n",
    "# Store weight and height lists as numpy arrays\n",
    "np_weight_lb = np.array(weight_lb)\n",
    "np_height_in = np.array(height_in)\n",
    "\n",
    "# Print out the weight at index 50\n",
    "print(np_weight_lb[10])\n",
    "\n",
    "# Print out sub-array of np_height_in: index 100 up to and including index 110\n",
    "print(np_height_in[10:12])"
   ],
   "metadata": {
    "id": "mowJZqzDYOak",
    "ExecuteTime": {
     "end_time": "2023-11-14T12:56:03.786659Z",
     "start_time": "2023-11-14T12:56:03.753726Z"
    }
   },
   "execution_count": 27,
   "outputs": [
    {
     "name": "stdout",
     "output_type": "stream",
     "text": [
      "188\n",
      "[74 72]\n"
     ]
    }
   ]
  },
  {
   "cell_type": "markdown",
   "source": [
    "## Numpy 2D"
   ],
   "metadata": {
    "id": "iLcLgWT3YSCM"
   }
  },
  {
   "cell_type": "code",
   "source": [
    "# Create baseball, a list of lists\n",
    "baseball = [[180, 78.4],\n",
    "            [215, 102.7],\n",
    "            [210, 98.5],\n",
    "            [188, 75.2]]\n",
    "\n",
    "\n",
    "# Create a 2D numpy array from baseball: np_baseball\n",
    "np_baseball = np.array(baseball)\n",
    "\n",
    "# Print out the type of np_baseball\n",
    "print(type(np_baseball))\n",
    "\n",
    "# Print out the shape of np_baseball\n",
    "print(np_baseball.shape)"
   ],
   "metadata": {
    "id": "F11kXXseZNbI",
    "ExecuteTime": {
     "end_time": "2023-11-14T12:56:15.131778Z",
     "start_time": "2023-11-14T12:56:15.091927Z"
    }
   },
   "execution_count": 28,
   "outputs": [
    {
     "name": "stdout",
     "output_type": "stream",
     "text": [
      "<class 'numpy.ndarray'>\n",
      "(4, 2)\n"
     ]
    }
   ]
  },
  {
   "cell_type": "code",
   "source": [
    "# baseball is available as a regular list of lists\n",
    "\n",
    "\n",
    "# Create a 2D numpy array from baseball: np_baseball\n",
    "np_baseball = np.array(baseball)\n",
    "\n",
    "# Print out the shape of np_baseball\n",
    "print(np_baseball.shape)"
   ],
   "metadata": {
    "id": "hFgBrXKKZOZo"
   },
   "execution_count": null,
   "outputs": []
  },
  {
   "cell_type": "code",
   "source": [
    "\n",
    "# Create np_baseball (2 cols)\n",
    "np_baseball = np.array(baseball)\n",
    "\n",
    "# Print out the 50th row of np_baseball\n",
    "print(np_baseball[49,:])\n",
    "\n",
    "# Select the entire second column of np_baseball: np_weight_lb\n",
    "np_weight_lb = np_baseball[:,1]\n",
    "\n",
    "# Print out height of 124th player\n",
    "print(np_baseball[123, 0])"
   ],
   "metadata": {
    "id": "EFB8TjtIZR3S"
   },
   "execution_count": null,
   "outputs": []
  },
  {
   "cell_type": "code",
   "source": [
    "# baseball is available as a regular list of lists\n",
    "# updated is available as 2D numpy array\n",
    "\n",
    "updated = [[180, 78.4],\n",
    "            [215, 102.7],\n",
    "            [210, 98.5],\n",
    "            [188, 75.2]]\n",
    "\n",
    "\n",
    "# Create np_baseball (3 cols)\n",
    "np_baseball = np.array(baseball)\n",
    "\n",
    "# Print out addition of np_baseball and updated\n",
    "print(np_baseball + updated)\n",
    "\n",
    "# Create numpy array: conversion\n",
    "conversion = np.array([0.0254, 0.453592, 1])\n",
    "\n",
    "# Print out product of np_baseball and conversion\n",
    "print(np_baseball * conversion)"
   ],
   "metadata": {
    "id": "RDKowl_QZZUv",
    "ExecuteTime": {
     "end_time": "2023-11-14T13:30:03.556559Z",
     "start_time": "2023-11-14T13:30:03.512372Z"
    }
   },
   "execution_count": 43,
   "outputs": [
    {
     "name": "stdout",
     "output_type": "stream",
     "text": [
      "[[360.  156.8]\n",
      " [430.  205.4]\n",
      " [420.  197. ]\n",
      " [376.  150.4]]\n"
     ]
    },
    {
     "ename": "ValueError",
     "evalue": "operands could not be broadcast together with shapes (4,2) (3,) ",
     "output_type": "error",
     "traceback": [
      "\u001B[0;31m---------------------------------------------------------------------------\u001B[0m",
      "\u001B[0;31mValueError\u001B[0m                                Traceback (most recent call last)",
      "Cell \u001B[0;32mIn[43], line 20\u001B[0m\n\u001B[1;32m     17\u001B[0m conversion \u001B[38;5;241m=\u001B[39m np\u001B[38;5;241m.\u001B[39marray([\u001B[38;5;241m0.0254\u001B[39m, \u001B[38;5;241m0.453592\u001B[39m, \u001B[38;5;241m1\u001B[39m])\n\u001B[1;32m     19\u001B[0m \u001B[38;5;66;03m# Print out product of np_baseball and conversion\u001B[39;00m\n\u001B[0;32m---> 20\u001B[0m \u001B[38;5;28mprint\u001B[39m(\u001B[43mnp_baseball\u001B[49m\u001B[43m \u001B[49m\u001B[38;5;241;43m*\u001B[39;49m\u001B[43m \u001B[49m\u001B[43mconversion\u001B[49m)\n",
      "\u001B[0;31mValueError\u001B[0m: operands could not be broadcast together with shapes (4,2) (3,) "
     ]
    }
   ]
  },
  {
   "cell_type": "markdown",
   "source": [
    "## Numpy Basic Statistics"
   ],
   "metadata": {
    "id": "6WvjjJZWZcik"
   }
  },
  {
   "cell_type": "code",
   "source": [
    "# Mean and Median\n",
    "\n",
    "# Create np_height_in from np_baseball\n",
    "np_height_in = np_baseball[:,0]\n",
    "\n",
    "# Print out the mean of np_height_in\n",
    "print(np.mean(np_height_in))\n",
    "\n",
    "# Print out the median of np_height_in\n",
    "print(np.median(np_height_in))"
   ],
   "metadata": {
    "id": "eBJELEySZaNQ",
    "ExecuteTime": {
     "end_time": "2023-11-14T12:58:27.457870Z",
     "start_time": "2023-11-14T12:58:27.432339Z"
    }
   },
   "execution_count": 31,
   "outputs": [
    {
     "name": "stdout",
     "output_type": "stream",
     "text": [
      "198.25\n",
      "199.0\n"
     ]
    }
   ]
  },
  {
   "cell_type": "code",
   "source": [
    "# Print mean height (first column)\n",
    "avg = np.mean(np_baseball[:,0])\n",
    "print(\"Average: \" + str(avg))\n",
    "\n",
    "# Print median height. Replace 'None'\n",
    "med = None\n",
    "print(\"Median: \" + str(med))\n",
    "\n",
    "# Print out the standard deviation on height. Replace 'None'\n",
    "stddev = None\n",
    "print(\"Standard Deviation: \" + str(stddev))\n",
    "\n",
    "# Print out correlation between first and second column. Replace 'None'\n",
    "corr = None\n",
    "print(\"Correlation: \" + str(corr))"
   ],
   "metadata": {
    "id": "EqOPkt4daPrA"
   },
   "execution_count": null,
   "outputs": []
  },
  {
   "cell_type": "code",
   "source": [
    "# Print mean height (first column)\n",
    "avg = np.mean(np_baseball[:,0])\n",
    "print(\"Average: \" + str(avg))\n",
    "\n",
    "# Print median height. Replace 'None'\n",
    "med = np.median(np_baseball[:,0])\n",
    "print(\"Median: \" + str(med))\n",
    "\n",
    "# Print out the standard deviation on height. Replace 'None'\n",
    "stddev = np.std(np_baseball[:,0])\n",
    "print(\"Standard Deviation: \" + str(stddev))\n",
    "\n",
    "# Print out correlation between first and second column. Replace 'None'\n",
    "corr = np.corrcoef(np_baseball[:,0], np_baseball[:,1])\n",
    "print(\"Correlation: \" + str(corr))"
   ],
   "metadata": {
    "id": "qoMcySr1aVBG"
   },
   "execution_count": null,
   "outputs": []
  },
  {
   "cell_type": "code",
   "source": [
    "positions = ['GK', 'M', 'A', 'D', 'M', 'A', 'D', 'M', 'A', 'D', ]\n",
    "heights = [191, 184, 185, 180, 181, 187, 170, 179, 183, 186]\n",
    "\n",
    "# Convert positions and heights to numpy arrays: np_positions, np_heights\n",
    "np_positions = np.array(positions)\n",
    "np_heights = np.array(heights)\n",
    "\n",
    "# Heights of the goalkeepers: gk_heights\n",
    "gk_heights = np_heights[np_positions == 'GK']\n",
    "\n",
    "# Heights of the other players: other_heights\n",
    "other_heights = np_heights[np_positions != 'GK']\n",
    "\n",
    "# Print out the median height of goalkeepers. Replace 'None'\n",
    "print(\"Median height of goalkeepers: \" + str(np.median(gk_heights)))\n",
    "\n",
    "# Print out the median height of other players. Replace 'None'\n",
    "print(\"Median height of other players: \" + str(np.median(other_heights)))"
   ],
   "metadata": {
    "id": "R9-0-PTqaZmO",
    "ExecuteTime": {
     "end_time": "2023-11-14T12:59:29.116573Z",
     "start_time": "2023-11-14T12:59:29.081727Z"
    }
   },
   "execution_count": 33,
   "outputs": [
    {
     "name": "stdout",
     "output_type": "stream",
     "text": [
      "Median height of goalkeepers: 191.0\n",
      "Median height of other players: 183.0\n"
     ]
    }
   ]
  },
  {
   "cell_type": "markdown",
   "source": [
    "# Intermediate Python\n",
    "\n",
    "- Visualization\n",
    "- Data Structure\n",
    "- Control Structures\n",
    "- Case Study"
   ],
   "metadata": {
    "id": "9uPTuIt6a1sk"
   }
  },
  {
   "cell_type": "markdown",
   "source": [
    "## Visualization"
   ],
   "metadata": {
    "id": "NBpCaZnDbcyx"
   }
  },
  {
   "cell_type": "markdown",
   "source": [
    "Explore data \n",
    "\n",
    "Report insights"
   ],
   "metadata": {
    "id": "g3Q6x6uwa-Cu"
   }
  },
  {
   "cell_type": "code",
   "source": [
    "import plotly.express as px\n",
    "\n",
    "gapminder = px.data.gapminder()\n",
    "print(gapminder)"
   ],
   "metadata": {
    "id": "Q7fDyQyLjgVP",
    "ExecuteTime": {
     "end_time": "2023-11-14T13:00:42.920159Z",
     "start_time": "2023-11-14T13:00:42.814667Z"
    }
   },
   "execution_count": 34,
   "outputs": [
    {
     "name": "stdout",
     "output_type": "stream",
     "text": [
      "          country continent  year  lifeExp       pop   gdpPercap iso_alpha   \n",
      "0     Afghanistan      Asia  1952   28.801   8425333  779.445314       AFG  \\\n",
      "1     Afghanistan      Asia  1957   30.332   9240934  820.853030       AFG   \n",
      "2     Afghanistan      Asia  1962   31.997  10267083  853.100710       AFG   \n",
      "3     Afghanistan      Asia  1967   34.020  11537966  836.197138       AFG   \n",
      "4     Afghanistan      Asia  1972   36.088  13079460  739.981106       AFG   \n",
      "...           ...       ...   ...      ...       ...         ...       ...   \n",
      "1699     Zimbabwe    Africa  1987   62.351   9216418  706.157306       ZWE   \n",
      "1700     Zimbabwe    Africa  1992   60.377  10704340  693.420786       ZWE   \n",
      "1701     Zimbabwe    Africa  1997   46.809  11404948  792.449960       ZWE   \n",
      "1702     Zimbabwe    Africa  2002   39.989  11926563  672.038623       ZWE   \n",
      "1703     Zimbabwe    Africa  2007   43.487  12311143  469.709298       ZWE   \n",
      "\n",
      "      iso_num  \n",
      "0           4  \n",
      "1           4  \n",
      "2           4  \n",
      "3           4  \n",
      "4           4  \n",
      "...       ...  \n",
      "1699      716  \n",
      "1700      716  \n",
      "1701      716  \n",
      "1702      716  \n",
      "1703      716  \n",
      "\n",
      "[1704 rows x 8 columns]\n"
     ]
    }
   ]
  },
  {
   "cell_type": "code",
   "source": [
    "# Print the first item from year and pop\n",
    "year = gapminder[\"year\"]\n",
    "pop = gapminder[\"pop\"]\n",
    "\n",
    "print(year[0])\n",
    "print(pop[0])\n",
    "\n",
    "# Import matplotlib.pyplot as plt\n",
    "import matplotlib.pyplot as plt\n",
    "\n",
    "# Make a line plot: year on the x-axis, pop on the y-axis\n",
    "plt.plot(year, pop)\n",
    "\n",
    "# Display the plot with plt.show()\n",
    "plt.show()"
   ],
   "metadata": {
    "id": "lwuPXXvnbGAv",
    "ExecuteTime": {
     "end_time": "2023-11-14T13:05:16.346350Z",
     "start_time": "2023-11-14T13:05:16.133788Z"
    }
   },
   "execution_count": 35,
   "outputs": [
    {
     "name": "stdout",
     "output_type": "stream",
     "text": [
      "1952\n",
      "8425333\n"
     ]
    },
    {
     "data": {
      "text/plain": "<Figure size 640x480 with 1 Axes>",
      "image/png": "[encoded data removed]"
     },
     "metadata": {},
     "output_type": "display_data"
    }
   ]
  },
  {
   "cell_type": "code",
   "source": [
    "# Print the first item of gdp_cap and life_exp\n",
    "gdp_cap = gapminder[\"gdpPercap\"]\n",
    "life_exp = gapminder[\"lifeExp\"]\n",
    "\n",
    "\n",
    "print(gdp_cap[1])\n",
    "print(life_exp[1])\n",
    "\n",
    "# Make a line plot, gdp_cap on the x-axis, life_exp on the y-axis\n",
    "plt.plot(gdp_cap, life_exp)\n",
    "\n",
    "# Display the plot\n",
    "plt.show()"
   ],
   "metadata": {
    "id": "KQ4bEiICk_MQ",
    "ExecuteTime": {
     "end_time": "2023-11-14T13:05:34.934002Z",
     "start_time": "2023-11-14T13:05:34.804305Z"
    }
   },
   "execution_count": 36,
   "outputs": [
    {
     "name": "stdout",
     "output_type": "stream",
     "text": [
      "820.8530296\n",
      "30.332\n"
     ]
    },
    {
     "data": {
      "text/plain": "<Figure size 640x480 with 1 Axes>",
      "image/png": "[encoded data removed]"
     },
     "metadata": {},
     "output_type": "display_data"
    }
   ]
  },
  {
   "cell_type": "code",
   "source": [
    "# Change the line plot below to a scatter plot\n",
    "plt.scatter(gdp_cap, life_exp)\n",
    "\n",
    "# Put the x-axis on a logarithmic scale\n",
    "plt.xscale('log')\n",
    "\n",
    "# Show plot\n",
    "plt.show()"
   ],
   "metadata": {
    "id": "w-7GLHZcleLp",
    "ExecuteTime": {
     "end_time": "2023-11-14T13:06:02.118692Z",
     "start_time": "2023-11-14T13:06:01.660415Z"
    }
   },
   "execution_count": 37,
   "outputs": [
    {
     "data": {
      "text/plain": "<Figure size 640x480 with 1 Axes>",
      "image/png": "[encoded data removed]"
     },
     "metadata": {},
     "output_type": "display_data"
    }
   ]
  },
  {
   "cell_type": "code",
   "source": [
    "# Import package\n",
    "import matplotlib.pyplot as plt\n",
    "\n",
    "# Build Scatter plot\n",
    "plt.scatter(pop, life_exp)\n",
    "\n",
    "# Show plot\n",
    "plt.show()"
   ],
   "metadata": {
    "id": "M7j63G3fll7R",
    "ExecuteTime": {
     "end_time": "2023-11-14T13:06:12.141785Z",
     "start_time": "2023-11-14T13:06:12.010250Z"
    }
   },
   "execution_count": 38,
   "outputs": [
    {
     "data": {
      "text/plain": "<Figure size 640x480 with 1 Axes>",
      "image/png": "[encoded data removed]"
     },
     "metadata": {},
     "output_type": "display_data"
    }
   ]
  },
  {
   "cell_type": "code",
   "source": [
    "# Create histogram of life_exp data\n",
    "plt.hist(life_exp)\n",
    "\n",
    "# Display histogram\n",
    "plt.show()"
   ],
   "metadata": {
    "id": "HuZX_-DBmBVC",
    "ExecuteTime": {
     "end_time": "2023-11-14T13:06:26.268575Z",
     "start_time": "2023-11-14T13:06:26.141874Z"
    }
   },
   "execution_count": 39,
   "outputs": [
    {
     "data": {
      "text/plain": "<Figure size 640x480 with 1 Axes>",
      "image/png": "[encoded data removed]"
     },
     "metadata": {},
     "output_type": "display_data"
    }
   ]
  },
  {
   "cell_type": "code",
   "source": [
    "# Build histogram with 5 bins\n",
    "plt.hist(life_exp, bins = 5)\n",
    "\n",
    "# Show and clear plot\n",
    "plt.show()\n",
    "plt.clf()\n",
    "\n",
    "# Build histogram with 20 bins\n",
    "plt.hist(life_exp, bins = 20)\n",
    "\n",
    "# Show and clear plot again\n",
    "plt.show()\n",
    "plt.clf()"
   ],
   "metadata": {
    "id": "0IJGiXFimk6A",
    "ExecuteTime": {
     "end_time": "2023-11-14T13:06:41.020970Z",
     "start_time": "2023-11-14T13:06:40.756330Z"
    }
   },
   "execution_count": 40,
   "outputs": [
    {
     "data": {
      "text/plain": "<Figure size 640x480 with 1 Axes>",
      "image/png": "[encoded data removed]"
     },
     "metadata": {},
     "output_type": "display_data"
    },
    {
     "data": {
      "text/plain": "<Figure size 640x480 with 1 Axes>",
      "image/png": "[encoded data removed]"
     },
     "metadata": {},
     "output_type": "display_data"
    },
    {
     "data": {
      "text/plain": "<Figure size 640x480 with 0 Axes>"
     },
     "metadata": {},
     "output_type": "display_data"
    }
   ]
  },
  {
   "cell_type": "code",
   "source": [
    "# Histogram of life_exp, 15 bins\n",
    "plt.hist(life_exp, bins = 15)\n",
    "\n",
    "# Show and clear plot\n",
    "plt.show()\n",
    "plt.clf()\n",
    "\n",
    "life_exp1950 = gapminder[\"lifeExp\"][gapminder[\"year\"] == 1950]\n",
    "\n",
    "# Histogram of life_exp1950, 15 bins\n",
    "plt.hist(life_exp1950, bins = 15)\n",
    "\n",
    "# Show and clear plot again\n",
    "plt.show()\n",
    "plt.clf()"
   ],
   "metadata": {
    "id": "fHlnzRcFmwoR"
   },
   "execution_count": null,
   "outputs": []
  },
  {
   "cell_type": "markdown",
   "source": [
    "## Customization"
   ],
   "metadata": {
    "id": "-j9X6blgm67_"
   }
  },
  {
   "cell_type": "markdown",
   "source": [
    "Labeling\n",
    "Colours\n",
    "etc."
   ],
   "metadata": {
    "id": "BCmn7_nRnSG6"
   }
  },
  {
   "cell_type": "code",
   "source": [
    "# Basic scatter plot, log scale\n",
    "plt.scatter(gdp_cap, life_exp)\n",
    "plt.xscale('log') \n",
    "\n",
    "# Strings\n",
    "xlab = 'GDP per Capita [in USD]'\n",
    "ylab = 'Life Expectancy [in years]'\n",
    "title = 'World Development in 2007'\n",
    "\n",
    "# Add axis labels\n",
    "plt.xlabel(xlab)\n",
    "plt.ylabel(ylab)\n",
    "\n",
    "# Add title\n",
    "plt.title(title)\n",
    "\n",
    "# After customizing, display the plot\n",
    "plt.show()"
   ],
   "metadata": {
    "id": "qRdUoNa-nVr2"
   },
   "execution_count": null,
   "outputs": []
  },
  {
   "cell_type": "code",
   "source": [
    "# Scatter plot\n",
    "plt.scatter(gdp_cap, life_exp)\n",
    "\n",
    "# Previous customizations\n",
    "plt.xscale('log') \n",
    "plt.xlabel('GDP per Capita [in USD]')\n",
    "plt.ylabel('Life Expectancy [in years]')\n",
    "plt.title('World Development in 2007')\n",
    "\n",
    "# Definition of tick_val and tick_lab\n",
    "tick_val = [1000, 10000, 100000]\n",
    "tick_lab = ['1k', '10k', '100k']\n",
    "\n",
    "# Adapt the ticks on the x-axis\n",
    "plt.xticks(tick_val, tick_lab)\n",
    "\n",
    "# After customizing, display the plot\n",
    "plt.show()"
   ],
   "metadata": {
    "id": "7jjs_a1rn8G-"
   },
   "execution_count": null,
   "outputs": []
  },
  {
   "cell_type": "code",
   "source": [
    "px.scatter(px.data.gapminder(), x=\"gdpPercap\", y=\"lifeExp\", animation_frame=\"year\",\n",
    "           size=\"pop\", color=\"country\", hover_name=\"country\", \n",
    "           log_x = True, \n",
    "           size_max=45, range_x=[100,100000], range_y=[25,90])"
   ],
   "metadata": {
    "id": "yMiF6OfVtAhn"
   },
   "execution_count": null,
   "outputs": []
  },
  {
   "cell_type": "markdown",
   "source": [
    "## Dictionaries"
   ],
   "metadata": {
    "id": "it4Dz5S6wzs1"
   }
  },
  {
   "cell_type": "markdown",
   "source": [],
   "metadata": {
    "id": "oMx0Mxjqw4Tn"
   }
  },
  {
   "cell_type": "code",
   "source": [
    "# Definition of countries and capital\n",
    "countries = ['spain', 'france', 'germany', 'norway']\n",
    "capitals = ['madrid', 'paris', 'berlin', 'oslo']\n",
    "\n",
    "# Get index of 'germany': ind_ger\n",
    "ind_ger = countries.index('germany')\n",
    "\n",
    "# Use ind_ger to print out capital of Germany\n",
    "print(capitals[ind_ger])"
   ],
   "metadata": {
    "colab": {
     "base_uri": "https://localhost:8080/"
    },
    "id": "HRinS7u6w4p5",
    "outputId": "6d1ee826-a7c9-4a1a-b100-b3879273111e"
   },
   "execution_count": null,
   "outputs": [
    {
     "output_type": "stream",
     "name": "stdout",
     "text": [
      "berlin\n"
     ]
    }
   ]
  },
  {
   "cell_type": "code",
   "source": [
    "# Definition of countries and capital\n",
    "countries = ['spain', 'france', 'germany', 'norway']\n",
    "capitals = ['madrid', 'paris', 'berlin', 'oslo']\n",
    "\n",
    "# From string in countries and capitals, create dictionary europe\n",
    "europe = {'spain':'madrid', 'france':'paris', 'germany':'berlin', 'norway':'oslo'}\n",
    "\n",
    "# Print europe\n",
    "print(europe)"
   ],
   "metadata": {
    "id": "XWqjXlhWyCpb"
   },
   "execution_count": null,
   "outputs": []
  },
  {
   "cell_type": "code",
   "source": [
    "# Definition of dictionary\n",
    "europe = {'spain':'madrid', 'france':'paris', 'germany':'berlin', 'norway':'oslo' }\n",
    "\n",
    "# Print out the keys in europe\n",
    "print(europe.keys())\n",
    "\n",
    "# Print out value that belongs to key 'norway'\n",
    "print(europe['norway'])"
   ],
   "metadata": {
    "id": "LMV-1yI2yO1_"
   },
   "execution_count": null,
   "outputs": []
  },
  {
   "cell_type": "markdown",
   "source": [
    "Mutable and immutable objects"
   ],
   "metadata": {
    "id": "1pn5EWQiyiFv"
   }
  },
  {
   "cell_type": "code",
   "source": [
    "# Definition of dictionary\n",
    "europe = {'spain':'madrid', 'france':'paris', 'germany':'berlin', 'norway':'oslo' }\n",
    "\n",
    "# Add italy to europe\n",
    "europe['italy'] = 'rome'\n",
    "\n",
    "# Print out italy in europe\n",
    "print('italy' in europe)\n",
    "\n",
    "# Add poland to europe\n",
    "europe['poland'] = 'warsaw'\n",
    "\n",
    "# Print europe\n",
    "print(europe)"
   ],
   "metadata": {
    "id": "5Je7_6GEylTw"
   },
   "execution_count": null,
   "outputs": []
  },
  {
   "cell_type": "code",
   "source": [
    "# Definition of dictionary\n",
    "europe = {'spain':'madrid', 'france':'paris', 'germany':'bonn',\n",
    "          'norway':'oslo', 'italy':'rome', 'poland':'warsaw',\n",
    "          'australia':'vienna' }\n",
    "\n",
    "# Update capital of germany\n",
    "europe['germany'] = 'berlin'\n",
    "\n",
    "# Remove australia\n",
    "del(europe['australia'])\n",
    "\n",
    "# Print europe\n",
    "print(europe)"
   ],
   "metadata": {
    "id": "imJ5kbLQzSim"
   },
   "execution_count": null,
   "outputs": []
  },
  {
   "cell_type": "code",
   "source": [
    "# Dictionary of dictionaries\n",
    "europe = { 'spain': { 'capital':'madrid', 'population':46.77 },\n",
    "           'france': { 'capital':'paris', 'population':66.03 },\n",
    "           'germany': { 'capital':'berlin', 'population':80.62 },\n",
    "           'norway': { 'capital':'oslo', 'population':5.084 } }\n",
    "\n",
    "\n",
    "# Print out the capital of France\n",
    "print(europe['france']['capital'])\n",
    "\n",
    "# Create sub-dictionary data\n",
    "data = { 'capital':'rome', 'population':59.83 }\n",
    "\n",
    "# Add data to europe under key 'italy'\n",
    "europe['italy'] = data\n",
    "\n",
    "# Print europe\n",
    "print(europe)"
   ],
   "metadata": {
    "id": "9hhAhdyBzbgv"
   },
   "execution_count": null,
   "outputs": []
  },
  {
   "cell_type": "markdown",
   "source": [
    "## Pandas"
   ],
   "metadata": {
    "id": "Ebx02NpDzfGt"
   }
  },
  {
   "cell_type": "code",
   "source": [
    "dict = {\"country\": [\"Brazil\", \"Russia\", \"India\", \"China\", \"South Africa\"],\n",
    "       \"capital\": [\"Brasilia\", \"Moscow\", \"New Dehli\", \"Beijing\", \"Pretoria\"],\n",
    "       \"area\": [8.516, 17.10, 3.286, 9.597, 1.221],\n",
    "       \"population\": [200.4, 143.5, 1252, 1357, 52.98] }\n",
    "\n",
    "import pandas as pd\n",
    "brics = pd.DataFrame(dict)\n",
    "print(brics)"
   ],
   "metadata": {
    "id": "82fiSRS30il3"
   },
   "execution_count": null,
   "outputs": []
  },
  {
   "cell_type": "code",
   "source": [
    "# Pre-defined lists\n",
    "names = ['United States', 'Australia', 'Japan', 'India', 'Russia', 'Morocco', 'Egypt']\n",
    "dr =  [True, False, False, False, True, True, True]\n",
    "cpc = [809, 731, 588, 18, 200, 70, 45]\n",
    "\n",
    "# Import pandas as pd\n",
    "import pandas as pd\n",
    "\n",
    "# Create dictionary my_dict with three key:value pairs: my_dict\n",
    "my_dict = { 'country':names, 'drives_right':dr, 'cars_per_cap':cpc }\n",
    "\n",
    "# Build a DataFrame cars from my_dict: cars\n",
    "cars = pd.DataFrame(my_dict)\n",
    "\n",
    "# Print cars\n",
    "print(cars)"
   ],
   "metadata": {
    "id": "hJP89g310p5e"
   },
   "execution_count": null,
   "outputs": []
  },
  {
   "cell_type": "code",
   "source": [
    "import pandas as pd\n",
    "\n",
    "# Build cars DataFrame\n",
    "names = ['United States', 'Australia', 'Japan', 'India', 'Russia', 'Morocco', 'Egypt']\n",
    "dr =  [True, False, False, False, True, True, True]\n",
    "cpc = [809, 731, 588, 18, 200, 70, 45]\n",
    "cars_dict = { 'country':names, 'drives_right':dr, 'cars_per_cap':cpc }\n",
    "cars_summary = pd.DataFrame(cars_dict)\n",
    "print(cars)\n",
    "\n",
    "# Definition of row_labels\n",
    "row_labels = ['US', 'AUS', 'JPN', 'IN', 'RU', 'MOR', 'EG']\n",
    "\n",
    "# Specify row labels of cars\n",
    "cars_summary.index = row_labels\n",
    "\n",
    "# Print cars again\n",
    "print(cars_summary)"
   ],
   "metadata": {
    "id": "rrDumgB20vfh"
   },
   "execution_count": null,
   "outputs": []
  },
  {
   "cell_type": "code",
   "source": [
    "# Import pandas as pd\n",
    "import pandas as pd\n",
    "\n",
    "# Import the cars.csv data: cars\n",
    "\n",
    "from vega_datasets import data\n",
    "cars = data.cars()\n",
    "\n",
    "# Print out cars\n",
    "print(cars)"
   ],
   "metadata": {
    "id": "k8gSNVGj05Bw"
   },
   "execution_count": null,
   "outputs": []
  },
  {
   "cell_type": "code",
   "source": [
    "# load an example dataset\n",
    "from vega_datasets import data\n",
    "cars = data.cars()\n",
    "\n",
    "# plot the dataset, referencing dataframe column names\n",
    "import altair as alt\n",
    "alt.Chart(cars).mark_bar().encode(\n",
    "  x='mean(Miles_per_Gallon)',\n",
    "  y='Origin',\n",
    "  color='Origin'\n",
    ")"
   ],
   "metadata": {
    "id": "-NruDqjs2w4W"
   },
   "execution_count": null,
   "outputs": []
  },
  {
   "cell_type": "markdown",
   "source": [
    "iloc = index location\n",
    "\n",
    "loc = location"
   ],
   "metadata": {
    "id": "tA1njXwX17wz"
   }
  },
  {
   "cell_type": "code",
   "source": [
    "# Import cars data\n",
    "import pandas as pd\n",
    "\n",
    "# Print out origin column as Pandas Series\n",
    "print(cars['Origin'])\n",
    "\n",
    "# Print out origin column as Pandas DataFrame\n",
    "print(cars[['Origin']])\n",
    "\n",
    "# Print out DataFrame with origin and cylinder columns\n",
    "print(cars[['Origin', 'Cylinders']])"
   ],
   "metadata": {
    "id": "1bAM857B3IWX"
   },
   "execution_count": null,
   "outputs": []
  },
  {
   "cell_type": "code",
   "source": [
    "# Import cars data\n",
    "import pandas as pd\n",
    "\n",
    "# Print out first 3 observations\n",
    "print(cars[0:3])\n",
    "\n",
    "# Print out fourth, fifth and sixth observation\n",
    "print(cars[3:6])"
   ],
   "metadata": {
    "id": "19EaBuA_3tkE"
   },
   "execution_count": null,
   "outputs": []
  },
  {
   "cell_type": "code",
   "source": [
    "# Import cars data\n",
    "import pandas as pd\n",
    "\n",
    "# Print out observation for Japan\n",
    "print(cars_summary.iloc[2])\n",
    "\n",
    "# Print out observations for Australia and Egypt\n",
    "print(cars_summary.loc[['AUS', 'EG']])"
   ],
   "metadata": {
    "id": "RvANGv3_4Yk-"
   },
   "execution_count": null,
   "outputs": []
  },
  {
   "cell_type": "code",
   "source": [
    "# Import cars data\n",
    "import pandas as pd\n",
    "\n",
    "\n",
    "# Print out drives_right value of Morocco\n",
    "print(cars_summary.iloc[5, 2])\n",
    "\n",
    "# Print sub-DataFrame\n",
    "print(cars_summary.loc[['RU', 'MOR'], ['country', 'drives_right']])"
   ],
   "metadata": {
    "id": "zjq6Vl7m4-Cy"
   },
   "execution_count": null,
   "outputs": []
  },
  {
   "cell_type": "code",
   "source": [
    "# Import cars data\n",
    "import pandas as pd\n",
    "\n",
    "# Print out drives_right column as Series\n",
    "print(cars_summary.iloc[:, 2])\n",
    "\n",
    "# Print out drives_right column as DataFrame\n",
    "print(cars_summary.iloc[:, [2]])\n",
    "\n",
    "# Print out cars_per_cap and drives_right as DataFrame\n",
    "print(cars_summary.loc[:, ['cars_per_cap', 'drives_right']])"
   ],
   "metadata": {
    "id": "DygYkcYS5HNp"
   },
   "execution_count": null,
   "outputs": []
  },
  {
   "cell_type": "markdown",
   "source": [
    "## Comparison Operators"
   ],
   "metadata": {
    "id": "WSx9vPMn5T0l"
   }
  },
  {
   "cell_type": "markdown",
   "source": [],
   "metadata": {
    "id": "8aOy85Oh5Wk0"
   }
  },
  {
   "cell_type": "code",
   "source": [
    "# Comparison of booleans\n",
    "print(True == False)\n",
    "\n",
    "# Comparison of integers\n",
    "print(-5 * 15 != 75)\n",
    "\n",
    "# Comparison of strings\n",
    "print(\"pyscript\" == \"PyScript\")\n",
    "\n",
    "# Compare a boolean with a numeric\n",
    "print(True == 1)"
   ],
   "metadata": {
    "id": "6O_BP-2k6KYP"
   },
   "execution_count": null,
   "outputs": []
  },
  {
   "cell_type": "code",
   "source": [
    "# Comparison of integers\n",
    "x = -3 * 6\n",
    "print(x >= -10)\n",
    "\n",
    "# Comparison of strings\n",
    "y = \"test\"\n",
    "print(\"test\" <= y)\n",
    "\n",
    "# Comparison of booleans\n",
    "print(True > False)"
   ],
   "metadata": {
    "id": "fiN8zOxU6TOT"
   },
   "execution_count": null,
   "outputs": []
  },
  {
   "cell_type": "code",
   "source": [
    "# Create arrays\n",
    "import numpy as np\n",
    "my_house = np.array([18.0, 20.0, 10.75, 9.50])\n",
    "your_house = np.array([14.0, 24.0, 14.25, 9.0])\n",
    "\n",
    "# my_house greater than or equal to 18\n",
    "print(my_house >= 18)\n",
    "\n",
    "# my_house less than your_house\n",
    "print(my_house < your_house)"
   ],
   "metadata": {
    "id": "3h0yiKhk6Wcl"
   },
   "execution_count": null,
   "outputs": []
  },
  {
   "cell_type": "markdown",
   "source": [
    "## Boolean Operators"
   ],
   "metadata": {
    "id": "tGJi0Dhy6gZc"
   }
  },
  {
   "cell_type": "code",
   "source": [
    "print(True and True)\n",
    "print(False and True)\n",
    "print(6 > 5 and 4 > 9)"
   ],
   "metadata": {
    "id": "zJf26FRJ8pWB"
   },
   "execution_count": null,
   "outputs": []
  },
  {
   "cell_type": "code",
   "source": [
    "print(True or False)\n",
    "print(False or False)\n",
    "print(True or True)"
   ],
   "metadata": {
    "id": "j_ZXuSQa85T-"
   },
   "execution_count": null,
   "outputs": []
  },
  {
   "cell_type": "code",
   "source": [
    "print(not True)\n",
    "print(not False)"
   ],
   "metadata": {
    "id": "V-NrBbyz9QW1"
   },
   "execution_count": null,
   "outputs": []
  },
  {
   "cell_type": "code",
   "source": [
    "# Define variables\n",
    "my_kitchen = 18.0\n",
    "your_kitchen = 14.0\n",
    "\n",
    "# my_kitchen bigger than 10 and smaller than 18?\n",
    "print(my_kitchen > 10 and my_kitchen < 18)\n",
    "\n",
    "# my_kitchen smaller than 14 or bigger than 17?\n",
    "print(my_kitchen < 14 or my_kitchen > 17)\n",
    "\n",
    "# Double my_kitchen smaller than triple your_kitchen?\n",
    "print(my_kitchen * 2 < your_kitchen * 3)"
   ],
   "metadata": {
    "id": "tKwQRKw06jFG"
   },
   "execution_count": null,
   "outputs": []
  },
  {
   "cell_type": "code",
   "source": [
    "# Create arrays\n",
    "import numpy as np\n",
    "my_house = np.array([18.0, 20.0, 10.75, 9.50])\n",
    "your_house = np.array([14.0, 24.0, 14.25, 9.0])\n",
    "\n",
    "# my_house greater than 18.5 or smaller than 10\n",
    "print(np.logical_or(my_house > 18.5, my_house < 10))\n",
    "\n",
    "# Both my_house and your_house smaller than 11\n",
    "print(np.logical_and(my_house < 11, your_house < 11))"
   ],
   "metadata": {
    "id": "Y54p-G_u7gPs"
   },
   "execution_count": null,
   "outputs": []
  },
  {
   "cell_type": "markdown",
   "source": [
    "## Conditional Statements"
   ],
   "metadata": {
    "id": "p9yD3Q8V-d0x"
   }
  },
  {
   "cell_type": "code",
   "source": [
    "condition = 4 \n",
    "expression = \"\"\n",
    "\n",
    "if condition % 2 == 0 :\n",
    "  print(\"contition is even\")\n",
    "  print(\"checking \" + str(condition))"
   ],
   "metadata": {
    "id": "7r9oM2XO93nH"
   },
   "execution_count": null,
   "outputs": []
  },
  {
   "cell_type": "markdown",
   "source": [],
   "metadata": {
    "id": "bMxQuGeq_QGU"
   }
  },
  {
   "cell_type": "code",
   "source": [
    "if condition > 4 :\n",
    "  print(\"condition greater than 4\")\n",
    "else :\n",
    "  print(\"condition smaller or equal to 4\")"
   ],
   "metadata": {
    "id": "vHvkACz79_IT"
   },
   "execution_count": null,
   "outputs": []
  },
  {
   "cell_type": "code",
   "source": [
    "if condition > 4 :\n",
    "  print(\"condition greater than 4\")\n",
    "elif condition == 4 :\n",
    "  print(\"condition equal to 4\")\n",
    "else :\n",
    "  print(\"condition smaller than 4\")"
   ],
   "metadata": {
    "id": "as5D-NKSBDh9"
   },
   "execution_count": null,
   "outputs": []
  },
  {
   "cell_type": "code",
   "source": [
    "number = 23866\n",
    "if number % 2 == 0:\n",
    "  print(\"number is divisible by 3\") # If true\n",
    "elif number % 8  == 0:\n",
    "  print(\"number is divisible by 8\") # Never reached\n",
    "else :\n",
    "  print(\"no condition true\")"
   ],
   "metadata": {
    "id": "cgUsdoEtBZ05"
   },
   "execution_count": null,
   "outputs": []
  },
  {
   "cell_type": "markdown",
   "source": [
    "## Controll flow"
   ],
   "metadata": {
    "id": "16HUVNnfCq7G"
   }
  },
  {
   "cell_type": "code",
   "source": [
    "# Define variables\n",
    "room = \"kitchen\"\n",
    "area = 14.0\n",
    "\n",
    "# if statement for room\n",
    "if room == \"kitchen\" :\n",
    "    print(\"looking around in the kitchen.\")\n",
    "\n",
    "# if statement for area\n",
    "if area > 15 :\n",
    "    print(\"big place!\")"
   ],
   "metadata": {
    "colab": {
     "base_uri": "https://localhost:8080/"
    },
    "id": "V_MFZhvzCxz9",
    "outputId": "aaa68a27-64a1-43a9-917d-d6d7d2cbb3f0"
   },
   "execution_count": null,
   "outputs": [
    {
     "output_type": "stream",
     "name": "stdout",
     "text": [
      "looking around in the kitchen.\n"
     ]
    }
   ]
  },
  {
   "cell_type": "code",
   "source": [
    "# Define variables\n",
    "room = \"kit\"\n",
    "area = 14.0\n",
    "\n",
    "# if-else construct for room\n",
    "if room == \"kit\" :\n",
    "    print(\"looking around in the kitchen.\")\n",
    "else :\n",
    "    print(\"looking around elsewhere.\")\n",
    "\n",
    "# if-else construct for area :\n",
    "if area > 15 :\n",
    "    print(\"big place!\")\n",
    "else :\n",
    "    print(\"pretty small.\")"
   ],
   "metadata": {
    "id": "QGxZfJl9DHia"
   },
   "execution_count": null,
   "outputs": []
  },
  {
   "cell_type": "code",
   "source": [
    "# Define variables\n",
    "room = \"bed\"\n",
    "area = 14.0\n",
    "\n",
    "# if-elif-else construct for room\n",
    "if room == \"kit\" :\n",
    "    print(\"looking around in the kitchen.\")\n",
    "elif room == \"bed\":\n",
    "    print(\"looking around in the bedroom.\")\n",
    "else :\n",
    "    print(\"looking around elsewhere.\")\n",
    "\n",
    "# if-elif-else construct for area\n",
    "if area > 15 :\n",
    "    print(\"big place!\")\n",
    "elif area > 10 :\n",
    "    print(\"medium size, nice!\")\n",
    "else :\n",
    "    print(\"pretty small.\")"
   ],
   "metadata": {
    "id": "_zmTyVoIDNYN"
   },
   "execution_count": null,
   "outputs": []
  },
  {
   "cell_type": "markdown",
   "source": [
    "## Filtering Pandas Data Frame"
   ],
   "metadata": {
    "id": "mKUgmcZLDRSb"
   }
  },
  {
   "cell_type": "code",
   "source": [
    "# Build cars DataFrame\n",
    "import pandas as pd\n",
    "names = ['United States', 'Australia', 'Japan', 'India', 'Russia', 'Morocco', 'Egypt']\n",
    "dr =  [True, False, False, False, True, True, True]\n",
    "cpc = [809, 731, 588, 18, 200, 70, 45]\n",
    "cars_dict = { 'country':names, 'drives_right':dr, 'cars_per_cap':cpc }\n",
    "cars_summary = pd.DataFrame(cars_dict)\n",
    "\n",
    "# Extract drives_right column as Series: dr\n",
    "dr = cars_summary['drives_right']\n",
    "\n",
    "# Use dr to subset cars: sel\n",
    "sel = cars_summary[dr]\n",
    "\n",
    "# Print sel\n",
    "print(sel)"
   ],
   "metadata": {
    "id": "oS2z5v7cDQ-p"
   },
   "execution_count": null,
   "outputs": []
  },
  {
   "cell_type": "code",
   "source": [
    "\n",
    "# Convert code to a one-liner\n",
    "sel = cars_summary[cars_summary['drives_right']]\n",
    "\n",
    "# Print sel\n",
    "print(sel)"
   ],
   "metadata": {
    "id": "3KozGrelOd9p"
   },
   "execution_count": null,
   "outputs": []
  },
  {
   "cell_type": "code",
   "source": [
    "# Create car_maniac: observations that have a cars_per_cap over 500\n",
    "cpc = cars_summary['cars_per_cap']\n",
    "many_cars = cpc > 500\n",
    "car_maniac = cars_summary[many_cars]\n",
    "\n",
    "# Print car_maniac\n",
    "print(car_maniac)"
   ],
   "metadata": {
    "id": "40R3dVIjPHgG"
   },
   "execution_count": null,
   "outputs": []
  },
  {
   "cell_type": "code",
   "source": [
    "# Import numpy, you'll need this\n",
    "import numpy as np\n",
    "\n",
    "# Create medium: observations with cars_per_cap between 100 and 500\n",
    "cpc = cars_summary['cars_per_cap']\n",
    "between = np.logical_and(cpc > 100, cpc < 500)\n",
    "medium = cars_summary[between]\n",
    "\n",
    "# Print medium\n",
    "print(medium)"
   ],
   "metadata": {
    "id": "uvo08yVfPpN5"
   },
   "execution_count": null,
   "outputs": []
  },
  {
   "cell_type": "markdown",
   "source": [
    "##While loop"
   ],
   "metadata": {
    "id": "xRbhWuFOQtID"
   }
  },
  {
   "cell_type": "markdown",
   "source": [
    "Attention, while loops only stop when the condition is met"
   ],
   "metadata": {
    "id": "O3bX5E7eR09r"
   }
  },
  {
   "cell_type": "code",
   "source": [
    "# Initialize offset\n",
    "offset = 8\n",
    "\n",
    "# Code the while loop\n",
    "while offset != 0 :\n",
    "    print(\"correcting...\")\n",
    "    offset = offset - 1\n",
    "    print(offset)"
   ],
   "metadata": {
    "id": "iZU9nBlJQvKz"
   },
   "execution_count": null,
   "outputs": []
  },
  {
   "cell_type": "code",
   "source": [
    "# Initialize offset\n",
    "offset = -6\n",
    "\n",
    "# Code the while loop\n",
    "while offset != 0 :\n",
    "    print(\"correcting...\")\n",
    "    if offset > 0 :\n",
    "        offset = offset - 1\n",
    "    else :\n",
    "        offset = offset + 1\n",
    "    print(offset)"
   ],
   "metadata": {
    "id": "SaYVxF13SAW4"
   },
   "execution_count": null,
   "outputs": []
  },
  {
   "cell_type": "markdown",
   "source": [
    "## For loop"
   ],
   "metadata": {
    "id": "_8-UushASFGM"
   }
  },
  {
   "cell_type": "code",
   "source": [
    "# areas list\n",
    "areas = [11.25, 18.0, 20.0, 10.75, 9.50]\n",
    "\n",
    "# Code the for loop\n",
    "for area in areas :\n",
    "    print(area)"
   ],
   "metadata": {
    "id": "h6VqrOGGSLMB"
   },
   "execution_count": null,
   "outputs": []
  },
  {
   "cell_type": "code",
   "source": [
    "# areas list\n",
    "areas = [11.25, 18.0, 20.0, 10.75, 9.50]\n",
    "\n",
    "# Change for loop to use enumerate() and update print()\n",
    "for index, area in enumerate(areas) :\n",
    "    print(\"room \" + str(index) + \": \" + str(area))"
   ],
   "metadata": {
    "id": "xWWcm7TQUpc6"
   },
   "execution_count": null,
   "outputs": []
  },
  {
   "cell_type": "code",
   "source": [
    "# areas list\n",
    "areas = [11.25, 18.0, 20.0, 10.75, 9.50]\n",
    "\n",
    "# Adapt the printout\n",
    "for index, area in enumerate(areas) :\n",
    "    print(\"room \" + str(index + 1) + \": \" + str(area))"
   ],
   "metadata": {
    "id": "BggPzC9jU_Zy"
   },
   "execution_count": null,
   "outputs": []
  },
  {
   "cell_type": "code",
   "source": [
    "# house list of lists\n",
    "house = [[\"hallway\", 11.25], \n",
    "         [\"kitchen\", 18.0], \n",
    "         [\"living room\", 20.0], \n",
    "         [\"bedroom\", 10.75], \n",
    "         [\"bathroom\", 9.50]]\n",
    "         \n",
    "# Build a for loop from scratch\n",
    "for x in house :\n",
    "    print(\"the \" + x[0] + \" is \" + str(x[1]) + \" sqm\")"
   ],
   "metadata": {
    "id": "GgjdTwANVDud"
   },
   "execution_count": null,
   "outputs": []
  },
  {
   "cell_type": "markdown",
   "source": [
    "## Loop data structures"
   ],
   "metadata": {
    "id": "CCp1oN-xVG4l"
   }
  },
  {
   "cell_type": "markdown",
   "source": [
    "Numpy Arrays\n",
    "\n",
    "Pandas Data Frames"
   ],
   "metadata": {
    "id": "_soeyGvBV1TG"
   }
  },
  {
   "cell_type": "code",
   "source": [
    "# Definition of dictionary\n",
    "europe = {'spain':'madrid', 'france':'paris', 'germany':'berlin',\n",
    "          'norway':'oslo', 'italy':'rome', 'poland':'warsaw', 'austria':'vienna' }\n",
    "          \n",
    "# Iterate over europe\n",
    "for key, value in europe.items() :\n",
    "     print(\"the capital of \" + str(key) + \" is \" + str(value))"
   ],
   "metadata": {
    "id": "mwWeBnPyVMdQ"
   },
   "execution_count": null,
   "outputs": []
  },
  {
   "cell_type": "code",
   "source": [
    "# Import numpy as np\n",
    "import numpy as np\n",
    "\n",
    "# Crate Arrays\n",
    "baseball = [180, 215, 210, 210, 188, 176, 209, 200]\n",
    "height_in = [74, 74, 75, 76, 78, 84, 84, 89, 76, 76, 74, 72, 78]\n",
    "\n",
    "np_baseball = np.array(baseball)\n",
    "np_height = np.array(height_in)\n",
    "\n",
    "# For loop over np_height\n",
    "for x in np_height :\n",
    "    print(str(x) + \" inches\")\n",
    "\n",
    "# For loop over np_baseball\n",
    "for x in np.nditer(np_baseball) :\n",
    "    print(x)\n",
    "\n"
   ],
   "metadata": {
    "id": "lbn6dZmgWMCa"
   },
   "execution_count": null,
   "outputs": []
  },
  {
   "cell_type": "markdown",
   "source": [
    " Pandas Iterrows"
   ],
   "metadata": {
    "id": "g03ioGgUZXaQ"
   }
  },
  {
   "cell_type": "code",
   "source": [
    "# Import cars data\n",
    "import pandas as pd\n",
    "cars = cars_summary\n",
    "\n",
    "# Iterate over rows of cars\n",
    "for lab, row in cars.iterrows() :\n",
    "    print(lab)\n",
    "    print(row)"
   ],
   "metadata": {
    "id": "tikU8o4sZK5o"
   },
   "execution_count": null,
   "outputs": []
  },
  {
   "cell_type": "code",
   "source": [
    "# Pre-defined lists\n",
    "names = ['United States', 'Australia', 'Japan', 'India', 'Russia', 'Morocco', 'Egypt']\n",
    "dr =  [True, False, False, False, True, True, True]\n",
    "cpc = [809, 731, 588, 18, 200, 70, 45]\n",
    "\n",
    "# Import pandas as pd\n",
    "import pandas as pd\n",
    "\n",
    "# Create dictionary my_dict with three key:value pairs: my_dict\n",
    "my_dict = { 'country':names, 'drives_right':dr, 'cars_per_cap':cpc }\n",
    "\n",
    "# Build a DataFrame cars from my_dict: cars\n",
    "cars = pd.DataFrame(my_dict)\n",
    "\n",
    "# Adapt for loop\n",
    "for lab, row in cars.iterrows() :\n",
    "    print(str(lab) + \": \" + str(row['cars_per_cap']))"
   ],
   "metadata": {
    "id": "zMryEexpaY3n"
   },
   "execution_count": null,
   "outputs": []
  },
  {
   "cell_type": "code",
   "source": [
    "# Import cars data\n",
    "import pandas as pd\n",
    "\n",
    "# Code for loop that adds COUNTRY column\n",
    "for lab, row in cars.iterrows() :\n",
    "    cars.loc[lab, \"COUNTRY\"] = row[\"country\"].upper()\n",
    "    \n",
    "# Print cars\n",
    "print(cars)"
   ],
   "metadata": {
    "id": "Oieox_GEcVA-"
   },
   "execution_count": null,
   "outputs": []
  },
  {
   "cell_type": "code",
   "source": [
    "# Use .apply(str.upper)\n",
    "for lab, row in cars.iterrows() :\n",
    "    cars.loc[lab, \"COUNTRY\"] = row[\"country\"].upper()\n",
    "\n",
    "# Use .apply(str.upper)\n",
    "cars[\"COUNTRY\"] = cars[\"country\"].apply(str.upper)\n",
    "print(cars)"
   ],
   "metadata": {
    "id": "VgCC7UwRcX9i"
   },
   "execution_count": null,
   "outputs": []
  },
  {
   "cell_type": "markdown",
   "source": [
    "## Hackerstatistics"
   ],
   "metadata": {
    "id": "_uyXG8JndH7q"
   }
  },
  {
   "cell_type": "markdown",
   "source": [
    "Random Numbers\n",
    "\n",
    "100 dice throws\n",
    "1 or 2 = -1\n",
    "3, 4, 5 = +1\n",
    "6 = roll and walk"
   ],
   "metadata": {
    "id": "kc5b_VSfd6kB"
   }
  },
  {
   "cell_type": "code",
   "source": [
    "# Import numpy as np\n",
    "import numpy as np\n",
    "\n",
    "# Set the seed\n",
    "np.random.seed(123)\n",
    "\n",
    "# Generate and print random float\n",
    "print(np.random.rand())"
   ],
   "metadata": {
    "colab": {
     "base_uri": "https://localhost:8080/"
    },
    "id": "y-m8AGRidvyn",
    "outputId": "60ae47b8-baf8-4fc9-a7fc-898ebcea022b"
   },
   "execution_count": null,
   "outputs": [
    {
     "output_type": "stream",
     "name": "stdout",
     "text": [
      "0.6964691855978616\n"
     ]
    }
   ]
  },
  {
   "cell_type": "code",
   "source": [
    "# Import numpy and set seed\n",
    "import numpy as np\n",
    "np.random.seed(123)\n",
    "\n",
    "# Use randint() to simulate a dice\n",
    "print(np.random.randint(1,7))\n",
    "\n",
    "# Use randint() again\n",
    "print(np.random.randint(1,7))"
   ],
   "metadata": {
    "id": "e7sACBN1d_MT"
   },
   "execution_count": null,
   "outputs": []
  },
  {
   "cell_type": "code",
   "source": [
    "# NumPy is imported, seed is set\n",
    "\n",
    "# Starting step\n",
    "step = 50\n",
    "\n",
    "# Roll the dice\n",
    "dice = np.random.randint(1,7)\n",
    "\n",
    "# Finish the control construct\n",
    "if dice <= 2 :\n",
    "    step = step - 1\n",
    "elif dice <= 5 :\n",
    "    step = step + 1\n",
    "else :\n",
    "    step = step + np.random.randint(1,7)\n",
    "\n",
    "# Print out dice and step\n",
    "print(dice)\n",
    "print(step)"
   ],
   "metadata": {
    "id": "d5N9n1iZeE44"
   },
   "execution_count": null,
   "outputs": []
  },
  {
   "cell_type": "markdown",
   "source": [
    "## Saving random walks"
   ],
   "metadata": {
    "id": "L2BTuj4oeEjc"
   }
  },
  {
   "cell_type": "code",
   "source": [
    "# NumPy is imported, seed is set\n",
    "\n",
    "# Initialize random_walk\n",
    "random_walk = [0]\n",
    "\n",
    "# Complete the ___\n",
    "for x in range(100) :\n",
    "    # Set step: last element in random_walk\n",
    "    step = random_walk[-1]\n",
    "\n",
    "    # Roll the dice\n",
    "    dice = np.random.randint(1,7)\n",
    "\n",
    "    # Determine next step\n",
    "    if dice <= 2:\n",
    "        step = step - 1\n",
    "    elif dice <= 5:\n",
    "        step = step + 1\n",
    "    else:\n",
    "        step = step + np.random.randint(1,7)\n",
    "\n",
    "    # append next_step to random_walk\n",
    "    random_walk.append(step)\n",
    "\n",
    "# Print random_walk\n",
    "print(random_walk)"
   ],
   "metadata": {
    "id": "ww84ePtbfvI1"
   },
   "execution_count": null,
   "outputs": []
  },
  {
   "cell_type": "code",
   "source": [
    "# NumPy is imported, seed is set\n",
    "\n",
    "# Initialize random_walk\n",
    "random_walk = [0]\n",
    "\n",
    "for x in range(100) :\n",
    "    step = random_walk[-1]\n",
    "    dice = np.random.randint(1,7)\n",
    "\n",
    "    if dice <= 2:\n",
    "        # Replace below: use max to make sure step can't go below 0\n",
    "        step = max(0, step - 1)\n",
    "    elif dice <= 5:\n",
    "        step = step + 1\n",
    "    else:\n",
    "        step = step + np.random.randint(1,7)\n",
    "\n",
    "    random_walk.append(step)\n",
    "\n",
    "print(random_walk)"
   ],
   "metadata": {
    "id": "0ucAUJ6ssRYo"
   },
   "execution_count": null,
   "outputs": []
  },
  {
   "cell_type": "code",
   "source": [
    "# NumPy is imported, seed is set\n",
    "\n",
    "# Initialization\n",
    "random_walk = [0]\n",
    "\n",
    "for x in range(100) :\n",
    "    step = random_walk[-1]\n",
    "    dice = np.random.randint(1,7)\n",
    "\n",
    "    if dice <= 2:\n",
    "        step = max(0, step - 1)\n",
    "    elif dice <= 5:\n",
    "        step = step + 1\n",
    "    else:\n",
    "        step = step + np.random.randint(1,7)\n",
    "\n",
    "    random_walk.append(step)\n",
    "\n",
    "# Import matplotlib.pyplot as plt\n",
    "import matplotlib.pyplot as plt\n",
    "\n",
    "# Plot random_walk\n",
    "plt.plot(random_walk)\n",
    "\n",
    "# Show the plot\n",
    "plt.show()"
   ],
   "metadata": {
    "id": "bPiE3jWqsaCn"
   },
   "execution_count": null,
   "outputs": []
  },
  {
   "cell_type": "markdown",
   "source": [
    "## Distribution"
   ],
   "metadata": {
    "id": "saO3As1usgAF"
   }
  },
  {
   "cell_type": "code",
   "source": [
    "# NumPy is imported; seed is set\n",
    "\n",
    "# Initialize all_walks (don't change this line)\n",
    "all_walks = []\n",
    "\n",
    "# Simulate random walk 10 times\n",
    "for i in range(10) :\n",
    "\n",
    "    # Code from before\n",
    "    random_walk = [0]\n",
    "    for x in range(100) :\n",
    "        step = random_walk[-1]\n",
    "        dice = np.random.randint(1,7)\n",
    "\n",
    "        if dice <= 2:\n",
    "            step = max(0, step - 1)\n",
    "        elif dice <= 5:\n",
    "            step = step + 1\n",
    "        else:\n",
    "            step = step + np.random.randint(1,7)\n",
    "        random_walk.append(step)\n",
    "\n",
    "    # Append random_walk to all_walks\n",
    "    all_walks.append(random_walk)\n",
    "\n",
    "# Print all_walks\n",
    "print(all_walks)"
   ],
   "metadata": {
    "colab": {
     "base_uri": "https://localhost:8080/"
    },
    "id": "xvXlZky8si5o",
    "outputId": "f4df9093-57fd-436f-d261-df3c148ebd7a"
   },
   "execution_count": null,
   "outputs": [
    {
     "output_type": "stream",
     "name": "stdout",
     "text": [
      "[[0, 1, 2, 5, 4, 5, 4, 5, 6, 7, 6, 7, 6, 7, 8, 10, 9, 8, 9, 10, 9, 11, 12, 13, 14, 15, 16, 17, 16, 17, 18, 23, 24, 23, 22, 21, 20, 21, 22, 23, 28, 29, 28, 29, 30, 31, 32, 33, 34, 33, 32, 33, 32, 38, 37, 38, 37, 38, 37, 38, 42, 46, 48, 50, 49, 50, 52, 51, 57, 58, 60, 61, 60, 61, 62, 63, 62, 63, 64, 65, 67, 66, 65, 66, 72, 77, 76, 75, 79, 80, 81, 82, 84, 83, 84, 83, 84, 83, 82, 88, 87], [0, 1, 2, 3, 4, 5, 6, 7, 8, 7, 8, 7, 6, 7, 6, 7, 6, 7, 8, 12, 13, 12, 18, 17, 16, 17, 16, 15, 16, 15, 19, 18, 19, 18, 19, 18, 19, 21, 20, 19, 18, 19, 18, 23, 24, 25, 24, 23, 24, 23, 24, 23, 28, 29, 28, 27, 26, 25, 26, 27, 31, 37, 38, 39, 40, 41, 40, 41, 43, 44, 45, 46, 45, 44, 45, 44, 45, 46, 47, 46, 47, 48, 49, 48, 47, 48, 49, 54, 55, 56, 61, 60, 61, 60, 61, 62, 63, 64, 63, 69, 68], [0, 1, 0, 0, 1, 5, 6, 7, 8, 9, 8, 7, 6, 5, 4, 5, 6, 7, 8, 9, 10, 9, 10, 11, 10, 11, 12, 15, 14, 15, 14, 15, 18, 19, 20, 21, 20, 19, 22, 23, 24, 25, 24, 23, 24, 27, 28, 33, 34, 33, 34, 33, 34, 33, 39, 38, 37, 38, 40, 39, 38, 37, 38, 39, 40, 41, 45, 50, 51, 52, 53, 56, 57, 58, 59, 60, 61, 62, 61, 60, 61, 62, 61, 67, 66, 67, 68, 67, 66, 67, 66, 65, 71, 70, 69, 70, 71, 70, 69, 68, 67], [0, 1, 7, 8, 11, 12, 18, 19, 20, 26, 25, 31, 30, 31, 32, 33, 32, 38, 39, 38, 39, 38, 39, 38, 39, 38, 39, 43, 44, 46, 45, 46, 45, 44, 45, 44, 45, 44, 48, 52, 51, 50, 49, 50, 51, 55, 56, 57, 61, 60, 59, 58, 59, 60, 62, 61, 60, 61, 62, 64, 67, 72, 73, 72, 73, 74, 75, 76, 77, 76, 77, 78, 84, 83, 88, 87, 91, 90, 94, 93, 96, 97, 96, 97, 103, 102, 101, 100, 104, 103, 102, 103, 104, 103, 104, 105, 106, 107, 106, 105, 104], [0, 1, 0, 0, 4, 5, 7, 11, 17, 16, 15, 16, 17, 18, 17, 18, 17, 18, 19, 18, 17, 18, 19, 20, 21, 22, 23, 24, 25, 26, 27, 33, 32, 35, 36, 35, 34, 35, 36, 37, 36, 35, 34, 33, 34, 35, 36, 37, 38, 39, 40, 39, 40, 41, 43, 42, 43, 44, 47, 49, 50, 49, 48, 47, 46, 45, 46, 45, 46, 48, 49, 50, 49, 50, 49, 48, 49, 48, 47, 46, 47, 46, 45, 46, 47, 48, 50, 51, 52, 51, 50, 51, 57, 56, 57, 58, 63, 62, 63, 62, 63], [0, 1, 0, 1, 2, 8, 9, 10, 11, 10, 12, 13, 14, 15, 14, 15, 16, 17, 18, 17, 18, 17, 18, 19, 18, 19, 23, 24, 27, 28, 32, 33, 32, 33, 34, 33, 32, 37, 38, 39, 38, 37, 38, 39, 40, 39, 43, 42, 43, 44, 45, 46, 47, 48, 49, 48, 47, 46, 47, 48, 52, 53, 52, 53, 54, 53, 59, 60, 61, 62, 61, 62, 63, 66, 65, 66, 65, 64, 63, 64, 65, 67, 68, 69, 73, 74, 73, 72, 73, 74, 73, 72, 73, 74, 75, 74, 73, 74, 75, 76, 75], [0, 1, 2, 1, 0, 0, 1, 2, 3, 4, 5, 10, 14, 13, 14, 13, 12, 11, 12, 11, 12, 13, 12, 16, 17, 16, 17, 16, 15, 16, 15, 19, 20, 21, 22, 23, 24, 23, 24, 25, 26, 27, 28, 27, 32, 33, 34, 33, 34, 33, 34, 35, 34, 35, 40, 41, 42, 41, 42, 43, 44, 43, 44, 43, 44, 45, 44, 43, 42, 43, 44, 43, 42, 41, 42, 46, 47, 48, 49, 50, 51, 50, 51, 52, 51, 52, 57, 58, 57, 56, 57, 56, 55, 54, 58, 59, 60, 61, 60, 61, 62], [0, 1, 2, 3, 2, 1, 4, 3, 2, 1, 0, 1, 7, 8, 7, 8, 9, 8, 7, 8, 9, 10, 9, 13, 14, 13, 15, 16, 15, 16, 17, 18, 19, 20, 21, 20, 19, 20, 21, 20, 21, 22, 21, 20, 19, 23, 24, 25, 26, 27, 28, 29, 30, 31, 32, 31, 32, 33, 34, 35, 36, 35, 34, 40, 41, 42, 41, 40, 39, 43, 44, 48, 47, 53, 54, 55, 59, 60, 59, 58, 59, 60, 61, 62, 61, 67, 68, 67, 71, 72, 71, 72, 71, 77, 83, 84, 83, 84, 85, 86, 87], [0, 1, 0, 3, 2, 4, 5, 11, 10, 11, 12, 11, 10, 11, 10, 11, 12, 13, 14, 15, 16, 17, 18, 19, 20, 21, 22, 23, 24, 23, 24, 25, 26, 25, 24, 23, 24, 23, 27, 26, 25, 26, 28, 29, 34, 33, 34, 35, 39, 38, 39, 40, 39, 38, 39, 40, 41, 40, 39, 38, 39, 38, 37, 38, 37, 36, 35, 36, 37, 36, 35, 34, 35, 36, 37, 36, 35, 36, 37, 38, 39, 38, 39, 38, 39, 40, 41, 42, 43, 48, 53, 52, 53, 54, 53, 54, 60, 59, 60, 59, 60], [0, 0, 1, 2, 3, 2, 1, 2, 3, 4, 3, 2, 1, 3, 4, 5, 4, 3, 2, 3, 4, 5, 4, 3, 4, 7, 12, 15, 16, 17, 23, 24, 25, 26, 25, 27, 32, 33, 34, 35, 36, 37, 38, 37, 38, 39, 40, 41, 42, 44, 48, 49, 50, 51, 52, 56, 61, 60, 59, 58, 57, 60, 61, 62, 63, 62, 61, 64, 65, 64, 63, 62, 63, 64, 65, 66, 65, 66, 65, 66, 67, 66, 67, 68, 69, 70, 71, 72, 73, 72, 71, 72, 73, 76, 77, 76, 75, 76, 77, 78, 83]]\n"
     ]
    }
   ]
  },
  {
   "cell_type": "code",
   "source": [
    "# numpy and matplotlib imported, seed set.\n",
    "\n",
    "# initialize and populate all_walks\n",
    "all_walks = []\n",
    "for i in range(10) :\n",
    "    random_walk = [0]\n",
    "    for x in range(100) :\n",
    "        step = random_walk[-1]\n",
    "        dice = np.random.randint(1,7)\n",
    "        if dice <= 2:\n",
    "            step = max(0, step - 1)\n",
    "        elif dice <= 5:\n",
    "            step = step + 1\n",
    "        else:\n",
    "            step = step + np.random.randint(1,7)\n",
    "        random_walk.append(step)\n",
    "    all_walks.append(random_walk)\n",
    "\n",
    "# Convert all_walks to NumPy array: np_aw\n",
    "np_aw = np.array(all_walks)\n",
    "\n",
    "# Plot np_aw and show\n",
    "plt.plot(np_aw)\n",
    "plt.show()\n",
    "\n",
    "# Clear the figure\n",
    "plt.clf()\n",
    "\n",
    "# Transpose np_aw: np_aw_t\n",
    "np_aw_t = np.transpose(np_aw)\n",
    "\n",
    "# Plot np_aw_t and show\n",
    "plt.plot(np_aw_t)\n",
    "plt.show()"
   ],
   "metadata": {
    "id": "AGlyH4FLtlgl"
   },
   "execution_count": null,
   "outputs": []
  },
  {
   "cell_type": "code",
   "source": [
    "# numpy and matplotlib imported, seed set\n",
    "\n",
    "# Simulate random walk 250 times\n",
    "all_walks = []\n",
    "for i in range(250) :\n",
    "    random_walk = [0]\n",
    "    for x in range(100) :\n",
    "        step = random_walk[-1]\n",
    "        dice = np.random.randint(1,7)\n",
    "        if dice <= 2:\n",
    "            step = max(0, step - 1)\n",
    "        elif dice <= 5:\n",
    "            step = step + 1\n",
    "        else:\n",
    "            step = step + np.random.randint(1,7)\n",
    "\n",
    "        # Implement clumsiness\n",
    "        if np.random.rand() <= 0.001 :\n",
    "            step = 0\n",
    "\n",
    "        random_walk.append(step)\n",
    "    all_walks.append(random_walk)\n",
    "\n",
    "# Create and plot np_aw_t\n",
    "np_aw_t = np.transpose(np.array(all_walks))\n",
    "plt.plot(np_aw_t)\n",
    "plt.show()"
   ],
   "metadata": {
    "id": "oF2scpsBtsX9"
   },
   "execution_count": null,
   "outputs": []
  },
  {
   "cell_type": "code",
   "source": [
    "# numpy and matplotlib imported, seed set\n",
    "\n",
    "# Simulate random walk 500 times\n",
    "all_walks = []\n",
    "for i in range(500) :\n",
    "    random_walk = [0]\n",
    "    for x in range(100) :\n",
    "        step = random_walk[-1]\n",
    "        dice = np.random.randint(1,7)\n",
    "        if dice <= 2:\n",
    "            step = max(0, step - 1)\n",
    "        elif dice <= 5:\n",
    "            step = step + 1\n",
    "        else:\n",
    "            step = step + np.random.randint(1,7)\n",
    "        if np.random.rand() <= 0.001 :\n",
    "            step = 0\n",
    "        random_walk.append(step)\n",
    "    all_walks.append(random_walk)\n",
    "\n",
    "# Create and plot np_aw_t\n",
    "np_aw_t = np.transpose(np.array(all_walks))\n",
    "\n",
    "# Select last row from np_aw_t: ends\n",
    "ends = np_aw_t[-1,:]\n",
    "\n",
    "# Plot histogram of ends, display plot\n",
    "plt.hist(ends)\n",
    "plt.show()"
   ],
   "metadata": {
    "id": "vIcR7xRJt2O2"
   },
   "execution_count": null,
   "outputs": []
  },
  {
   "cell_type": "code",
   "source": [
    "# Count Integers above 60 in ends\n",
    "np.mean(ends >= 60)"
   ],
   "metadata": {
    "colab": {
     "base_uri": "https://localhost:8080/"
    },
    "id": "ahVglTn7uT4Z",
    "outputId": "85496c90-5a41-4cbe-b98f-c0450c2e0758"
   },
   "execution_count": null,
   "outputs": [
    {
     "output_type": "execute_result",
     "data": {
      "text/plain": [
       "0.782"
      ]
     },
     "metadata": {},
     "execution_count": 57
    }
   ]
  },
  {
   "cell_type": "markdown",
   "source": [
    "# Functions"
   ],
   "metadata": {
    "id": "kbR99KQv-QC_"
   }
  },
  {
   "cell_type": "markdown",
   "source": [
    "## Functions"
   ],
   "metadata": {
    "id": "POkJ8732-Vhg"
   }
  },
  {
   "cell_type": "markdown",
   "source": [
    "My own function"
   ],
   "metadata": {
    "id": "JMbfCPD2_C_x"
   }
  },
  {
   "cell_type": "code",
   "source": [
    "def square():       #<- Fucntion Header\n",
    "    new_value = 4 ** 2     #<- Function body 1\n",
    "    print(new_value)       #<- Function body 2\n",
    "\n",
    "square()"
   ],
   "metadata": {
    "colab": {
     "base_uri": "https://localhost:8080/"
    },
    "id": "bMsmbLMD-aJv",
    "outputId": "9b0873e9-799f-4571-8d00-13dd4170fed1"
   },
   "execution_count": 12,
   "outputs": [
    {
     "output_type": "stream",
     "name": "stdout",
     "text": [
      "16\n"
     ]
    }
   ]
  },
  {
   "cell_type": "markdown",
   "source": [
    "Parameters"
   ],
   "metadata": {
    "id": "ecPmnVEI_GUi"
   }
  },
  {
   "cell_type": "code",
   "source": [
    "def square(value):       #<- Function Header\n",
    "    new_value = value ** 2     #<- Function body\n",
    "    print(new_value)\n",
    "square(2)"
   ],
   "metadata": {
    "colab": {
     "base_uri": "https://localhost:8080/"
    },
    "id": "QFnOADgp_KNz",
    "outputId": "e04ddef7-1c22-4c4f-d053-c03059f8fda9"
   },
   "execution_count": 14,
   "outputs": [
    {
     "output_type": "stream",
     "name": "stdout",
     "text": [
      "4\n"
     ]
    }
   ]
  },
  {
   "cell_type": "markdown",
   "source": [
    "Output"
   ],
   "metadata": {
    "id": "apFm0U8P_tcl"
   }
  },
  {
   "cell_type": "code",
   "source": [
    "def square(value):       #<- Function Header\n",
    "    new_value = value ** 2     #<- Function body\n",
    "    print(new_value)\n",
    "    return new_value\n",
    "\n",
    "square(3, 3)"
   ],
   "metadata": {
    "colab": {
     "base_uri": "https://localhost:8080/"
    },
    "id": "DacGNUxM_t18",
    "outputId": "97a595d1-2585-4652-ba85-a52162de87be"
   },
   "execution_count": 16,
   "outputs": [
    {
     "output_type": "stream",
     "name": "stdout",
     "text": [
      "27\n"
     ]
    },
    {
     "output_type": "execute_result",
     "data": {
      "text/plain": [
       "27"
      ]
     },
     "metadata": {},
     "execution_count": 16
    }
   ]
  },
  {
   "cell_type": "markdown",
   "source": [
    "Docstrings"
   ],
   "metadata": {
    "id": "i36mtf8XBPPO"
   }
  },
  {
   "cell_type": "code",
   "source": [
    "def square(value):       #<- Function Header\n",
    "    \"\"\"Returns the square of a value but the description could be more detailed.\"\"\"      #<-   Docstring\n",
    "    new_value = value ** 2     #<- Function body\n",
    "    print(new_value)\n",
    "    return new_value\n",
    "\n",
    "square(3, 3)"
   ],
   "metadata": {
    "id": "-pquXlhgBQmN"
   },
   "execution_count": null,
   "outputs": []
  },
  {
   "cell_type": "markdown",
   "source": [
    "Multiple Parameters and Return Values"
   ],
   "metadata": {
    "id": "USAQzcinB7B2"
   }
  },
  {
   "cell_type": "code",
   "source": [
    "def raise_to_power(value, second_value):       #<- Function Header\n",
    "    \"\"\"Returns the square of a value but the description could be more detailed.\"\"\"      #<-   Docstring\n",
    "    new_value = value ** second_value     #<- Function body\n",
    "    print(new_value)\n",
    "    return new_value\n",
    "\n",
    "raise_to_power(3, 3)"
   ],
   "metadata": {
    "id": "2KUgz-dsB_hW"
   },
   "execution_count": null,
   "outputs": []
  },
  {
   "cell_type": "code",
   "source": [
    "def raise_both(value1, value2):\n",
    "  \"\"\"Hello\"\"\"\n",
    "  new_value_1 = value1 ** value2\n",
    "  new_value_2 = value2 ** value1\n",
    "\n",
    "  new_tuple = (new_value_1, new_value_2)\n",
    "\n",
    "  return new_tuple\n",
    "\n",
    "result = raise_both(2, 3)\n",
    "\n",
    "print(result)"
   ],
   "metadata": {
    "colab": {
     "base_uri": "https://localhost:8080/"
    },
    "id": "MGknHX2pC3u8",
    "outputId": "478554de-706b-4172-d3e5-062e91ef2583"
   },
   "execution_count": 20,
   "outputs": [
    {
     "output_type": "stream",
     "name": "stdout",
     "text": [
      "(8, 9)\n"
     ]
    }
   ]
  },
  {
   "cell_type": "markdown",
   "source": [
    "Combine the methods"
   ],
   "metadata": {
    "id": "SieNrY51FSPC"
   }
  },
  {
   "cell_type": "code",
   "source": [
    "# Impower pandas\n",
    "import pandas as pd\n",
    "\n",
    "# Import data\n",
    "import plotly.express as px\n",
    "df = px.data.gapminder()\n",
    "print(gapminder.head)\n",
    "\n",
    "# Initialize an empty dictionary\n",
    "dictionary = {}\n",
    "col = df['continent']\n",
    "\n",
    "# Iterate over country column\n",
    "for entry in col:\n",
    "  # If the country is in col, add 1 \n",
    "  if entry in dictionary.keys():\n",
    "    dictionary[entry] += 1\n",
    "  # Else add the add the value to dictionary, set value to 1\n",
    "  else:\n",
    "    dictionary[entry] = 1 \n",
    "  # Print dicionary\n",
    "  print(dictionary)\n",
    "\n",
    "# last_key = list(dictionary)[-1]\n",
    "# print(last_key) \n",
    "# print(dictionary[last_key]) \n"
   ],
   "metadata": {
    "colab": {
     "base_uri": "https://localhost:8080/"
    },
    "id": "14-i1PSKFTXl",
    "outputId": "f8984a0b-cc1d-4c68-c975-cf33704ebfc0"
   },
   "execution_count": 48,
   "outputs": [
    {
     "output_type": "stream",
     "name": "stdout",
     "text": [
      "<bound method NDFrame.head of           country continent  year  lifeExp       pop   gdpPercap iso_alpha  \\\n",
      "0     Afghanistan      Asia  1952   28.801   8425333  779.445314       AFG   \n",
      "1     Afghanistan      Asia  1957   30.332   9240934  820.853030       AFG   \n",
      "2     Afghanistan      Asia  1962   31.997  10267083  853.100710       AFG   \n",
      "3     Afghanistan      Asia  1967   34.020  11537966  836.197138       AFG   \n",
      "4     Afghanistan      Asia  1972   36.088  13079460  739.981106       AFG   \n",
      "...           ...       ...   ...      ...       ...         ...       ...   \n",
      "1699     Zimbabwe    Africa  1987   62.351   9216418  706.157306       ZWE   \n",
      "1700     Zimbabwe    Africa  1992   60.377  10704340  693.420786       ZWE   \n",
      "1701     Zimbabwe    Africa  1997   46.809  11404948  792.449960       ZWE   \n",
      "1702     Zimbabwe    Africa  2002   39.989  11926563  672.038623       ZWE   \n",
      "1703     Zimbabwe    Africa  2007   43.487  12311143  469.709298       ZWE   \n",
      "\n",
      "      iso_num  \n",
      "0           4  \n",
      "1           4  \n",
      "2           4  \n",
      "3           4  \n",
      "4           4  \n",
      "...       ...  \n",
      "1699      716  \n",
      "1700      716  \n",
      "1701      716  \n",
      "1702      716  \n",
      "1703      716  \n",
      "\n",
      "[1704 rows x 8 columns]>\n",
      "{'Asia': 1}\n",
      "{'Asia': 2}\n",
      "{'Asia': 3}\n",
      "{'Asia': 4}\n",
      "{'Asia': 5}\n",
      "{'Asia': 6}\n",
      "{'Asia': 7}\n",
      "{'Asia': 8}\n",
      "{'Asia': 9}\n",
      "{'Asia': 10}\n",
      "{'Asia': 11}\n",
      "{'Asia': 12}\n",
      "{'Asia': 12, 'Europe': 1}\n",
      "{'Asia': 12, 'Europe': 2}\n",
      "{'Asia': 12, 'Europe': 3}\n",
      "{'Asia': 12, 'Europe': 4}\n",
      "{'Asia': 12, 'Europe': 5}\n",
      "{'Asia': 12, 'Europe': 6}\n",
      "{'Asia': 12, 'Europe': 7}\n",
      "{'Asia': 12, 'Europe': 8}\n",
      "{'Asia': 12, 'Europe': 9}\n",
      "{'Asia': 12, 'Europe': 10}\n",
      "{'Asia': 12, 'Europe': 11}\n",
      "{'Asia': 12, 'Europe': 12}\n",
      "{'Asia': 12, 'Europe': 12, 'Africa': 1}\n",
      "{'Asia': 12, 'Europe': 12, 'Africa': 2}\n",
      "{'Asia': 12, 'Europe': 12, 'Africa': 3}\n",
      "{'Asia': 12, 'Europe': 12, 'Africa': 4}\n",
      "{'Asia': 12, 'Europe': 12, 'Africa': 5}\n",
      "{'Asia': 12, 'Europe': 12, 'Africa': 6}\n",
      "{'Asia': 12, 'Europe': 12, 'Africa': 7}\n",
      "{'Asia': 12, 'Europe': 12, 'Africa': 8}\n",
      "{'Asia': 12, 'Europe': 12, 'Africa': 9}\n",
      "{'Asia': 12, 'Europe': 12, 'Africa': 10}\n",
      "{'Asia': 12, 'Europe': 12, 'Africa': 11}\n",
      "{'Asia': 12, 'Europe': 12, 'Africa': 12}\n",
      "{'Asia': 12, 'Europe': 12, 'Africa': 13}\n",
      "{'Asia': 12, 'Europe': 12, 'Africa': 14}\n",
      "{'Asia': 12, 'Europe': 12, 'Africa': 15}\n",
      "{'Asia': 12, 'Europe': 12, 'Africa': 16}\n",
      "{'Asia': 12, 'Europe': 12, 'Africa': 17}\n",
      "{'Asia': 12, 'Europe': 12, 'Africa': 18}\n",
      "{'Asia': 12, 'Europe': 12, 'Africa': 19}\n",
      "{'Asia': 12, 'Europe': 12, 'Africa': 20}\n",
      "{'Asia': 12, 'Europe': 12, 'Africa': 21}\n",
      "{'Asia': 12, 'Europe': 12, 'Africa': 22}\n",
      "{'Asia': 12, 'Europe': 12, 'Africa': 23}\n",
      "{'Asia': 12, 'Europe': 12, 'Africa': 24}\n",
      "{'Asia': 12, 'Europe': 12, 'Africa': 24, 'Americas': 1}\n",
      "{'Asia': 12, 'Europe': 12, 'Africa': 24, 'Americas': 2}\n",
      "{'Asia': 12, 'Europe': 12, 'Africa': 24, 'Americas': 3}\n",
      "{'Asia': 12, 'Europe': 12, 'Africa': 24, 'Americas': 4}\n",
      "{'Asia': 12, 'Europe': 12, 'Africa': 24, 'Americas': 5}\n",
      "{'Asia': 12, 'Europe': 12, 'Africa': 24, 'Americas': 6}\n",
      "{'Asia': 12, 'Europe': 12, 'Africa': 24, 'Americas': 7}\n",
      "{'Asia': 12, 'Europe': 12, 'Africa': 24, 'Americas': 8}\n",
      "{'Asia': 12, 'Europe': 12, 'Africa': 24, 'Americas': 9}\n",
      "{'Asia': 12, 'Europe': 12, 'Africa': 24, 'Americas': 10}\n",
      "{'Asia': 12, 'Europe': 12, 'Africa': 24, 'Americas': 11}\n",
      "{'Asia': 12, 'Europe': 12, 'Africa': 24, 'Americas': 12}\n",
      "{'Asia': 12, 'Europe': 12, 'Africa': 24, 'Americas': 12, 'Oceania': 1}\n",
      "{'Asia': 12, 'Europe': 12, 'Africa': 24, 'Americas': 12, 'Oceania': 2}\n",
      "{'Asia': 12, 'Europe': 12, 'Africa': 24, 'Americas': 12, 'Oceania': 3}\n",
      "{'Asia': 12, 'Europe': 12, 'Africa': 24, 'Americas': 12, 'Oceania': 4}\n",
      "{'Asia': 12, 'Europe': 12, 'Africa': 24, 'Americas': 12, 'Oceania': 5}\n",
      "{'Asia': 12, 'Europe': 12, 'Africa': 24, 'Americas': 12, 'Oceania': 6}\n",
      "{'Asia': 12, 'Europe': 12, 'Africa': 24, 'Americas': 12, 'Oceania': 7}\n",
      "{'Asia': 12, 'Europe': 12, 'Africa': 24, 'Americas': 12, 'Oceania': 8}\n",
      "{'Asia': 12, 'Europe': 12, 'Africa': 24, 'Americas': 12, 'Oceania': 9}\n",
      "{'Asia': 12, 'Europe': 12, 'Africa': 24, 'Americas': 12, 'Oceania': 10}\n",
      "{'Asia': 12, 'Europe': 12, 'Africa': 24, 'Americas': 12, 'Oceania': 11}\n",
      "{'Asia': 12, 'Europe': 12, 'Africa': 24, 'Americas': 12, 'Oceania': 12}\n",
      "{'Asia': 12, 'Europe': 13, 'Africa': 24, 'Americas': 12, 'Oceania': 12}\n",
      "{'Asia': 12, 'Europe': 14, 'Africa': 24, 'Americas': 12, 'Oceania': 12}\n",
      "{'Asia': 12, 'Europe': 15, 'Africa': 24, 'Americas': 12, 'Oceania': 12}\n",
      "{'Asia': 12, 'Europe': 16, 'Africa': 24, 'Americas': 12, 'Oceania': 12}\n",
      "{'Asia': 12, 'Europe': 17, 'Africa': 24, 'Americas': 12, 'Oceania': 12}\n",
      "{'Asia': 12, 'Europe': 18, 'Africa': 24, 'Americas': 12, 'Oceania': 12}\n",
      "{'Asia': 12, 'Europe': 19, 'Africa': 24, 'Americas': 12, 'Oceania': 12}\n",
      "{'Asia': 12, 'Europe': 20, 'Africa': 24, 'Americas': 12, 'Oceania': 12}\n",
      "{'Asia': 12, 'Europe': 21, 'Africa': 24, 'Americas': 12, 'Oceania': 12}\n",
      "{'Asia': 12, 'Europe': 22, 'Africa': 24, 'Americas': 12, 'Oceania': 12}\n",
      "{'Asia': 12, 'Europe': 23, 'Africa': 24, 'Americas': 12, 'Oceania': 12}\n",
      "{'Asia': 12, 'Europe': 24, 'Africa': 24, 'Americas': 12, 'Oceania': 12}\n",
      "{'Asia': 13, 'Europe': 24, 'Africa': 24, 'Americas': 12, 'Oceania': 12}\n",
      "{'Asia': 14, 'Europe': 24, 'Africa': 24, 'Americas': 12, 'Oceania': 12}\n",
      "{'Asia': 15, 'Europe': 24, 'Africa': 24, 'Americas': 12, 'Oceania': 12}\n",
      "{'Asia': 16, 'Europe': 24, 'Africa': 24, 'Americas': 12, 'Oceania': 12}\n",
      "{'Asia': 17, 'Europe': 24, 'Africa': 24, 'Americas': 12, 'Oceania': 12}\n",
      "{'Asia': 18, 'Europe': 24, 'Africa': 24, 'Americas': 12, 'Oceania': 12}\n",
      "{'Asia': 19, 'Europe': 24, 'Africa': 24, 'Americas': 12, 'Oceania': 12}\n",
      "{'Asia': 20, 'Europe': 24, 'Africa': 24, 'Americas': 12, 'Oceania': 12}\n",
      "{'Asia': 21, 'Europe': 24, 'Africa': 24, 'Americas': 12, 'Oceania': 12}\n",
      "{'Asia': 22, 'Europe': 24, 'Africa': 24, 'Americas': 12, 'Oceania': 12}\n",
      "{'Asia': 23, 'Europe': 24, 'Africa': 24, 'Americas': 12, 'Oceania': 12}\n",
      "{'Asia': 24, 'Europe': 24, 'Africa': 24, 'Americas': 12, 'Oceania': 12}\n",
      "{'Asia': 25, 'Europe': 24, 'Africa': 24, 'Americas': 12, 'Oceania': 12}\n",
      "{'Asia': 26, 'Europe': 24, 'Africa': 24, 'Americas': 12, 'Oceania': 12}\n",
      "{'Asia': 27, 'Europe': 24, 'Africa': 24, 'Americas': 12, 'Oceania': 12}\n",
      "{'Asia': 28, 'Europe': 24, 'Africa': 24, 'Americas': 12, 'Oceania': 12}\n",
      "{'Asia': 29, 'Europe': 24, 'Africa': 24, 'Americas': 12, 'Oceania': 12}\n",
      "{'Asia': 30, 'Europe': 24, 'Africa': 24, 'Americas': 12, 'Oceania': 12}\n",
      "{'Asia': 31, 'Europe': 24, 'Africa': 24, 'Americas': 12, 'Oceania': 12}\n",
      "{'Asia': 32, 'Europe': 24, 'Africa': 24, 'Americas': 12, 'Oceania': 12}\n",
      "{'Asia': 33, 'Europe': 24, 'Africa': 24, 'Americas': 12, 'Oceania': 12}\n",
      "{'Asia': 34, 'Europe': 24, 'Africa': 24, 'Americas': 12, 'Oceania': 12}\n",
      "{'Asia': 35, 'Europe': 24, 'Africa': 24, 'Americas': 12, 'Oceania': 12}\n",
      "{'Asia': 36, 'Europe': 24, 'Africa': 24, 'Americas': 12, 'Oceania': 12}\n",
      "{'Asia': 36, 'Europe': 25, 'Africa': 24, 'Americas': 12, 'Oceania': 12}\n",
      "{'Asia': 36, 'Europe': 26, 'Africa': 24, 'Americas': 12, 'Oceania': 12}\n",
      "{'Asia': 36, 'Europe': 27, 'Africa': 24, 'Americas': 12, 'Oceania': 12}\n",
      "{'Asia': 36, 'Europe': 28, 'Africa': 24, 'Americas': 12, 'Oceania': 12}\n",
      "{'Asia': 36, 'Europe': 29, 'Africa': 24, 'Americas': 12, 'Oceania': 12}\n",
      "{'Asia': 36, 'Europe': 30, 'Africa': 24, 'Americas': 12, 'Oceania': 12}\n",
      "{'Asia': 36, 'Europe': 31, 'Africa': 24, 'Americas': 12, 'Oceania': 12}\n",
      "{'Asia': 36, 'Europe': 32, 'Africa': 24, 'Americas': 12, 'Oceania': 12}\n",
      "{'Asia': 36, 'Europe': 33, 'Africa': 24, 'Americas': 12, 'Oceania': 12}\n",
      "{'Asia': 36, 'Europe': 34, 'Africa': 24, 'Americas': 12, 'Oceania': 12}\n",
      "{'Asia': 36, 'Europe': 35, 'Africa': 24, 'Americas': 12, 'Oceania': 12}\n",
      "{'Asia': 36, 'Europe': 36, 'Africa': 24, 'Americas': 12, 'Oceania': 12}\n",
      "{'Asia': 36, 'Europe': 36, 'Africa': 25, 'Americas': 12, 'Oceania': 12}\n",
      "{'Asia': 36, 'Europe': 36, 'Africa': 26, 'Americas': 12, 'Oceania': 12}\n",
      "{'Asia': 36, 'Europe': 36, 'Africa': 27, 'Americas': 12, 'Oceania': 12}\n",
      "{'Asia': 36, 'Europe': 36, 'Africa': 28, 'Americas': 12, 'Oceania': 12}\n",
      "{'Asia': 36, 'Europe': 36, 'Africa': 29, 'Americas': 12, 'Oceania': 12}\n",
      "{'Asia': 36, 'Europe': 36, 'Africa': 30, 'Americas': 12, 'Oceania': 12}\n",
      "{'Asia': 36, 'Europe': 36, 'Africa': 31, 'Americas': 12, 'Oceania': 12}\n",
      "{'Asia': 36, 'Europe': 36, 'Africa': 32, 'Americas': 12, 'Oceania': 12}\n",
      "{'Asia': 36, 'Europe': 36, 'Africa': 33, 'Americas': 12, 'Oceania': 12}\n",
      "{'Asia': 36, 'Europe': 36, 'Africa': 34, 'Americas': 12, 'Oceania': 12}\n",
      "{'Asia': 36, 'Europe': 36, 'Africa': 35, 'Americas': 12, 'Oceania': 12}\n",
      "{'Asia': 36, 'Europe': 36, 'Africa': 36, 'Americas': 12, 'Oceania': 12}\n",
      "{'Asia': 36, 'Europe': 36, 'Africa': 36, 'Americas': 13, 'Oceania': 12}\n",
      "{'Asia': 36, 'Europe': 36, 'Africa': 36, 'Americas': 14, 'Oceania': 12}\n",
      "{'Asia': 36, 'Europe': 36, 'Africa': 36, 'Americas': 15, 'Oceania': 12}\n",
      "{'Asia': 36, 'Europe': 36, 'Africa': 36, 'Americas': 16, 'Oceania': 12}\n",
      "{'Asia': 36, 'Europe': 36, 'Africa': 36, 'Americas': 17, 'Oceania': 12}\n",
      "{'Asia': 36, 'Europe': 36, 'Africa': 36, 'Americas': 18, 'Oceania': 12}\n",
      "{'Asia': 36, 'Europe': 36, 'Africa': 36, 'Americas': 19, 'Oceania': 12}\n",
      "{'Asia': 36, 'Europe': 36, 'Africa': 36, 'Americas': 20, 'Oceania': 12}\n",
      "{'Asia': 36, 'Europe': 36, 'Africa': 36, 'Americas': 21, 'Oceania': 12}\n",
      "{'Asia': 36, 'Europe': 36, 'Africa': 36, 'Americas': 22, 'Oceania': 12}\n",
      "{'Asia': 36, 'Europe': 36, 'Africa': 36, 'Americas': 23, 'Oceania': 12}\n",
      "{'Asia': 36, 'Europe': 36, 'Africa': 36, 'Americas': 24, 'Oceania': 12}\n",
      "{'Asia': 36, 'Europe': 37, 'Africa': 36, 'Americas': 24, 'Oceania': 12}\n",
      "{'Asia': 36, 'Europe': 38, 'Africa': 36, 'Americas': 24, 'Oceania': 12}\n",
      "{'Asia': 36, 'Europe': 39, 'Africa': 36, 'Americas': 24, 'Oceania': 12}\n",
      "{'Asia': 36, 'Europe': 40, 'Africa': 36, 'Americas': 24, 'Oceania': 12}\n",
      "{'Asia': 36, 'Europe': 41, 'Africa': 36, 'Americas': 24, 'Oceania': 12}\n",
      "{'Asia': 36, 'Europe': 42, 'Africa': 36, 'Americas': 24, 'Oceania': 12}\n",
      "{'Asia': 36, 'Europe': 43, 'Africa': 36, 'Americas': 24, 'Oceania': 12}\n",
      "{'Asia': 36, 'Europe': 44, 'Africa': 36, 'Americas': 24, 'Oceania': 12}\n",
      "{'Asia': 36, 'Europe': 45, 'Africa': 36, 'Americas': 24, 'Oceania': 12}\n",
      "{'Asia': 36, 'Europe': 46, 'Africa': 36, 'Americas': 24, 'Oceania': 12}\n",
      "{'Asia': 36, 'Europe': 47, 'Africa': 36, 'Americas': 24, 'Oceania': 12}\n",
      "{'Asia': 36, 'Europe': 48, 'Africa': 36, 'Americas': 24, 'Oceania': 12}\n",
      "{'Asia': 36, 'Europe': 48, 'Africa': 37, 'Americas': 24, 'Oceania': 12}\n",
      "{'Asia': 36, 'Europe': 48, 'Africa': 38, 'Americas': 24, 'Oceania': 12}\n",
      "{'Asia': 36, 'Europe': 48, 'Africa': 39, 'Americas': 24, 'Oceania': 12}\n",
      "{'Asia': 36, 'Europe': 48, 'Africa': 40, 'Americas': 24, 'Oceania': 12}\n",
      "{'Asia': 36, 'Europe': 48, 'Africa': 41, 'Americas': 24, 'Oceania': 12}\n",
      "{'Asia': 36, 'Europe': 48, 'Africa': 42, 'Americas': 24, 'Oceania': 12}\n",
      "{'Asia': 36, 'Europe': 48, 'Africa': 43, 'Americas': 24, 'Oceania': 12}\n",
      "{'Asia': 36, 'Europe': 48, 'Africa': 44, 'Americas': 24, 'Oceania': 12}\n",
      "{'Asia': 36, 'Europe': 48, 'Africa': 45, 'Americas': 24, 'Oceania': 12}\n",
      "{'Asia': 36, 'Europe': 48, 'Africa': 46, 'Americas': 24, 'Oceania': 12}\n",
      "{'Asia': 36, 'Europe': 48, 'Africa': 47, 'Americas': 24, 'Oceania': 12}\n",
      "{'Asia': 36, 'Europe': 48, 'Africa': 48, 'Americas': 24, 'Oceania': 12}\n",
      "{'Asia': 36, 'Europe': 48, 'Africa': 48, 'Americas': 25, 'Oceania': 12}\n",
      "{'Asia': 36, 'Europe': 48, 'Africa': 48, 'Americas': 26, 'Oceania': 12}\n",
      "{'Asia': 36, 'Europe': 48, 'Africa': 48, 'Americas': 27, 'Oceania': 12}\n",
      "{'Asia': 36, 'Europe': 48, 'Africa': 48, 'Americas': 28, 'Oceania': 12}\n",
      "{'Asia': 36, 'Europe': 48, 'Africa': 48, 'Americas': 29, 'Oceania': 12}\n",
      "{'Asia': 36, 'Europe': 48, 'Africa': 48, 'Americas': 30, 'Oceania': 12}\n",
      "{'Asia': 36, 'Europe': 48, 'Africa': 48, 'Americas': 31, 'Oceania': 12}\n",
      "{'Asia': 36, 'Europe': 48, 'Africa': 48, 'Americas': 32, 'Oceania': 12}\n",
      "{'Asia': 36, 'Europe': 48, 'Africa': 48, 'Americas': 33, 'Oceania': 12}\n",
      "{'Asia': 36, 'Europe': 48, 'Africa': 48, 'Americas': 34, 'Oceania': 12}\n",
      "{'Asia': 36, 'Europe': 48, 'Africa': 48, 'Americas': 35, 'Oceania': 12}\n",
      "{'Asia': 36, 'Europe': 48, 'Africa': 48, 'Americas': 36, 'Oceania': 12}\n",
      "{'Asia': 36, 'Europe': 49, 'Africa': 48, 'Americas': 36, 'Oceania': 12}\n",
      "{'Asia': 36, 'Europe': 50, 'Africa': 48, 'Americas': 36, 'Oceania': 12}\n",
      "{'Asia': 36, 'Europe': 51, 'Africa': 48, 'Americas': 36, 'Oceania': 12}\n",
      "{'Asia': 36, 'Europe': 52, 'Africa': 48, 'Americas': 36, 'Oceania': 12}\n",
      "{'Asia': 36, 'Europe': 53, 'Africa': 48, 'Americas': 36, 'Oceania': 12}\n",
      "{'Asia': 36, 'Europe': 54, 'Africa': 48, 'Americas': 36, 'Oceania': 12}\n",
      "{'Asia': 36, 'Europe': 55, 'Africa': 48, 'Americas': 36, 'Oceania': 12}\n",
      "{'Asia': 36, 'Europe': 56, 'Africa': 48, 'Americas': 36, 'Oceania': 12}\n",
      "{'Asia': 36, 'Europe': 57, 'Africa': 48, 'Americas': 36, 'Oceania': 12}\n",
      "{'Asia': 36, 'Europe': 58, 'Africa': 48, 'Americas': 36, 'Oceania': 12}\n",
      "{'Asia': 36, 'Europe': 59, 'Africa': 48, 'Americas': 36, 'Oceania': 12}\n",
      "{'Asia': 36, 'Europe': 60, 'Africa': 48, 'Americas': 36, 'Oceania': 12}\n",
      "{'Asia': 36, 'Europe': 60, 'Africa': 49, 'Americas': 36, 'Oceania': 12}\n",
      "{'Asia': 36, 'Europe': 60, 'Africa': 50, 'Americas': 36, 'Oceania': 12}\n",
      "{'Asia': 36, 'Europe': 60, 'Africa': 51, 'Americas': 36, 'Oceania': 12}\n",
      "{'Asia': 36, 'Europe': 60, 'Africa': 52, 'Americas': 36, 'Oceania': 12}\n",
      "{'Asia': 36, 'Europe': 60, 'Africa': 53, 'Americas': 36, 'Oceania': 12}\n",
      "{'Asia': 36, 'Europe': 60, 'Africa': 54, 'Americas': 36, 'Oceania': 12}\n",
      "{'Asia': 36, 'Europe': 60, 'Africa': 55, 'Americas': 36, 'Oceania': 12}\n",
      "{'Asia': 36, 'Europe': 60, 'Africa': 56, 'Americas': 36, 'Oceania': 12}\n",
      "{'Asia': 36, 'Europe': 60, 'Africa': 57, 'Americas': 36, 'Oceania': 12}\n",
      "{'Asia': 36, 'Europe': 60, 'Africa': 58, 'Americas': 36, 'Oceania': 12}\n",
      "{'Asia': 36, 'Europe': 60, 'Africa': 59, 'Americas': 36, 'Oceania': 12}\n",
      "{'Asia': 36, 'Europe': 60, 'Africa': 60, 'Americas': 36, 'Oceania': 12}\n",
      "{'Asia': 36, 'Europe': 60, 'Africa': 61, 'Americas': 36, 'Oceania': 12}\n",
      "{'Asia': 36, 'Europe': 60, 'Africa': 62, 'Americas': 36, 'Oceania': 12}\n",
      "{'Asia': 36, 'Europe': 60, 'Africa': 63, 'Americas': 36, 'Oceania': 12}\n",
      "{'Asia': 36, 'Europe': 60, 'Africa': 64, 'Americas': 36, 'Oceania': 12}\n",
      "{'Asia': 36, 'Europe': 60, 'Africa': 65, 'Americas': 36, 'Oceania': 12}\n",
      "{'Asia': 36, 'Europe': 60, 'Africa': 66, 'Americas': 36, 'Oceania': 12}\n",
      "{'Asia': 36, 'Europe': 60, 'Africa': 67, 'Americas': 36, 'Oceania': 12}\n",
      "{'Asia': 36, 'Europe': 60, 'Africa': 68, 'Americas': 36, 'Oceania': 12}\n",
      "{'Asia': 36, 'Europe': 60, 'Africa': 69, 'Americas': 36, 'Oceania': 12}\n",
      "{'Asia': 36, 'Europe': 60, 'Africa': 70, 'Americas': 36, 'Oceania': 12}\n",
      "{'Asia': 36, 'Europe': 60, 'Africa': 71, 'Americas': 36, 'Oceania': 12}\n",
      "{'Asia': 36, 'Europe': 60, 'Africa': 72, 'Americas': 36, 'Oceania': 12}\n",
      "{'Asia': 37, 'Europe': 60, 'Africa': 72, 'Americas': 36, 'Oceania': 12}\n",
      "{'Asia': 38, 'Europe': 60, 'Africa': 72, 'Americas': 36, 'Oceania': 12}\n",
      "{'Asia': 39, 'Europe': 60, 'Africa': 72, 'Americas': 36, 'Oceania': 12}\n",
      "{'Asia': 40, 'Europe': 60, 'Africa': 72, 'Americas': 36, 'Oceania': 12}\n",
      "{'Asia': 41, 'Europe': 60, 'Africa': 72, 'Americas': 36, 'Oceania': 12}\n",
      "{'Asia': 42, 'Europe': 60, 'Africa': 72, 'Americas': 36, 'Oceania': 12}\n",
      "{'Asia': 43, 'Europe': 60, 'Africa': 72, 'Americas': 36, 'Oceania': 12}\n",
      "{'Asia': 44, 'Europe': 60, 'Africa': 72, 'Americas': 36, 'Oceania': 12}\n",
      "{'Asia': 45, 'Europe': 60, 'Africa': 72, 'Americas': 36, 'Oceania': 12}\n",
      "{'Asia': 46, 'Europe': 60, 'Africa': 72, 'Americas': 36, 'Oceania': 12}\n",
      "{'Asia': 47, 'Europe': 60, 'Africa': 72, 'Americas': 36, 'Oceania': 12}\n",
      "{'Asia': 48, 'Europe': 60, 'Africa': 72, 'Americas': 36, 'Oceania': 12}\n",
      "{'Asia': 48, 'Europe': 60, 'Africa': 73, 'Americas': 36, 'Oceania': 12}\n",
      "{'Asia': 48, 'Europe': 60, 'Africa': 74, 'Americas': 36, 'Oceania': 12}\n",
      "{'Asia': 48, 'Europe': 60, 'Africa': 75, 'Americas': 36, 'Oceania': 12}\n",
      "{'Asia': 48, 'Europe': 60, 'Africa': 76, 'Americas': 36, 'Oceania': 12}\n",
      "{'Asia': 48, 'Europe': 60, 'Africa': 77, 'Americas': 36, 'Oceania': 12}\n",
      "{'Asia': 48, 'Europe': 60, 'Africa': 78, 'Americas': 36, 'Oceania': 12}\n",
      "{'Asia': 48, 'Europe': 60, 'Africa': 79, 'Americas': 36, 'Oceania': 12}\n",
      "{'Asia': 48, 'Europe': 60, 'Africa': 80, 'Americas': 36, 'Oceania': 12}\n",
      "{'Asia': 48, 'Europe': 60, 'Africa': 81, 'Americas': 36, 'Oceania': 12}\n",
      "{'Asia': 48, 'Europe': 60, 'Africa': 82, 'Americas': 36, 'Oceania': 12}\n",
      "{'Asia': 48, 'Europe': 60, 'Africa': 83, 'Americas': 36, 'Oceania': 12}\n",
      "{'Asia': 48, 'Europe': 60, 'Africa': 84, 'Americas': 36, 'Oceania': 12}\n",
      "{'Asia': 48, 'Europe': 60, 'Africa': 84, 'Americas': 37, 'Oceania': 12}\n",
      "{'Asia': 48, 'Europe': 60, 'Africa': 84, 'Americas': 38, 'Oceania': 12}\n",
      "{'Asia': 48, 'Europe': 60, 'Africa': 84, 'Americas': 39, 'Oceania': 12}\n",
      "{'Asia': 48, 'Europe': 60, 'Africa': 84, 'Americas': 40, 'Oceania': 12}\n",
      "{'Asia': 48, 'Europe': 60, 'Africa': 84, 'Americas': 41, 'Oceania': 12}\n",
      "{'Asia': 48, 'Europe': 60, 'Africa': 84, 'Americas': 42, 'Oceania': 12}\n",
      "{'Asia': 48, 'Europe': 60, 'Africa': 84, 'Americas': 43, 'Oceania': 12}\n",
      "{'Asia': 48, 'Europe': 60, 'Africa': 84, 'Americas': 44, 'Oceania': 12}\n",
      "{'Asia': 48, 'Europe': 60, 'Africa': 84, 'Americas': 45, 'Oceania': 12}\n",
      "{'Asia': 48, 'Europe': 60, 'Africa': 84, 'Americas': 46, 'Oceania': 12}\n",
      "{'Asia': 48, 'Europe': 60, 'Africa': 84, 'Americas': 47, 'Oceania': 12}\n",
      "{'Asia': 48, 'Europe': 60, 'Africa': 84, 'Americas': 48, 'Oceania': 12}\n",
      "{'Asia': 48, 'Europe': 60, 'Africa': 85, 'Americas': 48, 'Oceania': 12}\n",
      "{'Asia': 48, 'Europe': 60, 'Africa': 86, 'Americas': 48, 'Oceania': 12}\n",
      "{'Asia': 48, 'Europe': 60, 'Africa': 87, 'Americas': 48, 'Oceania': 12}\n",
      "{'Asia': 48, 'Europe': 60, 'Africa': 88, 'Americas': 48, 'Oceania': 12}\n",
      "{'Asia': 48, 'Europe': 60, 'Africa': 89, 'Americas': 48, 'Oceania': 12}\n",
      "{'Asia': 48, 'Europe': 60, 'Africa': 90, 'Americas': 48, 'Oceania': 12}\n",
      "{'Asia': 48, 'Europe': 60, 'Africa': 91, 'Americas': 48, 'Oceania': 12}\n",
      "{'Asia': 48, 'Europe': 60, 'Africa': 92, 'Americas': 48, 'Oceania': 12}\n",
      "{'Asia': 48, 'Europe': 60, 'Africa': 93, 'Americas': 48, 'Oceania': 12}\n",
      "{'Asia': 48, 'Europe': 60, 'Africa': 94, 'Americas': 48, 'Oceania': 12}\n",
      "{'Asia': 48, 'Europe': 60, 'Africa': 95, 'Americas': 48, 'Oceania': 12}\n",
      "{'Asia': 48, 'Europe': 60, 'Africa': 96, 'Americas': 48, 'Oceania': 12}\n",
      "{'Asia': 48, 'Europe': 60, 'Africa': 97, 'Americas': 48, 'Oceania': 12}\n",
      "{'Asia': 48, 'Europe': 60, 'Africa': 98, 'Americas': 48, 'Oceania': 12}\n",
      "{'Asia': 48, 'Europe': 60, 'Africa': 99, 'Americas': 48, 'Oceania': 12}\n",
      "{'Asia': 48, 'Europe': 60, 'Africa': 100, 'Americas': 48, 'Oceania': 12}\n",
      "{'Asia': 48, 'Europe': 60, 'Africa': 101, 'Americas': 48, 'Oceania': 12}\n",
      "{'Asia': 48, 'Europe': 60, 'Africa': 102, 'Americas': 48, 'Oceania': 12}\n",
      "{'Asia': 48, 'Europe': 60, 'Africa': 103, 'Americas': 48, 'Oceania': 12}\n",
      "{'Asia': 48, 'Europe': 60, 'Africa': 104, 'Americas': 48, 'Oceania': 12}\n",
      "{'Asia': 48, 'Europe': 60, 'Africa': 105, 'Americas': 48, 'Oceania': 12}\n",
      "{'Asia': 48, 'Europe': 60, 'Africa': 106, 'Americas': 48, 'Oceania': 12}\n",
      "{'Asia': 48, 'Europe': 60, 'Africa': 107, 'Americas': 48, 'Oceania': 12}\n",
      "{'Asia': 48, 'Europe': 60, 'Africa': 108, 'Americas': 48, 'Oceania': 12}\n",
      "{'Asia': 48, 'Europe': 60, 'Africa': 108, 'Americas': 49, 'Oceania': 12}\n",
      "{'Asia': 48, 'Europe': 60, 'Africa': 108, 'Americas': 50, 'Oceania': 12}\n",
      "{'Asia': 48, 'Europe': 60, 'Africa': 108, 'Americas': 51, 'Oceania': 12}\n",
      "{'Asia': 48, 'Europe': 60, 'Africa': 108, 'Americas': 52, 'Oceania': 12}\n",
      "{'Asia': 48, 'Europe': 60, 'Africa': 108, 'Americas': 53, 'Oceania': 12}\n",
      "{'Asia': 48, 'Europe': 60, 'Africa': 108, 'Americas': 54, 'Oceania': 12}\n",
      "{'Asia': 48, 'Europe': 60, 'Africa': 108, 'Americas': 55, 'Oceania': 12}\n",
      "{'Asia': 48, 'Europe': 60, 'Africa': 108, 'Americas': 56, 'Oceania': 12}\n",
      "{'Asia': 48, 'Europe': 60, 'Africa': 108, 'Americas': 57, 'Oceania': 12}\n",
      "{'Asia': 48, 'Europe': 60, 'Africa': 108, 'Americas': 58, 'Oceania': 12}\n",
      "{'Asia': 48, 'Europe': 60, 'Africa': 108, 'Americas': 59, 'Oceania': 12}\n",
      "{'Asia': 48, 'Europe': 60, 'Africa': 108, 'Americas': 60, 'Oceania': 12}\n",
      "{'Asia': 49, 'Europe': 60, 'Africa': 108, 'Americas': 60, 'Oceania': 12}\n",
      "{'Asia': 50, 'Europe': 60, 'Africa': 108, 'Americas': 60, 'Oceania': 12}\n",
      "{'Asia': 51, 'Europe': 60, 'Africa': 108, 'Americas': 60, 'Oceania': 12}\n",
      "{'Asia': 52, 'Europe': 60, 'Africa': 108, 'Americas': 60, 'Oceania': 12}\n",
      "{'Asia': 53, 'Europe': 60, 'Africa': 108, 'Americas': 60, 'Oceania': 12}\n",
      "{'Asia': 54, 'Europe': 60, 'Africa': 108, 'Americas': 60, 'Oceania': 12}\n",
      "{'Asia': 55, 'Europe': 60, 'Africa': 108, 'Americas': 60, 'Oceania': 12}\n",
      "{'Asia': 56, 'Europe': 60, 'Africa': 108, 'Americas': 60, 'Oceania': 12}\n",
      "{'Asia': 57, 'Europe': 60, 'Africa': 108, 'Americas': 60, 'Oceania': 12}\n",
      "{'Asia': 58, 'Europe': 60, 'Africa': 108, 'Americas': 60, 'Oceania': 12}\n",
      "{'Asia': 59, 'Europe': 60, 'Africa': 108, 'Americas': 60, 'Oceania': 12}\n",
      "{'Asia': 60, 'Europe': 60, 'Africa': 108, 'Americas': 60, 'Oceania': 12}\n",
      "{'Asia': 60, 'Europe': 60, 'Africa': 108, 'Americas': 61, 'Oceania': 12}\n",
      "{'Asia': 60, 'Europe': 60, 'Africa': 108, 'Americas': 62, 'Oceania': 12}\n",
      "{'Asia': 60, 'Europe': 60, 'Africa': 108, 'Americas': 63, 'Oceania': 12}\n",
      "{'Asia': 60, 'Europe': 60, 'Africa': 108, 'Americas': 64, 'Oceania': 12}\n",
      "{'Asia': 60, 'Europe': 60, 'Africa': 108, 'Americas': 65, 'Oceania': 12}\n",
      "{'Asia': 60, 'Europe': 60, 'Africa': 108, 'Americas': 66, 'Oceania': 12}\n",
      "{'Asia': 60, 'Europe': 60, 'Africa': 108, 'Americas': 67, 'Oceania': 12}\n",
      "{'Asia': 60, 'Europe': 60, 'Africa': 108, 'Americas': 68, 'Oceania': 12}\n",
      "{'Asia': 60, 'Europe': 60, 'Africa': 108, 'Americas': 69, 'Oceania': 12}\n",
      "{'Asia': 60, 'Europe': 60, 'Africa': 108, 'Americas': 70, 'Oceania': 12}\n",
      "{'Asia': 60, 'Europe': 60, 'Africa': 108, 'Americas': 71, 'Oceania': 12}\n",
      "{'Asia': 60, 'Europe': 60, 'Africa': 108, 'Americas': 72, 'Oceania': 12}\n",
      "{'Asia': 60, 'Europe': 60, 'Africa': 109, 'Americas': 72, 'Oceania': 12}\n",
      "{'Asia': 60, 'Europe': 60, 'Africa': 110, 'Americas': 72, 'Oceania': 12}\n",
      "{'Asia': 60, 'Europe': 60, 'Africa': 111, 'Americas': 72, 'Oceania': 12}\n",
      "{'Asia': 60, 'Europe': 60, 'Africa': 112, 'Americas': 72, 'Oceania': 12}\n",
      "{'Asia': 60, 'Europe': 60, 'Africa': 113, 'Americas': 72, 'Oceania': 12}\n",
      "{'Asia': 60, 'Europe': 60, 'Africa': 114, 'Americas': 72, 'Oceania': 12}\n",
      "{'Asia': 60, 'Europe': 60, 'Africa': 115, 'Americas': 72, 'Oceania': 12}\n",
      "{'Asia': 60, 'Europe': 60, 'Africa': 116, 'Americas': 72, 'Oceania': 12}\n",
      "{'Asia': 60, 'Europe': 60, 'Africa': 117, 'Americas': 72, 'Oceania': 12}\n",
      "{'Asia': 60, 'Europe': 60, 'Africa': 118, 'Americas': 72, 'Oceania': 12}\n",
      "{'Asia': 60, 'Europe': 60, 'Africa': 119, 'Americas': 72, 'Oceania': 12}\n",
      "{'Asia': 60, 'Europe': 60, 'Africa': 120, 'Americas': 72, 'Oceania': 12}\n",
      "{'Asia': 60, 'Europe': 60, 'Africa': 121, 'Americas': 72, 'Oceania': 12}\n",
      "{'Asia': 60, 'Europe': 60, 'Africa': 122, 'Americas': 72, 'Oceania': 12}\n",
      "{'Asia': 60, 'Europe': 60, 'Africa': 123, 'Americas': 72, 'Oceania': 12}\n",
      "{'Asia': 60, 'Europe': 60, 'Africa': 124, 'Americas': 72, 'Oceania': 12}\n",
      "{'Asia': 60, 'Europe': 60, 'Africa': 125, 'Americas': 72, 'Oceania': 12}\n",
      "{'Asia': 60, 'Europe': 60, 'Africa': 126, 'Americas': 72, 'Oceania': 12}\n",
      "{'Asia': 60, 'Europe': 60, 'Africa': 127, 'Americas': 72, 'Oceania': 12}\n",
      "{'Asia': 60, 'Europe': 60, 'Africa': 128, 'Americas': 72, 'Oceania': 12}\n",
      "{'Asia': 60, 'Europe': 60, 'Africa': 129, 'Americas': 72, 'Oceania': 12}\n",
      "{'Asia': 60, 'Europe': 60, 'Africa': 130, 'Americas': 72, 'Oceania': 12}\n",
      "{'Asia': 60, 'Europe': 60, 'Africa': 131, 'Americas': 72, 'Oceania': 12}\n",
      "{'Asia': 60, 'Europe': 60, 'Africa': 132, 'Americas': 72, 'Oceania': 12}\n",
      "{'Asia': 60, 'Europe': 60, 'Africa': 133, 'Americas': 72, 'Oceania': 12}\n",
      "{'Asia': 60, 'Europe': 60, 'Africa': 134, 'Americas': 72, 'Oceania': 12}\n",
      "{'Asia': 60, 'Europe': 60, 'Africa': 135, 'Americas': 72, 'Oceania': 12}\n",
      "{'Asia': 60, 'Europe': 60, 'Africa': 136, 'Americas': 72, 'Oceania': 12}\n",
      "{'Asia': 60, 'Europe': 60, 'Africa': 137, 'Americas': 72, 'Oceania': 12}\n",
      "{'Asia': 60, 'Europe': 60, 'Africa': 138, 'Americas': 72, 'Oceania': 12}\n",
      "{'Asia': 60, 'Europe': 60, 'Africa': 139, 'Americas': 72, 'Oceania': 12}\n",
      "{'Asia': 60, 'Europe': 60, 'Africa': 140, 'Americas': 72, 'Oceania': 12}\n",
      "{'Asia': 60, 'Europe': 60, 'Africa': 141, 'Americas': 72, 'Oceania': 12}\n",
      "{'Asia': 60, 'Europe': 60, 'Africa': 142, 'Americas': 72, 'Oceania': 12}\n",
      "{'Asia': 60, 'Europe': 60, 'Africa': 143, 'Americas': 72, 'Oceania': 12}\n",
      "{'Asia': 60, 'Europe': 60, 'Africa': 144, 'Americas': 72, 'Oceania': 12}\n",
      "{'Asia': 60, 'Europe': 60, 'Africa': 144, 'Americas': 73, 'Oceania': 12}\n",
      "{'Asia': 60, 'Europe': 60, 'Africa': 144, 'Americas': 74, 'Oceania': 12}\n",
      "{'Asia': 60, 'Europe': 60, 'Africa': 144, 'Americas': 75, 'Oceania': 12}\n",
      "{'Asia': 60, 'Europe': 60, 'Africa': 144, 'Americas': 76, 'Oceania': 12}\n",
      "{'Asia': 60, 'Europe': 60, 'Africa': 144, 'Americas': 77, 'Oceania': 12}\n",
      "{'Asia': 60, 'Europe': 60, 'Africa': 144, 'Americas': 78, 'Oceania': 12}\n",
      "{'Asia': 60, 'Europe': 60, 'Africa': 144, 'Americas': 79, 'Oceania': 12}\n",
      "{'Asia': 60, 'Europe': 60, 'Africa': 144, 'Americas': 80, 'Oceania': 12}\n",
      "{'Asia': 60, 'Europe': 60, 'Africa': 144, 'Americas': 81, 'Oceania': 12}\n",
      "{'Asia': 60, 'Europe': 60, 'Africa': 144, 'Americas': 82, 'Oceania': 12}\n",
      "{'Asia': 60, 'Europe': 60, 'Africa': 144, 'Americas': 83, 'Oceania': 12}\n",
      "{'Asia': 60, 'Europe': 60, 'Africa': 144, 'Americas': 84, 'Oceania': 12}\n",
      "{'Asia': 60, 'Europe': 60, 'Africa': 145, 'Americas': 84, 'Oceania': 12}\n",
      "{'Asia': 60, 'Europe': 60, 'Africa': 146, 'Americas': 84, 'Oceania': 12}\n",
      "{'Asia': 60, 'Europe': 60, 'Africa': 147, 'Americas': 84, 'Oceania': 12}\n",
      "{'Asia': 60, 'Europe': 60, 'Africa': 148, 'Americas': 84, 'Oceania': 12}\n",
      "{'Asia': 60, 'Europe': 60, 'Africa': 149, 'Americas': 84, 'Oceania': 12}\n",
      "{'Asia': 60, 'Europe': 60, 'Africa': 150, 'Americas': 84, 'Oceania': 12}\n",
      "{'Asia': 60, 'Europe': 60, 'Africa': 151, 'Americas': 84, 'Oceania': 12}\n",
      "{'Asia': 60, 'Europe': 60, 'Africa': 152, 'Americas': 84, 'Oceania': 12}\n",
      "{'Asia': 60, 'Europe': 60, 'Africa': 153, 'Americas': 84, 'Oceania': 12}\n",
      "{'Asia': 60, 'Europe': 60, 'Africa': 154, 'Americas': 84, 'Oceania': 12}\n",
      "{'Asia': 60, 'Europe': 60, 'Africa': 155, 'Americas': 84, 'Oceania': 12}\n",
      "{'Asia': 60, 'Europe': 60, 'Africa': 156, 'Americas': 84, 'Oceania': 12}\n",
      "{'Asia': 60, 'Europe': 61, 'Africa': 156, 'Americas': 84, 'Oceania': 12}\n",
      "{'Asia': 60, 'Europe': 62, 'Africa': 156, 'Americas': 84, 'Oceania': 12}\n",
      "{'Asia': 60, 'Europe': 63, 'Africa': 156, 'Americas': 84, 'Oceania': 12}\n",
      "{'Asia': 60, 'Europe': 64, 'Africa': 156, 'Americas': 84, 'Oceania': 12}\n",
      "{'Asia': 60, 'Europe': 65, 'Africa': 156, 'Americas': 84, 'Oceania': 12}\n",
      "{'Asia': 60, 'Europe': 66, 'Africa': 156, 'Americas': 84, 'Oceania': 12}\n",
      "{'Asia': 60, 'Europe': 67, 'Africa': 156, 'Americas': 84, 'Oceania': 12}\n",
      "{'Asia': 60, 'Europe': 68, 'Africa': 156, 'Americas': 84, 'Oceania': 12}\n",
      "{'Asia': 60, 'Europe': 69, 'Africa': 156, 'Americas': 84, 'Oceania': 12}\n",
      "{'Asia': 60, 'Europe': 70, 'Africa': 156, 'Americas': 84, 'Oceania': 12}\n",
      "{'Asia': 60, 'Europe': 71, 'Africa': 156, 'Americas': 84, 'Oceania': 12}\n",
      "{'Asia': 60, 'Europe': 72, 'Africa': 156, 'Americas': 84, 'Oceania': 12}\n",
      "{'Asia': 60, 'Europe': 72, 'Africa': 156, 'Americas': 85, 'Oceania': 12}\n",
      "{'Asia': 60, 'Europe': 72, 'Africa': 156, 'Americas': 86, 'Oceania': 12}\n",
      "{'Asia': 60, 'Europe': 72, 'Africa': 156, 'Americas': 87, 'Oceania': 12}\n",
      "{'Asia': 60, 'Europe': 72, 'Africa': 156, 'Americas': 88, 'Oceania': 12}\n",
      "{'Asia': 60, 'Europe': 72, 'Africa': 156, 'Americas': 89, 'Oceania': 12}\n",
      "{'Asia': 60, 'Europe': 72, 'Africa': 156, 'Americas': 90, 'Oceania': 12}\n",
      "{'Asia': 60, 'Europe': 72, 'Africa': 156, 'Americas': 91, 'Oceania': 12}\n",
      "{'Asia': 60, 'Europe': 72, 'Africa': 156, 'Americas': 92, 'Oceania': 12}\n",
      "{'Asia': 60, 'Europe': 72, 'Africa': 156, 'Americas': 93, 'Oceania': 12}\n",
      "{'Asia': 60, 'Europe': 72, 'Africa': 156, 'Americas': 94, 'Oceania': 12}\n",
      "{'Asia': 60, 'Europe': 72, 'Africa': 156, 'Americas': 95, 'Oceania': 12}\n",
      "{'Asia': 60, 'Europe': 72, 'Africa': 156, 'Americas': 96, 'Oceania': 12}\n",
      "{'Asia': 60, 'Europe': 73, 'Africa': 156, 'Americas': 96, 'Oceania': 12}\n",
      "{'Asia': 60, 'Europe': 74, 'Africa': 156, 'Americas': 96, 'Oceania': 12}\n",
      "{'Asia': 60, 'Europe': 75, 'Africa': 156, 'Americas': 96, 'Oceania': 12}\n",
      "{'Asia': 60, 'Europe': 76, 'Africa': 156, 'Americas': 96, 'Oceania': 12}\n",
      "{'Asia': 60, 'Europe': 77, 'Africa': 156, 'Americas': 96, 'Oceania': 12}\n",
      "{'Asia': 60, 'Europe': 78, 'Africa': 156, 'Americas': 96, 'Oceania': 12}\n",
      "{'Asia': 60, 'Europe': 79, 'Africa': 156, 'Americas': 96, 'Oceania': 12}\n",
      "{'Asia': 60, 'Europe': 80, 'Africa': 156, 'Americas': 96, 'Oceania': 12}\n",
      "{'Asia': 60, 'Europe': 81, 'Africa': 156, 'Americas': 96, 'Oceania': 12}\n",
      "{'Asia': 60, 'Europe': 82, 'Africa': 156, 'Americas': 96, 'Oceania': 12}\n",
      "{'Asia': 60, 'Europe': 83, 'Africa': 156, 'Americas': 96, 'Oceania': 12}\n",
      "{'Asia': 60, 'Europe': 84, 'Africa': 156, 'Americas': 96, 'Oceania': 12}\n",
      "{'Asia': 60, 'Europe': 85, 'Africa': 156, 'Americas': 96, 'Oceania': 12}\n",
      "{'Asia': 60, 'Europe': 86, 'Africa': 156, 'Americas': 96, 'Oceania': 12}\n",
      "{'Asia': 60, 'Europe': 87, 'Africa': 156, 'Americas': 96, 'Oceania': 12}\n",
      "{'Asia': 60, 'Europe': 88, 'Africa': 156, 'Americas': 96, 'Oceania': 12}\n",
      "{'Asia': 60, 'Europe': 89, 'Africa': 156, 'Americas': 96, 'Oceania': 12}\n",
      "{'Asia': 60, 'Europe': 90, 'Africa': 156, 'Americas': 96, 'Oceania': 12}\n",
      "{'Asia': 60, 'Europe': 91, 'Africa': 156, 'Americas': 96, 'Oceania': 12}\n",
      "{'Asia': 60, 'Europe': 92, 'Africa': 156, 'Americas': 96, 'Oceania': 12}\n",
      "{'Asia': 60, 'Europe': 93, 'Africa': 156, 'Americas': 96, 'Oceania': 12}\n",
      "{'Asia': 60, 'Europe': 94, 'Africa': 156, 'Americas': 96, 'Oceania': 12}\n",
      "{'Asia': 60, 'Europe': 95, 'Africa': 156, 'Americas': 96, 'Oceania': 12}\n",
      "{'Asia': 60, 'Europe': 96, 'Africa': 156, 'Americas': 96, 'Oceania': 12}\n",
      "{'Asia': 60, 'Europe': 96, 'Africa': 157, 'Americas': 96, 'Oceania': 12}\n",
      "{'Asia': 60, 'Europe': 96, 'Africa': 158, 'Americas': 96, 'Oceania': 12}\n",
      "{'Asia': 60, 'Europe': 96, 'Africa': 159, 'Americas': 96, 'Oceania': 12}\n",
      "{'Asia': 60, 'Europe': 96, 'Africa': 160, 'Americas': 96, 'Oceania': 12}\n",
      "{'Asia': 60, 'Europe': 96, 'Africa': 161, 'Americas': 96, 'Oceania': 12}\n",
      "{'Asia': 60, 'Europe': 96, 'Africa': 162, 'Americas': 96, 'Oceania': 12}\n",
      "{'Asia': 60, 'Europe': 96, 'Africa': 163, 'Americas': 96, 'Oceania': 12}\n",
      "{'Asia': 60, 'Europe': 96, 'Africa': 164, 'Americas': 96, 'Oceania': 12}\n",
      "{'Asia': 60, 'Europe': 96, 'Africa': 165, 'Americas': 96, 'Oceania': 12}\n",
      "{'Asia': 60, 'Europe': 96, 'Africa': 166, 'Americas': 96, 'Oceania': 12}\n",
      "{'Asia': 60, 'Europe': 96, 'Africa': 167, 'Americas': 96, 'Oceania': 12}\n",
      "{'Asia': 60, 'Europe': 96, 'Africa': 168, 'Americas': 96, 'Oceania': 12}\n",
      "{'Asia': 60, 'Europe': 96, 'Africa': 168, 'Americas': 97, 'Oceania': 12}\n",
      "{'Asia': 60, 'Europe': 96, 'Africa': 168, 'Americas': 98, 'Oceania': 12}\n",
      "{'Asia': 60, 'Europe': 96, 'Africa': 168, 'Americas': 99, 'Oceania': 12}\n",
      "{'Asia': 60, 'Europe': 96, 'Africa': 168, 'Americas': 100, 'Oceania': 12}\n",
      "{'Asia': 60, 'Europe': 96, 'Africa': 168, 'Americas': 101, 'Oceania': 12}\n",
      "{'Asia': 60, 'Europe': 96, 'Africa': 168, 'Americas': 102, 'Oceania': 12}\n",
      "{'Asia': 60, 'Europe': 96, 'Africa': 168, 'Americas': 103, 'Oceania': 12}\n",
      "{'Asia': 60, 'Europe': 96, 'Africa': 168, 'Americas': 104, 'Oceania': 12}\n",
      "{'Asia': 60, 'Europe': 96, 'Africa': 168, 'Americas': 105, 'Oceania': 12}\n",
      "{'Asia': 60, 'Europe': 96, 'Africa': 168, 'Americas': 106, 'Oceania': 12}\n",
      "{'Asia': 60, 'Europe': 96, 'Africa': 168, 'Americas': 107, 'Oceania': 12}\n",
      "{'Asia': 60, 'Europe': 96, 'Africa': 168, 'Americas': 108, 'Oceania': 12}\n",
      "{'Asia': 60, 'Europe': 96, 'Africa': 168, 'Americas': 109, 'Oceania': 12}\n",
      "{'Asia': 60, 'Europe': 96, 'Africa': 168, 'Americas': 110, 'Oceania': 12}\n",
      "{'Asia': 60, 'Europe': 96, 'Africa': 168, 'Americas': 111, 'Oceania': 12}\n",
      "{'Asia': 60, 'Europe': 96, 'Africa': 168, 'Americas': 112, 'Oceania': 12}\n",
      "{'Asia': 60, 'Europe': 96, 'Africa': 168, 'Americas': 113, 'Oceania': 12}\n",
      "{'Asia': 60, 'Europe': 96, 'Africa': 168, 'Americas': 114, 'Oceania': 12}\n",
      "{'Asia': 60, 'Europe': 96, 'Africa': 168, 'Americas': 115, 'Oceania': 12}\n",
      "{'Asia': 60, 'Europe': 96, 'Africa': 168, 'Americas': 116, 'Oceania': 12}\n",
      "{'Asia': 60, 'Europe': 96, 'Africa': 168, 'Americas': 117, 'Oceania': 12}\n",
      "{'Asia': 60, 'Europe': 96, 'Africa': 168, 'Americas': 118, 'Oceania': 12}\n",
      "{'Asia': 60, 'Europe': 96, 'Africa': 168, 'Americas': 119, 'Oceania': 12}\n",
      "{'Asia': 60, 'Europe': 96, 'Africa': 168, 'Americas': 120, 'Oceania': 12}\n",
      "{'Asia': 60, 'Europe': 96, 'Africa': 169, 'Americas': 120, 'Oceania': 12}\n",
      "{'Asia': 60, 'Europe': 96, 'Africa': 170, 'Americas': 120, 'Oceania': 12}\n",
      "{'Asia': 60, 'Europe': 96, 'Africa': 171, 'Americas': 120, 'Oceania': 12}\n",
      "{'Asia': 60, 'Europe': 96, 'Africa': 172, 'Americas': 120, 'Oceania': 12}\n",
      "{'Asia': 60, 'Europe': 96, 'Africa': 173, 'Americas': 120, 'Oceania': 12}\n",
      "{'Asia': 60, 'Europe': 96, 'Africa': 174, 'Americas': 120, 'Oceania': 12}\n",
      "{'Asia': 60, 'Europe': 96, 'Africa': 175, 'Americas': 120, 'Oceania': 12}\n",
      "{'Asia': 60, 'Europe': 96, 'Africa': 176, 'Americas': 120, 'Oceania': 12}\n",
      "{'Asia': 60, 'Europe': 96, 'Africa': 177, 'Americas': 120, 'Oceania': 12}\n",
      "{'Asia': 60, 'Europe': 96, 'Africa': 178, 'Americas': 120, 'Oceania': 12}\n",
      "{'Asia': 60, 'Europe': 96, 'Africa': 179, 'Americas': 120, 'Oceania': 12}\n",
      "{'Asia': 60, 'Europe': 96, 'Africa': 180, 'Americas': 120, 'Oceania': 12}\n",
      "{'Asia': 60, 'Europe': 96, 'Africa': 180, 'Americas': 121, 'Oceania': 12}\n",
      "{'Asia': 60, 'Europe': 96, 'Africa': 180, 'Americas': 122, 'Oceania': 12}\n",
      "{'Asia': 60, 'Europe': 96, 'Africa': 180, 'Americas': 123, 'Oceania': 12}\n",
      "{'Asia': 60, 'Europe': 96, 'Africa': 180, 'Americas': 124, 'Oceania': 12}\n",
      "{'Asia': 60, 'Europe': 96, 'Africa': 180, 'Americas': 125, 'Oceania': 12}\n",
      "{'Asia': 60, 'Europe': 96, 'Africa': 180, 'Americas': 126, 'Oceania': 12}\n",
      "{'Asia': 60, 'Europe': 96, 'Africa': 180, 'Americas': 127, 'Oceania': 12}\n",
      "{'Asia': 60, 'Europe': 96, 'Africa': 180, 'Americas': 128, 'Oceania': 12}\n",
      "{'Asia': 60, 'Europe': 96, 'Africa': 180, 'Americas': 129, 'Oceania': 12}\n",
      "{'Asia': 60, 'Europe': 96, 'Africa': 180, 'Americas': 130, 'Oceania': 12}\n",
      "{'Asia': 60, 'Europe': 96, 'Africa': 180, 'Americas': 131, 'Oceania': 12}\n",
      "{'Asia': 60, 'Europe': 96, 'Africa': 180, 'Americas': 132, 'Oceania': 12}\n",
      "{'Asia': 60, 'Europe': 96, 'Africa': 181, 'Americas': 132, 'Oceania': 12}\n",
      "{'Asia': 60, 'Europe': 96, 'Africa': 182, 'Americas': 132, 'Oceania': 12}\n",
      "{'Asia': 60, 'Europe': 96, 'Africa': 183, 'Americas': 132, 'Oceania': 12}\n",
      "{'Asia': 60, 'Europe': 96, 'Africa': 184, 'Americas': 132, 'Oceania': 12}\n",
      "{'Asia': 60, 'Europe': 96, 'Africa': 185, 'Americas': 132, 'Oceania': 12}\n",
      "{'Asia': 60, 'Europe': 96, 'Africa': 186, 'Americas': 132, 'Oceania': 12}\n",
      "{'Asia': 60, 'Europe': 96, 'Africa': 187, 'Americas': 132, 'Oceania': 12}\n",
      "{'Asia': 60, 'Europe': 96, 'Africa': 188, 'Americas': 132, 'Oceania': 12}\n",
      "{'Asia': 60, 'Europe': 96, 'Africa': 189, 'Americas': 132, 'Oceania': 12}\n",
      "{'Asia': 60, 'Europe': 96, 'Africa': 190, 'Americas': 132, 'Oceania': 12}\n",
      "{'Asia': 60, 'Europe': 96, 'Africa': 191, 'Americas': 132, 'Oceania': 12}\n",
      "{'Asia': 60, 'Europe': 96, 'Africa': 192, 'Americas': 132, 'Oceania': 12}\n",
      "{'Asia': 60, 'Europe': 96, 'Africa': 193, 'Americas': 132, 'Oceania': 12}\n",
      "{'Asia': 60, 'Europe': 96, 'Africa': 194, 'Americas': 132, 'Oceania': 12}\n",
      "{'Asia': 60, 'Europe': 96, 'Africa': 195, 'Americas': 132, 'Oceania': 12}\n",
      "{'Asia': 60, 'Europe': 96, 'Africa': 196, 'Americas': 132, 'Oceania': 12}\n",
      "{'Asia': 60, 'Europe': 96, 'Africa': 197, 'Americas': 132, 'Oceania': 12}\n",
      "{'Asia': 60, 'Europe': 96, 'Africa': 198, 'Americas': 132, 'Oceania': 12}\n",
      "{'Asia': 60, 'Europe': 96, 'Africa': 199, 'Americas': 132, 'Oceania': 12}\n",
      "{'Asia': 60, 'Europe': 96, 'Africa': 200, 'Americas': 132, 'Oceania': 12}\n",
      "{'Asia': 60, 'Europe': 96, 'Africa': 201, 'Americas': 132, 'Oceania': 12}\n",
      "{'Asia': 60, 'Europe': 96, 'Africa': 202, 'Americas': 132, 'Oceania': 12}\n",
      "{'Asia': 60, 'Europe': 96, 'Africa': 203, 'Americas': 132, 'Oceania': 12}\n",
      "{'Asia': 60, 'Europe': 96, 'Africa': 204, 'Americas': 132, 'Oceania': 12}\n",
      "{'Asia': 60, 'Europe': 96, 'Africa': 205, 'Americas': 132, 'Oceania': 12}\n",
      "{'Asia': 60, 'Europe': 96, 'Africa': 206, 'Americas': 132, 'Oceania': 12}\n",
      "{'Asia': 60, 'Europe': 96, 'Africa': 207, 'Americas': 132, 'Oceania': 12}\n",
      "{'Asia': 60, 'Europe': 96, 'Africa': 208, 'Americas': 132, 'Oceania': 12}\n",
      "{'Asia': 60, 'Europe': 96, 'Africa': 209, 'Americas': 132, 'Oceania': 12}\n",
      "{'Asia': 60, 'Europe': 96, 'Africa': 210, 'Americas': 132, 'Oceania': 12}\n",
      "{'Asia': 60, 'Europe': 96, 'Africa': 211, 'Americas': 132, 'Oceania': 12}\n",
      "{'Asia': 60, 'Europe': 96, 'Africa': 212, 'Americas': 132, 'Oceania': 12}\n",
      "{'Asia': 60, 'Europe': 96, 'Africa': 213, 'Americas': 132, 'Oceania': 12}\n",
      "{'Asia': 60, 'Europe': 96, 'Africa': 214, 'Americas': 132, 'Oceania': 12}\n",
      "{'Asia': 60, 'Europe': 96, 'Africa': 215, 'Americas': 132, 'Oceania': 12}\n",
      "{'Asia': 60, 'Europe': 96, 'Africa': 216, 'Americas': 132, 'Oceania': 12}\n",
      "{'Asia': 60, 'Europe': 97, 'Africa': 216, 'Americas': 132, 'Oceania': 12}\n",
      "{'Asia': 60, 'Europe': 98, 'Africa': 216, 'Americas': 132, 'Oceania': 12}\n",
      "{'Asia': 60, 'Europe': 99, 'Africa': 216, 'Americas': 132, 'Oceania': 12}\n",
      "{'Asia': 60, 'Europe': 100, 'Africa': 216, 'Americas': 132, 'Oceania': 12}\n",
      "{'Asia': 60, 'Europe': 101, 'Africa': 216, 'Americas': 132, 'Oceania': 12}\n",
      "{'Asia': 60, 'Europe': 102, 'Africa': 216, 'Americas': 132, 'Oceania': 12}\n",
      "{'Asia': 60, 'Europe': 103, 'Africa': 216, 'Americas': 132, 'Oceania': 12}\n",
      "{'Asia': 60, 'Europe': 104, 'Africa': 216, 'Americas': 132, 'Oceania': 12}\n",
      "{'Asia': 60, 'Europe': 105, 'Africa': 216, 'Americas': 132, 'Oceania': 12}\n",
      "{'Asia': 60, 'Europe': 106, 'Africa': 216, 'Americas': 132, 'Oceania': 12}\n",
      "{'Asia': 60, 'Europe': 107, 'Africa': 216, 'Americas': 132, 'Oceania': 12}\n",
      "{'Asia': 60, 'Europe': 108, 'Africa': 216, 'Americas': 132, 'Oceania': 12}\n",
      "{'Asia': 60, 'Europe': 109, 'Africa': 216, 'Americas': 132, 'Oceania': 12}\n",
      "{'Asia': 60, 'Europe': 110, 'Africa': 216, 'Americas': 132, 'Oceania': 12}\n",
      "{'Asia': 60, 'Europe': 111, 'Africa': 216, 'Americas': 132, 'Oceania': 12}\n",
      "{'Asia': 60, 'Europe': 112, 'Africa': 216, 'Americas': 132, 'Oceania': 12}\n",
      "{'Asia': 60, 'Europe': 113, 'Africa': 216, 'Americas': 132, 'Oceania': 12}\n",
      "{'Asia': 60, 'Europe': 114, 'Africa': 216, 'Americas': 132, 'Oceania': 12}\n",
      "{'Asia': 60, 'Europe': 115, 'Africa': 216, 'Americas': 132, 'Oceania': 12}\n",
      "{'Asia': 60, 'Europe': 116, 'Africa': 216, 'Americas': 132, 'Oceania': 12}\n",
      "{'Asia': 60, 'Europe': 117, 'Africa': 216, 'Americas': 132, 'Oceania': 12}\n",
      "{'Asia': 60, 'Europe': 118, 'Africa': 216, 'Americas': 132, 'Oceania': 12}\n",
      "{'Asia': 60, 'Europe': 119, 'Africa': 216, 'Americas': 132, 'Oceania': 12}\n",
      "{'Asia': 60, 'Europe': 120, 'Africa': 216, 'Americas': 132, 'Oceania': 12}\n",
      "{'Asia': 60, 'Europe': 120, 'Africa': 217, 'Americas': 132, 'Oceania': 12}\n",
      "{'Asia': 60, 'Europe': 120, 'Africa': 218, 'Americas': 132, 'Oceania': 12}\n",
      "{'Asia': 60, 'Europe': 120, 'Africa': 219, 'Americas': 132, 'Oceania': 12}\n",
      "{'Asia': 60, 'Europe': 120, 'Africa': 220, 'Americas': 132, 'Oceania': 12}\n",
      "{'Asia': 60, 'Europe': 120, 'Africa': 221, 'Americas': 132, 'Oceania': 12}\n",
      "{'Asia': 60, 'Europe': 120, 'Africa': 222, 'Americas': 132, 'Oceania': 12}\n",
      "{'Asia': 60, 'Europe': 120, 'Africa': 223, 'Americas': 132, 'Oceania': 12}\n",
      "{'Asia': 60, 'Europe': 120, 'Africa': 224, 'Americas': 132, 'Oceania': 12}\n",
      "{'Asia': 60, 'Europe': 120, 'Africa': 225, 'Americas': 132, 'Oceania': 12}\n",
      "{'Asia': 60, 'Europe': 120, 'Africa': 226, 'Americas': 132, 'Oceania': 12}\n",
      "{'Asia': 60, 'Europe': 120, 'Africa': 227, 'Americas': 132, 'Oceania': 12}\n",
      "{'Asia': 60, 'Europe': 120, 'Africa': 228, 'Americas': 132, 'Oceania': 12}\n",
      "{'Asia': 60, 'Europe': 120, 'Africa': 229, 'Americas': 132, 'Oceania': 12}\n",
      "{'Asia': 60, 'Europe': 120, 'Africa': 230, 'Americas': 132, 'Oceania': 12}\n",
      "{'Asia': 60, 'Europe': 120, 'Africa': 231, 'Americas': 132, 'Oceania': 12}\n",
      "{'Asia': 60, 'Europe': 120, 'Africa': 232, 'Americas': 132, 'Oceania': 12}\n",
      "{'Asia': 60, 'Europe': 120, 'Africa': 233, 'Americas': 132, 'Oceania': 12}\n",
      "{'Asia': 60, 'Europe': 120, 'Africa': 234, 'Americas': 132, 'Oceania': 12}\n",
      "{'Asia': 60, 'Europe': 120, 'Africa': 235, 'Americas': 132, 'Oceania': 12}\n",
      "{'Asia': 60, 'Europe': 120, 'Africa': 236, 'Americas': 132, 'Oceania': 12}\n",
      "{'Asia': 60, 'Europe': 120, 'Africa': 237, 'Americas': 132, 'Oceania': 12}\n",
      "{'Asia': 60, 'Europe': 120, 'Africa': 238, 'Americas': 132, 'Oceania': 12}\n",
      "{'Asia': 60, 'Europe': 120, 'Africa': 239, 'Americas': 132, 'Oceania': 12}\n",
      "{'Asia': 60, 'Europe': 120, 'Africa': 240, 'Americas': 132, 'Oceania': 12}\n",
      "{'Asia': 60, 'Europe': 121, 'Africa': 240, 'Americas': 132, 'Oceania': 12}\n",
      "{'Asia': 60, 'Europe': 122, 'Africa': 240, 'Americas': 132, 'Oceania': 12}\n",
      "{'Asia': 60, 'Europe': 123, 'Africa': 240, 'Americas': 132, 'Oceania': 12}\n",
      "{'Asia': 60, 'Europe': 124, 'Africa': 240, 'Americas': 132, 'Oceania': 12}\n",
      "{'Asia': 60, 'Europe': 125, 'Africa': 240, 'Americas': 132, 'Oceania': 12}\n",
      "{'Asia': 60, 'Europe': 126, 'Africa': 240, 'Americas': 132, 'Oceania': 12}\n",
      "{'Asia': 60, 'Europe': 127, 'Africa': 240, 'Americas': 132, 'Oceania': 12}\n",
      "{'Asia': 60, 'Europe': 128, 'Africa': 240, 'Americas': 132, 'Oceania': 12}\n",
      "{'Asia': 60, 'Europe': 129, 'Africa': 240, 'Americas': 132, 'Oceania': 12}\n",
      "{'Asia': 60, 'Europe': 130, 'Africa': 240, 'Americas': 132, 'Oceania': 12}\n",
      "{'Asia': 60, 'Europe': 131, 'Africa': 240, 'Americas': 132, 'Oceania': 12}\n",
      "{'Asia': 60, 'Europe': 132, 'Africa': 240, 'Americas': 132, 'Oceania': 12}\n",
      "{'Asia': 60, 'Europe': 132, 'Africa': 241, 'Americas': 132, 'Oceania': 12}\n",
      "{'Asia': 60, 'Europe': 132, 'Africa': 242, 'Americas': 132, 'Oceania': 12}\n",
      "{'Asia': 60, 'Europe': 132, 'Africa': 243, 'Americas': 132, 'Oceania': 12}\n",
      "{'Asia': 60, 'Europe': 132, 'Africa': 244, 'Americas': 132, 'Oceania': 12}\n",
      "{'Asia': 60, 'Europe': 132, 'Africa': 245, 'Americas': 132, 'Oceania': 12}\n",
      "{'Asia': 60, 'Europe': 132, 'Africa': 246, 'Americas': 132, 'Oceania': 12}\n",
      "{'Asia': 60, 'Europe': 132, 'Africa': 247, 'Americas': 132, 'Oceania': 12}\n",
      "{'Asia': 60, 'Europe': 132, 'Africa': 248, 'Americas': 132, 'Oceania': 12}\n",
      "{'Asia': 60, 'Europe': 132, 'Africa': 249, 'Americas': 132, 'Oceania': 12}\n",
      "{'Asia': 60, 'Europe': 132, 'Africa': 250, 'Americas': 132, 'Oceania': 12}\n",
      "{'Asia': 60, 'Europe': 132, 'Africa': 251, 'Americas': 132, 'Oceania': 12}\n",
      "{'Asia': 60, 'Europe': 132, 'Africa': 252, 'Americas': 132, 'Oceania': 12}\n",
      "{'Asia': 60, 'Europe': 133, 'Africa': 252, 'Americas': 132, 'Oceania': 12}\n",
      "{'Asia': 60, 'Europe': 134, 'Africa': 252, 'Americas': 132, 'Oceania': 12}\n",
      "{'Asia': 60, 'Europe': 135, 'Africa': 252, 'Americas': 132, 'Oceania': 12}\n",
      "{'Asia': 60, 'Europe': 136, 'Africa': 252, 'Americas': 132, 'Oceania': 12}\n",
      "{'Asia': 60, 'Europe': 137, 'Africa': 252, 'Americas': 132, 'Oceania': 12}\n",
      "{'Asia': 60, 'Europe': 138, 'Africa': 252, 'Americas': 132, 'Oceania': 12}\n",
      "{'Asia': 60, 'Europe': 139, 'Africa': 252, 'Americas': 132, 'Oceania': 12}\n",
      "{'Asia': 60, 'Europe': 140, 'Africa': 252, 'Americas': 132, 'Oceania': 12}\n",
      "{'Asia': 60, 'Europe': 141, 'Africa': 252, 'Americas': 132, 'Oceania': 12}\n",
      "{'Asia': 60, 'Europe': 142, 'Africa': 252, 'Americas': 132, 'Oceania': 12}\n",
      "{'Asia': 60, 'Europe': 143, 'Africa': 252, 'Americas': 132, 'Oceania': 12}\n",
      "{'Asia': 60, 'Europe': 144, 'Africa': 252, 'Americas': 132, 'Oceania': 12}\n",
      "{'Asia': 60, 'Europe': 144, 'Africa': 252, 'Americas': 133, 'Oceania': 12}\n",
      "{'Asia': 60, 'Europe': 144, 'Africa': 252, 'Americas': 134, 'Oceania': 12}\n",
      "{'Asia': 60, 'Europe': 144, 'Africa': 252, 'Americas': 135, 'Oceania': 12}\n",
      "{'Asia': 60, 'Europe': 144, 'Africa': 252, 'Americas': 136, 'Oceania': 12}\n",
      "{'Asia': 60, 'Europe': 144, 'Africa': 252, 'Americas': 137, 'Oceania': 12}\n",
      "{'Asia': 60, 'Europe': 144, 'Africa': 252, 'Americas': 138, 'Oceania': 12}\n",
      "{'Asia': 60, 'Europe': 144, 'Africa': 252, 'Americas': 139, 'Oceania': 12}\n",
      "{'Asia': 60, 'Europe': 144, 'Africa': 252, 'Americas': 140, 'Oceania': 12}\n",
      "{'Asia': 60, 'Europe': 144, 'Africa': 252, 'Americas': 141, 'Oceania': 12}\n",
      "{'Asia': 60, 'Europe': 144, 'Africa': 252, 'Americas': 142, 'Oceania': 12}\n",
      "{'Asia': 60, 'Europe': 144, 'Africa': 252, 'Americas': 143, 'Oceania': 12}\n",
      "{'Asia': 60, 'Europe': 144, 'Africa': 252, 'Americas': 144, 'Oceania': 12}\n",
      "{'Asia': 60, 'Europe': 144, 'Africa': 253, 'Americas': 144, 'Oceania': 12}\n",
      "{'Asia': 60, 'Europe': 144, 'Africa': 254, 'Americas': 144, 'Oceania': 12}\n",
      "{'Asia': 60, 'Europe': 144, 'Africa': 255, 'Americas': 144, 'Oceania': 12}\n",
      "{'Asia': 60, 'Europe': 144, 'Africa': 256, 'Americas': 144, 'Oceania': 12}\n",
      "{'Asia': 60, 'Europe': 144, 'Africa': 257, 'Americas': 144, 'Oceania': 12}\n",
      "{'Asia': 60, 'Europe': 144, 'Africa': 258, 'Americas': 144, 'Oceania': 12}\n",
      "{'Asia': 60, 'Europe': 144, 'Africa': 259, 'Americas': 144, 'Oceania': 12}\n",
      "{'Asia': 60, 'Europe': 144, 'Africa': 260, 'Americas': 144, 'Oceania': 12}\n",
      "{'Asia': 60, 'Europe': 144, 'Africa': 261, 'Americas': 144, 'Oceania': 12}\n",
      "{'Asia': 60, 'Europe': 144, 'Africa': 262, 'Americas': 144, 'Oceania': 12}\n",
      "{'Asia': 60, 'Europe': 144, 'Africa': 263, 'Americas': 144, 'Oceania': 12}\n",
      "{'Asia': 60, 'Europe': 144, 'Africa': 264, 'Americas': 144, 'Oceania': 12}\n",
      "{'Asia': 60, 'Europe': 144, 'Africa': 265, 'Americas': 144, 'Oceania': 12}\n",
      "{'Asia': 60, 'Europe': 144, 'Africa': 266, 'Americas': 144, 'Oceania': 12}\n",
      "{'Asia': 60, 'Europe': 144, 'Africa': 267, 'Americas': 144, 'Oceania': 12}\n",
      "{'Asia': 60, 'Europe': 144, 'Africa': 268, 'Americas': 144, 'Oceania': 12}\n",
      "{'Asia': 60, 'Europe': 144, 'Africa': 269, 'Americas': 144, 'Oceania': 12}\n",
      "{'Asia': 60, 'Europe': 144, 'Africa': 270, 'Americas': 144, 'Oceania': 12}\n",
      "{'Asia': 60, 'Europe': 144, 'Africa': 271, 'Americas': 144, 'Oceania': 12}\n",
      "{'Asia': 60, 'Europe': 144, 'Africa': 272, 'Americas': 144, 'Oceania': 12}\n",
      "{'Asia': 60, 'Europe': 144, 'Africa': 273, 'Americas': 144, 'Oceania': 12}\n",
      "{'Asia': 60, 'Europe': 144, 'Africa': 274, 'Americas': 144, 'Oceania': 12}\n",
      "{'Asia': 60, 'Europe': 144, 'Africa': 275, 'Americas': 144, 'Oceania': 12}\n",
      "{'Asia': 60, 'Europe': 144, 'Africa': 276, 'Americas': 144, 'Oceania': 12}\n",
      "{'Asia': 60, 'Europe': 144, 'Africa': 276, 'Americas': 145, 'Oceania': 12}\n",
      "{'Asia': 60, 'Europe': 144, 'Africa': 276, 'Americas': 146, 'Oceania': 12}\n",
      "{'Asia': 60, 'Europe': 144, 'Africa': 276, 'Americas': 147, 'Oceania': 12}\n",
      "{'Asia': 60, 'Europe': 144, 'Africa': 276, 'Americas': 148, 'Oceania': 12}\n",
      "{'Asia': 60, 'Europe': 144, 'Africa': 276, 'Americas': 149, 'Oceania': 12}\n",
      "{'Asia': 60, 'Europe': 144, 'Africa': 276, 'Americas': 150, 'Oceania': 12}\n",
      "{'Asia': 60, 'Europe': 144, 'Africa': 276, 'Americas': 151, 'Oceania': 12}\n",
      "{'Asia': 60, 'Europe': 144, 'Africa': 276, 'Americas': 152, 'Oceania': 12}\n",
      "{'Asia': 60, 'Europe': 144, 'Africa': 276, 'Americas': 153, 'Oceania': 12}\n",
      "{'Asia': 60, 'Europe': 144, 'Africa': 276, 'Americas': 154, 'Oceania': 12}\n",
      "{'Asia': 60, 'Europe': 144, 'Africa': 276, 'Americas': 155, 'Oceania': 12}\n",
      "{'Asia': 60, 'Europe': 144, 'Africa': 276, 'Americas': 156, 'Oceania': 12}\n",
      "{'Asia': 60, 'Europe': 144, 'Africa': 276, 'Americas': 157, 'Oceania': 12}\n",
      "{'Asia': 60, 'Europe': 144, 'Africa': 276, 'Americas': 158, 'Oceania': 12}\n",
      "{'Asia': 60, 'Europe': 144, 'Africa': 276, 'Americas': 159, 'Oceania': 12}\n",
      "{'Asia': 60, 'Europe': 144, 'Africa': 276, 'Americas': 160, 'Oceania': 12}\n",
      "{'Asia': 60, 'Europe': 144, 'Africa': 276, 'Americas': 161, 'Oceania': 12}\n",
      "{'Asia': 60, 'Europe': 144, 'Africa': 276, 'Americas': 162, 'Oceania': 12}\n",
      "{'Asia': 60, 'Europe': 144, 'Africa': 276, 'Americas': 163, 'Oceania': 12}\n",
      "{'Asia': 60, 'Europe': 144, 'Africa': 276, 'Americas': 164, 'Oceania': 12}\n",
      "{'Asia': 60, 'Europe': 144, 'Africa': 276, 'Americas': 165, 'Oceania': 12}\n",
      "{'Asia': 60, 'Europe': 144, 'Africa': 276, 'Americas': 166, 'Oceania': 12}\n",
      "{'Asia': 60, 'Europe': 144, 'Africa': 276, 'Americas': 167, 'Oceania': 12}\n",
      "{'Asia': 60, 'Europe': 144, 'Africa': 276, 'Americas': 168, 'Oceania': 12}\n",
      "{'Asia': 61, 'Europe': 144, 'Africa': 276, 'Americas': 168, 'Oceania': 12}\n",
      "{'Asia': 62, 'Europe': 144, 'Africa': 276, 'Americas': 168, 'Oceania': 12}\n",
      "{'Asia': 63, 'Europe': 144, 'Africa': 276, 'Americas': 168, 'Oceania': 12}\n",
      "{'Asia': 64, 'Europe': 144, 'Africa': 276, 'Americas': 168, 'Oceania': 12}\n",
      "{'Asia': 65, 'Europe': 144, 'Africa': 276, 'Americas': 168, 'Oceania': 12}\n",
      "{'Asia': 66, 'Europe': 144, 'Africa': 276, 'Americas': 168, 'Oceania': 12}\n",
      "{'Asia': 67, 'Europe': 144, 'Africa': 276, 'Americas': 168, 'Oceania': 12}\n",
      "{'Asia': 68, 'Europe': 144, 'Africa': 276, 'Americas': 168, 'Oceania': 12}\n",
      "{'Asia': 69, 'Europe': 144, 'Africa': 276, 'Americas': 168, 'Oceania': 12}\n",
      "{'Asia': 70, 'Europe': 144, 'Africa': 276, 'Americas': 168, 'Oceania': 12}\n",
      "{'Asia': 71, 'Europe': 144, 'Africa': 276, 'Americas': 168, 'Oceania': 12}\n",
      "{'Asia': 72, 'Europe': 144, 'Africa': 276, 'Americas': 168, 'Oceania': 12}\n",
      "{'Asia': 72, 'Europe': 145, 'Africa': 276, 'Americas': 168, 'Oceania': 12}\n",
      "{'Asia': 72, 'Europe': 146, 'Africa': 276, 'Americas': 168, 'Oceania': 12}\n",
      "{'Asia': 72, 'Europe': 147, 'Africa': 276, 'Americas': 168, 'Oceania': 12}\n",
      "{'Asia': 72, 'Europe': 148, 'Africa': 276, 'Americas': 168, 'Oceania': 12}\n",
      "{'Asia': 72, 'Europe': 149, 'Africa': 276, 'Americas': 168, 'Oceania': 12}\n",
      "{'Asia': 72, 'Europe': 150, 'Africa': 276, 'Americas': 168, 'Oceania': 12}\n",
      "{'Asia': 72, 'Europe': 151, 'Africa': 276, 'Americas': 168, 'Oceania': 12}\n",
      "{'Asia': 72, 'Europe': 152, 'Africa': 276, 'Americas': 168, 'Oceania': 12}\n",
      "{'Asia': 72, 'Europe': 153, 'Africa': 276, 'Americas': 168, 'Oceania': 12}\n",
      "{'Asia': 72, 'Europe': 154, 'Africa': 276, 'Americas': 168, 'Oceania': 12}\n",
      "{'Asia': 72, 'Europe': 155, 'Africa': 276, 'Americas': 168, 'Oceania': 12}\n",
      "{'Asia': 72, 'Europe': 156, 'Africa': 276, 'Americas': 168, 'Oceania': 12}\n",
      "{'Asia': 72, 'Europe': 157, 'Africa': 276, 'Americas': 168, 'Oceania': 12}\n",
      "{'Asia': 72, 'Europe': 158, 'Africa': 276, 'Americas': 168, 'Oceania': 12}\n",
      "{'Asia': 72, 'Europe': 159, 'Africa': 276, 'Americas': 168, 'Oceania': 12}\n",
      "{'Asia': 72, 'Europe': 160, 'Africa': 276, 'Americas': 168, 'Oceania': 12}\n",
      "{'Asia': 72, 'Europe': 161, 'Africa': 276, 'Americas': 168, 'Oceania': 12}\n",
      "{'Asia': 72, 'Europe': 162, 'Africa': 276, 'Americas': 168, 'Oceania': 12}\n",
      "{'Asia': 72, 'Europe': 163, 'Africa': 276, 'Americas': 168, 'Oceania': 12}\n",
      "{'Asia': 72, 'Europe': 164, 'Africa': 276, 'Americas': 168, 'Oceania': 12}\n",
      "{'Asia': 72, 'Europe': 165, 'Africa': 276, 'Americas': 168, 'Oceania': 12}\n",
      "{'Asia': 72, 'Europe': 166, 'Africa': 276, 'Americas': 168, 'Oceania': 12}\n",
      "{'Asia': 72, 'Europe': 167, 'Africa': 276, 'Americas': 168, 'Oceania': 12}\n",
      "{'Asia': 72, 'Europe': 168, 'Africa': 276, 'Americas': 168, 'Oceania': 12}\n",
      "{'Asia': 73, 'Europe': 168, 'Africa': 276, 'Americas': 168, 'Oceania': 12}\n",
      "{'Asia': 74, 'Europe': 168, 'Africa': 276, 'Americas': 168, 'Oceania': 12}\n",
      "{'Asia': 75, 'Europe': 168, 'Africa': 276, 'Americas': 168, 'Oceania': 12}\n",
      "{'Asia': 76, 'Europe': 168, 'Africa': 276, 'Americas': 168, 'Oceania': 12}\n",
      "{'Asia': 77, 'Europe': 168, 'Africa': 276, 'Americas': 168, 'Oceania': 12}\n",
      "{'Asia': 78, 'Europe': 168, 'Africa': 276, 'Americas': 168, 'Oceania': 12}\n",
      "{'Asia': 79, 'Europe': 168, 'Africa': 276, 'Americas': 168, 'Oceania': 12}\n",
      "{'Asia': 80, 'Europe': 168, 'Africa': 276, 'Americas': 168, 'Oceania': 12}\n",
      "{'Asia': 81, 'Europe': 168, 'Africa': 276, 'Americas': 168, 'Oceania': 12}\n",
      "{'Asia': 82, 'Europe': 168, 'Africa': 276, 'Americas': 168, 'Oceania': 12}\n",
      "{'Asia': 83, 'Europe': 168, 'Africa': 276, 'Americas': 168, 'Oceania': 12}\n",
      "{'Asia': 84, 'Europe': 168, 'Africa': 276, 'Americas': 168, 'Oceania': 12}\n",
      "{'Asia': 85, 'Europe': 168, 'Africa': 276, 'Americas': 168, 'Oceania': 12}\n",
      "{'Asia': 86, 'Europe': 168, 'Africa': 276, 'Americas': 168, 'Oceania': 12}\n",
      "{'Asia': 87, 'Europe': 168, 'Africa': 276, 'Americas': 168, 'Oceania': 12}\n",
      "{'Asia': 88, 'Europe': 168, 'Africa': 276, 'Americas': 168, 'Oceania': 12}\n",
      "{'Asia': 89, 'Europe': 168, 'Africa': 276, 'Americas': 168, 'Oceania': 12}\n",
      "{'Asia': 90, 'Europe': 168, 'Africa': 276, 'Americas': 168, 'Oceania': 12}\n",
      "{'Asia': 91, 'Europe': 168, 'Africa': 276, 'Americas': 168, 'Oceania': 12}\n",
      "{'Asia': 92, 'Europe': 168, 'Africa': 276, 'Americas': 168, 'Oceania': 12}\n",
      "{'Asia': 93, 'Europe': 168, 'Africa': 276, 'Americas': 168, 'Oceania': 12}\n",
      "{'Asia': 94, 'Europe': 168, 'Africa': 276, 'Americas': 168, 'Oceania': 12}\n",
      "{'Asia': 95, 'Europe': 168, 'Africa': 276, 'Americas': 168, 'Oceania': 12}\n",
      "{'Asia': 96, 'Europe': 168, 'Africa': 276, 'Americas': 168, 'Oceania': 12}\n",
      "{'Asia': 97, 'Europe': 168, 'Africa': 276, 'Americas': 168, 'Oceania': 12}\n",
      "{'Asia': 98, 'Europe': 168, 'Africa': 276, 'Americas': 168, 'Oceania': 12}\n",
      "{'Asia': 99, 'Europe': 168, 'Africa': 276, 'Americas': 168, 'Oceania': 12}\n",
      "{'Asia': 100, 'Europe': 168, 'Africa': 276, 'Americas': 168, 'Oceania': 12}\n",
      "{'Asia': 101, 'Europe': 168, 'Africa': 276, 'Americas': 168, 'Oceania': 12}\n",
      "{'Asia': 102, 'Europe': 168, 'Africa': 276, 'Americas': 168, 'Oceania': 12}\n",
      "{'Asia': 103, 'Europe': 168, 'Africa': 276, 'Americas': 168, 'Oceania': 12}\n",
      "{'Asia': 104, 'Europe': 168, 'Africa': 276, 'Americas': 168, 'Oceania': 12}\n",
      "{'Asia': 105, 'Europe': 168, 'Africa': 276, 'Americas': 168, 'Oceania': 12}\n",
      "{'Asia': 106, 'Europe': 168, 'Africa': 276, 'Americas': 168, 'Oceania': 12}\n",
      "{'Asia': 107, 'Europe': 168, 'Africa': 276, 'Americas': 168, 'Oceania': 12}\n",
      "{'Asia': 108, 'Europe': 168, 'Africa': 276, 'Americas': 168, 'Oceania': 12}\n",
      "{'Asia': 109, 'Europe': 168, 'Africa': 276, 'Americas': 168, 'Oceania': 12}\n",
      "{'Asia': 110, 'Europe': 168, 'Africa': 276, 'Americas': 168, 'Oceania': 12}\n",
      "{'Asia': 111, 'Europe': 168, 'Africa': 276, 'Americas': 168, 'Oceania': 12}\n",
      "{'Asia': 112, 'Europe': 168, 'Africa': 276, 'Americas': 168, 'Oceania': 12}\n",
      "{'Asia': 113, 'Europe': 168, 'Africa': 276, 'Americas': 168, 'Oceania': 12}\n",
      "{'Asia': 114, 'Europe': 168, 'Africa': 276, 'Americas': 168, 'Oceania': 12}\n",
      "{'Asia': 115, 'Europe': 168, 'Africa': 276, 'Americas': 168, 'Oceania': 12}\n",
      "{'Asia': 116, 'Europe': 168, 'Africa': 276, 'Americas': 168, 'Oceania': 12}\n",
      "{'Asia': 117, 'Europe': 168, 'Africa': 276, 'Americas': 168, 'Oceania': 12}\n",
      "{'Asia': 118, 'Europe': 168, 'Africa': 276, 'Americas': 168, 'Oceania': 12}\n",
      "{'Asia': 119, 'Europe': 168, 'Africa': 276, 'Americas': 168, 'Oceania': 12}\n",
      "{'Asia': 120, 'Europe': 168, 'Africa': 276, 'Americas': 168, 'Oceania': 12}\n",
      "{'Asia': 120, 'Europe': 169, 'Africa': 276, 'Americas': 168, 'Oceania': 12}\n",
      "{'Asia': 120, 'Europe': 170, 'Africa': 276, 'Americas': 168, 'Oceania': 12}\n",
      "{'Asia': 120, 'Europe': 171, 'Africa': 276, 'Americas': 168, 'Oceania': 12}\n",
      "{'Asia': 120, 'Europe': 172, 'Africa': 276, 'Americas': 168, 'Oceania': 12}\n",
      "{'Asia': 120, 'Europe': 173, 'Africa': 276, 'Americas': 168, 'Oceania': 12}\n",
      "{'Asia': 120, 'Europe': 174, 'Africa': 276, 'Americas': 168, 'Oceania': 12}\n",
      "{'Asia': 120, 'Europe': 175, 'Africa': 276, 'Americas': 168, 'Oceania': 12}\n",
      "{'Asia': 120, 'Europe': 176, 'Africa': 276, 'Americas': 168, 'Oceania': 12}\n",
      "{'Asia': 120, 'Europe': 177, 'Africa': 276, 'Americas': 168, 'Oceania': 12}\n",
      "{'Asia': 120, 'Europe': 178, 'Africa': 276, 'Americas': 168, 'Oceania': 12}\n",
      "{'Asia': 120, 'Europe': 179, 'Africa': 276, 'Americas': 168, 'Oceania': 12}\n",
      "{'Asia': 120, 'Europe': 180, 'Africa': 276, 'Americas': 168, 'Oceania': 12}\n",
      "{'Asia': 121, 'Europe': 180, 'Africa': 276, 'Americas': 168, 'Oceania': 12}\n",
      "{'Asia': 122, 'Europe': 180, 'Africa': 276, 'Americas': 168, 'Oceania': 12}\n",
      "{'Asia': 123, 'Europe': 180, 'Africa': 276, 'Americas': 168, 'Oceania': 12}\n",
      "{'Asia': 124, 'Europe': 180, 'Africa': 276, 'Americas': 168, 'Oceania': 12}\n",
      "{'Asia': 125, 'Europe': 180, 'Africa': 276, 'Americas': 168, 'Oceania': 12}\n",
      "{'Asia': 126, 'Europe': 180, 'Africa': 276, 'Americas': 168, 'Oceania': 12}\n",
      "{'Asia': 127, 'Europe': 180, 'Africa': 276, 'Americas': 168, 'Oceania': 12}\n",
      "{'Asia': 128, 'Europe': 180, 'Africa': 276, 'Americas': 168, 'Oceania': 12}\n",
      "{'Asia': 129, 'Europe': 180, 'Africa': 276, 'Americas': 168, 'Oceania': 12}\n",
      "{'Asia': 130, 'Europe': 180, 'Africa': 276, 'Americas': 168, 'Oceania': 12}\n",
      "{'Asia': 131, 'Europe': 180, 'Africa': 276, 'Americas': 168, 'Oceania': 12}\n",
      "{'Asia': 132, 'Europe': 180, 'Africa': 276, 'Americas': 168, 'Oceania': 12}\n",
      "{'Asia': 132, 'Europe': 181, 'Africa': 276, 'Americas': 168, 'Oceania': 12}\n",
      "{'Asia': 132, 'Europe': 182, 'Africa': 276, 'Americas': 168, 'Oceania': 12}\n",
      "{'Asia': 132, 'Europe': 183, 'Africa': 276, 'Americas': 168, 'Oceania': 12}\n",
      "{'Asia': 132, 'Europe': 184, 'Africa': 276, 'Americas': 168, 'Oceania': 12}\n",
      "{'Asia': 132, 'Europe': 185, 'Africa': 276, 'Americas': 168, 'Oceania': 12}\n",
      "{'Asia': 132, 'Europe': 186, 'Africa': 276, 'Americas': 168, 'Oceania': 12}\n",
      "{'Asia': 132, 'Europe': 187, 'Africa': 276, 'Americas': 168, 'Oceania': 12}\n",
      "{'Asia': 132, 'Europe': 188, 'Africa': 276, 'Americas': 168, 'Oceania': 12}\n",
      "{'Asia': 132, 'Europe': 189, 'Africa': 276, 'Americas': 168, 'Oceania': 12}\n",
      "{'Asia': 132, 'Europe': 190, 'Africa': 276, 'Americas': 168, 'Oceania': 12}\n",
      "{'Asia': 132, 'Europe': 191, 'Africa': 276, 'Americas': 168, 'Oceania': 12}\n",
      "{'Asia': 132, 'Europe': 192, 'Africa': 276, 'Americas': 168, 'Oceania': 12}\n",
      "{'Asia': 132, 'Europe': 192, 'Africa': 276, 'Americas': 169, 'Oceania': 12}\n",
      "{'Asia': 132, 'Europe': 192, 'Africa': 276, 'Americas': 170, 'Oceania': 12}\n",
      "{'Asia': 132, 'Europe': 192, 'Africa': 276, 'Americas': 171, 'Oceania': 12}\n",
      "{'Asia': 132, 'Europe': 192, 'Africa': 276, 'Americas': 172, 'Oceania': 12}\n",
      "{'Asia': 132, 'Europe': 192, 'Africa': 276, 'Americas': 173, 'Oceania': 12}\n",
      "{'Asia': 132, 'Europe': 192, 'Africa': 276, 'Americas': 174, 'Oceania': 12}\n",
      "{'Asia': 132, 'Europe': 192, 'Africa': 276, 'Americas': 175, 'Oceania': 12}\n",
      "{'Asia': 132, 'Europe': 192, 'Africa': 276, 'Americas': 176, 'Oceania': 12}\n",
      "{'Asia': 132, 'Europe': 192, 'Africa': 276, 'Americas': 177, 'Oceania': 12}\n",
      "{'Asia': 132, 'Europe': 192, 'Africa': 276, 'Americas': 178, 'Oceania': 12}\n",
      "{'Asia': 132, 'Europe': 192, 'Africa': 276, 'Americas': 179, 'Oceania': 12}\n",
      "{'Asia': 132, 'Europe': 192, 'Africa': 276, 'Americas': 180, 'Oceania': 12}\n",
      "{'Asia': 133, 'Europe': 192, 'Africa': 276, 'Americas': 180, 'Oceania': 12}\n",
      "{'Asia': 134, 'Europe': 192, 'Africa': 276, 'Americas': 180, 'Oceania': 12}\n",
      "{'Asia': 135, 'Europe': 192, 'Africa': 276, 'Americas': 180, 'Oceania': 12}\n",
      "{'Asia': 136, 'Europe': 192, 'Africa': 276, 'Americas': 180, 'Oceania': 12}\n",
      "{'Asia': 137, 'Europe': 192, 'Africa': 276, 'Americas': 180, 'Oceania': 12}\n",
      "{'Asia': 138, 'Europe': 192, 'Africa': 276, 'Americas': 180, 'Oceania': 12}\n",
      "{'Asia': 139, 'Europe': 192, 'Africa': 276, 'Americas': 180, 'Oceania': 12}\n",
      "{'Asia': 140, 'Europe': 192, 'Africa': 276, 'Americas': 180, 'Oceania': 12}\n",
      "{'Asia': 141, 'Europe': 192, 'Africa': 276, 'Americas': 180, 'Oceania': 12}\n",
      "{'Asia': 142, 'Europe': 192, 'Africa': 276, 'Americas': 180, 'Oceania': 12}\n",
      "{'Asia': 143, 'Europe': 192, 'Africa': 276, 'Americas': 180, 'Oceania': 12}\n",
      "{'Asia': 144, 'Europe': 192, 'Africa': 276, 'Americas': 180, 'Oceania': 12}\n",
      "{'Asia': 145, 'Europe': 192, 'Africa': 276, 'Americas': 180, 'Oceania': 12}\n",
      "{'Asia': 146, 'Europe': 192, 'Africa': 276, 'Americas': 180, 'Oceania': 12}\n",
      "{'Asia': 147, 'Europe': 192, 'Africa': 276, 'Americas': 180, 'Oceania': 12}\n",
      "{'Asia': 148, 'Europe': 192, 'Africa': 276, 'Americas': 180, 'Oceania': 12}\n",
      "{'Asia': 149, 'Europe': 192, 'Africa': 276, 'Americas': 180, 'Oceania': 12}\n",
      "{'Asia': 150, 'Europe': 192, 'Africa': 276, 'Americas': 180, 'Oceania': 12}\n",
      "{'Asia': 151, 'Europe': 192, 'Africa': 276, 'Americas': 180, 'Oceania': 12}\n",
      "{'Asia': 152, 'Europe': 192, 'Africa': 276, 'Americas': 180, 'Oceania': 12}\n",
      "{'Asia': 153, 'Europe': 192, 'Africa': 276, 'Americas': 180, 'Oceania': 12}\n",
      "{'Asia': 154, 'Europe': 192, 'Africa': 276, 'Americas': 180, 'Oceania': 12}\n",
      "{'Asia': 155, 'Europe': 192, 'Africa': 276, 'Americas': 180, 'Oceania': 12}\n",
      "{'Asia': 156, 'Europe': 192, 'Africa': 276, 'Americas': 180, 'Oceania': 12}\n",
      "{'Asia': 156, 'Europe': 192, 'Africa': 277, 'Americas': 180, 'Oceania': 12}\n",
      "{'Asia': 156, 'Europe': 192, 'Africa': 278, 'Americas': 180, 'Oceania': 12}\n",
      "{'Asia': 156, 'Europe': 192, 'Africa': 279, 'Americas': 180, 'Oceania': 12}\n",
      "{'Asia': 156, 'Europe': 192, 'Africa': 280, 'Americas': 180, 'Oceania': 12}\n",
      "{'Asia': 156, 'Europe': 192, 'Africa': 281, 'Americas': 180, 'Oceania': 12}\n",
      "{'Asia': 156, 'Europe': 192, 'Africa': 282, 'Americas': 180, 'Oceania': 12}\n",
      "{'Asia': 156, 'Europe': 192, 'Africa': 283, 'Americas': 180, 'Oceania': 12}\n",
      "{'Asia': 156, 'Europe': 192, 'Africa': 284, 'Americas': 180, 'Oceania': 12}\n",
      "{'Asia': 156, 'Europe': 192, 'Africa': 285, 'Americas': 180, 'Oceania': 12}\n",
      "{'Asia': 156, 'Europe': 192, 'Africa': 286, 'Americas': 180, 'Oceania': 12}\n",
      "{'Asia': 156, 'Europe': 192, 'Africa': 287, 'Americas': 180, 'Oceania': 12}\n",
      "{'Asia': 156, 'Europe': 192, 'Africa': 288, 'Americas': 180, 'Oceania': 12}\n",
      "{'Asia': 157, 'Europe': 192, 'Africa': 288, 'Americas': 180, 'Oceania': 12}\n",
      "{'Asia': 158, 'Europe': 192, 'Africa': 288, 'Americas': 180, 'Oceania': 12}\n",
      "{'Asia': 159, 'Europe': 192, 'Africa': 288, 'Americas': 180, 'Oceania': 12}\n",
      "{'Asia': 160, 'Europe': 192, 'Africa': 288, 'Americas': 180, 'Oceania': 12}\n",
      "{'Asia': 161, 'Europe': 192, 'Africa': 288, 'Americas': 180, 'Oceania': 12}\n",
      "{'Asia': 162, 'Europe': 192, 'Africa': 288, 'Americas': 180, 'Oceania': 12}\n",
      "{'Asia': 163, 'Europe': 192, 'Africa': 288, 'Americas': 180, 'Oceania': 12}\n",
      "{'Asia': 164, 'Europe': 192, 'Africa': 288, 'Americas': 180, 'Oceania': 12}\n",
      "{'Asia': 165, 'Europe': 192, 'Africa': 288, 'Americas': 180, 'Oceania': 12}\n",
      "{'Asia': 166, 'Europe': 192, 'Africa': 288, 'Americas': 180, 'Oceania': 12}\n",
      "{'Asia': 167, 'Europe': 192, 'Africa': 288, 'Americas': 180, 'Oceania': 12}\n",
      "{'Asia': 168, 'Europe': 192, 'Africa': 288, 'Americas': 180, 'Oceania': 12}\n",
      "{'Asia': 169, 'Europe': 192, 'Africa': 288, 'Americas': 180, 'Oceania': 12}\n",
      "{'Asia': 170, 'Europe': 192, 'Africa': 288, 'Americas': 180, 'Oceania': 12}\n",
      "{'Asia': 171, 'Europe': 192, 'Africa': 288, 'Americas': 180, 'Oceania': 12}\n",
      "{'Asia': 172, 'Europe': 192, 'Africa': 288, 'Americas': 180, 'Oceania': 12}\n",
      "{'Asia': 173, 'Europe': 192, 'Africa': 288, 'Americas': 180, 'Oceania': 12}\n",
      "{'Asia': 174, 'Europe': 192, 'Africa': 288, 'Americas': 180, 'Oceania': 12}\n",
      "{'Asia': 175, 'Europe': 192, 'Africa': 288, 'Americas': 180, 'Oceania': 12}\n",
      "{'Asia': 176, 'Europe': 192, 'Africa': 288, 'Americas': 180, 'Oceania': 12}\n",
      "{'Asia': 177, 'Europe': 192, 'Africa': 288, 'Americas': 180, 'Oceania': 12}\n",
      "{'Asia': 178, 'Europe': 192, 'Africa': 288, 'Americas': 180, 'Oceania': 12}\n",
      "{'Asia': 179, 'Europe': 192, 'Africa': 288, 'Americas': 180, 'Oceania': 12}\n",
      "{'Asia': 180, 'Europe': 192, 'Africa': 288, 'Americas': 180, 'Oceania': 12}\n",
      "{'Asia': 181, 'Europe': 192, 'Africa': 288, 'Americas': 180, 'Oceania': 12}\n",
      "{'Asia': 182, 'Europe': 192, 'Africa': 288, 'Americas': 180, 'Oceania': 12}\n",
      "{'Asia': 183, 'Europe': 192, 'Africa': 288, 'Americas': 180, 'Oceania': 12}\n",
      "{'Asia': 184, 'Europe': 192, 'Africa': 288, 'Americas': 180, 'Oceania': 12}\n",
      "{'Asia': 185, 'Europe': 192, 'Africa': 288, 'Americas': 180, 'Oceania': 12}\n",
      "{'Asia': 186, 'Europe': 192, 'Africa': 288, 'Americas': 180, 'Oceania': 12}\n",
      "{'Asia': 187, 'Europe': 192, 'Africa': 288, 'Americas': 180, 'Oceania': 12}\n",
      "{'Asia': 188, 'Europe': 192, 'Africa': 288, 'Americas': 180, 'Oceania': 12}\n",
      "{'Asia': 189, 'Europe': 192, 'Africa': 288, 'Americas': 180, 'Oceania': 12}\n",
      "{'Asia': 190, 'Europe': 192, 'Africa': 288, 'Americas': 180, 'Oceania': 12}\n",
      "{'Asia': 191, 'Europe': 192, 'Africa': 288, 'Americas': 180, 'Oceania': 12}\n",
      "{'Asia': 192, 'Europe': 192, 'Africa': 288, 'Americas': 180, 'Oceania': 12}\n",
      "{'Asia': 193, 'Europe': 192, 'Africa': 288, 'Americas': 180, 'Oceania': 12}\n",
      "{'Asia': 194, 'Europe': 192, 'Africa': 288, 'Americas': 180, 'Oceania': 12}\n",
      "{'Asia': 195, 'Europe': 192, 'Africa': 288, 'Americas': 180, 'Oceania': 12}\n",
      "{'Asia': 196, 'Europe': 192, 'Africa': 288, 'Americas': 180, 'Oceania': 12}\n",
      "{'Asia': 197, 'Europe': 192, 'Africa': 288, 'Americas': 180, 'Oceania': 12}\n",
      "{'Asia': 198, 'Europe': 192, 'Africa': 288, 'Americas': 180, 'Oceania': 12}\n",
      "{'Asia': 199, 'Europe': 192, 'Africa': 288, 'Americas': 180, 'Oceania': 12}\n",
      "{'Asia': 200, 'Europe': 192, 'Africa': 288, 'Americas': 180, 'Oceania': 12}\n",
      "{'Asia': 201, 'Europe': 192, 'Africa': 288, 'Americas': 180, 'Oceania': 12}\n",
      "{'Asia': 202, 'Europe': 192, 'Africa': 288, 'Americas': 180, 'Oceania': 12}\n",
      "{'Asia': 203, 'Europe': 192, 'Africa': 288, 'Americas': 180, 'Oceania': 12}\n",
      "{'Asia': 204, 'Europe': 192, 'Africa': 288, 'Americas': 180, 'Oceania': 12}\n",
      "{'Asia': 204, 'Europe': 192, 'Africa': 289, 'Americas': 180, 'Oceania': 12}\n",
      "{'Asia': 204, 'Europe': 192, 'Africa': 290, 'Americas': 180, 'Oceania': 12}\n",
      "{'Asia': 204, 'Europe': 192, 'Africa': 291, 'Americas': 180, 'Oceania': 12}\n",
      "{'Asia': 204, 'Europe': 192, 'Africa': 292, 'Americas': 180, 'Oceania': 12}\n",
      "{'Asia': 204, 'Europe': 192, 'Africa': 293, 'Americas': 180, 'Oceania': 12}\n",
      "{'Asia': 204, 'Europe': 192, 'Africa': 294, 'Americas': 180, 'Oceania': 12}\n",
      "{'Asia': 204, 'Europe': 192, 'Africa': 295, 'Americas': 180, 'Oceania': 12}\n",
      "{'Asia': 204, 'Europe': 192, 'Africa': 296, 'Americas': 180, 'Oceania': 12}\n",
      "{'Asia': 204, 'Europe': 192, 'Africa': 297, 'Americas': 180, 'Oceania': 12}\n",
      "{'Asia': 204, 'Europe': 192, 'Africa': 298, 'Americas': 180, 'Oceania': 12}\n",
      "{'Asia': 204, 'Europe': 192, 'Africa': 299, 'Americas': 180, 'Oceania': 12}\n",
      "{'Asia': 204, 'Europe': 192, 'Africa': 300, 'Americas': 180, 'Oceania': 12}\n",
      "{'Asia': 204, 'Europe': 192, 'Africa': 301, 'Americas': 180, 'Oceania': 12}\n",
      "{'Asia': 204, 'Europe': 192, 'Africa': 302, 'Americas': 180, 'Oceania': 12}\n",
      "{'Asia': 204, 'Europe': 192, 'Africa': 303, 'Americas': 180, 'Oceania': 12}\n",
      "{'Asia': 204, 'Europe': 192, 'Africa': 304, 'Americas': 180, 'Oceania': 12}\n",
      "{'Asia': 204, 'Europe': 192, 'Africa': 305, 'Americas': 180, 'Oceania': 12}\n",
      "{'Asia': 204, 'Europe': 192, 'Africa': 306, 'Americas': 180, 'Oceania': 12}\n",
      "{'Asia': 204, 'Europe': 192, 'Africa': 307, 'Americas': 180, 'Oceania': 12}\n",
      "{'Asia': 204, 'Europe': 192, 'Africa': 308, 'Americas': 180, 'Oceania': 12}\n",
      "{'Asia': 204, 'Europe': 192, 'Africa': 309, 'Americas': 180, 'Oceania': 12}\n",
      "{'Asia': 204, 'Europe': 192, 'Africa': 310, 'Americas': 180, 'Oceania': 12}\n",
      "{'Asia': 204, 'Europe': 192, 'Africa': 311, 'Americas': 180, 'Oceania': 12}\n",
      "{'Asia': 204, 'Europe': 192, 'Africa': 312, 'Americas': 180, 'Oceania': 12}\n",
      "{'Asia': 204, 'Europe': 192, 'Africa': 313, 'Americas': 180, 'Oceania': 12}\n",
      "{'Asia': 204, 'Europe': 192, 'Africa': 314, 'Americas': 180, 'Oceania': 12}\n",
      "{'Asia': 204, 'Europe': 192, 'Africa': 315, 'Americas': 180, 'Oceania': 12}\n",
      "{'Asia': 204, 'Europe': 192, 'Africa': 316, 'Americas': 180, 'Oceania': 12}\n",
      "{'Asia': 204, 'Europe': 192, 'Africa': 317, 'Americas': 180, 'Oceania': 12}\n",
      "{'Asia': 204, 'Europe': 192, 'Africa': 318, 'Americas': 180, 'Oceania': 12}\n",
      "{'Asia': 204, 'Europe': 192, 'Africa': 319, 'Americas': 180, 'Oceania': 12}\n",
      "{'Asia': 204, 'Europe': 192, 'Africa': 320, 'Americas': 180, 'Oceania': 12}\n",
      "{'Asia': 204, 'Europe': 192, 'Africa': 321, 'Americas': 180, 'Oceania': 12}\n",
      "{'Asia': 204, 'Europe': 192, 'Africa': 322, 'Americas': 180, 'Oceania': 12}\n",
      "{'Asia': 204, 'Europe': 192, 'Africa': 323, 'Americas': 180, 'Oceania': 12}\n",
      "{'Asia': 204, 'Europe': 192, 'Africa': 324, 'Americas': 180, 'Oceania': 12}\n",
      "{'Asia': 204, 'Europe': 192, 'Africa': 325, 'Americas': 180, 'Oceania': 12}\n",
      "{'Asia': 204, 'Europe': 192, 'Africa': 326, 'Americas': 180, 'Oceania': 12}\n",
      "{'Asia': 204, 'Europe': 192, 'Africa': 327, 'Americas': 180, 'Oceania': 12}\n",
      "{'Asia': 204, 'Europe': 192, 'Africa': 328, 'Americas': 180, 'Oceania': 12}\n",
      "{'Asia': 204, 'Europe': 192, 'Africa': 329, 'Americas': 180, 'Oceania': 12}\n",
      "{'Asia': 204, 'Europe': 192, 'Africa': 330, 'Americas': 180, 'Oceania': 12}\n",
      "{'Asia': 204, 'Europe': 192, 'Africa': 331, 'Americas': 180, 'Oceania': 12}\n",
      "{'Asia': 204, 'Europe': 192, 'Africa': 332, 'Americas': 180, 'Oceania': 12}\n",
      "{'Asia': 204, 'Europe': 192, 'Africa': 333, 'Americas': 180, 'Oceania': 12}\n",
      "{'Asia': 204, 'Europe': 192, 'Africa': 334, 'Americas': 180, 'Oceania': 12}\n",
      "{'Asia': 204, 'Europe': 192, 'Africa': 335, 'Americas': 180, 'Oceania': 12}\n",
      "{'Asia': 204, 'Europe': 192, 'Africa': 336, 'Americas': 180, 'Oceania': 12}\n",
      "{'Asia': 204, 'Europe': 192, 'Africa': 337, 'Americas': 180, 'Oceania': 12}\n",
      "{'Asia': 204, 'Europe': 192, 'Africa': 338, 'Americas': 180, 'Oceania': 12}\n",
      "{'Asia': 204, 'Europe': 192, 'Africa': 339, 'Americas': 180, 'Oceania': 12}\n",
      "{'Asia': 204, 'Europe': 192, 'Africa': 340, 'Americas': 180, 'Oceania': 12}\n",
      "{'Asia': 204, 'Europe': 192, 'Africa': 341, 'Americas': 180, 'Oceania': 12}\n",
      "{'Asia': 204, 'Europe': 192, 'Africa': 342, 'Americas': 180, 'Oceania': 12}\n",
      "{'Asia': 204, 'Europe': 192, 'Africa': 343, 'Americas': 180, 'Oceania': 12}\n",
      "{'Asia': 204, 'Europe': 192, 'Africa': 344, 'Americas': 180, 'Oceania': 12}\n",
      "{'Asia': 204, 'Europe': 192, 'Africa': 345, 'Americas': 180, 'Oceania': 12}\n",
      "{'Asia': 204, 'Europe': 192, 'Africa': 346, 'Americas': 180, 'Oceania': 12}\n",
      "{'Asia': 204, 'Europe': 192, 'Africa': 347, 'Americas': 180, 'Oceania': 12}\n",
      "{'Asia': 204, 'Europe': 192, 'Africa': 348, 'Americas': 180, 'Oceania': 12}\n",
      "{'Asia': 205, 'Europe': 192, 'Africa': 348, 'Americas': 180, 'Oceania': 12}\n",
      "{'Asia': 206, 'Europe': 192, 'Africa': 348, 'Americas': 180, 'Oceania': 12}\n",
      "{'Asia': 207, 'Europe': 192, 'Africa': 348, 'Americas': 180, 'Oceania': 12}\n",
      "{'Asia': 208, 'Europe': 192, 'Africa': 348, 'Americas': 180, 'Oceania': 12}\n",
      "{'Asia': 209, 'Europe': 192, 'Africa': 348, 'Americas': 180, 'Oceania': 12}\n",
      "{'Asia': 210, 'Europe': 192, 'Africa': 348, 'Americas': 180, 'Oceania': 12}\n",
      "{'Asia': 211, 'Europe': 192, 'Africa': 348, 'Americas': 180, 'Oceania': 12}\n",
      "{'Asia': 212, 'Europe': 192, 'Africa': 348, 'Americas': 180, 'Oceania': 12}\n",
      "{'Asia': 213, 'Europe': 192, 'Africa': 348, 'Americas': 180, 'Oceania': 12}\n",
      "{'Asia': 214, 'Europe': 192, 'Africa': 348, 'Americas': 180, 'Oceania': 12}\n",
      "{'Asia': 215, 'Europe': 192, 'Africa': 348, 'Americas': 180, 'Oceania': 12}\n",
      "{'Asia': 216, 'Europe': 192, 'Africa': 348, 'Americas': 180, 'Oceania': 12}\n",
      "{'Asia': 216, 'Europe': 192, 'Africa': 349, 'Americas': 180, 'Oceania': 12}\n",
      "{'Asia': 216, 'Europe': 192, 'Africa': 350, 'Americas': 180, 'Oceania': 12}\n",
      "{'Asia': 216, 'Europe': 192, 'Africa': 351, 'Americas': 180, 'Oceania': 12}\n",
      "{'Asia': 216, 'Europe': 192, 'Africa': 352, 'Americas': 180, 'Oceania': 12}\n",
      "{'Asia': 216, 'Europe': 192, 'Africa': 353, 'Americas': 180, 'Oceania': 12}\n",
      "{'Asia': 216, 'Europe': 192, 'Africa': 354, 'Americas': 180, 'Oceania': 12}\n",
      "{'Asia': 216, 'Europe': 192, 'Africa': 355, 'Americas': 180, 'Oceania': 12}\n",
      "{'Asia': 216, 'Europe': 192, 'Africa': 356, 'Americas': 180, 'Oceania': 12}\n",
      "{'Asia': 216, 'Europe': 192, 'Africa': 357, 'Americas': 180, 'Oceania': 12}\n",
      "{'Asia': 216, 'Europe': 192, 'Africa': 358, 'Americas': 180, 'Oceania': 12}\n",
      "{'Asia': 216, 'Europe': 192, 'Africa': 359, 'Americas': 180, 'Oceania': 12}\n",
      "{'Asia': 216, 'Europe': 192, 'Africa': 360, 'Americas': 180, 'Oceania': 12}\n",
      "{'Asia': 216, 'Europe': 192, 'Africa': 361, 'Americas': 180, 'Oceania': 12}\n",
      "{'Asia': 216, 'Europe': 192, 'Africa': 362, 'Americas': 180, 'Oceania': 12}\n",
      "{'Asia': 216, 'Europe': 192, 'Africa': 363, 'Americas': 180, 'Oceania': 12}\n",
      "{'Asia': 216, 'Europe': 192, 'Africa': 364, 'Americas': 180, 'Oceania': 12}\n",
      "{'Asia': 216, 'Europe': 192, 'Africa': 365, 'Americas': 180, 'Oceania': 12}\n",
      "{'Asia': 216, 'Europe': 192, 'Africa': 366, 'Americas': 180, 'Oceania': 12}\n",
      "{'Asia': 216, 'Europe': 192, 'Africa': 367, 'Americas': 180, 'Oceania': 12}\n",
      "{'Asia': 216, 'Europe': 192, 'Africa': 368, 'Americas': 180, 'Oceania': 12}\n",
      "{'Asia': 216, 'Europe': 192, 'Africa': 369, 'Americas': 180, 'Oceania': 12}\n",
      "{'Asia': 216, 'Europe': 192, 'Africa': 370, 'Americas': 180, 'Oceania': 12}\n",
      "{'Asia': 216, 'Europe': 192, 'Africa': 371, 'Americas': 180, 'Oceania': 12}\n",
      "{'Asia': 216, 'Europe': 192, 'Africa': 372, 'Americas': 180, 'Oceania': 12}\n",
      "{'Asia': 216, 'Europe': 192, 'Africa': 373, 'Americas': 180, 'Oceania': 12}\n",
      "{'Asia': 216, 'Europe': 192, 'Africa': 374, 'Americas': 180, 'Oceania': 12}\n",
      "{'Asia': 216, 'Europe': 192, 'Africa': 375, 'Americas': 180, 'Oceania': 12}\n",
      "{'Asia': 216, 'Europe': 192, 'Africa': 376, 'Americas': 180, 'Oceania': 12}\n",
      "{'Asia': 216, 'Europe': 192, 'Africa': 377, 'Americas': 180, 'Oceania': 12}\n",
      "{'Asia': 216, 'Europe': 192, 'Africa': 378, 'Americas': 180, 'Oceania': 12}\n",
      "{'Asia': 216, 'Europe': 192, 'Africa': 379, 'Americas': 180, 'Oceania': 12}\n",
      "{'Asia': 216, 'Europe': 192, 'Africa': 380, 'Americas': 180, 'Oceania': 12}\n",
      "{'Asia': 216, 'Europe': 192, 'Africa': 381, 'Americas': 180, 'Oceania': 12}\n",
      "{'Asia': 216, 'Europe': 192, 'Africa': 382, 'Americas': 180, 'Oceania': 12}\n",
      "{'Asia': 216, 'Europe': 192, 'Africa': 383, 'Americas': 180, 'Oceania': 12}\n",
      "{'Asia': 216, 'Europe': 192, 'Africa': 384, 'Americas': 180, 'Oceania': 12}\n",
      "{'Asia': 216, 'Europe': 192, 'Africa': 384, 'Americas': 181, 'Oceania': 12}\n",
      "{'Asia': 216, 'Europe': 192, 'Africa': 384, 'Americas': 182, 'Oceania': 12}\n",
      "{'Asia': 216, 'Europe': 192, 'Africa': 384, 'Americas': 183, 'Oceania': 12}\n",
      "{'Asia': 216, 'Europe': 192, 'Africa': 384, 'Americas': 184, 'Oceania': 12}\n",
      "{'Asia': 216, 'Europe': 192, 'Africa': 384, 'Americas': 185, 'Oceania': 12}\n",
      "{'Asia': 216, 'Europe': 192, 'Africa': 384, 'Americas': 186, 'Oceania': 12}\n",
      "{'Asia': 216, 'Europe': 192, 'Africa': 384, 'Americas': 187, 'Oceania': 12}\n",
      "{'Asia': 216, 'Europe': 192, 'Africa': 384, 'Americas': 188, 'Oceania': 12}\n",
      "{'Asia': 216, 'Europe': 192, 'Africa': 384, 'Americas': 189, 'Oceania': 12}\n",
      "{'Asia': 216, 'Europe': 192, 'Africa': 384, 'Americas': 190, 'Oceania': 12}\n",
      "{'Asia': 216, 'Europe': 192, 'Africa': 384, 'Americas': 191, 'Oceania': 12}\n",
      "{'Asia': 216, 'Europe': 192, 'Africa': 384, 'Americas': 192, 'Oceania': 12}\n",
      "{'Asia': 217, 'Europe': 192, 'Africa': 384, 'Americas': 192, 'Oceania': 12}\n",
      "{'Asia': 218, 'Europe': 192, 'Africa': 384, 'Americas': 192, 'Oceania': 12}\n",
      "{'Asia': 219, 'Europe': 192, 'Africa': 384, 'Americas': 192, 'Oceania': 12}\n",
      "{'Asia': 220, 'Europe': 192, 'Africa': 384, 'Americas': 192, 'Oceania': 12}\n",
      "{'Asia': 221, 'Europe': 192, 'Africa': 384, 'Americas': 192, 'Oceania': 12}\n",
      "{'Asia': 222, 'Europe': 192, 'Africa': 384, 'Americas': 192, 'Oceania': 12}\n",
      "{'Asia': 223, 'Europe': 192, 'Africa': 384, 'Americas': 192, 'Oceania': 12}\n",
      "{'Asia': 224, 'Europe': 192, 'Africa': 384, 'Americas': 192, 'Oceania': 12}\n",
      "{'Asia': 225, 'Europe': 192, 'Africa': 384, 'Americas': 192, 'Oceania': 12}\n",
      "{'Asia': 226, 'Europe': 192, 'Africa': 384, 'Americas': 192, 'Oceania': 12}\n",
      "{'Asia': 227, 'Europe': 192, 'Africa': 384, 'Americas': 192, 'Oceania': 12}\n",
      "{'Asia': 228, 'Europe': 192, 'Africa': 384, 'Americas': 192, 'Oceania': 12}\n",
      "{'Asia': 228, 'Europe': 193, 'Africa': 384, 'Americas': 192, 'Oceania': 12}\n",
      "{'Asia': 228, 'Europe': 194, 'Africa': 384, 'Americas': 192, 'Oceania': 12}\n",
      "{'Asia': 228, 'Europe': 195, 'Africa': 384, 'Americas': 192, 'Oceania': 12}\n",
      "{'Asia': 228, 'Europe': 196, 'Africa': 384, 'Americas': 192, 'Oceania': 12}\n",
      "{'Asia': 228, 'Europe': 197, 'Africa': 384, 'Americas': 192, 'Oceania': 12}\n",
      "{'Asia': 228, 'Europe': 198, 'Africa': 384, 'Americas': 192, 'Oceania': 12}\n",
      "{'Asia': 228, 'Europe': 199, 'Africa': 384, 'Americas': 192, 'Oceania': 12}\n",
      "{'Asia': 228, 'Europe': 200, 'Africa': 384, 'Americas': 192, 'Oceania': 12}\n",
      "{'Asia': 228, 'Europe': 201, 'Africa': 384, 'Americas': 192, 'Oceania': 12}\n",
      "{'Asia': 228, 'Europe': 202, 'Africa': 384, 'Americas': 192, 'Oceania': 12}\n",
      "{'Asia': 228, 'Europe': 203, 'Africa': 384, 'Americas': 192, 'Oceania': 12}\n",
      "{'Asia': 228, 'Europe': 204, 'Africa': 384, 'Americas': 192, 'Oceania': 12}\n",
      "{'Asia': 228, 'Europe': 204, 'Africa': 385, 'Americas': 192, 'Oceania': 12}\n",
      "{'Asia': 228, 'Europe': 204, 'Africa': 386, 'Americas': 192, 'Oceania': 12}\n",
      "{'Asia': 228, 'Europe': 204, 'Africa': 387, 'Americas': 192, 'Oceania': 12}\n",
      "{'Asia': 228, 'Europe': 204, 'Africa': 388, 'Americas': 192, 'Oceania': 12}\n",
      "{'Asia': 228, 'Europe': 204, 'Africa': 389, 'Americas': 192, 'Oceania': 12}\n",
      "{'Asia': 228, 'Europe': 204, 'Africa': 390, 'Americas': 192, 'Oceania': 12}\n",
      "{'Asia': 228, 'Europe': 204, 'Africa': 391, 'Americas': 192, 'Oceania': 12}\n",
      "{'Asia': 228, 'Europe': 204, 'Africa': 392, 'Americas': 192, 'Oceania': 12}\n",
      "{'Asia': 228, 'Europe': 204, 'Africa': 393, 'Americas': 192, 'Oceania': 12}\n",
      "{'Asia': 228, 'Europe': 204, 'Africa': 394, 'Americas': 192, 'Oceania': 12}\n",
      "{'Asia': 228, 'Europe': 204, 'Africa': 395, 'Americas': 192, 'Oceania': 12}\n",
      "{'Asia': 228, 'Europe': 204, 'Africa': 396, 'Americas': 192, 'Oceania': 12}\n",
      "{'Asia': 228, 'Europe': 204, 'Africa': 397, 'Americas': 192, 'Oceania': 12}\n",
      "{'Asia': 228, 'Europe': 204, 'Africa': 398, 'Americas': 192, 'Oceania': 12}\n",
      "{'Asia': 228, 'Europe': 204, 'Africa': 399, 'Americas': 192, 'Oceania': 12}\n",
      "{'Asia': 228, 'Europe': 204, 'Africa': 400, 'Americas': 192, 'Oceania': 12}\n",
      "{'Asia': 228, 'Europe': 204, 'Africa': 401, 'Americas': 192, 'Oceania': 12}\n",
      "{'Asia': 228, 'Europe': 204, 'Africa': 402, 'Americas': 192, 'Oceania': 12}\n",
      "{'Asia': 228, 'Europe': 204, 'Africa': 403, 'Americas': 192, 'Oceania': 12}\n",
      "{'Asia': 228, 'Europe': 204, 'Africa': 404, 'Americas': 192, 'Oceania': 12}\n",
      "{'Asia': 228, 'Europe': 204, 'Africa': 405, 'Americas': 192, 'Oceania': 12}\n",
      "{'Asia': 228, 'Europe': 204, 'Africa': 406, 'Americas': 192, 'Oceania': 12}\n",
      "{'Asia': 228, 'Europe': 204, 'Africa': 407, 'Americas': 192, 'Oceania': 12}\n",
      "{'Asia': 228, 'Europe': 204, 'Africa': 408, 'Americas': 192, 'Oceania': 12}\n",
      "{'Asia': 229, 'Europe': 204, 'Africa': 408, 'Americas': 192, 'Oceania': 12}\n",
      "{'Asia': 230, 'Europe': 204, 'Africa': 408, 'Americas': 192, 'Oceania': 12}\n",
      "{'Asia': 231, 'Europe': 204, 'Africa': 408, 'Americas': 192, 'Oceania': 12}\n",
      "{'Asia': 232, 'Europe': 204, 'Africa': 408, 'Americas': 192, 'Oceania': 12}\n",
      "{'Asia': 233, 'Europe': 204, 'Africa': 408, 'Americas': 192, 'Oceania': 12}\n",
      "{'Asia': 234, 'Europe': 204, 'Africa': 408, 'Americas': 192, 'Oceania': 12}\n",
      "{'Asia': 235, 'Europe': 204, 'Africa': 408, 'Americas': 192, 'Oceania': 12}\n",
      "{'Asia': 236, 'Europe': 204, 'Africa': 408, 'Americas': 192, 'Oceania': 12}\n",
      "{'Asia': 237, 'Europe': 204, 'Africa': 408, 'Americas': 192, 'Oceania': 12}\n",
      "{'Asia': 238, 'Europe': 204, 'Africa': 408, 'Americas': 192, 'Oceania': 12}\n",
      "{'Asia': 239, 'Europe': 204, 'Africa': 408, 'Americas': 192, 'Oceania': 12}\n",
      "{'Asia': 240, 'Europe': 204, 'Africa': 408, 'Americas': 192, 'Oceania': 12}\n",
      "{'Asia': 240, 'Europe': 204, 'Africa': 409, 'Americas': 192, 'Oceania': 12}\n",
      "{'Asia': 240, 'Europe': 204, 'Africa': 410, 'Americas': 192, 'Oceania': 12}\n",
      "{'Asia': 240, 'Europe': 204, 'Africa': 411, 'Americas': 192, 'Oceania': 12}\n",
      "{'Asia': 240, 'Europe': 204, 'Africa': 412, 'Americas': 192, 'Oceania': 12}\n",
      "{'Asia': 240, 'Europe': 204, 'Africa': 413, 'Americas': 192, 'Oceania': 12}\n",
      "{'Asia': 240, 'Europe': 204, 'Africa': 414, 'Americas': 192, 'Oceania': 12}\n",
      "{'Asia': 240, 'Europe': 204, 'Africa': 415, 'Americas': 192, 'Oceania': 12}\n",
      "{'Asia': 240, 'Europe': 204, 'Africa': 416, 'Americas': 192, 'Oceania': 12}\n",
      "{'Asia': 240, 'Europe': 204, 'Africa': 417, 'Americas': 192, 'Oceania': 12}\n",
      "{'Asia': 240, 'Europe': 204, 'Africa': 418, 'Americas': 192, 'Oceania': 12}\n",
      "{'Asia': 240, 'Europe': 204, 'Africa': 419, 'Americas': 192, 'Oceania': 12}\n",
      "{'Asia': 240, 'Europe': 204, 'Africa': 420, 'Americas': 192, 'Oceania': 12}\n",
      "{'Asia': 241, 'Europe': 204, 'Africa': 420, 'Americas': 192, 'Oceania': 12}\n",
      "{'Asia': 242, 'Europe': 204, 'Africa': 420, 'Americas': 192, 'Oceania': 12}\n",
      "{'Asia': 243, 'Europe': 204, 'Africa': 420, 'Americas': 192, 'Oceania': 12}\n",
      "{'Asia': 244, 'Europe': 204, 'Africa': 420, 'Americas': 192, 'Oceania': 12}\n",
      "{'Asia': 245, 'Europe': 204, 'Africa': 420, 'Americas': 192, 'Oceania': 12}\n",
      "{'Asia': 246, 'Europe': 204, 'Africa': 420, 'Americas': 192, 'Oceania': 12}\n",
      "{'Asia': 247, 'Europe': 204, 'Africa': 420, 'Americas': 192, 'Oceania': 12}\n",
      "{'Asia': 248, 'Europe': 204, 'Africa': 420, 'Americas': 192, 'Oceania': 12}\n",
      "{'Asia': 249, 'Europe': 204, 'Africa': 420, 'Americas': 192, 'Oceania': 12}\n",
      "{'Asia': 250, 'Europe': 204, 'Africa': 420, 'Americas': 192, 'Oceania': 12}\n",
      "{'Asia': 251, 'Europe': 204, 'Africa': 420, 'Americas': 192, 'Oceania': 12}\n",
      "{'Asia': 252, 'Europe': 204, 'Africa': 420, 'Americas': 192, 'Oceania': 12}\n",
      "{'Asia': 252, 'Europe': 205, 'Africa': 420, 'Americas': 192, 'Oceania': 12}\n",
      "{'Asia': 252, 'Europe': 206, 'Africa': 420, 'Americas': 192, 'Oceania': 12}\n",
      "{'Asia': 252, 'Europe': 207, 'Africa': 420, 'Americas': 192, 'Oceania': 12}\n",
      "{'Asia': 252, 'Europe': 208, 'Africa': 420, 'Americas': 192, 'Oceania': 12}\n",
      "{'Asia': 252, 'Europe': 209, 'Africa': 420, 'Americas': 192, 'Oceania': 12}\n",
      "{'Asia': 252, 'Europe': 210, 'Africa': 420, 'Americas': 192, 'Oceania': 12}\n",
      "{'Asia': 252, 'Europe': 211, 'Africa': 420, 'Americas': 192, 'Oceania': 12}\n",
      "{'Asia': 252, 'Europe': 212, 'Africa': 420, 'Americas': 192, 'Oceania': 12}\n",
      "{'Asia': 252, 'Europe': 213, 'Africa': 420, 'Americas': 192, 'Oceania': 12}\n",
      "{'Asia': 252, 'Europe': 214, 'Africa': 420, 'Americas': 192, 'Oceania': 12}\n",
      "{'Asia': 252, 'Europe': 215, 'Africa': 420, 'Americas': 192, 'Oceania': 12}\n",
      "{'Asia': 252, 'Europe': 216, 'Africa': 420, 'Americas': 192, 'Oceania': 12}\n",
      "{'Asia': 252, 'Europe': 216, 'Africa': 420, 'Americas': 192, 'Oceania': 13}\n",
      "{'Asia': 252, 'Europe': 216, 'Africa': 420, 'Americas': 192, 'Oceania': 14}\n",
      "{'Asia': 252, 'Europe': 216, 'Africa': 420, 'Americas': 192, 'Oceania': 15}\n",
      "{'Asia': 252, 'Europe': 216, 'Africa': 420, 'Americas': 192, 'Oceania': 16}\n",
      "{'Asia': 252, 'Europe': 216, 'Africa': 420, 'Americas': 192, 'Oceania': 17}\n",
      "{'Asia': 252, 'Europe': 216, 'Africa': 420, 'Americas': 192, 'Oceania': 18}\n",
      "{'Asia': 252, 'Europe': 216, 'Africa': 420, 'Americas': 192, 'Oceania': 19}\n",
      "{'Asia': 252, 'Europe': 216, 'Africa': 420, 'Americas': 192, 'Oceania': 20}\n",
      "{'Asia': 252, 'Europe': 216, 'Africa': 420, 'Americas': 192, 'Oceania': 21}\n",
      "{'Asia': 252, 'Europe': 216, 'Africa': 420, 'Americas': 192, 'Oceania': 22}\n",
      "{'Asia': 252, 'Europe': 216, 'Africa': 420, 'Americas': 192, 'Oceania': 23}\n",
      "{'Asia': 252, 'Europe': 216, 'Africa': 420, 'Americas': 192, 'Oceania': 24}\n",
      "{'Asia': 252, 'Europe': 216, 'Africa': 420, 'Americas': 193, 'Oceania': 24}\n",
      "{'Asia': 252, 'Europe': 216, 'Africa': 420, 'Americas': 194, 'Oceania': 24}\n",
      "{'Asia': 252, 'Europe': 216, 'Africa': 420, 'Americas': 195, 'Oceania': 24}\n",
      "{'Asia': 252, 'Europe': 216, 'Africa': 420, 'Americas': 196, 'Oceania': 24}\n",
      "{'Asia': 252, 'Europe': 216, 'Africa': 420, 'Americas': 197, 'Oceania': 24}\n",
      "{'Asia': 252, 'Europe': 216, 'Africa': 420, 'Americas': 198, 'Oceania': 24}\n",
      "{'Asia': 252, 'Europe': 216, 'Africa': 420, 'Americas': 199, 'Oceania': 24}\n",
      "{'Asia': 252, 'Europe': 216, 'Africa': 420, 'Americas': 200, 'Oceania': 24}\n",
      "{'Asia': 252, 'Europe': 216, 'Africa': 420, 'Americas': 201, 'Oceania': 24}\n",
      "{'Asia': 252, 'Europe': 216, 'Africa': 420, 'Americas': 202, 'Oceania': 24}\n",
      "{'Asia': 252, 'Europe': 216, 'Africa': 420, 'Americas': 203, 'Oceania': 24}\n",
      "{'Asia': 252, 'Europe': 216, 'Africa': 420, 'Americas': 204, 'Oceania': 24}\n",
      "{'Asia': 252, 'Europe': 216, 'Africa': 421, 'Americas': 204, 'Oceania': 24}\n",
      "{'Asia': 252, 'Europe': 216, 'Africa': 422, 'Americas': 204, 'Oceania': 24}\n",
      "{'Asia': 252, 'Europe': 216, 'Africa': 423, 'Americas': 204, 'Oceania': 24}\n",
      "{'Asia': 252, 'Europe': 216, 'Africa': 424, 'Americas': 204, 'Oceania': 24}\n",
      "{'Asia': 252, 'Europe': 216, 'Africa': 425, 'Americas': 204, 'Oceania': 24}\n",
      "{'Asia': 252, 'Europe': 216, 'Africa': 426, 'Americas': 204, 'Oceania': 24}\n",
      "{'Asia': 252, 'Europe': 216, 'Africa': 427, 'Americas': 204, 'Oceania': 24}\n",
      "{'Asia': 252, 'Europe': 216, 'Africa': 428, 'Americas': 204, 'Oceania': 24}\n",
      "{'Asia': 252, 'Europe': 216, 'Africa': 429, 'Americas': 204, 'Oceania': 24}\n",
      "{'Asia': 252, 'Europe': 216, 'Africa': 430, 'Americas': 204, 'Oceania': 24}\n",
      "{'Asia': 252, 'Europe': 216, 'Africa': 431, 'Americas': 204, 'Oceania': 24}\n",
      "{'Asia': 252, 'Europe': 216, 'Africa': 432, 'Americas': 204, 'Oceania': 24}\n",
      "{'Asia': 252, 'Europe': 216, 'Africa': 433, 'Americas': 204, 'Oceania': 24}\n",
      "{'Asia': 252, 'Europe': 216, 'Africa': 434, 'Americas': 204, 'Oceania': 24}\n",
      "{'Asia': 252, 'Europe': 216, 'Africa': 435, 'Americas': 204, 'Oceania': 24}\n",
      "{'Asia': 252, 'Europe': 216, 'Africa': 436, 'Americas': 204, 'Oceania': 24}\n",
      "{'Asia': 252, 'Europe': 216, 'Africa': 437, 'Americas': 204, 'Oceania': 24}\n",
      "{'Asia': 252, 'Europe': 216, 'Africa': 438, 'Americas': 204, 'Oceania': 24}\n",
      "{'Asia': 252, 'Europe': 216, 'Africa': 439, 'Americas': 204, 'Oceania': 24}\n",
      "{'Asia': 252, 'Europe': 216, 'Africa': 440, 'Americas': 204, 'Oceania': 24}\n",
      "{'Asia': 252, 'Europe': 216, 'Africa': 441, 'Americas': 204, 'Oceania': 24}\n",
      "{'Asia': 252, 'Europe': 216, 'Africa': 442, 'Americas': 204, 'Oceania': 24}\n",
      "{'Asia': 252, 'Europe': 216, 'Africa': 443, 'Americas': 204, 'Oceania': 24}\n",
      "{'Asia': 252, 'Europe': 216, 'Africa': 444, 'Americas': 204, 'Oceania': 24}\n",
      "{'Asia': 252, 'Europe': 217, 'Africa': 444, 'Americas': 204, 'Oceania': 24}\n",
      "{'Asia': 252, 'Europe': 218, 'Africa': 444, 'Americas': 204, 'Oceania': 24}\n",
      "{'Asia': 252, 'Europe': 219, 'Africa': 444, 'Americas': 204, 'Oceania': 24}\n",
      "{'Asia': 252, 'Europe': 220, 'Africa': 444, 'Americas': 204, 'Oceania': 24}\n",
      "{'Asia': 252, 'Europe': 221, 'Africa': 444, 'Americas': 204, 'Oceania': 24}\n",
      "{'Asia': 252, 'Europe': 222, 'Africa': 444, 'Americas': 204, 'Oceania': 24}\n",
      "{'Asia': 252, 'Europe': 223, 'Africa': 444, 'Americas': 204, 'Oceania': 24}\n",
      "{'Asia': 252, 'Europe': 224, 'Africa': 444, 'Americas': 204, 'Oceania': 24}\n",
      "{'Asia': 252, 'Europe': 225, 'Africa': 444, 'Americas': 204, 'Oceania': 24}\n",
      "{'Asia': 252, 'Europe': 226, 'Africa': 444, 'Americas': 204, 'Oceania': 24}\n",
      "{'Asia': 252, 'Europe': 227, 'Africa': 444, 'Americas': 204, 'Oceania': 24}\n",
      "{'Asia': 252, 'Europe': 228, 'Africa': 444, 'Americas': 204, 'Oceania': 24}\n",
      "{'Asia': 253, 'Europe': 228, 'Africa': 444, 'Americas': 204, 'Oceania': 24}\n",
      "{'Asia': 254, 'Europe': 228, 'Africa': 444, 'Americas': 204, 'Oceania': 24}\n",
      "{'Asia': 255, 'Europe': 228, 'Africa': 444, 'Americas': 204, 'Oceania': 24}\n",
      "{'Asia': 256, 'Europe': 228, 'Africa': 444, 'Americas': 204, 'Oceania': 24}\n",
      "{'Asia': 257, 'Europe': 228, 'Africa': 444, 'Americas': 204, 'Oceania': 24}\n",
      "{'Asia': 258, 'Europe': 228, 'Africa': 444, 'Americas': 204, 'Oceania': 24}\n",
      "{'Asia': 259, 'Europe': 228, 'Africa': 444, 'Americas': 204, 'Oceania': 24}\n",
      "{'Asia': 260, 'Europe': 228, 'Africa': 444, 'Americas': 204, 'Oceania': 24}\n",
      "{'Asia': 261, 'Europe': 228, 'Africa': 444, 'Americas': 204, 'Oceania': 24}\n",
      "{'Asia': 262, 'Europe': 228, 'Africa': 444, 'Americas': 204, 'Oceania': 24}\n",
      "{'Asia': 263, 'Europe': 228, 'Africa': 444, 'Americas': 204, 'Oceania': 24}\n",
      "{'Asia': 264, 'Europe': 228, 'Africa': 444, 'Americas': 204, 'Oceania': 24}\n",
      "{'Asia': 265, 'Europe': 228, 'Africa': 444, 'Americas': 204, 'Oceania': 24}\n",
      "{'Asia': 266, 'Europe': 228, 'Africa': 444, 'Americas': 204, 'Oceania': 24}\n",
      "{'Asia': 267, 'Europe': 228, 'Africa': 444, 'Americas': 204, 'Oceania': 24}\n",
      "{'Asia': 268, 'Europe': 228, 'Africa': 444, 'Americas': 204, 'Oceania': 24}\n",
      "{'Asia': 269, 'Europe': 228, 'Africa': 444, 'Americas': 204, 'Oceania': 24}\n",
      "{'Asia': 270, 'Europe': 228, 'Africa': 444, 'Americas': 204, 'Oceania': 24}\n",
      "{'Asia': 271, 'Europe': 228, 'Africa': 444, 'Americas': 204, 'Oceania': 24}\n",
      "{'Asia': 272, 'Europe': 228, 'Africa': 444, 'Americas': 204, 'Oceania': 24}\n",
      "{'Asia': 273, 'Europe': 228, 'Africa': 444, 'Americas': 204, 'Oceania': 24}\n",
      "{'Asia': 274, 'Europe': 228, 'Africa': 444, 'Americas': 204, 'Oceania': 24}\n",
      "{'Asia': 275, 'Europe': 228, 'Africa': 444, 'Americas': 204, 'Oceania': 24}\n",
      "{'Asia': 276, 'Europe': 228, 'Africa': 444, 'Americas': 204, 'Oceania': 24}\n",
      "{'Asia': 276, 'Europe': 228, 'Africa': 444, 'Americas': 205, 'Oceania': 24}\n",
      "{'Asia': 276, 'Europe': 228, 'Africa': 444, 'Americas': 206, 'Oceania': 24}\n",
      "{'Asia': 276, 'Europe': 228, 'Africa': 444, 'Americas': 207, 'Oceania': 24}\n",
      "{'Asia': 276, 'Europe': 228, 'Africa': 444, 'Americas': 208, 'Oceania': 24}\n",
      "{'Asia': 276, 'Europe': 228, 'Africa': 444, 'Americas': 209, 'Oceania': 24}\n",
      "{'Asia': 276, 'Europe': 228, 'Africa': 444, 'Americas': 210, 'Oceania': 24}\n",
      "{'Asia': 276, 'Europe': 228, 'Africa': 444, 'Americas': 211, 'Oceania': 24}\n",
      "{'Asia': 276, 'Europe': 228, 'Africa': 444, 'Americas': 212, 'Oceania': 24}\n",
      "{'Asia': 276, 'Europe': 228, 'Africa': 444, 'Americas': 213, 'Oceania': 24}\n",
      "{'Asia': 276, 'Europe': 228, 'Africa': 444, 'Americas': 214, 'Oceania': 24}\n",
      "{'Asia': 276, 'Europe': 228, 'Africa': 444, 'Americas': 215, 'Oceania': 24}\n",
      "{'Asia': 276, 'Europe': 228, 'Africa': 444, 'Americas': 216, 'Oceania': 24}\n",
      "{'Asia': 276, 'Europe': 228, 'Africa': 444, 'Americas': 217, 'Oceania': 24}\n",
      "{'Asia': 276, 'Europe': 228, 'Africa': 444, 'Americas': 218, 'Oceania': 24}\n",
      "{'Asia': 276, 'Europe': 228, 'Africa': 444, 'Americas': 219, 'Oceania': 24}\n",
      "{'Asia': 276, 'Europe': 228, 'Africa': 444, 'Americas': 220, 'Oceania': 24}\n",
      "{'Asia': 276, 'Europe': 228, 'Africa': 444, 'Americas': 221, 'Oceania': 24}\n",
      "{'Asia': 276, 'Europe': 228, 'Africa': 444, 'Americas': 222, 'Oceania': 24}\n",
      "{'Asia': 276, 'Europe': 228, 'Africa': 444, 'Americas': 223, 'Oceania': 24}\n",
      "{'Asia': 276, 'Europe': 228, 'Africa': 444, 'Americas': 224, 'Oceania': 24}\n",
      "{'Asia': 276, 'Europe': 228, 'Africa': 444, 'Americas': 225, 'Oceania': 24}\n",
      "{'Asia': 276, 'Europe': 228, 'Africa': 444, 'Americas': 226, 'Oceania': 24}\n",
      "{'Asia': 276, 'Europe': 228, 'Africa': 444, 'Americas': 227, 'Oceania': 24}\n",
      "{'Asia': 276, 'Europe': 228, 'Africa': 444, 'Americas': 228, 'Oceania': 24}\n",
      "{'Asia': 276, 'Europe': 228, 'Africa': 444, 'Americas': 229, 'Oceania': 24}\n",
      "{'Asia': 276, 'Europe': 228, 'Africa': 444, 'Americas': 230, 'Oceania': 24}\n",
      "{'Asia': 276, 'Europe': 228, 'Africa': 444, 'Americas': 231, 'Oceania': 24}\n",
      "{'Asia': 276, 'Europe': 228, 'Africa': 444, 'Americas': 232, 'Oceania': 24}\n",
      "{'Asia': 276, 'Europe': 228, 'Africa': 444, 'Americas': 233, 'Oceania': 24}\n",
      "{'Asia': 276, 'Europe': 228, 'Africa': 444, 'Americas': 234, 'Oceania': 24}\n",
      "{'Asia': 276, 'Europe': 228, 'Africa': 444, 'Americas': 235, 'Oceania': 24}\n",
      "{'Asia': 276, 'Europe': 228, 'Africa': 444, 'Americas': 236, 'Oceania': 24}\n",
      "{'Asia': 276, 'Europe': 228, 'Africa': 444, 'Americas': 237, 'Oceania': 24}\n",
      "{'Asia': 276, 'Europe': 228, 'Africa': 444, 'Americas': 238, 'Oceania': 24}\n",
      "{'Asia': 276, 'Europe': 228, 'Africa': 444, 'Americas': 239, 'Oceania': 24}\n",
      "{'Asia': 276, 'Europe': 228, 'Africa': 444, 'Americas': 240, 'Oceania': 24}\n",
      "{'Asia': 277, 'Europe': 228, 'Africa': 444, 'Americas': 240, 'Oceania': 24}\n",
      "{'Asia': 278, 'Europe': 228, 'Africa': 444, 'Americas': 240, 'Oceania': 24}\n",
      "{'Asia': 279, 'Europe': 228, 'Africa': 444, 'Americas': 240, 'Oceania': 24}\n",
      "{'Asia': 280, 'Europe': 228, 'Africa': 444, 'Americas': 240, 'Oceania': 24}\n",
      "{'Asia': 281, 'Europe': 228, 'Africa': 444, 'Americas': 240, 'Oceania': 24}\n",
      "{'Asia': 282, 'Europe': 228, 'Africa': 444, 'Americas': 240, 'Oceania': 24}\n",
      "{'Asia': 283, 'Europe': 228, 'Africa': 444, 'Americas': 240, 'Oceania': 24}\n",
      "{'Asia': 284, 'Europe': 228, 'Africa': 444, 'Americas': 240, 'Oceania': 24}\n",
      "{'Asia': 285, 'Europe': 228, 'Africa': 444, 'Americas': 240, 'Oceania': 24}\n",
      "{'Asia': 286, 'Europe': 228, 'Africa': 444, 'Americas': 240, 'Oceania': 24}\n",
      "{'Asia': 287, 'Europe': 228, 'Africa': 444, 'Americas': 240, 'Oceania': 24}\n",
      "{'Asia': 288, 'Europe': 228, 'Africa': 444, 'Americas': 240, 'Oceania': 24}\n",
      "{'Asia': 288, 'Europe': 229, 'Africa': 444, 'Americas': 240, 'Oceania': 24}\n",
      "{'Asia': 288, 'Europe': 230, 'Africa': 444, 'Americas': 240, 'Oceania': 24}\n",
      "{'Asia': 288, 'Europe': 231, 'Africa': 444, 'Americas': 240, 'Oceania': 24}\n",
      "{'Asia': 288, 'Europe': 232, 'Africa': 444, 'Americas': 240, 'Oceania': 24}\n",
      "{'Asia': 288, 'Europe': 233, 'Africa': 444, 'Americas': 240, 'Oceania': 24}\n",
      "{'Asia': 288, 'Europe': 234, 'Africa': 444, 'Americas': 240, 'Oceania': 24}\n",
      "{'Asia': 288, 'Europe': 235, 'Africa': 444, 'Americas': 240, 'Oceania': 24}\n",
      "{'Asia': 288, 'Europe': 236, 'Africa': 444, 'Americas': 240, 'Oceania': 24}\n",
      "{'Asia': 288, 'Europe': 237, 'Africa': 444, 'Americas': 240, 'Oceania': 24}\n",
      "{'Asia': 288, 'Europe': 238, 'Africa': 444, 'Americas': 240, 'Oceania': 24}\n",
      "{'Asia': 288, 'Europe': 239, 'Africa': 444, 'Americas': 240, 'Oceania': 24}\n",
      "{'Asia': 288, 'Europe': 240, 'Africa': 444, 'Americas': 240, 'Oceania': 24}\n",
      "{'Asia': 288, 'Europe': 241, 'Africa': 444, 'Americas': 240, 'Oceania': 24}\n",
      "{'Asia': 288, 'Europe': 242, 'Africa': 444, 'Americas': 240, 'Oceania': 24}\n",
      "{'Asia': 288, 'Europe': 243, 'Africa': 444, 'Americas': 240, 'Oceania': 24}\n",
      "{'Asia': 288, 'Europe': 244, 'Africa': 444, 'Americas': 240, 'Oceania': 24}\n",
      "{'Asia': 288, 'Europe': 245, 'Africa': 444, 'Americas': 240, 'Oceania': 24}\n",
      "{'Asia': 288, 'Europe': 246, 'Africa': 444, 'Americas': 240, 'Oceania': 24}\n",
      "{'Asia': 288, 'Europe': 247, 'Africa': 444, 'Americas': 240, 'Oceania': 24}\n",
      "{'Asia': 288, 'Europe': 248, 'Africa': 444, 'Americas': 240, 'Oceania': 24}\n",
      "{'Asia': 288, 'Europe': 249, 'Africa': 444, 'Americas': 240, 'Oceania': 24}\n",
      "{'Asia': 288, 'Europe': 250, 'Africa': 444, 'Americas': 240, 'Oceania': 24}\n",
      "{'Asia': 288, 'Europe': 251, 'Africa': 444, 'Americas': 240, 'Oceania': 24}\n",
      "{'Asia': 288, 'Europe': 252, 'Africa': 444, 'Americas': 240, 'Oceania': 24}\n",
      "{'Asia': 288, 'Europe': 252, 'Africa': 444, 'Americas': 241, 'Oceania': 24}\n",
      "{'Asia': 288, 'Europe': 252, 'Africa': 444, 'Americas': 242, 'Oceania': 24}\n",
      "{'Asia': 288, 'Europe': 252, 'Africa': 444, 'Americas': 243, 'Oceania': 24}\n",
      "{'Asia': 288, 'Europe': 252, 'Africa': 444, 'Americas': 244, 'Oceania': 24}\n",
      "{'Asia': 288, 'Europe': 252, 'Africa': 444, 'Americas': 245, 'Oceania': 24}\n",
      "{'Asia': 288, 'Europe': 252, 'Africa': 444, 'Americas': 246, 'Oceania': 24}\n",
      "{'Asia': 288, 'Europe': 252, 'Africa': 444, 'Americas': 247, 'Oceania': 24}\n",
      "{'Asia': 288, 'Europe': 252, 'Africa': 444, 'Americas': 248, 'Oceania': 24}\n",
      "{'Asia': 288, 'Europe': 252, 'Africa': 444, 'Americas': 249, 'Oceania': 24}\n",
      "{'Asia': 288, 'Europe': 252, 'Africa': 444, 'Americas': 250, 'Oceania': 24}\n",
      "{'Asia': 288, 'Europe': 252, 'Africa': 444, 'Americas': 251, 'Oceania': 24}\n",
      "{'Asia': 288, 'Europe': 252, 'Africa': 444, 'Americas': 252, 'Oceania': 24}\n",
      "{'Asia': 288, 'Europe': 252, 'Africa': 445, 'Americas': 252, 'Oceania': 24}\n",
      "{'Asia': 288, 'Europe': 252, 'Africa': 446, 'Americas': 252, 'Oceania': 24}\n",
      "{'Asia': 288, 'Europe': 252, 'Africa': 447, 'Americas': 252, 'Oceania': 24}\n",
      "{'Asia': 288, 'Europe': 252, 'Africa': 448, 'Americas': 252, 'Oceania': 24}\n",
      "{'Asia': 288, 'Europe': 252, 'Africa': 449, 'Americas': 252, 'Oceania': 24}\n",
      "{'Asia': 288, 'Europe': 252, 'Africa': 450, 'Americas': 252, 'Oceania': 24}\n",
      "{'Asia': 288, 'Europe': 252, 'Africa': 451, 'Americas': 252, 'Oceania': 24}\n",
      "{'Asia': 288, 'Europe': 252, 'Africa': 452, 'Americas': 252, 'Oceania': 24}\n",
      "{'Asia': 288, 'Europe': 252, 'Africa': 453, 'Americas': 252, 'Oceania': 24}\n",
      "{'Asia': 288, 'Europe': 252, 'Africa': 454, 'Americas': 252, 'Oceania': 24}\n",
      "{'Asia': 288, 'Europe': 252, 'Africa': 455, 'Americas': 252, 'Oceania': 24}\n",
      "{'Asia': 288, 'Europe': 252, 'Africa': 456, 'Americas': 252, 'Oceania': 24}\n",
      "{'Asia': 288, 'Europe': 253, 'Africa': 456, 'Americas': 252, 'Oceania': 24}\n",
      "{'Asia': 288, 'Europe': 254, 'Africa': 456, 'Americas': 252, 'Oceania': 24}\n",
      "{'Asia': 288, 'Europe': 255, 'Africa': 456, 'Americas': 252, 'Oceania': 24}\n",
      "{'Asia': 288, 'Europe': 256, 'Africa': 456, 'Americas': 252, 'Oceania': 24}\n",
      "{'Asia': 288, 'Europe': 257, 'Africa': 456, 'Americas': 252, 'Oceania': 24}\n",
      "{'Asia': 288, 'Europe': 258, 'Africa': 456, 'Americas': 252, 'Oceania': 24}\n",
      "{'Asia': 288, 'Europe': 259, 'Africa': 456, 'Americas': 252, 'Oceania': 24}\n",
      "{'Asia': 288, 'Europe': 260, 'Africa': 456, 'Americas': 252, 'Oceania': 24}\n",
      "{'Asia': 288, 'Europe': 261, 'Africa': 456, 'Americas': 252, 'Oceania': 24}\n",
      "{'Asia': 288, 'Europe': 262, 'Africa': 456, 'Americas': 252, 'Oceania': 24}\n",
      "{'Asia': 288, 'Europe': 263, 'Africa': 456, 'Americas': 252, 'Oceania': 24}\n",
      "{'Asia': 288, 'Europe': 264, 'Africa': 456, 'Americas': 252, 'Oceania': 24}\n",
      "{'Asia': 288, 'Europe': 264, 'Africa': 457, 'Americas': 252, 'Oceania': 24}\n",
      "{'Asia': 288, 'Europe': 264, 'Africa': 458, 'Americas': 252, 'Oceania': 24}\n",
      "{'Asia': 288, 'Europe': 264, 'Africa': 459, 'Americas': 252, 'Oceania': 24}\n",
      "{'Asia': 288, 'Europe': 264, 'Africa': 460, 'Americas': 252, 'Oceania': 24}\n",
      "{'Asia': 288, 'Europe': 264, 'Africa': 461, 'Americas': 252, 'Oceania': 24}\n",
      "{'Asia': 288, 'Europe': 264, 'Africa': 462, 'Americas': 252, 'Oceania': 24}\n",
      "{'Asia': 288, 'Europe': 264, 'Africa': 463, 'Americas': 252, 'Oceania': 24}\n",
      "{'Asia': 288, 'Europe': 264, 'Africa': 464, 'Americas': 252, 'Oceania': 24}\n",
      "{'Asia': 288, 'Europe': 264, 'Africa': 465, 'Americas': 252, 'Oceania': 24}\n",
      "{'Asia': 288, 'Europe': 264, 'Africa': 466, 'Americas': 252, 'Oceania': 24}\n",
      "{'Asia': 288, 'Europe': 264, 'Africa': 467, 'Americas': 252, 'Oceania': 24}\n",
      "{'Asia': 288, 'Europe': 264, 'Africa': 468, 'Americas': 252, 'Oceania': 24}\n",
      "{'Asia': 288, 'Europe': 264, 'Africa': 469, 'Americas': 252, 'Oceania': 24}\n",
      "{'Asia': 288, 'Europe': 264, 'Africa': 470, 'Americas': 252, 'Oceania': 24}\n",
      "{'Asia': 288, 'Europe': 264, 'Africa': 471, 'Americas': 252, 'Oceania': 24}\n",
      "{'Asia': 288, 'Europe': 264, 'Africa': 472, 'Americas': 252, 'Oceania': 24}\n",
      "{'Asia': 288, 'Europe': 264, 'Africa': 473, 'Americas': 252, 'Oceania': 24}\n",
      "{'Asia': 288, 'Europe': 264, 'Africa': 474, 'Americas': 252, 'Oceania': 24}\n",
      "{'Asia': 288, 'Europe': 264, 'Africa': 475, 'Americas': 252, 'Oceania': 24}\n",
      "{'Asia': 288, 'Europe': 264, 'Africa': 476, 'Americas': 252, 'Oceania': 24}\n",
      "{'Asia': 288, 'Europe': 264, 'Africa': 477, 'Americas': 252, 'Oceania': 24}\n",
      "{'Asia': 288, 'Europe': 264, 'Africa': 478, 'Americas': 252, 'Oceania': 24}\n",
      "{'Asia': 288, 'Europe': 264, 'Africa': 479, 'Americas': 252, 'Oceania': 24}\n",
      "{'Asia': 288, 'Europe': 264, 'Africa': 480, 'Americas': 252, 'Oceania': 24}\n",
      "{'Asia': 289, 'Europe': 264, 'Africa': 480, 'Americas': 252, 'Oceania': 24}\n",
      "{'Asia': 290, 'Europe': 264, 'Africa': 480, 'Americas': 252, 'Oceania': 24}\n",
      "{'Asia': 291, 'Europe': 264, 'Africa': 480, 'Americas': 252, 'Oceania': 24}\n",
      "{'Asia': 292, 'Europe': 264, 'Africa': 480, 'Americas': 252, 'Oceania': 24}\n",
      "{'Asia': 293, 'Europe': 264, 'Africa': 480, 'Americas': 252, 'Oceania': 24}\n",
      "{'Asia': 294, 'Europe': 264, 'Africa': 480, 'Americas': 252, 'Oceania': 24}\n",
      "{'Asia': 295, 'Europe': 264, 'Africa': 480, 'Americas': 252, 'Oceania': 24}\n",
      "{'Asia': 296, 'Europe': 264, 'Africa': 480, 'Americas': 252, 'Oceania': 24}\n",
      "{'Asia': 297, 'Europe': 264, 'Africa': 480, 'Americas': 252, 'Oceania': 24}\n",
      "{'Asia': 298, 'Europe': 264, 'Africa': 480, 'Americas': 252, 'Oceania': 24}\n",
      "{'Asia': 299, 'Europe': 264, 'Africa': 480, 'Americas': 252, 'Oceania': 24}\n",
      "{'Asia': 300, 'Europe': 264, 'Africa': 480, 'Americas': 252, 'Oceania': 24}\n",
      "{'Asia': 300, 'Europe': 264, 'Africa': 481, 'Americas': 252, 'Oceania': 24}\n",
      "{'Asia': 300, 'Europe': 264, 'Africa': 482, 'Americas': 252, 'Oceania': 24}\n",
      "{'Asia': 300, 'Europe': 264, 'Africa': 483, 'Americas': 252, 'Oceania': 24}\n",
      "{'Asia': 300, 'Europe': 264, 'Africa': 484, 'Americas': 252, 'Oceania': 24}\n",
      "{'Asia': 300, 'Europe': 264, 'Africa': 485, 'Americas': 252, 'Oceania': 24}\n",
      "{'Asia': 300, 'Europe': 264, 'Africa': 486, 'Americas': 252, 'Oceania': 24}\n",
      "{'Asia': 300, 'Europe': 264, 'Africa': 487, 'Americas': 252, 'Oceania': 24}\n",
      "{'Asia': 300, 'Europe': 264, 'Africa': 488, 'Americas': 252, 'Oceania': 24}\n",
      "{'Asia': 300, 'Europe': 264, 'Africa': 489, 'Americas': 252, 'Oceania': 24}\n",
      "{'Asia': 300, 'Europe': 264, 'Africa': 490, 'Americas': 252, 'Oceania': 24}\n",
      "{'Asia': 300, 'Europe': 264, 'Africa': 491, 'Americas': 252, 'Oceania': 24}\n",
      "{'Asia': 300, 'Europe': 264, 'Africa': 492, 'Americas': 252, 'Oceania': 24}\n",
      "{'Asia': 300, 'Europe': 265, 'Africa': 492, 'Americas': 252, 'Oceania': 24}\n",
      "{'Asia': 300, 'Europe': 266, 'Africa': 492, 'Americas': 252, 'Oceania': 24}\n",
      "{'Asia': 300, 'Europe': 267, 'Africa': 492, 'Americas': 252, 'Oceania': 24}\n",
      "{'Asia': 300, 'Europe': 268, 'Africa': 492, 'Americas': 252, 'Oceania': 24}\n",
      "{'Asia': 300, 'Europe': 269, 'Africa': 492, 'Americas': 252, 'Oceania': 24}\n",
      "{'Asia': 300, 'Europe': 270, 'Africa': 492, 'Americas': 252, 'Oceania': 24}\n",
      "{'Asia': 300, 'Europe': 271, 'Africa': 492, 'Americas': 252, 'Oceania': 24}\n",
      "{'Asia': 300, 'Europe': 272, 'Africa': 492, 'Americas': 252, 'Oceania': 24}\n",
      "{'Asia': 300, 'Europe': 273, 'Africa': 492, 'Americas': 252, 'Oceania': 24}\n",
      "{'Asia': 300, 'Europe': 274, 'Africa': 492, 'Americas': 252, 'Oceania': 24}\n",
      "{'Asia': 300, 'Europe': 275, 'Africa': 492, 'Americas': 252, 'Oceania': 24}\n",
      "{'Asia': 300, 'Europe': 276, 'Africa': 492, 'Americas': 252, 'Oceania': 24}\n",
      "{'Asia': 300, 'Europe': 276, 'Africa': 493, 'Americas': 252, 'Oceania': 24}\n",
      "{'Asia': 300, 'Europe': 276, 'Africa': 494, 'Americas': 252, 'Oceania': 24}\n",
      "{'Asia': 300, 'Europe': 276, 'Africa': 495, 'Americas': 252, 'Oceania': 24}\n",
      "{'Asia': 300, 'Europe': 276, 'Africa': 496, 'Americas': 252, 'Oceania': 24}\n",
      "{'Asia': 300, 'Europe': 276, 'Africa': 497, 'Americas': 252, 'Oceania': 24}\n",
      "{'Asia': 300, 'Europe': 276, 'Africa': 498, 'Americas': 252, 'Oceania': 24}\n",
      "{'Asia': 300, 'Europe': 276, 'Africa': 499, 'Americas': 252, 'Oceania': 24}\n",
      "{'Asia': 300, 'Europe': 276, 'Africa': 500, 'Americas': 252, 'Oceania': 24}\n",
      "{'Asia': 300, 'Europe': 276, 'Africa': 501, 'Americas': 252, 'Oceania': 24}\n",
      "{'Asia': 300, 'Europe': 276, 'Africa': 502, 'Americas': 252, 'Oceania': 24}\n",
      "{'Asia': 300, 'Europe': 276, 'Africa': 503, 'Americas': 252, 'Oceania': 24}\n",
      "{'Asia': 300, 'Europe': 276, 'Africa': 504, 'Americas': 252, 'Oceania': 24}\n",
      "{'Asia': 301, 'Europe': 276, 'Africa': 504, 'Americas': 252, 'Oceania': 24}\n",
      "{'Asia': 302, 'Europe': 276, 'Africa': 504, 'Americas': 252, 'Oceania': 24}\n",
      "{'Asia': 303, 'Europe': 276, 'Africa': 504, 'Americas': 252, 'Oceania': 24}\n",
      "{'Asia': 304, 'Europe': 276, 'Africa': 504, 'Americas': 252, 'Oceania': 24}\n",
      "{'Asia': 305, 'Europe': 276, 'Africa': 504, 'Americas': 252, 'Oceania': 24}\n",
      "{'Asia': 306, 'Europe': 276, 'Africa': 504, 'Americas': 252, 'Oceania': 24}\n",
      "{'Asia': 307, 'Europe': 276, 'Africa': 504, 'Americas': 252, 'Oceania': 24}\n",
      "{'Asia': 308, 'Europe': 276, 'Africa': 504, 'Americas': 252, 'Oceania': 24}\n",
      "{'Asia': 309, 'Europe': 276, 'Africa': 504, 'Americas': 252, 'Oceania': 24}\n",
      "{'Asia': 310, 'Europe': 276, 'Africa': 504, 'Americas': 252, 'Oceania': 24}\n",
      "{'Asia': 311, 'Europe': 276, 'Africa': 504, 'Americas': 252, 'Oceania': 24}\n",
      "{'Asia': 312, 'Europe': 276, 'Africa': 504, 'Americas': 252, 'Oceania': 24}\n",
      "{'Asia': 312, 'Europe': 277, 'Africa': 504, 'Americas': 252, 'Oceania': 24}\n",
      "{'Asia': 312, 'Europe': 278, 'Africa': 504, 'Americas': 252, 'Oceania': 24}\n",
      "{'Asia': 312, 'Europe': 279, 'Africa': 504, 'Americas': 252, 'Oceania': 24}\n",
      "{'Asia': 312, 'Europe': 280, 'Africa': 504, 'Americas': 252, 'Oceania': 24}\n",
      "{'Asia': 312, 'Europe': 281, 'Africa': 504, 'Americas': 252, 'Oceania': 24}\n",
      "{'Asia': 312, 'Europe': 282, 'Africa': 504, 'Americas': 252, 'Oceania': 24}\n",
      "{'Asia': 312, 'Europe': 283, 'Africa': 504, 'Americas': 252, 'Oceania': 24}\n",
      "{'Asia': 312, 'Europe': 284, 'Africa': 504, 'Americas': 252, 'Oceania': 24}\n",
      "{'Asia': 312, 'Europe': 285, 'Africa': 504, 'Americas': 252, 'Oceania': 24}\n",
      "{'Asia': 312, 'Europe': 286, 'Africa': 504, 'Americas': 252, 'Oceania': 24}\n",
      "{'Asia': 312, 'Europe': 287, 'Africa': 504, 'Americas': 252, 'Oceania': 24}\n",
      "{'Asia': 312, 'Europe': 288, 'Africa': 504, 'Americas': 252, 'Oceania': 24}\n",
      "{'Asia': 312, 'Europe': 289, 'Africa': 504, 'Americas': 252, 'Oceania': 24}\n",
      "{'Asia': 312, 'Europe': 290, 'Africa': 504, 'Americas': 252, 'Oceania': 24}\n",
      "{'Asia': 312, 'Europe': 291, 'Africa': 504, 'Americas': 252, 'Oceania': 24}\n",
      "{'Asia': 312, 'Europe': 292, 'Africa': 504, 'Americas': 252, 'Oceania': 24}\n",
      "{'Asia': 312, 'Europe': 293, 'Africa': 504, 'Americas': 252, 'Oceania': 24}\n",
      "{'Asia': 312, 'Europe': 294, 'Africa': 504, 'Americas': 252, 'Oceania': 24}\n",
      "{'Asia': 312, 'Europe': 295, 'Africa': 504, 'Americas': 252, 'Oceania': 24}\n",
      "{'Asia': 312, 'Europe': 296, 'Africa': 504, 'Americas': 252, 'Oceania': 24}\n",
      "{'Asia': 312, 'Europe': 297, 'Africa': 504, 'Americas': 252, 'Oceania': 24}\n",
      "{'Asia': 312, 'Europe': 298, 'Africa': 504, 'Americas': 252, 'Oceania': 24}\n",
      "{'Asia': 312, 'Europe': 299, 'Africa': 504, 'Americas': 252, 'Oceania': 24}\n",
      "{'Asia': 312, 'Europe': 300, 'Africa': 504, 'Americas': 252, 'Oceania': 24}\n",
      "{'Asia': 312, 'Europe': 300, 'Africa': 505, 'Americas': 252, 'Oceania': 24}\n",
      "{'Asia': 312, 'Europe': 300, 'Africa': 506, 'Americas': 252, 'Oceania': 24}\n",
      "{'Asia': 312, 'Europe': 300, 'Africa': 507, 'Americas': 252, 'Oceania': 24}\n",
      "{'Asia': 312, 'Europe': 300, 'Africa': 508, 'Americas': 252, 'Oceania': 24}\n",
      "{'Asia': 312, 'Europe': 300, 'Africa': 509, 'Americas': 252, 'Oceania': 24}\n",
      "{'Asia': 312, 'Europe': 300, 'Africa': 510, 'Americas': 252, 'Oceania': 24}\n",
      "{'Asia': 312, 'Europe': 300, 'Africa': 511, 'Americas': 252, 'Oceania': 24}\n",
      "{'Asia': 312, 'Europe': 300, 'Africa': 512, 'Americas': 252, 'Oceania': 24}\n",
      "{'Asia': 312, 'Europe': 300, 'Africa': 513, 'Americas': 252, 'Oceania': 24}\n",
      "{'Asia': 312, 'Europe': 300, 'Africa': 514, 'Americas': 252, 'Oceania': 24}\n",
      "{'Asia': 312, 'Europe': 300, 'Africa': 515, 'Americas': 252, 'Oceania': 24}\n",
      "{'Asia': 312, 'Europe': 300, 'Africa': 516, 'Americas': 252, 'Oceania': 24}\n",
      "{'Asia': 312, 'Europe': 300, 'Africa': 517, 'Americas': 252, 'Oceania': 24}\n",
      "{'Asia': 312, 'Europe': 300, 'Africa': 518, 'Americas': 252, 'Oceania': 24}\n",
      "{'Asia': 312, 'Europe': 300, 'Africa': 519, 'Americas': 252, 'Oceania': 24}\n",
      "{'Asia': 312, 'Europe': 300, 'Africa': 520, 'Americas': 252, 'Oceania': 24}\n",
      "{'Asia': 312, 'Europe': 300, 'Africa': 521, 'Americas': 252, 'Oceania': 24}\n",
      "{'Asia': 312, 'Europe': 300, 'Africa': 522, 'Americas': 252, 'Oceania': 24}\n",
      "{'Asia': 312, 'Europe': 300, 'Africa': 523, 'Americas': 252, 'Oceania': 24}\n",
      "{'Asia': 312, 'Europe': 300, 'Africa': 524, 'Americas': 252, 'Oceania': 24}\n",
      "{'Asia': 312, 'Europe': 300, 'Africa': 525, 'Americas': 252, 'Oceania': 24}\n",
      "{'Asia': 312, 'Europe': 300, 'Africa': 526, 'Americas': 252, 'Oceania': 24}\n",
      "{'Asia': 312, 'Europe': 300, 'Africa': 527, 'Americas': 252, 'Oceania': 24}\n",
      "{'Asia': 312, 'Europe': 300, 'Africa': 528, 'Americas': 252, 'Oceania': 24}\n",
      "{'Asia': 312, 'Europe': 301, 'Africa': 528, 'Americas': 252, 'Oceania': 24}\n",
      "{'Asia': 312, 'Europe': 302, 'Africa': 528, 'Americas': 252, 'Oceania': 24}\n",
      "{'Asia': 312, 'Europe': 303, 'Africa': 528, 'Americas': 252, 'Oceania': 24}\n",
      "{'Asia': 312, 'Europe': 304, 'Africa': 528, 'Americas': 252, 'Oceania': 24}\n",
      "{'Asia': 312, 'Europe': 305, 'Africa': 528, 'Americas': 252, 'Oceania': 24}\n",
      "{'Asia': 312, 'Europe': 306, 'Africa': 528, 'Americas': 252, 'Oceania': 24}\n",
      "{'Asia': 312, 'Europe': 307, 'Africa': 528, 'Americas': 252, 'Oceania': 24}\n",
      "{'Asia': 312, 'Europe': 308, 'Africa': 528, 'Americas': 252, 'Oceania': 24}\n",
      "{'Asia': 312, 'Europe': 309, 'Africa': 528, 'Americas': 252, 'Oceania': 24}\n",
      "{'Asia': 312, 'Europe': 310, 'Africa': 528, 'Americas': 252, 'Oceania': 24}\n",
      "{'Asia': 312, 'Europe': 311, 'Africa': 528, 'Americas': 252, 'Oceania': 24}\n",
      "{'Asia': 312, 'Europe': 312, 'Africa': 528, 'Americas': 252, 'Oceania': 24}\n",
      "{'Asia': 313, 'Europe': 312, 'Africa': 528, 'Americas': 252, 'Oceania': 24}\n",
      "{'Asia': 314, 'Europe': 312, 'Africa': 528, 'Americas': 252, 'Oceania': 24}\n",
      "{'Asia': 315, 'Europe': 312, 'Africa': 528, 'Americas': 252, 'Oceania': 24}\n",
      "{'Asia': 316, 'Europe': 312, 'Africa': 528, 'Americas': 252, 'Oceania': 24}\n",
      "{'Asia': 317, 'Europe': 312, 'Africa': 528, 'Americas': 252, 'Oceania': 24}\n",
      "{'Asia': 318, 'Europe': 312, 'Africa': 528, 'Americas': 252, 'Oceania': 24}\n",
      "{'Asia': 319, 'Europe': 312, 'Africa': 528, 'Americas': 252, 'Oceania': 24}\n",
      "{'Asia': 320, 'Europe': 312, 'Africa': 528, 'Americas': 252, 'Oceania': 24}\n",
      "{'Asia': 321, 'Europe': 312, 'Africa': 528, 'Americas': 252, 'Oceania': 24}\n",
      "{'Asia': 322, 'Europe': 312, 'Africa': 528, 'Americas': 252, 'Oceania': 24}\n",
      "{'Asia': 323, 'Europe': 312, 'Africa': 528, 'Americas': 252, 'Oceania': 24}\n",
      "{'Asia': 324, 'Europe': 312, 'Africa': 528, 'Americas': 252, 'Oceania': 24}\n",
      "{'Asia': 324, 'Europe': 312, 'Africa': 529, 'Americas': 252, 'Oceania': 24}\n",
      "{'Asia': 324, 'Europe': 312, 'Africa': 530, 'Americas': 252, 'Oceania': 24}\n",
      "{'Asia': 324, 'Europe': 312, 'Africa': 531, 'Americas': 252, 'Oceania': 24}\n",
      "{'Asia': 324, 'Europe': 312, 'Africa': 532, 'Americas': 252, 'Oceania': 24}\n",
      "{'Asia': 324, 'Europe': 312, 'Africa': 533, 'Americas': 252, 'Oceania': 24}\n",
      "{'Asia': 324, 'Europe': 312, 'Africa': 534, 'Americas': 252, 'Oceania': 24}\n",
      "{'Asia': 324, 'Europe': 312, 'Africa': 535, 'Americas': 252, 'Oceania': 24}\n",
      "{'Asia': 324, 'Europe': 312, 'Africa': 536, 'Americas': 252, 'Oceania': 24}\n",
      "{'Asia': 324, 'Europe': 312, 'Africa': 537, 'Americas': 252, 'Oceania': 24}\n",
      "{'Asia': 324, 'Europe': 312, 'Africa': 538, 'Americas': 252, 'Oceania': 24}\n",
      "{'Asia': 324, 'Europe': 312, 'Africa': 539, 'Americas': 252, 'Oceania': 24}\n",
      "{'Asia': 324, 'Europe': 312, 'Africa': 540, 'Americas': 252, 'Oceania': 24}\n",
      "{'Asia': 324, 'Europe': 312, 'Africa': 541, 'Americas': 252, 'Oceania': 24}\n",
      "{'Asia': 324, 'Europe': 312, 'Africa': 542, 'Americas': 252, 'Oceania': 24}\n",
      "{'Asia': 324, 'Europe': 312, 'Africa': 543, 'Americas': 252, 'Oceania': 24}\n",
      "{'Asia': 324, 'Europe': 312, 'Africa': 544, 'Americas': 252, 'Oceania': 24}\n",
      "{'Asia': 324, 'Europe': 312, 'Africa': 545, 'Americas': 252, 'Oceania': 24}\n",
      "{'Asia': 324, 'Europe': 312, 'Africa': 546, 'Americas': 252, 'Oceania': 24}\n",
      "{'Asia': 324, 'Europe': 312, 'Africa': 547, 'Americas': 252, 'Oceania': 24}\n",
      "{'Asia': 324, 'Europe': 312, 'Africa': 548, 'Americas': 252, 'Oceania': 24}\n",
      "{'Asia': 324, 'Europe': 312, 'Africa': 549, 'Americas': 252, 'Oceania': 24}\n",
      "{'Asia': 324, 'Europe': 312, 'Africa': 550, 'Americas': 252, 'Oceania': 24}\n",
      "{'Asia': 324, 'Europe': 312, 'Africa': 551, 'Americas': 252, 'Oceania': 24}\n",
      "{'Asia': 324, 'Europe': 312, 'Africa': 552, 'Americas': 252, 'Oceania': 24}\n",
      "{'Asia': 324, 'Europe': 313, 'Africa': 552, 'Americas': 252, 'Oceania': 24}\n",
      "{'Asia': 324, 'Europe': 314, 'Africa': 552, 'Americas': 252, 'Oceania': 24}\n",
      "{'Asia': 324, 'Europe': 315, 'Africa': 552, 'Americas': 252, 'Oceania': 24}\n",
      "{'Asia': 324, 'Europe': 316, 'Africa': 552, 'Americas': 252, 'Oceania': 24}\n",
      "{'Asia': 324, 'Europe': 317, 'Africa': 552, 'Americas': 252, 'Oceania': 24}\n",
      "{'Asia': 324, 'Europe': 318, 'Africa': 552, 'Americas': 252, 'Oceania': 24}\n",
      "{'Asia': 324, 'Europe': 319, 'Africa': 552, 'Americas': 252, 'Oceania': 24}\n",
      "{'Asia': 324, 'Europe': 320, 'Africa': 552, 'Americas': 252, 'Oceania': 24}\n",
      "{'Asia': 324, 'Europe': 321, 'Africa': 552, 'Americas': 252, 'Oceania': 24}\n",
      "{'Asia': 324, 'Europe': 322, 'Africa': 552, 'Americas': 252, 'Oceania': 24}\n",
      "{'Asia': 324, 'Europe': 323, 'Africa': 552, 'Americas': 252, 'Oceania': 24}\n",
      "{'Asia': 324, 'Europe': 324, 'Africa': 552, 'Americas': 252, 'Oceania': 24}\n",
      "{'Asia': 324, 'Europe': 325, 'Africa': 552, 'Americas': 252, 'Oceania': 24}\n",
      "{'Asia': 324, 'Europe': 326, 'Africa': 552, 'Americas': 252, 'Oceania': 24}\n",
      "{'Asia': 324, 'Europe': 327, 'Africa': 552, 'Americas': 252, 'Oceania': 24}\n",
      "{'Asia': 324, 'Europe': 328, 'Africa': 552, 'Americas': 252, 'Oceania': 24}\n",
      "{'Asia': 324, 'Europe': 329, 'Africa': 552, 'Americas': 252, 'Oceania': 24}\n",
      "{'Asia': 324, 'Europe': 330, 'Africa': 552, 'Americas': 252, 'Oceania': 24}\n",
      "{'Asia': 324, 'Europe': 331, 'Africa': 552, 'Americas': 252, 'Oceania': 24}\n",
      "{'Asia': 324, 'Europe': 332, 'Africa': 552, 'Americas': 252, 'Oceania': 24}\n",
      "{'Asia': 324, 'Europe': 333, 'Africa': 552, 'Americas': 252, 'Oceania': 24}\n",
      "{'Asia': 324, 'Europe': 334, 'Africa': 552, 'Americas': 252, 'Oceania': 24}\n",
      "{'Asia': 324, 'Europe': 335, 'Africa': 552, 'Americas': 252, 'Oceania': 24}\n",
      "{'Asia': 324, 'Europe': 336, 'Africa': 552, 'Americas': 252, 'Oceania': 24}\n",
      "{'Asia': 325, 'Europe': 336, 'Africa': 552, 'Americas': 252, 'Oceania': 24}\n",
      "{'Asia': 326, 'Europe': 336, 'Africa': 552, 'Americas': 252, 'Oceania': 24}\n",
      "{'Asia': 327, 'Europe': 336, 'Africa': 552, 'Americas': 252, 'Oceania': 24}\n",
      "{'Asia': 328, 'Europe': 336, 'Africa': 552, 'Americas': 252, 'Oceania': 24}\n",
      "{'Asia': 329, 'Europe': 336, 'Africa': 552, 'Americas': 252, 'Oceania': 24}\n",
      "{'Asia': 330, 'Europe': 336, 'Africa': 552, 'Americas': 252, 'Oceania': 24}\n",
      "{'Asia': 331, 'Europe': 336, 'Africa': 552, 'Americas': 252, 'Oceania': 24}\n",
      "{'Asia': 332, 'Europe': 336, 'Africa': 552, 'Americas': 252, 'Oceania': 24}\n",
      "{'Asia': 333, 'Europe': 336, 'Africa': 552, 'Americas': 252, 'Oceania': 24}\n",
      "{'Asia': 334, 'Europe': 336, 'Africa': 552, 'Americas': 252, 'Oceania': 24}\n",
      "{'Asia': 335, 'Europe': 336, 'Africa': 552, 'Americas': 252, 'Oceania': 24}\n",
      "{'Asia': 336, 'Europe': 336, 'Africa': 552, 'Americas': 252, 'Oceania': 24}\n",
      "{'Asia': 337, 'Europe': 336, 'Africa': 552, 'Americas': 252, 'Oceania': 24}\n",
      "{'Asia': 338, 'Europe': 336, 'Africa': 552, 'Americas': 252, 'Oceania': 24}\n",
      "{'Asia': 339, 'Europe': 336, 'Africa': 552, 'Americas': 252, 'Oceania': 24}\n",
      "{'Asia': 340, 'Europe': 336, 'Africa': 552, 'Americas': 252, 'Oceania': 24}\n",
      "{'Asia': 341, 'Europe': 336, 'Africa': 552, 'Americas': 252, 'Oceania': 24}\n",
      "{'Asia': 342, 'Europe': 336, 'Africa': 552, 'Americas': 252, 'Oceania': 24}\n",
      "{'Asia': 343, 'Europe': 336, 'Africa': 552, 'Americas': 252, 'Oceania': 24}\n",
      "{'Asia': 344, 'Europe': 336, 'Africa': 552, 'Americas': 252, 'Oceania': 24}\n",
      "{'Asia': 345, 'Europe': 336, 'Africa': 552, 'Americas': 252, 'Oceania': 24}\n",
      "{'Asia': 346, 'Europe': 336, 'Africa': 552, 'Americas': 252, 'Oceania': 24}\n",
      "{'Asia': 347, 'Europe': 336, 'Africa': 552, 'Americas': 252, 'Oceania': 24}\n",
      "{'Asia': 348, 'Europe': 336, 'Africa': 552, 'Americas': 252, 'Oceania': 24}\n",
      "{'Asia': 348, 'Europe': 336, 'Africa': 553, 'Americas': 252, 'Oceania': 24}\n",
      "{'Asia': 348, 'Europe': 336, 'Africa': 554, 'Americas': 252, 'Oceania': 24}\n",
      "{'Asia': 348, 'Europe': 336, 'Africa': 555, 'Americas': 252, 'Oceania': 24}\n",
      "{'Asia': 348, 'Europe': 336, 'Africa': 556, 'Americas': 252, 'Oceania': 24}\n",
      "{'Asia': 348, 'Europe': 336, 'Africa': 557, 'Americas': 252, 'Oceania': 24}\n",
      "{'Asia': 348, 'Europe': 336, 'Africa': 558, 'Americas': 252, 'Oceania': 24}\n",
      "{'Asia': 348, 'Europe': 336, 'Africa': 559, 'Americas': 252, 'Oceania': 24}\n",
      "{'Asia': 348, 'Europe': 336, 'Africa': 560, 'Americas': 252, 'Oceania': 24}\n",
      "{'Asia': 348, 'Europe': 336, 'Africa': 561, 'Americas': 252, 'Oceania': 24}\n",
      "{'Asia': 348, 'Europe': 336, 'Africa': 562, 'Americas': 252, 'Oceania': 24}\n",
      "{'Asia': 348, 'Europe': 336, 'Africa': 563, 'Americas': 252, 'Oceania': 24}\n",
      "{'Asia': 348, 'Europe': 336, 'Africa': 564, 'Americas': 252, 'Oceania': 24}\n",
      "{'Asia': 349, 'Europe': 336, 'Africa': 564, 'Americas': 252, 'Oceania': 24}\n",
      "{'Asia': 350, 'Europe': 336, 'Africa': 564, 'Americas': 252, 'Oceania': 24}\n",
      "{'Asia': 351, 'Europe': 336, 'Africa': 564, 'Americas': 252, 'Oceania': 24}\n",
      "{'Asia': 352, 'Europe': 336, 'Africa': 564, 'Americas': 252, 'Oceania': 24}\n",
      "{'Asia': 353, 'Europe': 336, 'Africa': 564, 'Americas': 252, 'Oceania': 24}\n",
      "{'Asia': 354, 'Europe': 336, 'Africa': 564, 'Americas': 252, 'Oceania': 24}\n",
      "{'Asia': 355, 'Europe': 336, 'Africa': 564, 'Americas': 252, 'Oceania': 24}\n",
      "{'Asia': 356, 'Europe': 336, 'Africa': 564, 'Americas': 252, 'Oceania': 24}\n",
      "{'Asia': 357, 'Europe': 336, 'Africa': 564, 'Americas': 252, 'Oceania': 24}\n",
      "{'Asia': 358, 'Europe': 336, 'Africa': 564, 'Americas': 252, 'Oceania': 24}\n",
      "{'Asia': 359, 'Europe': 336, 'Africa': 564, 'Americas': 252, 'Oceania': 24}\n",
      "{'Asia': 360, 'Europe': 336, 'Africa': 564, 'Americas': 252, 'Oceania': 24}\n",
      "{'Asia': 360, 'Europe': 336, 'Africa': 565, 'Americas': 252, 'Oceania': 24}\n",
      "{'Asia': 360, 'Europe': 336, 'Africa': 566, 'Americas': 252, 'Oceania': 24}\n",
      "{'Asia': 360, 'Europe': 336, 'Africa': 567, 'Americas': 252, 'Oceania': 24}\n",
      "{'Asia': 360, 'Europe': 336, 'Africa': 568, 'Americas': 252, 'Oceania': 24}\n",
      "{'Asia': 360, 'Europe': 336, 'Africa': 569, 'Americas': 252, 'Oceania': 24}\n",
      "{'Asia': 360, 'Europe': 336, 'Africa': 570, 'Americas': 252, 'Oceania': 24}\n",
      "{'Asia': 360, 'Europe': 336, 'Africa': 571, 'Americas': 252, 'Oceania': 24}\n",
      "{'Asia': 360, 'Europe': 336, 'Africa': 572, 'Americas': 252, 'Oceania': 24}\n",
      "{'Asia': 360, 'Europe': 336, 'Africa': 573, 'Americas': 252, 'Oceania': 24}\n",
      "{'Asia': 360, 'Europe': 336, 'Africa': 574, 'Americas': 252, 'Oceania': 24}\n",
      "{'Asia': 360, 'Europe': 336, 'Africa': 575, 'Americas': 252, 'Oceania': 24}\n",
      "{'Asia': 360, 'Europe': 336, 'Africa': 576, 'Americas': 252, 'Oceania': 24}\n",
      "{'Asia': 360, 'Europe': 336, 'Africa': 576, 'Americas': 253, 'Oceania': 24}\n",
      "{'Asia': 360, 'Europe': 336, 'Africa': 576, 'Americas': 254, 'Oceania': 24}\n",
      "{'Asia': 360, 'Europe': 336, 'Africa': 576, 'Americas': 255, 'Oceania': 24}\n",
      "{'Asia': 360, 'Europe': 336, 'Africa': 576, 'Americas': 256, 'Oceania': 24}\n",
      "{'Asia': 360, 'Europe': 336, 'Africa': 576, 'Americas': 257, 'Oceania': 24}\n",
      "{'Asia': 360, 'Europe': 336, 'Africa': 576, 'Americas': 258, 'Oceania': 24}\n",
      "{'Asia': 360, 'Europe': 336, 'Africa': 576, 'Americas': 259, 'Oceania': 24}\n",
      "{'Asia': 360, 'Europe': 336, 'Africa': 576, 'Americas': 260, 'Oceania': 24}\n",
      "{'Asia': 360, 'Europe': 336, 'Africa': 576, 'Americas': 261, 'Oceania': 24}\n",
      "{'Asia': 360, 'Europe': 336, 'Africa': 576, 'Americas': 262, 'Oceania': 24}\n",
      "{'Asia': 360, 'Europe': 336, 'Africa': 576, 'Americas': 263, 'Oceania': 24}\n",
      "{'Asia': 360, 'Europe': 336, 'Africa': 576, 'Americas': 264, 'Oceania': 24}\n",
      "{'Asia': 360, 'Europe': 336, 'Africa': 577, 'Americas': 264, 'Oceania': 24}\n",
      "{'Asia': 360, 'Europe': 336, 'Africa': 578, 'Americas': 264, 'Oceania': 24}\n",
      "{'Asia': 360, 'Europe': 336, 'Africa': 579, 'Americas': 264, 'Oceania': 24}\n",
      "{'Asia': 360, 'Europe': 336, 'Africa': 580, 'Americas': 264, 'Oceania': 24}\n",
      "{'Asia': 360, 'Europe': 336, 'Africa': 581, 'Americas': 264, 'Oceania': 24}\n",
      "{'Asia': 360, 'Europe': 336, 'Africa': 582, 'Americas': 264, 'Oceania': 24}\n",
      "{'Asia': 360, 'Europe': 336, 'Africa': 583, 'Americas': 264, 'Oceania': 24}\n",
      "{'Asia': 360, 'Europe': 336, 'Africa': 584, 'Americas': 264, 'Oceania': 24}\n",
      "{'Asia': 360, 'Europe': 336, 'Africa': 585, 'Americas': 264, 'Oceania': 24}\n",
      "{'Asia': 360, 'Europe': 336, 'Africa': 586, 'Americas': 264, 'Oceania': 24}\n",
      "{'Asia': 360, 'Europe': 336, 'Africa': 587, 'Americas': 264, 'Oceania': 24}\n",
      "{'Asia': 360, 'Europe': 336, 'Africa': 588, 'Americas': 264, 'Oceania': 24}\n",
      "{'Asia': 360, 'Europe': 337, 'Africa': 588, 'Americas': 264, 'Oceania': 24}\n",
      "{'Asia': 360, 'Europe': 338, 'Africa': 588, 'Americas': 264, 'Oceania': 24}\n",
      "{'Asia': 360, 'Europe': 339, 'Africa': 588, 'Americas': 264, 'Oceania': 24}\n",
      "{'Asia': 360, 'Europe': 340, 'Africa': 588, 'Americas': 264, 'Oceania': 24}\n",
      "{'Asia': 360, 'Europe': 341, 'Africa': 588, 'Americas': 264, 'Oceania': 24}\n",
      "{'Asia': 360, 'Europe': 342, 'Africa': 588, 'Americas': 264, 'Oceania': 24}\n",
      "{'Asia': 360, 'Europe': 343, 'Africa': 588, 'Americas': 264, 'Oceania': 24}\n",
      "{'Asia': 360, 'Europe': 344, 'Africa': 588, 'Americas': 264, 'Oceania': 24}\n",
      "{'Asia': 360, 'Europe': 345, 'Africa': 588, 'Americas': 264, 'Oceania': 24}\n",
      "{'Asia': 360, 'Europe': 346, 'Africa': 588, 'Americas': 264, 'Oceania': 24}\n",
      "{'Asia': 360, 'Europe': 347, 'Africa': 588, 'Americas': 264, 'Oceania': 24}\n",
      "{'Asia': 360, 'Europe': 348, 'Africa': 588, 'Americas': 264, 'Oceania': 24}\n",
      "{'Asia': 360, 'Europe': 348, 'Africa': 589, 'Americas': 264, 'Oceania': 24}\n",
      "{'Asia': 360, 'Europe': 348, 'Africa': 590, 'Americas': 264, 'Oceania': 24}\n",
      "{'Asia': 360, 'Europe': 348, 'Africa': 591, 'Americas': 264, 'Oceania': 24}\n",
      "{'Asia': 360, 'Europe': 348, 'Africa': 592, 'Americas': 264, 'Oceania': 24}\n",
      "{'Asia': 360, 'Europe': 348, 'Africa': 593, 'Americas': 264, 'Oceania': 24}\n",
      "{'Asia': 360, 'Europe': 348, 'Africa': 594, 'Americas': 264, 'Oceania': 24}\n",
      "{'Asia': 360, 'Europe': 348, 'Africa': 595, 'Americas': 264, 'Oceania': 24}\n",
      "{'Asia': 360, 'Europe': 348, 'Africa': 596, 'Americas': 264, 'Oceania': 24}\n",
      "{'Asia': 360, 'Europe': 348, 'Africa': 597, 'Americas': 264, 'Oceania': 24}\n",
      "{'Asia': 360, 'Europe': 348, 'Africa': 598, 'Americas': 264, 'Oceania': 24}\n",
      "{'Asia': 360, 'Europe': 348, 'Africa': 599, 'Americas': 264, 'Oceania': 24}\n",
      "{'Asia': 360, 'Europe': 348, 'Africa': 600, 'Americas': 264, 'Oceania': 24}\n",
      "{'Asia': 360, 'Europe': 349, 'Africa': 600, 'Americas': 264, 'Oceania': 24}\n",
      "{'Asia': 360, 'Europe': 350, 'Africa': 600, 'Americas': 264, 'Oceania': 24}\n",
      "{'Asia': 360, 'Europe': 351, 'Africa': 600, 'Americas': 264, 'Oceania': 24}\n",
      "{'Asia': 360, 'Europe': 352, 'Africa': 600, 'Americas': 264, 'Oceania': 24}\n",
      "{'Asia': 360, 'Europe': 353, 'Africa': 600, 'Americas': 264, 'Oceania': 24}\n",
      "{'Asia': 360, 'Europe': 354, 'Africa': 600, 'Americas': 264, 'Oceania': 24}\n",
      "{'Asia': 360, 'Europe': 355, 'Africa': 600, 'Americas': 264, 'Oceania': 24}\n",
      "{'Asia': 360, 'Europe': 356, 'Africa': 600, 'Americas': 264, 'Oceania': 24}\n",
      "{'Asia': 360, 'Europe': 357, 'Africa': 600, 'Americas': 264, 'Oceania': 24}\n",
      "{'Asia': 360, 'Europe': 358, 'Africa': 600, 'Americas': 264, 'Oceania': 24}\n",
      "{'Asia': 360, 'Europe': 359, 'Africa': 600, 'Americas': 264, 'Oceania': 24}\n",
      "{'Asia': 360, 'Europe': 360, 'Africa': 600, 'Americas': 264, 'Oceania': 24}\n",
      "{'Asia': 360, 'Europe': 360, 'Africa': 600, 'Americas': 265, 'Oceania': 24}\n",
      "{'Asia': 360, 'Europe': 360, 'Africa': 600, 'Americas': 266, 'Oceania': 24}\n",
      "{'Asia': 360, 'Europe': 360, 'Africa': 600, 'Americas': 267, 'Oceania': 24}\n",
      "{'Asia': 360, 'Europe': 360, 'Africa': 600, 'Americas': 268, 'Oceania': 24}\n",
      "{'Asia': 360, 'Europe': 360, 'Africa': 600, 'Americas': 269, 'Oceania': 24}\n",
      "{'Asia': 360, 'Europe': 360, 'Africa': 600, 'Americas': 270, 'Oceania': 24}\n",
      "{'Asia': 360, 'Europe': 360, 'Africa': 600, 'Americas': 271, 'Oceania': 24}\n",
      "{'Asia': 360, 'Europe': 360, 'Africa': 600, 'Americas': 272, 'Oceania': 24}\n",
      "{'Asia': 360, 'Europe': 360, 'Africa': 600, 'Americas': 273, 'Oceania': 24}\n",
      "{'Asia': 360, 'Europe': 360, 'Africa': 600, 'Americas': 274, 'Oceania': 24}\n",
      "{'Asia': 360, 'Europe': 360, 'Africa': 600, 'Americas': 275, 'Oceania': 24}\n",
      "{'Asia': 360, 'Europe': 360, 'Africa': 600, 'Americas': 276, 'Oceania': 24}\n",
      "{'Asia': 360, 'Europe': 360, 'Africa': 600, 'Americas': 277, 'Oceania': 24}\n",
      "{'Asia': 360, 'Europe': 360, 'Africa': 600, 'Americas': 278, 'Oceania': 24}\n",
      "{'Asia': 360, 'Europe': 360, 'Africa': 600, 'Americas': 279, 'Oceania': 24}\n",
      "{'Asia': 360, 'Europe': 360, 'Africa': 600, 'Americas': 280, 'Oceania': 24}\n",
      "{'Asia': 360, 'Europe': 360, 'Africa': 600, 'Americas': 281, 'Oceania': 24}\n",
      "{'Asia': 360, 'Europe': 360, 'Africa': 600, 'Americas': 282, 'Oceania': 24}\n",
      "{'Asia': 360, 'Europe': 360, 'Africa': 600, 'Americas': 283, 'Oceania': 24}\n",
      "{'Asia': 360, 'Europe': 360, 'Africa': 600, 'Americas': 284, 'Oceania': 24}\n",
      "{'Asia': 360, 'Europe': 360, 'Africa': 600, 'Americas': 285, 'Oceania': 24}\n",
      "{'Asia': 360, 'Europe': 360, 'Africa': 600, 'Americas': 286, 'Oceania': 24}\n",
      "{'Asia': 360, 'Europe': 360, 'Africa': 600, 'Americas': 287, 'Oceania': 24}\n",
      "{'Asia': 360, 'Europe': 360, 'Africa': 600, 'Americas': 288, 'Oceania': 24}\n",
      "{'Asia': 360, 'Europe': 360, 'Africa': 600, 'Americas': 289, 'Oceania': 24}\n",
      "{'Asia': 360, 'Europe': 360, 'Africa': 600, 'Americas': 290, 'Oceania': 24}\n",
      "{'Asia': 360, 'Europe': 360, 'Africa': 600, 'Americas': 291, 'Oceania': 24}\n",
      "{'Asia': 360, 'Europe': 360, 'Africa': 600, 'Americas': 292, 'Oceania': 24}\n",
      "{'Asia': 360, 'Europe': 360, 'Africa': 600, 'Americas': 293, 'Oceania': 24}\n",
      "{'Asia': 360, 'Europe': 360, 'Africa': 600, 'Americas': 294, 'Oceania': 24}\n",
      "{'Asia': 360, 'Europe': 360, 'Africa': 600, 'Americas': 295, 'Oceania': 24}\n",
      "{'Asia': 360, 'Europe': 360, 'Africa': 600, 'Americas': 296, 'Oceania': 24}\n",
      "{'Asia': 360, 'Europe': 360, 'Africa': 600, 'Americas': 297, 'Oceania': 24}\n",
      "{'Asia': 360, 'Europe': 360, 'Africa': 600, 'Americas': 298, 'Oceania': 24}\n",
      "{'Asia': 360, 'Europe': 360, 'Africa': 600, 'Americas': 299, 'Oceania': 24}\n",
      "{'Asia': 360, 'Europe': 360, 'Africa': 600, 'Americas': 300, 'Oceania': 24}\n",
      "{'Asia': 361, 'Europe': 360, 'Africa': 600, 'Americas': 300, 'Oceania': 24}\n",
      "{'Asia': 362, 'Europe': 360, 'Africa': 600, 'Americas': 300, 'Oceania': 24}\n",
      "{'Asia': 363, 'Europe': 360, 'Africa': 600, 'Americas': 300, 'Oceania': 24}\n",
      "{'Asia': 364, 'Europe': 360, 'Africa': 600, 'Americas': 300, 'Oceania': 24}\n",
      "{'Asia': 365, 'Europe': 360, 'Africa': 600, 'Americas': 300, 'Oceania': 24}\n",
      "{'Asia': 366, 'Europe': 360, 'Africa': 600, 'Americas': 300, 'Oceania': 24}\n",
      "{'Asia': 367, 'Europe': 360, 'Africa': 600, 'Americas': 300, 'Oceania': 24}\n",
      "{'Asia': 368, 'Europe': 360, 'Africa': 600, 'Americas': 300, 'Oceania': 24}\n",
      "{'Asia': 369, 'Europe': 360, 'Africa': 600, 'Americas': 300, 'Oceania': 24}\n",
      "{'Asia': 370, 'Europe': 360, 'Africa': 600, 'Americas': 300, 'Oceania': 24}\n",
      "{'Asia': 371, 'Europe': 360, 'Africa': 600, 'Americas': 300, 'Oceania': 24}\n",
      "{'Asia': 372, 'Europe': 360, 'Africa': 600, 'Americas': 300, 'Oceania': 24}\n",
      "{'Asia': 373, 'Europe': 360, 'Africa': 600, 'Americas': 300, 'Oceania': 24}\n",
      "{'Asia': 374, 'Europe': 360, 'Africa': 600, 'Americas': 300, 'Oceania': 24}\n",
      "{'Asia': 375, 'Europe': 360, 'Africa': 600, 'Americas': 300, 'Oceania': 24}\n",
      "{'Asia': 376, 'Europe': 360, 'Africa': 600, 'Americas': 300, 'Oceania': 24}\n",
      "{'Asia': 377, 'Europe': 360, 'Africa': 600, 'Americas': 300, 'Oceania': 24}\n",
      "{'Asia': 378, 'Europe': 360, 'Africa': 600, 'Americas': 300, 'Oceania': 24}\n",
      "{'Asia': 379, 'Europe': 360, 'Africa': 600, 'Americas': 300, 'Oceania': 24}\n",
      "{'Asia': 380, 'Europe': 360, 'Africa': 600, 'Americas': 300, 'Oceania': 24}\n",
      "{'Asia': 381, 'Europe': 360, 'Africa': 600, 'Americas': 300, 'Oceania': 24}\n",
      "{'Asia': 382, 'Europe': 360, 'Africa': 600, 'Americas': 300, 'Oceania': 24}\n",
      "{'Asia': 383, 'Europe': 360, 'Africa': 600, 'Americas': 300, 'Oceania': 24}\n",
      "{'Asia': 384, 'Europe': 360, 'Africa': 600, 'Americas': 300, 'Oceania': 24}\n",
      "{'Asia': 385, 'Europe': 360, 'Africa': 600, 'Americas': 300, 'Oceania': 24}\n",
      "{'Asia': 386, 'Europe': 360, 'Africa': 600, 'Americas': 300, 'Oceania': 24}\n",
      "{'Asia': 387, 'Europe': 360, 'Africa': 600, 'Americas': 300, 'Oceania': 24}\n",
      "{'Asia': 388, 'Europe': 360, 'Africa': 600, 'Americas': 300, 'Oceania': 24}\n",
      "{'Asia': 389, 'Europe': 360, 'Africa': 600, 'Americas': 300, 'Oceania': 24}\n",
      "{'Asia': 390, 'Europe': 360, 'Africa': 600, 'Americas': 300, 'Oceania': 24}\n",
      "{'Asia': 391, 'Europe': 360, 'Africa': 600, 'Americas': 300, 'Oceania': 24}\n",
      "{'Asia': 392, 'Europe': 360, 'Africa': 600, 'Americas': 300, 'Oceania': 24}\n",
      "{'Asia': 393, 'Europe': 360, 'Africa': 600, 'Americas': 300, 'Oceania': 24}\n",
      "{'Asia': 394, 'Europe': 360, 'Africa': 600, 'Americas': 300, 'Oceania': 24}\n",
      "{'Asia': 395, 'Europe': 360, 'Africa': 600, 'Americas': 300, 'Oceania': 24}\n",
      "{'Asia': 396, 'Europe': 360, 'Africa': 600, 'Americas': 300, 'Oceania': 24}\n",
      "{'Asia': 396, 'Europe': 360, 'Africa': 601, 'Americas': 300, 'Oceania': 24}\n",
      "{'Asia': 396, 'Europe': 360, 'Africa': 602, 'Americas': 300, 'Oceania': 24}\n",
      "{'Asia': 396, 'Europe': 360, 'Africa': 603, 'Americas': 300, 'Oceania': 24}\n",
      "{'Asia': 396, 'Europe': 360, 'Africa': 604, 'Americas': 300, 'Oceania': 24}\n",
      "{'Asia': 396, 'Europe': 360, 'Africa': 605, 'Americas': 300, 'Oceania': 24}\n",
      "{'Asia': 396, 'Europe': 360, 'Africa': 606, 'Americas': 300, 'Oceania': 24}\n",
      "{'Asia': 396, 'Europe': 360, 'Africa': 607, 'Americas': 300, 'Oceania': 24}\n",
      "{'Asia': 396, 'Europe': 360, 'Africa': 608, 'Americas': 300, 'Oceania': 24}\n",
      "{'Asia': 396, 'Europe': 360, 'Africa': 609, 'Americas': 300, 'Oceania': 24}\n",
      "{'Asia': 396, 'Europe': 360, 'Africa': 610, 'Americas': 300, 'Oceania': 24}\n",
      "{'Asia': 396, 'Europe': 360, 'Africa': 611, 'Americas': 300, 'Oceania': 24}\n",
      "{'Asia': 396, 'Europe': 360, 'Africa': 612, 'Americas': 300, 'Oceania': 24}\n",
      "{'Asia': 396, 'Europe': 360, 'Africa': 613, 'Americas': 300, 'Oceania': 24}\n",
      "{'Asia': 396, 'Europe': 360, 'Africa': 614, 'Americas': 300, 'Oceania': 24}\n",
      "{'Asia': 396, 'Europe': 360, 'Africa': 615, 'Americas': 300, 'Oceania': 24}\n",
      "{'Asia': 396, 'Europe': 360, 'Africa': 616, 'Americas': 300, 'Oceania': 24}\n",
      "{'Asia': 396, 'Europe': 360, 'Africa': 617, 'Americas': 300, 'Oceania': 24}\n",
      "{'Asia': 396, 'Europe': 360, 'Africa': 618, 'Americas': 300, 'Oceania': 24}\n",
      "{'Asia': 396, 'Europe': 360, 'Africa': 619, 'Americas': 300, 'Oceania': 24}\n",
      "{'Asia': 396, 'Europe': 360, 'Africa': 620, 'Americas': 300, 'Oceania': 24}\n",
      "{'Asia': 396, 'Europe': 360, 'Africa': 621, 'Americas': 300, 'Oceania': 24}\n",
      "{'Asia': 396, 'Europe': 360, 'Africa': 622, 'Americas': 300, 'Oceania': 24}\n",
      "{'Asia': 396, 'Europe': 360, 'Africa': 623, 'Americas': 300, 'Oceania': 24}\n",
      "{'Asia': 396, 'Europe': 360, 'Africa': 624, 'Americas': 300, 'Oceania': 24}\n",
      "Oceania\n",
      "24\n"
     ]
    }
   ]
  }
 ]
}
