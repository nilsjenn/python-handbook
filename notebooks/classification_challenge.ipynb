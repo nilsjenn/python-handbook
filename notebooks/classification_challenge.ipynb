{
 "cells": [
  {
   "cell_type": "markdown",
   "metadata": {},
   "source": [
    "# Classification Challenge\n"
   ]
  },
  {
   "cell_type": "markdown",
   "source": [
    "## Task"
   ],
   "metadata": {
    "collapsed": false
   }
  },
  {
   "cell_type": "markdown",
   "source": [
    "Your company, DS Pros, would like to win a contract with a big city council as it would give us great PR. To do so you think it would be a great idea to proactively browse in the open data sets of this city (the one you choose, total freedom here) identify a situation that could be solved or improved using classification algorithms and present it to the technical office of that city council.\n",
    "\n",
    "You need to prepare the following:\n",
    "\n",
    "- A presentation describing the solution you try to solve, how classification will solve it and a summary of the solution proposed\n",
    "- A well documented and visually appealing notebook where you try different models, explain the steps followed and chose one particular algorithm and hyperparameters (explaining why)\n",
    "- You should also export that model, once trained, using pickle or similar so it can be reused.\n",
    "- You should implement a .py script that loads the exported model, accepts a file with samples to classify (identified with an id) and stores the results in a DDBB table (SQLlite) with fields id and class.\n",
    "- You should provide the files to test the .py script and clear instructions on how to run it.\n",
    "\n",
    "\n",
    "Happy coding!!"
   ],
   "metadata": {
    "collapsed": false
   }
  },
  {
   "cell_type": "markdown",
   "source": [
    "## 0. Introduction & Proposal\n",
    "\n",
    "Thank you very much for the possibility to present our project proposal to you. We are very excited about the opportunity to work with you and hope that you will find our proposal interesting and that we can work together on this project.\n",
    "\n",
    "**The Problem:**\n",
    "The city council of Seattle, Washington, is looking for a solution to predict the weather conditions for the upcoming days based on historical weather data. This would allow them to better plan and prepare for future weather conditions, such as rain, snow, or sunny weather. Especially in a city like Seattle, where the weather is often unpredictable, this would be a very useful tool for the city council to prepare for weather conditions in advance. The current system repeatedly fails to predict the weather correctly, which leads to a lot of frustration and wasted resources.\n",
    "\n",
    "**The Solution**:\n",
    "Our team has developed a cutting-edge weather prediction model that leverages historical weather data and advanced machine learning algorithms to provide highly accurate forecasts for the upcoming days. This solution will enable the city council of Seattle to make well-informed decisions and allocate resources more effectively, ultimately improving the city's preparedness for various weather conditions."
   ],
   "metadata": {
    "collapsed": false
   }
  },
  {
   "cell_type": "markdown",
   "source": [
    "## 1. Key Features\n",
    "\n",
    "1. Data-driven approach: Our model utilizes a vast amount of historical weather data, including temperature, humidity, wind speed, and precipitation levels, to identify patterns and trends that can help predict future weather conditions.\n",
    "\n",
    "2. Advanced machine learning algorithms: We employ state-of-the-art machine learning techniques to analyze the data and generate accurate predictions. These algorithms continuously learn and improve their predictions as more data becomes available.\n",
    "\n",
    "3. User-friendly visualization: Our solution includes an easy-to-understand visual representation of the predicted weather conditions, using color gradients to indicate the intensity of various weather elements. This allows the city council members to quickly grasp the forecast and make informed decisions.\n",
    "\n",
    "4. Customizable and scalable: Our weather prediction model can be tailored to the specific needs of the city council and can be easily scaled up to cover larger geographical areas or extended timeframes."
   ],
   "metadata": {
    "collapsed": false
   }
  },
  {
   "cell_type": "markdown",
   "source": [
    "## 2. Benefits for the Council\n",
    "\n",
    "By implementing our weather prediction solution, the city council of Seattle will be able to:\n",
    "\n",
    "1. Improve preparedness for various weather conditions, reducing the impact of adverse weather on the city's infrastructure and residents.\n",
    "\n",
    "2. Optimize resource allocation, ensuring that the necessary resources are available and deployed efficiently during extreme weather events.\n",
    "\n",
    "3. Enhance communication with the public, providing accurate and timely weather forecasts to help residents plan their activities and stay safe.\n",
    "\n",
    "4. Save time and money by reducing the reliance on less accurate weather prediction methods and minimizing the consequences of incorrect forecasts.\n",
    "\n",
    "We are confident that our weather prediction solution will greatly benefit the city council of Seattle and its residents. We look forward to discussing our proposal further and exploring the possibility of a fruitful collaboration. Thank you for considering our project proposal."
   ],
   "metadata": {
    "collapsed": false
   }
  },
  {
   "cell_type": "markdown",
   "source": [
    "## 3. Setup and tool import\n",
    "\n",
    "Throughout this project, various Python libraries are used for data analysis, data visualization, and machine learning. The following libraries are imported for this project:\n",
    "\n",
    "1. `os`: The `os` module in Python provides functions for interacting with the operating system, such as file and directory management, environment variables, and process control.\n",
    "\n",
    "2. `pickle`: The `pickle` module is used for serializing and deserializing Python objects, allowing you to save and load objects to and from files.\n",
    "\n",
    "3. `pandas`: `pandas` is a powerful data manipulation library that provides data structures like DataFrames and Series for handling and analyzing data in a flexible and efficient way.\n",
    "\n",
    "4. `seaborn`: `seaborn` is a data visualization library based on `matplotlib` that provides a high-level interface for creating informative and attractive statistical graphics.\n",
    "\n",
    "5. `sklearn`: `scikit-learn` is a popular machine learning library that provides simple and efficient tools for data mining and data analysis, including various classification, regression, and clustering algorithms, as well as tools for model selection and preprocessing.\n",
    "\n",
    "6. `numpy`: `numpy` is a fundamental library for scientific computing in Python, providing support for large, multi-dimensional arrays and matrices, along with a collection of mathematical functions to operate on these arrays.\n",
    "\n",
    "We use various classifiers from the `sklearn` library, such as `MLPClassifier`, `KNeighborsClassifier`, `SVC`, `GaussianProcessClassifier`, `GradientBoostingClassifier`, `DecisionTreeClassifier`, `ExtraTreesClassifier`, `RandomForestClassifier`, `AdaBoostClassifier`, `GaussianNB`, `QuadraticDiscriminantAnalysis`, and `SGDClassifier`. Additionally, `LabelEncoder` and `StandardScaler` are used for preprocessing, and `GridSearchCV` is used for hyperparameter tuning.\n"
   ],
   "metadata": {
    "collapsed": false
   }
  },
  {
   "cell_type": "code",
   "execution_count": 123,
   "outputs": [],
   "source": [
    "import os\n",
    "import pickle\n",
    "import pandas as pd\n",
    "import seaborn as sns\n",
    "from sklearn.model_selection import train_test_split\n",
    "from sklearn.neural_network import MLPClassifier\n",
    "from sklearn.neighbors import KNeighborsClassifier\n",
    "from sklearn.svm import SVC\n",
    "from sklearn.gaussian_process import GaussianProcessClassifier\n",
    "from sklearn.ensemble import GradientBoostingClassifier\n",
    "from sklearn.gaussian_process.kernels import RBF\n",
    "from sklearn.tree import DecisionTreeClassifier\n",
    "from sklearn.ensemble import ExtraTreesClassifier\n",
    "from sklearn.ensemble import RandomForestClassifier, AdaBoostClassifier\n",
    "from sklearn.naive_bayes import GaussianNB\n",
    "from sklearn.discriminant_analysis import QuadraticDiscriminantAnalysis\n",
    "from sklearn.linear_model import SGDClassifier\n",
    "from sklearn.preprocessing import LabelEncoder\n",
    "from sklearn.preprocessing import StandardScaler\n",
    "\n",
    "from sklearn.model_selection import GridSearchCV\n",
    "import numpy as np"
   ],
   "metadata": {
    "collapsed": false,
    "ExecuteTime": {
     "end_time": "2023-06-03T16:06:22.491029Z",
     "start_time": "2023-06-03T16:06:22.486493Z"
    }
   }
  },
  {
   "cell_type": "markdown",
   "source": [
    "## 4. The Data\n",
    "The Seattle weather dataset is a collection of historical weather data from Seattle, Washington, which can be used for the purpose of weather classification for upcoming days. The dataset  contains information about various weather attributes, such as temperature, precipitation, and weather conditions (e.g., sunny, cloudy, rainy, etc.) for each day.\n",
    "\n",
    "The main goal of using this dataset is to train a machine learning model to predict the weather conditions for the upcoming days based on the historical data. By analyzing patterns and trends in the past weather data, the models can learn to recognize the relationships between different weather attributes and make accurate predictions for future weather conditions.\n",
    "\n",
    "To achieve this, the dataset is preprocessed and transformed into a suitable format for machine learning algorithms. This may involves handling missing values, converting date-time information into separate features (e.g., day, month, and year), and encoding categorical variables (e.g., weather conditions) into numerical values."
   ],
   "metadata": {
    "collapsed": false
   }
  },
  {
   "cell_type": "code",
   "execution_count": 124,
   "outputs": [
    {
     "data": {
      "text/plain": "         date  precipitation  temp_max  temp_min  wind  weather\n0  2012-01-01            0.0      12.8       5.0   4.7  drizzle\n1  2012-01-02           10.9      10.6       2.8   4.5     rain\n2  2012-01-03            0.8      11.7       7.2   2.3     rain\n3  2012-01-04           20.3      12.2       5.6   4.7     rain\n4  2012-01-05            1.3       8.9       2.8   6.1     rain",
      "text/html": "<div>\n<style scoped>\n    .dataframe tbody tr th:only-of-type {\n        vertical-align: middle;\n    }\n\n    .dataframe tbody tr th {\n        vertical-align: top;\n    }\n\n    .dataframe thead th {\n        text-align: right;\n    }\n</style>\n<table border=\"1\" class=\"dataframe\">\n  <thead>\n    <tr style=\"text-align: right;\">\n      <th></th>\n      <th>date</th>\n      <th>precipitation</th>\n      <th>temp_max</th>\n      <th>temp_min</th>\n      <th>wind</th>\n      <th>weather</th>\n    </tr>\n  </thead>\n  <tbody>\n    <tr>\n      <th>0</th>\n      <td>2012-01-01</td>\n      <td>0.0</td>\n      <td>12.8</td>\n      <td>5.0</td>\n      <td>4.7</td>\n      <td>drizzle</td>\n    </tr>\n    <tr>\n      <th>1</th>\n      <td>2012-01-02</td>\n      <td>10.9</td>\n      <td>10.6</td>\n      <td>2.8</td>\n      <td>4.5</td>\n      <td>rain</td>\n    </tr>\n    <tr>\n      <th>2</th>\n      <td>2012-01-03</td>\n      <td>0.8</td>\n      <td>11.7</td>\n      <td>7.2</td>\n      <td>2.3</td>\n      <td>rain</td>\n    </tr>\n    <tr>\n      <th>3</th>\n      <td>2012-01-04</td>\n      <td>20.3</td>\n      <td>12.2</td>\n      <td>5.6</td>\n      <td>4.7</td>\n      <td>rain</td>\n    </tr>\n    <tr>\n      <th>4</th>\n      <td>2012-01-05</td>\n      <td>1.3</td>\n      <td>8.9</td>\n      <td>2.8</td>\n      <td>6.1</td>\n      <td>rain</td>\n    </tr>\n  </tbody>\n</table>\n</div>"
     },
     "execution_count": 124,
     "metadata": {},
     "output_type": "execute_result"
    }
   ],
   "source": [
    "# Load Data\n",
    "df = pd.read_csv('./data/seattle-weather.csv')\n",
    "df.head()"
   ],
   "metadata": {
    "collapsed": false,
    "ExecuteTime": {
     "end_time": "2023-06-03T16:06:24.021607Z",
     "start_time": "2023-06-03T16:06:24.013079Z"
    }
   }
  },
  {
   "cell_type": "markdown",
   "source": [
    "## 5. Data Preprocessing\n",
    "\n",
    "1. Define a function `date_time(df)` to preprocess the date column:\n",
    "   - Convert the 'date' column to a datetime object using `pd.to_datetime()`.\n",
    "   - Extract the year, month, and day from the 'date' column and create new columns for each of them in the DataFrame.\n",
    "\n",
    "2. Call the `date_time(df)` function and pass the DataFrame to it. This will preprocess the date column and return the modified DataFrame.\n",
    "\n",
    "3. Use LabelEncoder to convert the text values in the 'weather' column into numeric values (e.g., 1, 2, 3, etc.). Store the encoded values in a new column called 'weather_label'.\n",
    "\n",
    "4. Create a dictionary called `weather_dict` to map the encoded weather labels back to their original text values. Save this dictionary to disk as a pickle file for future use.\n",
    "\n",
    "5. Drop the original 'weather' and 'date' columns from the DataFrame, as they are no longer needed.\n",
    "\n",
    "6. Split the DataFrame into input features (X) and target labels (Y). The input features are all columns except 'weather_label', and the target labels are the 'weather_label' column.\n",
    "\n",
    "7. Check the shapes of X and Y to ensure they have the correct dimensions.\n",
    "\n",
    "8. Split the data into training and testing sets using `train_test_split()`. The test set size is 20% of the total data.\n",
    "\n",
    "9. Scale the input features (X_train and X_test) using StandardScaler. This step is important to ensure that all features have the same scale, which can improve the performance of machine learning algorithms.\n",
    "\n",
    "10. Check the shapes of the training and testing sets to ensure they have the correct dimensions."
   ],
   "metadata": {
    "collapsed": false
   }
  },
  {
   "cell_type": "code",
   "execution_count": 87,
   "outputs": [
    {
     "data": {
      "text/plain": "        date  precipitation  temp_max  temp_min  wind  weather  year  month   \n0 2012-01-01            0.0      12.8       5.0   4.7  drizzle  2012      1  \\\n1 2012-01-02           10.9      10.6       2.8   4.5     rain  2012      1   \n2 2012-01-03            0.8      11.7       7.2   2.3     rain  2012      1   \n3 2012-01-04           20.3      12.2       5.6   4.7     rain  2012      1   \n4 2012-01-05            1.3       8.9       2.8   6.1     rain  2012      1   \n\n   day  \n0    1  \n1    2  \n2    3  \n3    4  \n4    5  ",
      "text/html": "<div>\n<style scoped>\n    .dataframe tbody tr th:only-of-type {\n        vertical-align: middle;\n    }\n\n    .dataframe tbody tr th {\n        vertical-align: top;\n    }\n\n    .dataframe thead th {\n        text-align: right;\n    }\n</style>\n<table border=\"1\" class=\"dataframe\">\n  <thead>\n    <tr style=\"text-align: right;\">\n      <th></th>\n      <th>date</th>\n      <th>precipitation</th>\n      <th>temp_max</th>\n      <th>temp_min</th>\n      <th>wind</th>\n      <th>weather</th>\n      <th>year</th>\n      <th>month</th>\n      <th>day</th>\n    </tr>\n  </thead>\n  <tbody>\n    <tr>\n      <th>0</th>\n      <td>2012-01-01</td>\n      <td>0.0</td>\n      <td>12.8</td>\n      <td>5.0</td>\n      <td>4.7</td>\n      <td>drizzle</td>\n      <td>2012</td>\n      <td>1</td>\n      <td>1</td>\n    </tr>\n    <tr>\n      <th>1</th>\n      <td>2012-01-02</td>\n      <td>10.9</td>\n      <td>10.6</td>\n      <td>2.8</td>\n      <td>4.5</td>\n      <td>rain</td>\n      <td>2012</td>\n      <td>1</td>\n      <td>2</td>\n    </tr>\n    <tr>\n      <th>2</th>\n      <td>2012-01-03</td>\n      <td>0.8</td>\n      <td>11.7</td>\n      <td>7.2</td>\n      <td>2.3</td>\n      <td>rain</td>\n      <td>2012</td>\n      <td>1</td>\n      <td>3</td>\n    </tr>\n    <tr>\n      <th>3</th>\n      <td>2012-01-04</td>\n      <td>20.3</td>\n      <td>12.2</td>\n      <td>5.6</td>\n      <td>4.7</td>\n      <td>rain</td>\n      <td>2012</td>\n      <td>1</td>\n      <td>4</td>\n    </tr>\n    <tr>\n      <th>4</th>\n      <td>2012-01-05</td>\n      <td>1.3</td>\n      <td>8.9</td>\n      <td>2.8</td>\n      <td>6.1</td>\n      <td>rain</td>\n      <td>2012</td>\n      <td>1</td>\n      <td>5</td>\n    </tr>\n  </tbody>\n</table>\n</div>"
     },
     "execution_count": 87,
     "metadata": {},
     "output_type": "execute_result"
    }
   ],
   "source": [
    "# Preprocess date column\n",
    "def date_time(df) :\n",
    "\n",
    "    df['date'] = pd.to_datetime(df['date'])\n",
    "    df['year'] = df['date'].dt.year #Generate Year Column\n",
    "    df['month'] = df['date'].dt.month #Generate Month Column\n",
    "    df['day'] = df['date'].dt.day\n",
    "\n",
    "    return df\n",
    "\n",
    "df = date_time(df)\n",
    "df.head()"
   ],
   "metadata": {
    "collapsed": false,
    "ExecuteTime": {
     "end_time": "2023-06-03T12:27:08.675170Z",
     "start_time": "2023-06-03T12:27:08.668158Z"
    }
   }
  },
  {
   "cell_type": "code",
   "execution_count": 128,
   "outputs": [],
   "source": [
    "#Turn our Text Values into numeric Values ( e.g. 1,2,3,etc )\n",
    "le = LabelEncoder()\n",
    "df['weather_label'] = le.fit_transform(df['weather'])\n",
    "weather_dict = dict(zip(df['weather_label'], df['weather']))\n",
    "\n",
    "# Save weather dictionary to disk\n",
    "with open('weather_dict.pickle', 'wb') as handle:\n",
    "    pickle.dump(weather_dict, handle, protocol=pickle.HIGHEST_PROTOCOL)\n",
    "\n",
    "df = df.drop(['weather', \"date\"], axis=1)\n",
    "\n",
    "X = df.drop(['weather_label'], axis = 1)\n",
    "Y = df['weather_label']"
   ],
   "metadata": {
    "collapsed": false,
    "ExecuteTime": {
     "end_time": "2023-06-03T16:08:06.905317Z",
     "start_time": "2023-06-03T16:08:06.903152Z"
    }
   }
  },
  {
   "cell_type": "code",
   "execution_count": 129,
   "outputs": [
    {
     "data": {
      "text/plain": "      precipitation  temp_max  temp_min  wind\n0               0.0      12.8       5.0   4.7\n1              10.9      10.6       2.8   4.5\n2               0.8      11.7       7.2   2.3\n3              20.3      12.2       5.6   4.7\n4               1.3       8.9       2.8   6.1\n...             ...       ...       ...   ...\n1456            8.6       4.4       1.7   2.9\n1457            1.5       5.0       1.7   1.3\n1458            0.0       7.2       0.6   2.6\n1459            0.0       5.6      -1.0   3.4\n1460            0.0       5.6      -2.1   3.5\n\n[1461 rows x 4 columns]",
      "text/html": "<div>\n<style scoped>\n    .dataframe tbody tr th:only-of-type {\n        vertical-align: middle;\n    }\n\n    .dataframe tbody tr th {\n        vertical-align: top;\n    }\n\n    .dataframe thead th {\n        text-align: right;\n    }\n</style>\n<table border=\"1\" class=\"dataframe\">\n  <thead>\n    <tr style=\"text-align: right;\">\n      <th></th>\n      <th>precipitation</th>\n      <th>temp_max</th>\n      <th>temp_min</th>\n      <th>wind</th>\n    </tr>\n  </thead>\n  <tbody>\n    <tr>\n      <th>0</th>\n      <td>0.0</td>\n      <td>12.8</td>\n      <td>5.0</td>\n      <td>4.7</td>\n    </tr>\n    <tr>\n      <th>1</th>\n      <td>10.9</td>\n      <td>10.6</td>\n      <td>2.8</td>\n      <td>4.5</td>\n    </tr>\n    <tr>\n      <th>2</th>\n      <td>0.8</td>\n      <td>11.7</td>\n      <td>7.2</td>\n      <td>2.3</td>\n    </tr>\n    <tr>\n      <th>3</th>\n      <td>20.3</td>\n      <td>12.2</td>\n      <td>5.6</td>\n      <td>4.7</td>\n    </tr>\n    <tr>\n      <th>4</th>\n      <td>1.3</td>\n      <td>8.9</td>\n      <td>2.8</td>\n      <td>6.1</td>\n    </tr>\n    <tr>\n      <th>...</th>\n      <td>...</td>\n      <td>...</td>\n      <td>...</td>\n      <td>...</td>\n    </tr>\n    <tr>\n      <th>1456</th>\n      <td>8.6</td>\n      <td>4.4</td>\n      <td>1.7</td>\n      <td>2.9</td>\n    </tr>\n    <tr>\n      <th>1457</th>\n      <td>1.5</td>\n      <td>5.0</td>\n      <td>1.7</td>\n      <td>1.3</td>\n    </tr>\n    <tr>\n      <th>1458</th>\n      <td>0.0</td>\n      <td>7.2</td>\n      <td>0.6</td>\n      <td>2.6</td>\n    </tr>\n    <tr>\n      <th>1459</th>\n      <td>0.0</td>\n      <td>5.6</td>\n      <td>-1.0</td>\n      <td>3.4</td>\n    </tr>\n    <tr>\n      <th>1460</th>\n      <td>0.0</td>\n      <td>5.6</td>\n      <td>-2.1</td>\n      <td>3.5</td>\n    </tr>\n  </tbody>\n</table>\n<p>1461 rows × 4 columns</p>\n</div>"
     },
     "execution_count": 129,
     "metadata": {},
     "output_type": "execute_result"
    }
   ],
   "source": [
    "X"
   ],
   "metadata": {
    "collapsed": false,
    "ExecuteTime": {
     "end_time": "2023-06-03T16:08:07.430533Z",
     "start_time": "2023-06-03T16:08:07.424561Z"
    }
   }
  },
  {
   "cell_type": "code",
   "execution_count": 130,
   "metadata": {
    "ExecuteTime": {
     "end_time": "2023-06-03T16:08:08.173424Z",
     "start_time": "2023-06-03T16:08:08.168969Z"
    }
   },
   "outputs": [
    {
     "data": {
      "text/plain": "(1461, 4)"
     },
     "execution_count": 130,
     "metadata": {},
     "output_type": "execute_result"
    }
   ],
   "source": [
    "X.shape"
   ]
  },
  {
   "cell_type": "code",
   "execution_count": 131,
   "metadata": {
    "ExecuteTime": {
     "end_time": "2023-06-03T16:08:08.523811Z",
     "start_time": "2023-06-03T16:08:08.519454Z"
    }
   },
   "outputs": [
    {
     "data": {
      "text/plain": "(1461,)"
     },
     "execution_count": 131,
     "metadata": {},
     "output_type": "execute_result"
    }
   ],
   "source": [
    "Y.shape"
   ]
  },
  {
   "cell_type": "code",
   "execution_count": 132,
   "metadata": {
    "ExecuteTime": {
     "end_time": "2023-06-03T16:08:08.921360Z",
     "start_time": "2023-06-03T16:08:08.917500Z"
    }
   },
   "outputs": [],
   "source": [
    "X_train, X_test, Y_train, Y_test = train_test_split(X, Y, test_size=0.2)"
   ]
  },
  {
   "cell_type": "code",
   "execution_count": 133,
   "outputs": [
    {
     "data": {
      "text/plain": "      precipitation  temp_max  temp_min  wind\n6               0.0       7.2       2.8   2.3\n1267            0.0      25.6      13.9   3.4\n1389            0.0      16.1       8.3   1.3\n499             0.0      18.3       7.8   2.4\n689             0.0       7.8       1.7   4.3\n...             ...       ...       ...   ...\n318             0.8      11.1       5.0   2.6\n1184            1.8      17.8      10.6   2.9\n1253            0.0      31.1      15.6   3.2\n276             0.0      18.9       7.8   7.3\n220             0.0      22.2      15.0   3.1\n\n[1168 rows x 4 columns]",
      "text/html": "<div>\n<style scoped>\n    .dataframe tbody tr th:only-of-type {\n        vertical-align: middle;\n    }\n\n    .dataframe tbody tr th {\n        vertical-align: top;\n    }\n\n    .dataframe thead th {\n        text-align: right;\n    }\n</style>\n<table border=\"1\" class=\"dataframe\">\n  <thead>\n    <tr style=\"text-align: right;\">\n      <th></th>\n      <th>precipitation</th>\n      <th>temp_max</th>\n      <th>temp_min</th>\n      <th>wind</th>\n    </tr>\n  </thead>\n  <tbody>\n    <tr>\n      <th>6</th>\n      <td>0.0</td>\n      <td>7.2</td>\n      <td>2.8</td>\n      <td>2.3</td>\n    </tr>\n    <tr>\n      <th>1267</th>\n      <td>0.0</td>\n      <td>25.6</td>\n      <td>13.9</td>\n      <td>3.4</td>\n    </tr>\n    <tr>\n      <th>1389</th>\n      <td>0.0</td>\n      <td>16.1</td>\n      <td>8.3</td>\n      <td>1.3</td>\n    </tr>\n    <tr>\n      <th>499</th>\n      <td>0.0</td>\n      <td>18.3</td>\n      <td>7.8</td>\n      <td>2.4</td>\n    </tr>\n    <tr>\n      <th>689</th>\n      <td>0.0</td>\n      <td>7.8</td>\n      <td>1.7</td>\n      <td>4.3</td>\n    </tr>\n    <tr>\n      <th>...</th>\n      <td>...</td>\n      <td>...</td>\n      <td>...</td>\n      <td>...</td>\n    </tr>\n    <tr>\n      <th>318</th>\n      <td>0.8</td>\n      <td>11.1</td>\n      <td>5.0</td>\n      <td>2.6</td>\n    </tr>\n    <tr>\n      <th>1184</th>\n      <td>1.8</td>\n      <td>17.8</td>\n      <td>10.6</td>\n      <td>2.9</td>\n    </tr>\n    <tr>\n      <th>1253</th>\n      <td>0.0</td>\n      <td>31.1</td>\n      <td>15.6</td>\n      <td>3.2</td>\n    </tr>\n    <tr>\n      <th>276</th>\n      <td>0.0</td>\n      <td>18.9</td>\n      <td>7.8</td>\n      <td>7.3</td>\n    </tr>\n    <tr>\n      <th>220</th>\n      <td>0.0</td>\n      <td>22.2</td>\n      <td>15.0</td>\n      <td>3.1</td>\n    </tr>\n  </tbody>\n</table>\n<p>1168 rows × 4 columns</p>\n</div>"
     },
     "execution_count": 133,
     "metadata": {},
     "output_type": "execute_result"
    }
   ],
   "source": [
    "X_train"
   ],
   "metadata": {
    "collapsed": false,
    "ExecuteTime": {
     "end_time": "2023-06-03T16:08:09.373816Z",
     "start_time": "2023-06-03T16:08:09.368467Z"
    }
   }
  },
  {
   "cell_type": "code",
   "execution_count": 134,
   "outputs": [],
   "source": [
    "# Scaling the data\n",
    "scaler = StandardScaler()\n",
    "X_train = scaler.fit_transform(X_train)\n",
    "X_test = scaler.transform(X_test)"
   ],
   "metadata": {
    "collapsed": false,
    "ExecuteTime": {
     "end_time": "2023-06-03T16:08:13.294664Z",
     "start_time": "2023-06-03T16:08:13.287186Z"
    }
   }
  },
  {
   "cell_type": "code",
   "execution_count": 135,
   "outputs": [
    {
     "data": {
      "text/plain": "array([[-0.45805889, -1.27934256, -1.08287842, -0.67017992],\n       [-0.45805889,  1.27004239,  1.1394444 ,  0.10477027],\n       [-0.45805889, -0.04621614,  0.01827252, -1.3746801 ],\n       ...,\n       [-0.45805889,  2.03208681,  1.47980014, -0.03612976],\n       [-0.45805889,  0.34173374, -0.08183211,  2.85232096],\n       [-0.45805889,  0.79896039,  1.35967459, -0.10657978]])"
     },
     "execution_count": 135,
     "metadata": {},
     "output_type": "execute_result"
    }
   ],
   "source": [
    "X_train"
   ],
   "metadata": {
    "collapsed": false,
    "ExecuteTime": {
     "end_time": "2023-06-03T16:08:13.838748Z",
     "start_time": "2023-06-03T16:08:13.833022Z"
    }
   }
  },
  {
   "cell_type": "code",
   "execution_count": 136,
   "metadata": {
    "ExecuteTime": {
     "end_time": "2023-06-03T16:08:15.879118Z",
     "start_time": "2023-06-03T16:08:15.868080Z"
    }
   },
   "outputs": [
    {
     "data": {
      "text/plain": "((1168, 4), (1168,))"
     },
     "execution_count": 136,
     "metadata": {},
     "output_type": "execute_result"
    }
   ],
   "source": [
    "X_train.shape, Y_train.shape"
   ]
  },
  {
   "cell_type": "code",
   "execution_count": 137,
   "metadata": {
    "ExecuteTime": {
     "end_time": "2023-06-03T16:08:16.232882Z",
     "start_time": "2023-06-03T16:08:16.212131Z"
    }
   },
   "outputs": [
    {
     "data": {
      "text/plain": "((293, 4), (293,))"
     },
     "execution_count": 137,
     "metadata": {},
     "output_type": "execute_result"
    }
   ],
   "source": [
    "X_test.shape, Y_test.shape"
   ]
  },
  {
   "cell_type": "markdown",
   "metadata": {},
   "source": [
    "## 6. The Models\n",
    "Each model uses a different algorithm to learn from the data and make predictions. Here's a brief description of each model:\n",
    "\n",
    "1. **Nearest Neighbors**: This model classifies data points based on their similarity to their nearest neighbors in the training data. It's a simple and intuitive method for classification tasks.\n",
    "\n",
    "2. **Linear SVM**: Linear Support Vector Machine (SVM) is a model that finds the best linear boundary (a straight line in 2D, a plane in 3D, etc.) that separates different classes of data points. It's effective for linearly separable data.\n",
    "\n",
    "3. **Polynomial SVM**: This is an extension of the Linear SVM that uses a polynomial function to transform the data into a higher-dimensional space, allowing for more complex decision boundaries.\n",
    "\n",
    "4. **RBF SVM**: Radial Basis Function (RBF) SVM is another extension of the Linear SVM that uses a non-linear kernel function to transform the data, enabling the model to capture more complex patterns in the data.\n",
    "\n",
    "5. **Gradient Boosting**: This model combines multiple weak learners (usually decision trees) to create a strong learner. It iteratively improves the model by focusing on the errors made by the previous learners.\n",
    "\n",
    "6. **Decision Tree**: This model uses a tree-like structure to make decisions based on the input data. It's easy to understand and interpret, but can be prone to overfitting.\n",
    "\n",
    "7. **Extra Trees**: Extra Trees is an ensemble method that builds multiple decision trees and combines their predictions. It's more robust and less prone to overfitting compared to a single decision tree.\n",
    "\n",
    "8. **Random Forest**: This model is another ensemble method that builds multiple decision trees and combines their predictions. It introduces randomness in the tree-building process, making it more robust and accurate.\n",
    "\n",
    "9. **Neural Net**: This model is inspired by the human brain and consists of interconnected nodes (neurons) that learn to make predictions based on the input data. It's highly flexible and can capture complex patterns in the data.\n",
    "\n",
    "10. **AdaBoost**: AdaBoost is an ensemble method that combines multiple weak learners (usually decision trees) to create a strong learner. It focuses on the errors made by the previous learners and assigns more weight to the misclassified data points.\n",
    "\n",
    "11. **Naive Bayes**: This model is based on the Bayes' theorem and assumes that the features in the data are independent. It's simple, fast, and works well with small datasets.\n",
    "\n",
    "12. **SGD**: Stochastic Gradient Descent (SGD) is an optimization algorithm used to train various types of models, including linear classifiers. It's efficient and works well with large datasets.\n",
    "\n",
    "These models can be used individually or combined to create a more accurate and robust prediction system."
   ]
  },
  {
   "cell_type": "code",
   "execution_count": 102,
   "metadata": {
    "ExecuteTime": {
     "end_time": "2023-06-03T12:27:49.096684Z",
     "start_time": "2023-06-03T12:27:49.086887Z"
    }
   },
   "outputs": [],
   "source": [
    "# Defining the  classifiers\n",
    "names = [\"Nearest_Neighbors\", \"Linear_SVM\", \"Polynomial_SVM\", \"RBF_SVM\",\n",
    "         \"Gradient_Boosting\", \"Decision_Tree\", \"Extra_Trees\", \"Random_Forest\", \"Neural_Net\", \"AdaBoost\",\n",
    "         \"Naive_Bayes\", \"SGD\"]\n",
    "\n",
    "classifiers = [\n",
    "    KNeighborsClassifier(3),\n",
    "    SVC(kernel=\"linear\", C=0.025),\n",
    "    SVC(kernel=\"poly\", degree=3, C=0.025),\n",
    "    SVC(kernel=\"rbf\", C=1, gamma=2),\n",
    "    #GaussianProcessClassifier(1.0 * RBF(1.0)),\n",
    "    GradientBoostingClassifier(n_estimators=100, learning_rate=1.0),\n",
    "    DecisionTreeClassifier(max_depth=5),\n",
    "    ExtraTreesClassifier(n_estimators=10, min_samples_split=2),\n",
    "    RandomForestClassifier(max_depth=5, n_estimators=100),\n",
    "    MLPClassifier(alpha=1, max_iter=1000),\n",
    "    AdaBoostClassifier(n_estimators=100),\n",
    "    GaussianNB(),\n",
    "    #QuadraticDiscriminantAnalysis(),\n",
    "    SGDClassifier(loss=\"hinge\", penalty=\"l2\")]"
   ]
  },
  {
   "cell_type": "code",
   "execution_count": 103,
   "metadata": {
    "ExecuteTime": {
     "end_time": "2023-06-03T12:27:51.865886Z",
     "start_time": "2023-06-03T12:27:50.260830Z"
    }
   },
   "outputs": [
    {
     "name": "stdout",
     "output_type": "stream",
     "text": [
      "Nearest_Neighbors: 0.6484641638225256\n",
      "Linear_SVM: 0.757679180887372\n",
      "Polynomial_SVM: 0.6416382252559727\n",
      "RBF_SVM: 0.7235494880546075\n",
      "Gradient_Boosting: 0.8191126279863481\n",
      "Decision_Tree: 0.825938566552901\n",
      "Extra_Trees: 0.8225255972696246\n",
      "Random_Forest: 0.8600682593856656\n",
      "Neural_Net: 0.8054607508532423\n",
      "AdaBoost: 0.6177474402730375\n",
      "Naive_Bayes: 0.8225255972696246\n",
      "SGD: 0.78839590443686\n"
     ]
    }
   ],
   "source": [
    "scores = []\n",
    "for name, clf in zip(names, classifiers):\n",
    "    clf.fit(X_train, Y_train)\n",
    "    score = clf.score(X_test, Y_test)\n",
    "    scores.append(score)\n",
    "    print(f\"\"\"{name}: {score}\"\"\")"
   ]
  },
  {
   "cell_type": "code",
   "execution_count": 138,
   "metadata": {
    "ExecuteTime": {
     "end_time": "2023-06-03T16:08:22.675539Z",
     "start_time": "2023-06-03T16:08:22.668118Z"
    }
   },
   "outputs": [
    {
     "data": {
      "text/plain": "                 name     score\n0       Random_Forest  0.860068\n1       Decision_Tree  0.825939\n2         Extra_Trees  0.822526\n3         Naive_Bayes  0.822526\n4   Gradient_Boosting  0.819113\n5          Neural_Net  0.805461\n6                 SGD  0.788396\n7          Linear_SVM  0.757679\n8             RBF_SVM  0.723549\n9   Nearest_Neighbors  0.648464\n10     Polynomial_SVM  0.641638\n11           AdaBoost  0.617747",
      "text/html": "<div>\n<style scoped>\n    .dataframe tbody tr th:only-of-type {\n        vertical-align: middle;\n    }\n\n    .dataframe tbody tr th {\n        vertical-align: top;\n    }\n\n    .dataframe thead th {\n        text-align: right;\n    }\n</style>\n<table border=\"1\" class=\"dataframe\">\n  <thead>\n    <tr style=\"text-align: right;\">\n      <th></th>\n      <th>name</th>\n      <th>score</th>\n    </tr>\n  </thead>\n  <tbody>\n    <tr>\n      <th>0</th>\n      <td>Random_Forest</td>\n      <td>0.860068</td>\n    </tr>\n    <tr>\n      <th>1</th>\n      <td>Decision_Tree</td>\n      <td>0.825939</td>\n    </tr>\n    <tr>\n      <th>2</th>\n      <td>Extra_Trees</td>\n      <td>0.822526</td>\n    </tr>\n    <tr>\n      <th>3</th>\n      <td>Naive_Bayes</td>\n      <td>0.822526</td>\n    </tr>\n    <tr>\n      <th>4</th>\n      <td>Gradient_Boosting</td>\n      <td>0.819113</td>\n    </tr>\n    <tr>\n      <th>5</th>\n      <td>Neural_Net</td>\n      <td>0.805461</td>\n    </tr>\n    <tr>\n      <th>6</th>\n      <td>SGD</td>\n      <td>0.788396</td>\n    </tr>\n    <tr>\n      <th>7</th>\n      <td>Linear_SVM</td>\n      <td>0.757679</td>\n    </tr>\n    <tr>\n      <th>8</th>\n      <td>RBF_SVM</td>\n      <td>0.723549</td>\n    </tr>\n    <tr>\n      <th>9</th>\n      <td>Nearest_Neighbors</td>\n      <td>0.648464</td>\n    </tr>\n    <tr>\n      <th>10</th>\n      <td>Polynomial_SVM</td>\n      <td>0.641638</td>\n    </tr>\n    <tr>\n      <th>11</th>\n      <td>AdaBoost</td>\n      <td>0.617747</td>\n    </tr>\n  </tbody>\n</table>\n</div>"
     },
     "execution_count": 138,
     "metadata": {},
     "output_type": "execute_result"
    }
   ],
   "source": [
    "df = pd.DataFrame()\n",
    "df['name'] = names\n",
    "df['score'] = scores\n",
    "\n",
    "# Sort and reset index\n",
    "df = df.sort_values(by='score', ascending=False).reset_index(drop=True)\n",
    "df"
   ]
  },
  {
   "cell_type": "code",
   "execution_count": 139,
   "metadata": {
    "scrolled": true,
    "ExecuteTime": {
     "end_time": "2023-06-03T16:08:23.561247Z",
     "start_time": "2023-06-03T16:08:23.550940Z"
    }
   },
   "outputs": [
    {
     "data": {
      "text/plain": "<pandas.io.formats.style.Styler at 0x2ab6e4790>",
      "text/html": "<style type=\"text/css\">\n#T_d2c61_row0_col1 {\n  background-color: #008000;\n  color: #f1f1f1;\n}\n#T_d2c61_row1_col1 {\n  background-color: #219021;\n  color: #f1f1f1;\n}\n#T_d2c61_row2_col1, #T_d2c61_row3_col1 {\n  background-color: #249224;\n  color: #f1f1f1;\n}\n#T_d2c61_row4_col1 {\n  background-color: #289328;\n  color: #f1f1f1;\n}\n#T_d2c61_row5_col1 {\n  background-color: #349a34;\n  color: #f1f1f1;\n}\n#T_d2c61_row6_col1 {\n  background-color: #45a245;\n  color: #f1f1f1;\n}\n#T_d2c61_row7_col1 {\n  background-color: #63b163;\n  color: #f1f1f1;\n}\n#T_d2c61_row8_col1 {\n  background-color: #84c184;\n  color: #000000;\n}\n#T_d2c61_row9_col1 {\n  background-color: #cde5cd;\n  color: #000000;\n}\n#T_d2c61_row10_col1 {\n  background-color: #d4e8d4;\n  color: #000000;\n}\n#T_d2c61_row11_col1 {\n  background-color: #ebf3eb;\n  color: #000000;\n}\n</style>\n<table id=\"T_d2c61\">\n  <thead>\n    <tr>\n      <th class=\"blank level0\" >&nbsp;</th>\n      <th id=\"T_d2c61_level0_col0\" class=\"col_heading level0 col0\" >name</th>\n      <th id=\"T_d2c61_level0_col1\" class=\"col_heading level0 col1\" >score</th>\n    </tr>\n  </thead>\n  <tbody>\n    <tr>\n      <th id=\"T_d2c61_level0_row0\" class=\"row_heading level0 row0\" >0</th>\n      <td id=\"T_d2c61_row0_col0\" class=\"data row0 col0\" >Random_Forest</td>\n      <td id=\"T_d2c61_row0_col1\" class=\"data row0 col1\" >0.860068</td>\n    </tr>\n    <tr>\n      <th id=\"T_d2c61_level0_row1\" class=\"row_heading level0 row1\" >1</th>\n      <td id=\"T_d2c61_row1_col0\" class=\"data row1 col0\" >Decision_Tree</td>\n      <td id=\"T_d2c61_row1_col1\" class=\"data row1 col1\" >0.825939</td>\n    </tr>\n    <tr>\n      <th id=\"T_d2c61_level0_row2\" class=\"row_heading level0 row2\" >2</th>\n      <td id=\"T_d2c61_row2_col0\" class=\"data row2 col0\" >Extra_Trees</td>\n      <td id=\"T_d2c61_row2_col1\" class=\"data row2 col1\" >0.822526</td>\n    </tr>\n    <tr>\n      <th id=\"T_d2c61_level0_row3\" class=\"row_heading level0 row3\" >3</th>\n      <td id=\"T_d2c61_row3_col0\" class=\"data row3 col0\" >Naive_Bayes</td>\n      <td id=\"T_d2c61_row3_col1\" class=\"data row3 col1\" >0.822526</td>\n    </tr>\n    <tr>\n      <th id=\"T_d2c61_level0_row4\" class=\"row_heading level0 row4\" >4</th>\n      <td id=\"T_d2c61_row4_col0\" class=\"data row4 col0\" >Gradient_Boosting</td>\n      <td id=\"T_d2c61_row4_col1\" class=\"data row4 col1\" >0.819113</td>\n    </tr>\n    <tr>\n      <th id=\"T_d2c61_level0_row5\" class=\"row_heading level0 row5\" >5</th>\n      <td id=\"T_d2c61_row5_col0\" class=\"data row5 col0\" >Neural_Net</td>\n      <td id=\"T_d2c61_row5_col1\" class=\"data row5 col1\" >0.805461</td>\n    </tr>\n    <tr>\n      <th id=\"T_d2c61_level0_row6\" class=\"row_heading level0 row6\" >6</th>\n      <td id=\"T_d2c61_row6_col0\" class=\"data row6 col0\" >SGD</td>\n      <td id=\"T_d2c61_row6_col1\" class=\"data row6 col1\" >0.788396</td>\n    </tr>\n    <tr>\n      <th id=\"T_d2c61_level0_row7\" class=\"row_heading level0 row7\" >7</th>\n      <td id=\"T_d2c61_row7_col0\" class=\"data row7 col0\" >Linear_SVM</td>\n      <td id=\"T_d2c61_row7_col1\" class=\"data row7 col1\" >0.757679</td>\n    </tr>\n    <tr>\n      <th id=\"T_d2c61_level0_row8\" class=\"row_heading level0 row8\" >8</th>\n      <td id=\"T_d2c61_row8_col0\" class=\"data row8 col0\" >RBF_SVM</td>\n      <td id=\"T_d2c61_row8_col1\" class=\"data row8 col1\" >0.723549</td>\n    </tr>\n    <tr>\n      <th id=\"T_d2c61_level0_row9\" class=\"row_heading level0 row9\" >9</th>\n      <td id=\"T_d2c61_row9_col0\" class=\"data row9 col0\" >Nearest_Neighbors</td>\n      <td id=\"T_d2c61_row9_col1\" class=\"data row9 col1\" >0.648464</td>\n    </tr>\n    <tr>\n      <th id=\"T_d2c61_level0_row10\" class=\"row_heading level0 row10\" >10</th>\n      <td id=\"T_d2c61_row10_col0\" class=\"data row10 col0\" >Polynomial_SVM</td>\n      <td id=\"T_d2c61_row10_col1\" class=\"data row10 col1\" >0.641638</td>\n    </tr>\n    <tr>\n      <th id=\"T_d2c61_level0_row11\" class=\"row_heading level0 row11\" >11</th>\n      <td id=\"T_d2c61_row11_col0\" class=\"data row11 col0\" >AdaBoost</td>\n      <td id=\"T_d2c61_row11_col1\" class=\"data row11 col1\" >0.617747</td>\n    </tr>\n  </tbody>\n</table>\n"
     },
     "execution_count": 139,
     "metadata": {},
     "output_type": "execute_result"
    }
   ],
   "source": [
    "# Plot the scores\n",
    "cm = sns.light_palette(\"green\", as_cmap=True)\n",
    "results = df.style.background_gradient(cmap=cm)\n",
    "results"
   ]
  },
  {
   "cell_type": "markdown",
   "source": [
    "The results point towards using the Random Forest Classifier as it has the highest accuracy score of 0.86."
   ],
   "metadata": {
    "collapsed": false
   }
  },
  {
   "cell_type": "code",
   "execution_count": 106,
   "outputs": [],
   "source": [
    "max_features_range = np.arange(1,7,1)\n",
    "n_estimators_range = np.arange(10,500,10)\n",
    "param_grid = dict(max_features=max_features_range, n_estimators=n_estimators_range)\n",
    "\n",
    "rf = RandomForestClassifier()\n",
    "\n",
    "grid = GridSearchCV(estimator=rf, param_grid=param_grid, cv=10)"
   ],
   "metadata": {
    "collapsed": false,
    "ExecuteTime": {
     "end_time": "2023-06-03T12:28:43.765410Z",
     "start_time": "2023-06-03T12:28:43.760350Z"
    }
   }
  },
  {
   "cell_type": "code",
   "execution_count": 107,
   "outputs": [
    {
     "data": {
      "text/plain": "GridSearchCV(cv=10, estimator=RandomForestClassifier(),\n             param_grid={'max_features': array([1, 2, 3, 4, 5, 6]),\n                         'n_estimators': array([ 10,  20,  30,  40,  50,  60,  70,  80,  90, 100, 110, 120, 130,\n       140, 150, 160, 170, 180, 190, 200, 210, 220, 230, 240, 250, 260,\n       270, 280, 290, 300, 310, 320, 330, 340, 350, 360, 370, 380, 390,\n       400, 410, 420, 430, 440, 450, 460, 470, 480, 490])})",
      "text/html": "<style>#sk-container-id-3 {color: black;background-color: white;}#sk-container-id-3 pre{padding: 0;}#sk-container-id-3 div.sk-toggleable {background-color: white;}#sk-container-id-3 label.sk-toggleable__label {cursor: pointer;display: block;width: 100%;margin-bottom: 0;padding: 0.3em;box-sizing: border-box;text-align: center;}#sk-container-id-3 label.sk-toggleable__label-arrow:before {content: \"▸\";float: left;margin-right: 0.25em;color: #696969;}#sk-container-id-3 label.sk-toggleable__label-arrow:hover:before {color: black;}#sk-container-id-3 div.sk-estimator:hover label.sk-toggleable__label-arrow:before {color: black;}#sk-container-id-3 div.sk-toggleable__content {max-height: 0;max-width: 0;overflow: hidden;text-align: left;background-color: #f0f8ff;}#sk-container-id-3 div.sk-toggleable__content pre {margin: 0.2em;color: black;border-radius: 0.25em;background-color: #f0f8ff;}#sk-container-id-3 input.sk-toggleable__control:checked~div.sk-toggleable__content {max-height: 200px;max-width: 100%;overflow: auto;}#sk-container-id-3 input.sk-toggleable__control:checked~label.sk-toggleable__label-arrow:before {content: \"▾\";}#sk-container-id-3 div.sk-estimator input.sk-toggleable__control:checked~label.sk-toggleable__label {background-color: #d4ebff;}#sk-container-id-3 div.sk-label input.sk-toggleable__control:checked~label.sk-toggleable__label {background-color: #d4ebff;}#sk-container-id-3 input.sk-hidden--visually {border: 0;clip: rect(1px 1px 1px 1px);clip: rect(1px, 1px, 1px, 1px);height: 1px;margin: -1px;overflow: hidden;padding: 0;position: absolute;width: 1px;}#sk-container-id-3 div.sk-estimator {font-family: monospace;background-color: #f0f8ff;border: 1px dotted black;border-radius: 0.25em;box-sizing: border-box;margin-bottom: 0.5em;}#sk-container-id-3 div.sk-estimator:hover {background-color: #d4ebff;}#sk-container-id-3 div.sk-parallel-item::after {content: \"\";width: 100%;border-bottom: 1px solid gray;flex-grow: 1;}#sk-container-id-3 div.sk-label:hover label.sk-toggleable__label {background-color: #d4ebff;}#sk-container-id-3 div.sk-serial::before {content: \"\";position: absolute;border-left: 1px solid gray;box-sizing: border-box;top: 0;bottom: 0;left: 50%;z-index: 0;}#sk-container-id-3 div.sk-serial {display: flex;flex-direction: column;align-items: center;background-color: white;padding-right: 0.2em;padding-left: 0.2em;position: relative;}#sk-container-id-3 div.sk-item {position: relative;z-index: 1;}#sk-container-id-3 div.sk-parallel {display: flex;align-items: stretch;justify-content: center;background-color: white;position: relative;}#sk-container-id-3 div.sk-item::before, #sk-container-id-3 div.sk-parallel-item::before {content: \"\";position: absolute;border-left: 1px solid gray;box-sizing: border-box;top: 0;bottom: 0;left: 50%;z-index: -1;}#sk-container-id-3 div.sk-parallel-item {display: flex;flex-direction: column;z-index: 1;position: relative;background-color: white;}#sk-container-id-3 div.sk-parallel-item:first-child::after {align-self: flex-end;width: 50%;}#sk-container-id-3 div.sk-parallel-item:last-child::after {align-self: flex-start;width: 50%;}#sk-container-id-3 div.sk-parallel-item:only-child::after {width: 0;}#sk-container-id-3 div.sk-dashed-wrapped {border: 1px dashed gray;margin: 0 0.4em 0.5em 0.4em;box-sizing: border-box;padding-bottom: 0.4em;background-color: white;}#sk-container-id-3 div.sk-label label {font-family: monospace;font-weight: bold;display: inline-block;line-height: 1.2em;}#sk-container-id-3 div.sk-label-container {text-align: center;}#sk-container-id-3 div.sk-container {/* jupyter's `normalize.less` sets `[hidden] { display: none; }` but bootstrap.min.css set `[hidden] { display: none !important; }` so we also need the `!important` here to be able to override the default hidden behavior on the sphinx rendered scikit-learn.org. See: https://github.com/scikit-learn/scikit-learn/issues/21755 */display: inline-block !important;position: relative;}#sk-container-id-3 div.sk-text-repr-fallback {display: none;}</style><div id=\"sk-container-id-3\" class=\"sk-top-container\"><div class=\"sk-text-repr-fallback\"><pre>GridSearchCV(cv=10, estimator=RandomForestClassifier(),\n             param_grid={&#x27;max_features&#x27;: array([1, 2, 3, 4, 5, 6]),\n                         &#x27;n_estimators&#x27;: array([ 10,  20,  30,  40,  50,  60,  70,  80,  90, 100, 110, 120, 130,\n       140, 150, 160, 170, 180, 190, 200, 210, 220, 230, 240, 250, 260,\n       270, 280, 290, 300, 310, 320, 330, 340, 350, 360, 370, 380, 390,\n       400, 410, 420, 430, 440, 450, 460, 470, 480, 490])})</pre><b>In a Jupyter environment, please rerun this cell to show the HTML representation or trust the notebook. <br />On GitHub, the HTML representation is unable to render, please try loading this page with nbviewer.org.</b></div><div class=\"sk-container\" hidden><div class=\"sk-item sk-dashed-wrapped\"><div class=\"sk-label-container\"><div class=\"sk-label sk-toggleable\"><input class=\"sk-toggleable__control sk-hidden--visually\" id=\"sk-estimator-id-5\" type=\"checkbox\" ><label for=\"sk-estimator-id-5\" class=\"sk-toggleable__label sk-toggleable__label-arrow\">GridSearchCV</label><div class=\"sk-toggleable__content\"><pre>GridSearchCV(cv=10, estimator=RandomForestClassifier(),\n             param_grid={&#x27;max_features&#x27;: array([1, 2, 3, 4, 5, 6]),\n                         &#x27;n_estimators&#x27;: array([ 10,  20,  30,  40,  50,  60,  70,  80,  90, 100, 110, 120, 130,\n       140, 150, 160, 170, 180, 190, 200, 210, 220, 230, 240, 250, 260,\n       270, 280, 290, 300, 310, 320, 330, 340, 350, 360, 370, 380, 390,\n       400, 410, 420, 430, 440, 450, 460, 470, 480, 490])})</pre></div></div></div><div class=\"sk-parallel\"><div class=\"sk-parallel-item\"><div class=\"sk-item\"><div class=\"sk-label-container\"><div class=\"sk-label sk-toggleable\"><input class=\"sk-toggleable__control sk-hidden--visually\" id=\"sk-estimator-id-6\" type=\"checkbox\" ><label for=\"sk-estimator-id-6\" class=\"sk-toggleable__label sk-toggleable__label-arrow\">estimator: RandomForestClassifier</label><div class=\"sk-toggleable__content\"><pre>RandomForestClassifier()</pre></div></div></div><div class=\"sk-serial\"><div class=\"sk-item\"><div class=\"sk-estimator sk-toggleable\"><input class=\"sk-toggleable__control sk-hidden--visually\" id=\"sk-estimator-id-7\" type=\"checkbox\" ><label for=\"sk-estimator-id-7\" class=\"sk-toggleable__label sk-toggleable__label-arrow\">RandomForestClassifier</label><div class=\"sk-toggleable__content\"><pre>RandomForestClassifier()</pre></div></div></div></div></div></div></div></div></div></div>"
     },
     "execution_count": 107,
     "metadata": {},
     "output_type": "execute_result"
    }
   ],
   "source": [
    "grid.fit(X_train, Y_train)"
   ],
   "metadata": {
    "collapsed": false,
    "ExecuteTime": {
     "end_time": "2023-06-03T12:41:44.024484Z",
     "start_time": "2023-06-03T12:28:45.845078Z"
    }
   }
  },
  {
   "cell_type": "code",
   "execution_count": 108,
   "outputs": [
    {
     "name": "stdout",
     "output_type": "stream",
     "text": [
      "The best parameters are {'max_features': 3, 'n_estimators': 40} with a score of 0.87\n"
     ]
    }
   ],
   "source": [
    "print(\"The best parameters are %s with a score of %0.2f\"\n",
    "      % (grid.best_params_, grid.best_score_))"
   ],
   "metadata": {
    "collapsed": false,
    "ExecuteTime": {
     "end_time": "2023-06-03T12:41:44.079560Z",
     "start_time": "2023-06-03T12:41:44.065570Z"
    }
   }
  },
  {
   "cell_type": "code",
   "execution_count": 109,
   "outputs": [
    {
     "data": {
      "text/plain": "   max_features  n_estimators  Accuracy\n0             1            10  0.837305\n1             1            20  0.851894\n2             1            30  0.852756\n3             1            40  0.856182\n4             1            50  0.863867",
      "text/html": "<div>\n<style scoped>\n    .dataframe tbody tr th:only-of-type {\n        vertical-align: middle;\n    }\n\n    .dataframe tbody tr th {\n        vertical-align: top;\n    }\n\n    .dataframe thead th {\n        text-align: right;\n    }\n</style>\n<table border=\"1\" class=\"dataframe\">\n  <thead>\n    <tr style=\"text-align: right;\">\n      <th></th>\n      <th>max_features</th>\n      <th>n_estimators</th>\n      <th>Accuracy</th>\n    </tr>\n  </thead>\n  <tbody>\n    <tr>\n      <th>0</th>\n      <td>1</td>\n      <td>10</td>\n      <td>0.837305</td>\n    </tr>\n    <tr>\n      <th>1</th>\n      <td>1</td>\n      <td>20</td>\n      <td>0.851894</td>\n    </tr>\n    <tr>\n      <th>2</th>\n      <td>1</td>\n      <td>30</td>\n      <td>0.852756</td>\n    </tr>\n    <tr>\n      <th>3</th>\n      <td>1</td>\n      <td>40</td>\n      <td>0.856182</td>\n    </tr>\n    <tr>\n      <th>4</th>\n      <td>1</td>\n      <td>50</td>\n      <td>0.863867</td>\n    </tr>\n  </tbody>\n</table>\n</div>"
     },
     "execution_count": 109,
     "metadata": {},
     "output_type": "execute_result"
    }
   ],
   "source": [
    "grid_results = pd.concat([pd.DataFrame(grid.cv_results_[\"params\"]),pd.DataFrame(grid.cv_results_[\"mean_test_score\"], columns=[\"Accuracy\"])],axis=1)\n",
    "grid_results.head()"
   ],
   "metadata": {
    "collapsed": false,
    "ExecuteTime": {
     "end_time": "2023-06-03T12:41:55.164742Z",
     "start_time": "2023-06-03T12:41:55.148290Z"
    }
   }
  },
  {
   "cell_type": "code",
   "execution_count": 110,
   "outputs": [
    {
     "data": {
      "text/plain": "                           Accuracy\nmax_features n_estimators          \n1            10            0.837305\n             20            0.851894\n             30            0.852756\n             40            0.856182\n             50            0.863867\n...                             ...\n6            450           0.857000\n             460           0.856130\n             470           0.856138\n             480           0.857854\n             490           0.855268\n\n[294 rows x 1 columns]",
      "text/html": "<div>\n<style scoped>\n    .dataframe tbody tr th:only-of-type {\n        vertical-align: middle;\n    }\n\n    .dataframe tbody tr th {\n        vertical-align: top;\n    }\n\n    .dataframe thead th {\n        text-align: right;\n    }\n</style>\n<table border=\"1\" class=\"dataframe\">\n  <thead>\n    <tr style=\"text-align: right;\">\n      <th></th>\n      <th></th>\n      <th>Accuracy</th>\n    </tr>\n    <tr>\n      <th>max_features</th>\n      <th>n_estimators</th>\n      <th></th>\n    </tr>\n  </thead>\n  <tbody>\n    <tr>\n      <th rowspan=\"5\" valign=\"top\">1</th>\n      <th>10</th>\n      <td>0.837305</td>\n    </tr>\n    <tr>\n      <th>20</th>\n      <td>0.851894</td>\n    </tr>\n    <tr>\n      <th>30</th>\n      <td>0.852756</td>\n    </tr>\n    <tr>\n      <th>40</th>\n      <td>0.856182</td>\n    </tr>\n    <tr>\n      <th>50</th>\n      <td>0.863867</td>\n    </tr>\n    <tr>\n      <th>...</th>\n      <th>...</th>\n      <td>...</td>\n    </tr>\n    <tr>\n      <th rowspan=\"5\" valign=\"top\">6</th>\n      <th>450</th>\n      <td>0.857000</td>\n    </tr>\n    <tr>\n      <th>460</th>\n      <td>0.856130</td>\n    </tr>\n    <tr>\n      <th>470</th>\n      <td>0.856138</td>\n    </tr>\n    <tr>\n      <th>480</th>\n      <td>0.857854</td>\n    </tr>\n    <tr>\n      <th>490</th>\n      <td>0.855268</td>\n    </tr>\n  </tbody>\n</table>\n<p>294 rows × 1 columns</p>\n</div>"
     },
     "execution_count": 110,
     "metadata": {},
     "output_type": "execute_result"
    }
   ],
   "source": [
    "grid_contour = grid_results.groupby(['max_features','n_estimators']).mean()\n",
    "grid_contour"
   ],
   "metadata": {
    "collapsed": false,
    "ExecuteTime": {
     "end_time": "2023-06-03T12:42:04.523172Z",
     "start_time": "2023-06-03T12:42:04.512088Z"
    }
   }
  },
  {
   "cell_type": "code",
   "execution_count": 111,
   "outputs": [
    {
     "data": {
      "text/plain": "n_estimators       10        20        30        40        50        60    \nmax_features                                                               \n1             0.837305  0.851894  0.852756  0.856182  0.863867  0.855290  \\\n2             0.846729  0.862165  0.860455  0.854436  0.857884  0.862135   \n3             0.849315  0.852726  0.854421  0.865561  0.861273  0.856985   \n4             0.845027  0.856145  0.855268  0.853574  0.853581  0.861281   \n5             0.850147  0.851017  0.851009  0.854413  0.851857  0.851857   \n6             0.837297  0.851857  0.847598  0.846729  0.853566  0.851002   \n\nn_estimators       70        80        90        100  ...       400       410   \nmax_features                                          ...                       \n1             0.858753  0.855312  0.853625  0.853603  ...  0.856167  0.855312  \\\n2             0.856160  0.860419  0.861295  0.857854  ...  0.860433  0.863005   \n3             0.858709  0.859579  0.862150  0.861288  ...  0.862997  0.861273   \n4             0.855298  0.860426  0.853574  0.858694  ...  0.859556  0.859564   \n5             0.858709  0.856152  0.855283  0.852726  ...  0.861273  0.858694   \n6             0.853574  0.857007  0.848445  0.856152  ...  0.854421  0.858702   \n\nn_estimators       420       430       440       450       460       470   \nmax_features                                                               \n1             0.857877  0.857869  0.857877  0.855305  0.858731  0.854450  \\\n2             0.857000  0.861288  0.859579  0.863867  0.863005  0.864707   \n3             0.862135  0.853574  0.859571  0.862997  0.862997  0.862135   \n4             0.857000  0.859564  0.861281  0.856992  0.859571  0.858702   \n5             0.856992  0.857847  0.857854  0.860419  0.856992  0.857847   \n6             0.855283  0.856985  0.856992  0.857000  0.856130  0.856138   \n\nn_estimators       480       490  \nmax_features                      \n1             0.854450  0.855305  \n2             0.862997  0.858724  \n3             0.861281  0.862135  \n4             0.862128  0.861281  \n5             0.857854  0.859564  \n6             0.857854  0.855268  \n\n[6 rows x 49 columns]",
      "text/html": "<div>\n<style scoped>\n    .dataframe tbody tr th:only-of-type {\n        vertical-align: middle;\n    }\n\n    .dataframe tbody tr th {\n        vertical-align: top;\n    }\n\n    .dataframe thead th {\n        text-align: right;\n    }\n</style>\n<table border=\"1\" class=\"dataframe\">\n  <thead>\n    <tr style=\"text-align: right;\">\n      <th>n_estimators</th>\n      <th>10</th>\n      <th>20</th>\n      <th>30</th>\n      <th>40</th>\n      <th>50</th>\n      <th>60</th>\n      <th>70</th>\n      <th>80</th>\n      <th>90</th>\n      <th>100</th>\n      <th>...</th>\n      <th>400</th>\n      <th>410</th>\n      <th>420</th>\n      <th>430</th>\n      <th>440</th>\n      <th>450</th>\n      <th>460</th>\n      <th>470</th>\n      <th>480</th>\n      <th>490</th>\n    </tr>\n    <tr>\n      <th>max_features</th>\n      <th></th>\n      <th></th>\n      <th></th>\n      <th></th>\n      <th></th>\n      <th></th>\n      <th></th>\n      <th></th>\n      <th></th>\n      <th></th>\n      <th></th>\n      <th></th>\n      <th></th>\n      <th></th>\n      <th></th>\n      <th></th>\n      <th></th>\n      <th></th>\n      <th></th>\n      <th></th>\n      <th></th>\n    </tr>\n  </thead>\n  <tbody>\n    <tr>\n      <th>1</th>\n      <td>0.837305</td>\n      <td>0.851894</td>\n      <td>0.852756</td>\n      <td>0.856182</td>\n      <td>0.863867</td>\n      <td>0.855290</td>\n      <td>0.858753</td>\n      <td>0.855312</td>\n      <td>0.853625</td>\n      <td>0.853603</td>\n      <td>...</td>\n      <td>0.856167</td>\n      <td>0.855312</td>\n      <td>0.857877</td>\n      <td>0.857869</td>\n      <td>0.857877</td>\n      <td>0.855305</td>\n      <td>0.858731</td>\n      <td>0.854450</td>\n      <td>0.854450</td>\n      <td>0.855305</td>\n    </tr>\n    <tr>\n      <th>2</th>\n      <td>0.846729</td>\n      <td>0.862165</td>\n      <td>0.860455</td>\n      <td>0.854436</td>\n      <td>0.857884</td>\n      <td>0.862135</td>\n      <td>0.856160</td>\n      <td>0.860419</td>\n      <td>0.861295</td>\n      <td>0.857854</td>\n      <td>...</td>\n      <td>0.860433</td>\n      <td>0.863005</td>\n      <td>0.857000</td>\n      <td>0.861288</td>\n      <td>0.859579</td>\n      <td>0.863867</td>\n      <td>0.863005</td>\n      <td>0.864707</td>\n      <td>0.862997</td>\n      <td>0.858724</td>\n    </tr>\n    <tr>\n      <th>3</th>\n      <td>0.849315</td>\n      <td>0.852726</td>\n      <td>0.854421</td>\n      <td>0.865561</td>\n      <td>0.861273</td>\n      <td>0.856985</td>\n      <td>0.858709</td>\n      <td>0.859579</td>\n      <td>0.862150</td>\n      <td>0.861288</td>\n      <td>...</td>\n      <td>0.862997</td>\n      <td>0.861273</td>\n      <td>0.862135</td>\n      <td>0.853574</td>\n      <td>0.859571</td>\n      <td>0.862997</td>\n      <td>0.862997</td>\n      <td>0.862135</td>\n      <td>0.861281</td>\n      <td>0.862135</td>\n    </tr>\n    <tr>\n      <th>4</th>\n      <td>0.845027</td>\n      <td>0.856145</td>\n      <td>0.855268</td>\n      <td>0.853574</td>\n      <td>0.853581</td>\n      <td>0.861281</td>\n      <td>0.855298</td>\n      <td>0.860426</td>\n      <td>0.853574</td>\n      <td>0.858694</td>\n      <td>...</td>\n      <td>0.859556</td>\n      <td>0.859564</td>\n      <td>0.857000</td>\n      <td>0.859564</td>\n      <td>0.861281</td>\n      <td>0.856992</td>\n      <td>0.859571</td>\n      <td>0.858702</td>\n      <td>0.862128</td>\n      <td>0.861281</td>\n    </tr>\n    <tr>\n      <th>5</th>\n      <td>0.850147</td>\n      <td>0.851017</td>\n      <td>0.851009</td>\n      <td>0.854413</td>\n      <td>0.851857</td>\n      <td>0.851857</td>\n      <td>0.858709</td>\n      <td>0.856152</td>\n      <td>0.855283</td>\n      <td>0.852726</td>\n      <td>...</td>\n      <td>0.861273</td>\n      <td>0.858694</td>\n      <td>0.856992</td>\n      <td>0.857847</td>\n      <td>0.857854</td>\n      <td>0.860419</td>\n      <td>0.856992</td>\n      <td>0.857847</td>\n      <td>0.857854</td>\n      <td>0.859564</td>\n    </tr>\n    <tr>\n      <th>6</th>\n      <td>0.837297</td>\n      <td>0.851857</td>\n      <td>0.847598</td>\n      <td>0.846729</td>\n      <td>0.853566</td>\n      <td>0.851002</td>\n      <td>0.853574</td>\n      <td>0.857007</td>\n      <td>0.848445</td>\n      <td>0.856152</td>\n      <td>...</td>\n      <td>0.854421</td>\n      <td>0.858702</td>\n      <td>0.855283</td>\n      <td>0.856985</td>\n      <td>0.856992</td>\n      <td>0.857000</td>\n      <td>0.856130</td>\n      <td>0.856138</td>\n      <td>0.857854</td>\n      <td>0.855268</td>\n    </tr>\n  </tbody>\n</table>\n<p>6 rows × 49 columns</p>\n</div>"
     },
     "execution_count": 111,
     "metadata": {},
     "output_type": "execute_result"
    }
   ],
   "source": [
    "grid_reset = grid_contour.reset_index()\n",
    "grid_reset.columns = ['max_features', 'n_estimators', 'Accuracy']\n",
    "grid_pivot = grid_reset.pivot(index='max_features', columns='n_estimators', values='Accuracy')\n",
    "\n",
    "grid_pivot\n"
   ],
   "metadata": {
    "collapsed": false,
    "ExecuteTime": {
     "end_time": "2023-06-03T12:42:10.217270Z",
     "start_time": "2023-06-03T12:42:10.201275Z"
    }
   }
  },
  {
   "cell_type": "code",
   "execution_count": 112,
   "outputs": [],
   "source": [
    "x = grid_pivot.columns.values\n",
    "y = grid_pivot.index.values\n",
    "z = grid_pivot.values"
   ],
   "metadata": {
    "collapsed": false,
    "ExecuteTime": {
     "end_time": "2023-06-03T12:42:11.881290Z",
     "start_time": "2023-06-03T12:42:11.863886Z"
    }
   }
  },
  {
   "cell_type": "markdown",
   "source": [
    "## 7. Evaluation"
   ],
   "metadata": {
    "collapsed": false
   }
  },
  {
   "cell_type": "code",
   "execution_count": 113,
   "outputs": [
    {
     "data": {
      "application/vnd.plotly.v1+json": {
       "data": [
        {
         "x": [
          10,
          20,
          30,
          40,
          50,
          60,
          70,
          80,
          90,
          100,
          110,
          120,
          130,
          140,
          150,
          160,
          170,
          180,
          190,
          200,
          210,
          220,
          230,
          240,
          250,
          260,
          270,
          280,
          290,
          300,
          310,
          320,
          330,
          340,
          350,
          360,
          370,
          380,
          390,
          400,
          410,
          420,
          430,
          440,
          450,
          460,
          470,
          480,
          490
         ],
         "y": [
          1,
          2,
          3,
          4,
          5,
          6
         ],
         "z": [
          [
           0.8373047450633658,
           0.8518936044798113,
           0.8527556734453288,
           0.8561818449749483,
           0.8638667845564397,
           0.8552903035661658,
           0.8587533156498675,
           0.8553124078986147,
           0.8536251105216623,
           0.8536030061892133,
           0.8604553492484527,
           0.8561597406424994,
           0.857029177718833,
           0.8536030061892133,
           0.855312407898615,
           0.8552976716769821,
           0.8578765104627175,
           0.855312407898615,
           0.8544503389330977,
           0.8570291777188329,
           0.8535956380783969,
           0.8570218096080167,
           0.8553050397877986,
           0.8561671087533158,
           0.8604479811376364,
           0.858723843206602,
           0.8544503389330977,
           0.8570070733863838,
           0.8570218096080167,
           0.858745947539051,
           0.855312407898615,
           0.8553124078986147,
           0.8578838785735339,
           0.8544577070439141,
           0.8578765104627175,
           0.8544577070439141,
           0.8595859121721192,
           0.8544577070439141,
           0.8595932802829355,
           0.8561671087533158,
           0.855312407898615,
           0.8578765104627175,
           0.8578691423519011,
           0.8578765104627175,
           0.8553050397877986,
           0.8587312113174184,
           0.8544503389330977,
           0.8544503389330977,
           0.8553050397877986
          ],
          [
           0.8467285587975242,
           0.8621647509578544,
           0.8604553492484527,
           0.8544356027114649,
           0.8578838785735338,
           0.8621352785145889,
           0.8561597406424994,
           0.8604185086943709,
           0.8612953138815209,
           0.8578544061302683,
           0.8612805776598881,
           0.8612953138815209,
           0.8604332449160037,
           0.8638520483348071,
           0.8638520483348071,
           0.8595859121721192,
           0.8621426466254054,
           0.8604258768051872,
           0.856152372531683,
           0.8587164750957855,
           0.8638594164456235,
           0.8612879457707046,
           0.8647141173003243,
           0.8604332449160037,
           0.8612953138815209,
           0.8621426466254054,
           0.8595859121721192,
           0.8638594164456235,
           0.8595711759504864,
           0.8630047155909226,
           0.8612658414382552,
           0.8629899793692898,
           0.8595859121721192,
           0.8612953138815209,
           0.8621426466254054,
           0.8621500147362218,
           0.8638594164456235,
           0.8612879457707046,
           0.8630047155909226,
           0.8604332449160037,
           0.8630047155909226,
           0.8569997052755675,
           0.8612879457707046,
           0.8595785440613029,
           0.8638667845564397,
           0.8630047155909226,
           0.864706749189508,
           0.8629973474801063,
           0.858723843206602
          ],
          [
           0.8493147656940762,
           0.8527262010020632,
           0.8544208664898321,
           0.8655614500442088,
           0.8612732095490717,
           0.8569849690539346,
           0.8587091069849692,
           0.8595785440613029,
           0.8621500147362218,
           0.8612879457707046,
           0.8587312113174181,
           0.8604406130268201,
           0.8612805776598881,
           0.8578544061302683,
           0.8595711759504864,
           0.8578691423519011,
           0.8604185086943709,
           0.8604185086943709,
           0.8621279104037726,
           0.8578617742410847,
           0.8638299440023578,
           0.8578544061302683,
           0.85956380783967,
           0.8595711759504864,
           0.8612805776598881,
           0.8595564397288535,
           0.8578765104627173,
           0.85956380783967,
           0.8621500147362215,
           0.8604111405835544,
           0.8612953138815209,
           0.8647141173003243,
           0.8604332449160037,
           0.8621352785145889,
           0.8612732095490717,
           0.8604185086943709,
           0.8638520483348071,
           0.8604258768051872,
           0.8638446802239906,
           0.8629973474801063,
           0.8612732095490717,
           0.8621352785145889,
           0.8535735337459476,
           0.8595711759504864,
           0.8629973474801063,
           0.8629973474801063,
           0.8621352785145889,
           0.8612805776598881,
           0.8621352785145889
          ],
          [
           0.8450265251989391,
           0.8561450044208666,
           0.8552681992337166,
           0.8535735337459476,
           0.853580901856764,
           0.8612805776598881,
           0.8552976716769821,
           0.8604258768051872,
           0.8535735337459476,
           0.8586943707633363,
           0.8612805776598881,
           0.8561376363100501,
           0.85956380783967,
           0.8604258768051872,
           0.8638520483348069,
           0.8612879457707046,
           0.8612732095490717,
           0.8587091069849692,
           0.8604185086943709,
           0.8595711759504864,
           0.8621352785145889,
           0.8612658414382552,
           0.8595711759504864,
           0.8587164750957855,
           0.8595711759504864,
           0.8578544061302683,
           0.8604258768051872,
           0.8621352785145889,
           0.8629973474801063,
           0.8647141173003243,
           0.8587091069849692,
           0.8621426466254054,
           0.8604111405835544,
           0.8604185086943709,
           0.8595711759504864,
           0.8612879457707046,
           0.8604258768051872,
           0.8612805776598881,
           0.8612953138815209,
           0.8595564397288535,
           0.85956380783967,
           0.8569997052755675,
           0.85956380783967,
           0.8612805776598881,
           0.856992337164751,
           0.8595711759504864,
           0.8587017388741527,
           0.8621279104037726,
           0.8612805776598881
          ],
          [
           0.8501473622163278,
           0.8510167992926615,
           0.851009431181845,
           0.8544134983790157,
           0.8518567639257295,
           0.8518567639257295,
           0.8587091069849692,
           0.856152372531683,
           0.8552829354553493,
           0.8527262010020632,
           0.8569997052755675,
           0.8544356027114649,
           0.8535735337459476,
           0.85956380783967,
           0.8587017388741527,
           0.8587164750957855,
           0.8518641320365459,
           0.8569997052755675,
           0.8629826112584734,
           0.8587017388741527,
           0.8621352785145889,
           0.8621205422929561,
           0.85956380783967,
           0.8595564397288535,
           0.8612805776598881,
           0.860403772472738,
           0.8561376363100501,
           0.8561229000884174,
           0.8552829354553493,
           0.8578470380194518,
           0.8552903035661658,
           0.8578396699086355,
           0.8612658414382552,
           0.8587091069849692,
           0.8552829354553493,
           0.8535587975243148,
           0.8604185086943709,
           0.8578396699086355,
           0.8604258768051872,
           0.8612732095490717,
           0.8586943707633363,
           0.856992337164751,
           0.8578470380194518,
           0.8578544061302683,
           0.8604185086943709,
           0.856992337164751,
           0.8578470380194518,
           0.8578544061302683,
           0.85956380783967
          ],
          [
           0.8372973769525494,
           0.8518567639257295,
           0.8475979958738581,
           0.8467285587975244,
           0.8535661656351312,
           0.8510020630710287,
           0.8535735337459476,
           0.8570070733863838,
           0.8484453286177425,
           0.856152372531683,
           0.8544134983790157,
           0.8578544061302683,
           0.8595711759504864,
           0.8552755673445329,
           0.8587017388741527,
           0.8578470380194518,
           0.8569997052755675,
           0.8535735337459476,
           0.8586943707633363,
           0.8552903035661658,
           0.8544208664898321,
           0.8569997052755675,
           0.8552829354553493,
           0.8561376363100501,
           0.8544134983790157,
           0.8552755673445329,
           0.8561302681992338,
           0.8578544061302683,
           0.8552681992337166,
           0.8578470380194518,
           0.856992337164751,
           0.8578544061302683,
           0.8569776009431183,
           0.8544134983790157,
           0.8544134983790157,
           0.8561450044208666,
           0.8552755673445329,
           0.852704096669614,
           0.8552755673445329,
           0.8544208664898321,
           0.8587017388741527,
           0.8552829354553493,
           0.8569849690539346,
           0.856992337164751,
           0.8569997052755675,
           0.8561302681992338,
           0.8561376363100501,
           0.8578544061302683,
           0.8552681992337166
          ]
         ],
         "type": "contour"
        }
       ],
       "layout": {
        "xaxis": {
         "title": {
          "text": "n_estimators"
         }
        },
        "yaxis": {
         "title": {
          "text": "max_features"
         }
        },
        "template": {
         "data": {
          "histogram2dcontour": [
           {
            "type": "histogram2dcontour",
            "colorbar": {
             "outlinewidth": 0,
             "ticks": ""
            },
            "colorscale": [
             [
              0.0,
              "#0d0887"
             ],
             [
              0.1111111111111111,
              "#46039f"
             ],
             [
              0.2222222222222222,
              "#7201a8"
             ],
             [
              0.3333333333333333,
              "#9c179e"
             ],
             [
              0.4444444444444444,
              "#bd3786"
             ],
             [
              0.5555555555555556,
              "#d8576b"
             ],
             [
              0.6666666666666666,
              "#ed7953"
             ],
             [
              0.7777777777777778,
              "#fb9f3a"
             ],
             [
              0.8888888888888888,
              "#fdca26"
             ],
             [
              1.0,
              "#f0f921"
             ]
            ]
           }
          ],
          "choropleth": [
           {
            "type": "choropleth",
            "colorbar": {
             "outlinewidth": 0,
             "ticks": ""
            }
           }
          ],
          "histogram2d": [
           {
            "type": "histogram2d",
            "colorbar": {
             "outlinewidth": 0,
             "ticks": ""
            },
            "colorscale": [
             [
              0.0,
              "#0d0887"
             ],
             [
              0.1111111111111111,
              "#46039f"
             ],
             [
              0.2222222222222222,
              "#7201a8"
             ],
             [
              0.3333333333333333,
              "#9c179e"
             ],
             [
              0.4444444444444444,
              "#bd3786"
             ],
             [
              0.5555555555555556,
              "#d8576b"
             ],
             [
              0.6666666666666666,
              "#ed7953"
             ],
             [
              0.7777777777777778,
              "#fb9f3a"
             ],
             [
              0.8888888888888888,
              "#fdca26"
             ],
             [
              1.0,
              "#f0f921"
             ]
            ]
           }
          ],
          "heatmap": [
           {
            "type": "heatmap",
            "colorbar": {
             "outlinewidth": 0,
             "ticks": ""
            },
            "colorscale": [
             [
              0.0,
              "#0d0887"
             ],
             [
              0.1111111111111111,
              "#46039f"
             ],
             [
              0.2222222222222222,
              "#7201a8"
             ],
             [
              0.3333333333333333,
              "#9c179e"
             ],
             [
              0.4444444444444444,
              "#bd3786"
             ],
             [
              0.5555555555555556,
              "#d8576b"
             ],
             [
              0.6666666666666666,
              "#ed7953"
             ],
             [
              0.7777777777777778,
              "#fb9f3a"
             ],
             [
              0.8888888888888888,
              "#fdca26"
             ],
             [
              1.0,
              "#f0f921"
             ]
            ]
           }
          ],
          "heatmapgl": [
           {
            "type": "heatmapgl",
            "colorbar": {
             "outlinewidth": 0,
             "ticks": ""
            },
            "colorscale": [
             [
              0.0,
              "#0d0887"
             ],
             [
              0.1111111111111111,
              "#46039f"
             ],
             [
              0.2222222222222222,
              "#7201a8"
             ],
             [
              0.3333333333333333,
              "#9c179e"
             ],
             [
              0.4444444444444444,
              "#bd3786"
             ],
             [
              0.5555555555555556,
              "#d8576b"
             ],
             [
              0.6666666666666666,
              "#ed7953"
             ],
             [
              0.7777777777777778,
              "#fb9f3a"
             ],
             [
              0.8888888888888888,
              "#fdca26"
             ],
             [
              1.0,
              "#f0f921"
             ]
            ]
           }
          ],
          "contourcarpet": [
           {
            "type": "contourcarpet",
            "colorbar": {
             "outlinewidth": 0,
             "ticks": ""
            }
           }
          ],
          "contour": [
           {
            "type": "contour",
            "colorbar": {
             "outlinewidth": 0,
             "ticks": ""
            },
            "colorscale": [
             [
              0.0,
              "#0d0887"
             ],
             [
              0.1111111111111111,
              "#46039f"
             ],
             [
              0.2222222222222222,
              "#7201a8"
             ],
             [
              0.3333333333333333,
              "#9c179e"
             ],
             [
              0.4444444444444444,
              "#bd3786"
             ],
             [
              0.5555555555555556,
              "#d8576b"
             ],
             [
              0.6666666666666666,
              "#ed7953"
             ],
             [
              0.7777777777777778,
              "#fb9f3a"
             ],
             [
              0.8888888888888888,
              "#fdca26"
             ],
             [
              1.0,
              "#f0f921"
             ]
            ]
           }
          ],
          "surface": [
           {
            "type": "surface",
            "colorbar": {
             "outlinewidth": 0,
             "ticks": ""
            },
            "colorscale": [
             [
              0.0,
              "#0d0887"
             ],
             [
              0.1111111111111111,
              "#46039f"
             ],
             [
              0.2222222222222222,
              "#7201a8"
             ],
             [
              0.3333333333333333,
              "#9c179e"
             ],
             [
              0.4444444444444444,
              "#bd3786"
             ],
             [
              0.5555555555555556,
              "#d8576b"
             ],
             [
              0.6666666666666666,
              "#ed7953"
             ],
             [
              0.7777777777777778,
              "#fb9f3a"
             ],
             [
              0.8888888888888888,
              "#fdca26"
             ],
             [
              1.0,
              "#f0f921"
             ]
            ]
           }
          ],
          "mesh3d": [
           {
            "type": "mesh3d",
            "colorbar": {
             "outlinewidth": 0,
             "ticks": ""
            }
           }
          ],
          "scatter": [
           {
            "marker": {
             "line": {
              "color": "#283442"
             }
            },
            "type": "scatter"
           }
          ],
          "parcoords": [
           {
            "type": "parcoords",
            "line": {
             "colorbar": {
              "outlinewidth": 0,
              "ticks": ""
             }
            }
           }
          ],
          "scatterpolargl": [
           {
            "type": "scatterpolargl",
            "marker": {
             "colorbar": {
              "outlinewidth": 0,
              "ticks": ""
             }
            }
           }
          ],
          "bar": [
           {
            "error_x": {
             "color": "#f2f5fa"
            },
            "error_y": {
             "color": "#f2f5fa"
            },
            "marker": {
             "line": {
              "color": "rgb(17,17,17)",
              "width": 0.5
             },
             "pattern": {
              "fillmode": "overlay",
              "size": 10,
              "solidity": 0.2
             }
            },
            "type": "bar"
           }
          ],
          "scattergeo": [
           {
            "type": "scattergeo",
            "marker": {
             "colorbar": {
              "outlinewidth": 0,
              "ticks": ""
             }
            }
           }
          ],
          "scatterpolar": [
           {
            "type": "scatterpolar",
            "marker": {
             "colorbar": {
              "outlinewidth": 0,
              "ticks": ""
             }
            }
           }
          ],
          "histogram": [
           {
            "marker": {
             "pattern": {
              "fillmode": "overlay",
              "size": 10,
              "solidity": 0.2
             }
            },
            "type": "histogram"
           }
          ],
          "scattergl": [
           {
            "marker": {
             "line": {
              "color": "#283442"
             }
            },
            "type": "scattergl"
           }
          ],
          "scatter3d": [
           {
            "type": "scatter3d",
            "line": {
             "colorbar": {
              "outlinewidth": 0,
              "ticks": ""
             }
            },
            "marker": {
             "colorbar": {
              "outlinewidth": 0,
              "ticks": ""
             }
            }
           }
          ],
          "scattermapbox": [
           {
            "type": "scattermapbox",
            "marker": {
             "colorbar": {
              "outlinewidth": 0,
              "ticks": ""
             }
            }
           }
          ],
          "scatterternary": [
           {
            "type": "scatterternary",
            "marker": {
             "colorbar": {
              "outlinewidth": 0,
              "ticks": ""
             }
            }
           }
          ],
          "scattercarpet": [
           {
            "type": "scattercarpet",
            "marker": {
             "colorbar": {
              "outlinewidth": 0,
              "ticks": ""
             }
            }
           }
          ],
          "carpet": [
           {
            "aaxis": {
             "endlinecolor": "#A2B1C6",
             "gridcolor": "#506784",
             "linecolor": "#506784",
             "minorgridcolor": "#506784",
             "startlinecolor": "#A2B1C6"
            },
            "baxis": {
             "endlinecolor": "#A2B1C6",
             "gridcolor": "#506784",
             "linecolor": "#506784",
             "minorgridcolor": "#506784",
             "startlinecolor": "#A2B1C6"
            },
            "type": "carpet"
           }
          ],
          "table": [
           {
            "cells": {
             "fill": {
              "color": "#506784"
             },
             "line": {
              "color": "rgb(17,17,17)"
             }
            },
            "header": {
             "fill": {
              "color": "#2a3f5f"
             },
             "line": {
              "color": "rgb(17,17,17)"
             }
            },
            "type": "table"
           }
          ],
          "barpolar": [
           {
            "marker": {
             "line": {
              "color": "rgb(17,17,17)",
              "width": 0.5
             },
             "pattern": {
              "fillmode": "overlay",
              "size": 10,
              "solidity": 0.2
             }
            },
            "type": "barpolar"
           }
          ],
          "pie": [
           {
            "automargin": true,
            "type": "pie"
           }
          ]
         },
         "layout": {
          "autotypenumbers": "strict",
          "colorway": [
           "#636efa",
           "#EF553B",
           "#00cc96",
           "#ab63fa",
           "#FFA15A",
           "#19d3f3",
           "#FF6692",
           "#B6E880",
           "#FF97FF",
           "#FECB52"
          ],
          "font": {
           "color": "#f2f5fa"
          },
          "hovermode": "closest",
          "hoverlabel": {
           "align": "left"
          },
          "paper_bgcolor": "rgb(17,17,17)",
          "plot_bgcolor": "rgb(17,17,17)",
          "polar": {
           "bgcolor": "rgb(17,17,17)",
           "angularaxis": {
            "gridcolor": "#506784",
            "linecolor": "#506784",
            "ticks": ""
           },
           "radialaxis": {
            "gridcolor": "#506784",
            "linecolor": "#506784",
            "ticks": ""
           }
          },
          "ternary": {
           "bgcolor": "rgb(17,17,17)",
           "aaxis": {
            "gridcolor": "#506784",
            "linecolor": "#506784",
            "ticks": ""
           },
           "baxis": {
            "gridcolor": "#506784",
            "linecolor": "#506784",
            "ticks": ""
           },
           "caxis": {
            "gridcolor": "#506784",
            "linecolor": "#506784",
            "ticks": ""
           }
          },
          "coloraxis": {
           "colorbar": {
            "outlinewidth": 0,
            "ticks": ""
           }
          },
          "colorscale": {
           "sequential": [
            [
             0.0,
             "#0d0887"
            ],
            [
             0.1111111111111111,
             "#46039f"
            ],
            [
             0.2222222222222222,
             "#7201a8"
            ],
            [
             0.3333333333333333,
             "#9c179e"
            ],
            [
             0.4444444444444444,
             "#bd3786"
            ],
            [
             0.5555555555555556,
             "#d8576b"
            ],
            [
             0.6666666666666666,
             "#ed7953"
            ],
            [
             0.7777777777777778,
             "#fb9f3a"
            ],
            [
             0.8888888888888888,
             "#fdca26"
            ],
            [
             1.0,
             "#f0f921"
            ]
           ],
           "sequentialminus": [
            [
             0.0,
             "#0d0887"
            ],
            [
             0.1111111111111111,
             "#46039f"
            ],
            [
             0.2222222222222222,
             "#7201a8"
            ],
            [
             0.3333333333333333,
             "#9c179e"
            ],
            [
             0.4444444444444444,
             "#bd3786"
            ],
            [
             0.5555555555555556,
             "#d8576b"
            ],
            [
             0.6666666666666666,
             "#ed7953"
            ],
            [
             0.7777777777777778,
             "#fb9f3a"
            ],
            [
             0.8888888888888888,
             "#fdca26"
            ],
            [
             1.0,
             "#f0f921"
            ]
           ],
           "diverging": [
            [
             0,
             "#8e0152"
            ],
            [
             0.1,
             "#c51b7d"
            ],
            [
             0.2,
             "#de77ae"
            ],
            [
             0.3,
             "#f1b6da"
            ],
            [
             0.4,
             "#fde0ef"
            ],
            [
             0.5,
             "#f7f7f7"
            ],
            [
             0.6,
             "#e6f5d0"
            ],
            [
             0.7,
             "#b8e186"
            ],
            [
             0.8,
             "#7fbc41"
            ],
            [
             0.9,
             "#4d9221"
            ],
            [
             1,
             "#276419"
            ]
           ]
          },
          "xaxis": {
           "gridcolor": "#283442",
           "linecolor": "#506784",
           "ticks": "",
           "title": {
            "standoff": 15
           },
           "zerolinecolor": "#283442",
           "automargin": true,
           "zerolinewidth": 2
          },
          "yaxis": {
           "gridcolor": "#283442",
           "linecolor": "#506784",
           "ticks": "",
           "title": {
            "standoff": 15
           },
           "zerolinecolor": "#283442",
           "automargin": true,
           "zerolinewidth": 2
          },
          "scene": {
           "xaxis": {
            "backgroundcolor": "rgb(17,17,17)",
            "gridcolor": "#506784",
            "linecolor": "#506784",
            "showbackground": true,
            "ticks": "",
            "zerolinecolor": "#C8D4E3",
            "gridwidth": 2
           },
           "yaxis": {
            "backgroundcolor": "rgb(17,17,17)",
            "gridcolor": "#506784",
            "linecolor": "#506784",
            "showbackground": true,
            "ticks": "",
            "zerolinecolor": "#C8D4E3",
            "gridwidth": 2
           },
           "zaxis": {
            "backgroundcolor": "rgb(17,17,17)",
            "gridcolor": "#506784",
            "linecolor": "#506784",
            "showbackground": true,
            "ticks": "",
            "zerolinecolor": "#C8D4E3",
            "gridwidth": 2
           }
          },
          "shapedefaults": {
           "line": {
            "color": "#f2f5fa"
           }
          },
          "annotationdefaults": {
           "arrowcolor": "#f2f5fa",
           "arrowhead": 0,
           "arrowwidth": 1
          },
          "geo": {
           "bgcolor": "rgb(17,17,17)",
           "landcolor": "rgb(17,17,17)",
           "subunitcolor": "#506784",
           "showland": true,
           "showlakes": true,
           "lakecolor": "rgb(17,17,17)"
          },
          "title": {
           "x": 0.05
          },
          "updatemenudefaults": {
           "bgcolor": "#506784",
           "borderwidth": 0
          },
          "sliderdefaults": {
           "bgcolor": "#C8D4E3",
           "borderwidth": 1,
           "bordercolor": "rgb(17,17,17)",
           "tickwidth": 0
          },
          "mapbox": {
           "style": "dark"
          }
         }
        },
        "margin": {
         "l": 65,
         "r": 50,
         "b": 65,
         "t": 90
        },
        "title": {
         "text": "Hyperparameter tuning"
        },
        "autosize": false,
        "width": 500,
        "height": 500
       },
       "config": {
        "plotlyServerURL": "https://plot.ly"
       }
      },
      "text/html": "<div>                            <div id=\"d2f871ea-8b2b-4175-9dbe-35c7232cb797\" class=\"plotly-graph-div\" style=\"height:500px; width:500px;\"></div>            <script type=\"text/javascript\">                require([\"plotly\"], function(Plotly) {                    window.PLOTLYENV=window.PLOTLYENV || {};                                    if (document.getElementById(\"d2f871ea-8b2b-4175-9dbe-35c7232cb797\")) {                    Plotly.newPlot(                        \"d2f871ea-8b2b-4175-9dbe-35c7232cb797\",                        [{\"x\":[10,20,30,40,50,60,70,80,90,100,110,120,130,140,150,160,170,180,190,200,210,220,230,240,250,260,270,280,290,300,310,320,330,340,350,360,370,380,390,400,410,420,430,440,450,460,470,480,490],\"y\":[1,2,3,4,5,6],\"z\":[[0.8373047450633658,0.8518936044798113,0.8527556734453288,0.8561818449749483,0.8638667845564397,0.8552903035661658,0.8587533156498675,0.8553124078986147,0.8536251105216623,0.8536030061892133,0.8604553492484527,0.8561597406424994,0.857029177718833,0.8536030061892133,0.855312407898615,0.8552976716769821,0.8578765104627175,0.855312407898615,0.8544503389330977,0.8570291777188329,0.8535956380783969,0.8570218096080167,0.8553050397877986,0.8561671087533158,0.8604479811376364,0.858723843206602,0.8544503389330977,0.8570070733863838,0.8570218096080167,0.858745947539051,0.855312407898615,0.8553124078986147,0.8578838785735339,0.8544577070439141,0.8578765104627175,0.8544577070439141,0.8595859121721192,0.8544577070439141,0.8595932802829355,0.8561671087533158,0.855312407898615,0.8578765104627175,0.8578691423519011,0.8578765104627175,0.8553050397877986,0.8587312113174184,0.8544503389330977,0.8544503389330977,0.8553050397877986],[0.8467285587975242,0.8621647509578544,0.8604553492484527,0.8544356027114649,0.8578838785735338,0.8621352785145889,0.8561597406424994,0.8604185086943709,0.8612953138815209,0.8578544061302683,0.8612805776598881,0.8612953138815209,0.8604332449160037,0.8638520483348071,0.8638520483348071,0.8595859121721192,0.8621426466254054,0.8604258768051872,0.856152372531683,0.8587164750957855,0.8638594164456235,0.8612879457707046,0.8647141173003243,0.8604332449160037,0.8612953138815209,0.8621426466254054,0.8595859121721192,0.8638594164456235,0.8595711759504864,0.8630047155909226,0.8612658414382552,0.8629899793692898,0.8595859121721192,0.8612953138815209,0.8621426466254054,0.8621500147362218,0.8638594164456235,0.8612879457707046,0.8630047155909226,0.8604332449160037,0.8630047155909226,0.8569997052755675,0.8612879457707046,0.8595785440613029,0.8638667845564397,0.8630047155909226,0.864706749189508,0.8629973474801063,0.858723843206602],[0.8493147656940762,0.8527262010020632,0.8544208664898321,0.8655614500442088,0.8612732095490717,0.8569849690539346,0.8587091069849692,0.8595785440613029,0.8621500147362218,0.8612879457707046,0.8587312113174181,0.8604406130268201,0.8612805776598881,0.8578544061302683,0.8595711759504864,0.8578691423519011,0.8604185086943709,0.8604185086943709,0.8621279104037726,0.8578617742410847,0.8638299440023578,0.8578544061302683,0.85956380783967,0.8595711759504864,0.8612805776598881,0.8595564397288535,0.8578765104627173,0.85956380783967,0.8621500147362215,0.8604111405835544,0.8612953138815209,0.8647141173003243,0.8604332449160037,0.8621352785145889,0.8612732095490717,0.8604185086943709,0.8638520483348071,0.8604258768051872,0.8638446802239906,0.8629973474801063,0.8612732095490717,0.8621352785145889,0.8535735337459476,0.8595711759504864,0.8629973474801063,0.8629973474801063,0.8621352785145889,0.8612805776598881,0.8621352785145889],[0.8450265251989391,0.8561450044208666,0.8552681992337166,0.8535735337459476,0.853580901856764,0.8612805776598881,0.8552976716769821,0.8604258768051872,0.8535735337459476,0.8586943707633363,0.8612805776598881,0.8561376363100501,0.85956380783967,0.8604258768051872,0.8638520483348069,0.8612879457707046,0.8612732095490717,0.8587091069849692,0.8604185086943709,0.8595711759504864,0.8621352785145889,0.8612658414382552,0.8595711759504864,0.8587164750957855,0.8595711759504864,0.8578544061302683,0.8604258768051872,0.8621352785145889,0.8629973474801063,0.8647141173003243,0.8587091069849692,0.8621426466254054,0.8604111405835544,0.8604185086943709,0.8595711759504864,0.8612879457707046,0.8604258768051872,0.8612805776598881,0.8612953138815209,0.8595564397288535,0.85956380783967,0.8569997052755675,0.85956380783967,0.8612805776598881,0.856992337164751,0.8595711759504864,0.8587017388741527,0.8621279104037726,0.8612805776598881],[0.8501473622163278,0.8510167992926615,0.851009431181845,0.8544134983790157,0.8518567639257295,0.8518567639257295,0.8587091069849692,0.856152372531683,0.8552829354553493,0.8527262010020632,0.8569997052755675,0.8544356027114649,0.8535735337459476,0.85956380783967,0.8587017388741527,0.8587164750957855,0.8518641320365459,0.8569997052755675,0.8629826112584734,0.8587017388741527,0.8621352785145889,0.8621205422929561,0.85956380783967,0.8595564397288535,0.8612805776598881,0.860403772472738,0.8561376363100501,0.8561229000884174,0.8552829354553493,0.8578470380194518,0.8552903035661658,0.8578396699086355,0.8612658414382552,0.8587091069849692,0.8552829354553493,0.8535587975243148,0.8604185086943709,0.8578396699086355,0.8604258768051872,0.8612732095490717,0.8586943707633363,0.856992337164751,0.8578470380194518,0.8578544061302683,0.8604185086943709,0.856992337164751,0.8578470380194518,0.8578544061302683,0.85956380783967],[0.8372973769525494,0.8518567639257295,0.8475979958738581,0.8467285587975244,0.8535661656351312,0.8510020630710287,0.8535735337459476,0.8570070733863838,0.8484453286177425,0.856152372531683,0.8544134983790157,0.8578544061302683,0.8595711759504864,0.8552755673445329,0.8587017388741527,0.8578470380194518,0.8569997052755675,0.8535735337459476,0.8586943707633363,0.8552903035661658,0.8544208664898321,0.8569997052755675,0.8552829354553493,0.8561376363100501,0.8544134983790157,0.8552755673445329,0.8561302681992338,0.8578544061302683,0.8552681992337166,0.8578470380194518,0.856992337164751,0.8578544061302683,0.8569776009431183,0.8544134983790157,0.8544134983790157,0.8561450044208666,0.8552755673445329,0.852704096669614,0.8552755673445329,0.8544208664898321,0.8587017388741527,0.8552829354553493,0.8569849690539346,0.856992337164751,0.8569997052755675,0.8561302681992338,0.8561376363100501,0.8578544061302683,0.8552681992337166]],\"type\":\"contour\"}],                        {\"xaxis\":{\"title\":{\"text\":\"n_estimators\"}},\"yaxis\":{\"title\":{\"text\":\"max_features\"}},\"template\":{\"data\":{\"histogram2dcontour\":[{\"type\":\"histogram2dcontour\",\"colorbar\":{\"outlinewidth\":0,\"ticks\":\"\"},\"colorscale\":[[0.0,\"#0d0887\"],[0.1111111111111111,\"#46039f\"],[0.2222222222222222,\"#7201a8\"],[0.3333333333333333,\"#9c179e\"],[0.4444444444444444,\"#bd3786\"],[0.5555555555555556,\"#d8576b\"],[0.6666666666666666,\"#ed7953\"],[0.7777777777777778,\"#fb9f3a\"],[0.8888888888888888,\"#fdca26\"],[1.0,\"#f0f921\"]]}],\"choropleth\":[{\"type\":\"choropleth\",\"colorbar\":{\"outlinewidth\":0,\"ticks\":\"\"}}],\"histogram2d\":[{\"type\":\"histogram2d\",\"colorbar\":{\"outlinewidth\":0,\"ticks\":\"\"},\"colorscale\":[[0.0,\"#0d0887\"],[0.1111111111111111,\"#46039f\"],[0.2222222222222222,\"#7201a8\"],[0.3333333333333333,\"#9c179e\"],[0.4444444444444444,\"#bd3786\"],[0.5555555555555556,\"#d8576b\"],[0.6666666666666666,\"#ed7953\"],[0.7777777777777778,\"#fb9f3a\"],[0.8888888888888888,\"#fdca26\"],[1.0,\"#f0f921\"]]}],\"heatmap\":[{\"type\":\"heatmap\",\"colorbar\":{\"outlinewidth\":0,\"ticks\":\"\"},\"colorscale\":[[0.0,\"#0d0887\"],[0.1111111111111111,\"#46039f\"],[0.2222222222222222,\"#7201a8\"],[0.3333333333333333,\"#9c179e\"],[0.4444444444444444,\"#bd3786\"],[0.5555555555555556,\"#d8576b\"],[0.6666666666666666,\"#ed7953\"],[0.7777777777777778,\"#fb9f3a\"],[0.8888888888888888,\"#fdca26\"],[1.0,\"#f0f921\"]]}],\"heatmapgl\":[{\"type\":\"heatmapgl\",\"colorbar\":{\"outlinewidth\":0,\"ticks\":\"\"},\"colorscale\":[[0.0,\"#0d0887\"],[0.1111111111111111,\"#46039f\"],[0.2222222222222222,\"#7201a8\"],[0.3333333333333333,\"#9c179e\"],[0.4444444444444444,\"#bd3786\"],[0.5555555555555556,\"#d8576b\"],[0.6666666666666666,\"#ed7953\"],[0.7777777777777778,\"#fb9f3a\"],[0.8888888888888888,\"#fdca26\"],[1.0,\"#f0f921\"]]}],\"contourcarpet\":[{\"type\":\"contourcarpet\",\"colorbar\":{\"outlinewidth\":0,\"ticks\":\"\"}}],\"contour\":[{\"type\":\"contour\",\"colorbar\":{\"outlinewidth\":0,\"ticks\":\"\"},\"colorscale\":[[0.0,\"#0d0887\"],[0.1111111111111111,\"#46039f\"],[0.2222222222222222,\"#7201a8\"],[0.3333333333333333,\"#9c179e\"],[0.4444444444444444,\"#bd3786\"],[0.5555555555555556,\"#d8576b\"],[0.6666666666666666,\"#ed7953\"],[0.7777777777777778,\"#fb9f3a\"],[0.8888888888888888,\"#fdca26\"],[1.0,\"#f0f921\"]]}],\"surface\":[{\"type\":\"surface\",\"colorbar\":{\"outlinewidth\":0,\"ticks\":\"\"},\"colorscale\":[[0.0,\"#0d0887\"],[0.1111111111111111,\"#46039f\"],[0.2222222222222222,\"#7201a8\"],[0.3333333333333333,\"#9c179e\"],[0.4444444444444444,\"#bd3786\"],[0.5555555555555556,\"#d8576b\"],[0.6666666666666666,\"#ed7953\"],[0.7777777777777778,\"#fb9f3a\"],[0.8888888888888888,\"#fdca26\"],[1.0,\"#f0f921\"]]}],\"mesh3d\":[{\"type\":\"mesh3d\",\"colorbar\":{\"outlinewidth\":0,\"ticks\":\"\"}}],\"scatter\":[{\"marker\":{\"line\":{\"color\":\"#283442\"}},\"type\":\"scatter\"}],\"parcoords\":[{\"type\":\"parcoords\",\"line\":{\"colorbar\":{\"outlinewidth\":0,\"ticks\":\"\"}}}],\"scatterpolargl\":[{\"type\":\"scatterpolargl\",\"marker\":{\"colorbar\":{\"outlinewidth\":0,\"ticks\":\"\"}}}],\"bar\":[{\"error_x\":{\"color\":\"#f2f5fa\"},\"error_y\":{\"color\":\"#f2f5fa\"},\"marker\":{\"line\":{\"color\":\"rgb(17,17,17)\",\"width\":0.5},\"pattern\":{\"fillmode\":\"overlay\",\"size\":10,\"solidity\":0.2}},\"type\":\"bar\"}],\"scattergeo\":[{\"type\":\"scattergeo\",\"marker\":{\"colorbar\":{\"outlinewidth\":0,\"ticks\":\"\"}}}],\"scatterpolar\":[{\"type\":\"scatterpolar\",\"marker\":{\"colorbar\":{\"outlinewidth\":0,\"ticks\":\"\"}}}],\"histogram\":[{\"marker\":{\"pattern\":{\"fillmode\":\"overlay\",\"size\":10,\"solidity\":0.2}},\"type\":\"histogram\"}],\"scattergl\":[{\"marker\":{\"line\":{\"color\":\"#283442\"}},\"type\":\"scattergl\"}],\"scatter3d\":[{\"type\":\"scatter3d\",\"line\":{\"colorbar\":{\"outlinewidth\":0,\"ticks\":\"\"}},\"marker\":{\"colorbar\":{\"outlinewidth\":0,\"ticks\":\"\"}}}],\"scattermapbox\":[{\"type\":\"scattermapbox\",\"marker\":{\"colorbar\":{\"outlinewidth\":0,\"ticks\":\"\"}}}],\"scatterternary\":[{\"type\":\"scatterternary\",\"marker\":{\"colorbar\":{\"outlinewidth\":0,\"ticks\":\"\"}}}],\"scattercarpet\":[{\"type\":\"scattercarpet\",\"marker\":{\"colorbar\":{\"outlinewidth\":0,\"ticks\":\"\"}}}],\"carpet\":[{\"aaxis\":{\"endlinecolor\":\"#A2B1C6\",\"gridcolor\":\"#506784\",\"linecolor\":\"#506784\",\"minorgridcolor\":\"#506784\",\"startlinecolor\":\"#A2B1C6\"},\"baxis\":{\"endlinecolor\":\"#A2B1C6\",\"gridcolor\":\"#506784\",\"linecolor\":\"#506784\",\"minorgridcolor\":\"#506784\",\"startlinecolor\":\"#A2B1C6\"},\"type\":\"carpet\"}],\"table\":[{\"cells\":{\"fill\":{\"color\":\"#506784\"},\"line\":{\"color\":\"rgb(17,17,17)\"}},\"header\":{\"fill\":{\"color\":\"#2a3f5f\"},\"line\":{\"color\":\"rgb(17,17,17)\"}},\"type\":\"table\"}],\"barpolar\":[{\"marker\":{\"line\":{\"color\":\"rgb(17,17,17)\",\"width\":0.5},\"pattern\":{\"fillmode\":\"overlay\",\"size\":10,\"solidity\":0.2}},\"type\":\"barpolar\"}],\"pie\":[{\"automargin\":true,\"type\":\"pie\"}]},\"layout\":{\"autotypenumbers\":\"strict\",\"colorway\":[\"#636efa\",\"#EF553B\",\"#00cc96\",\"#ab63fa\",\"#FFA15A\",\"#19d3f3\",\"#FF6692\",\"#B6E880\",\"#FF97FF\",\"#FECB52\"],\"font\":{\"color\":\"#f2f5fa\"},\"hovermode\":\"closest\",\"hoverlabel\":{\"align\":\"left\"},\"paper_bgcolor\":\"rgb(17,17,17)\",\"plot_bgcolor\":\"rgb(17,17,17)\",\"polar\":{\"bgcolor\":\"rgb(17,17,17)\",\"angularaxis\":{\"gridcolor\":\"#506784\",\"linecolor\":\"#506784\",\"ticks\":\"\"},\"radialaxis\":{\"gridcolor\":\"#506784\",\"linecolor\":\"#506784\",\"ticks\":\"\"}},\"ternary\":{\"bgcolor\":\"rgb(17,17,17)\",\"aaxis\":{\"gridcolor\":\"#506784\",\"linecolor\":\"#506784\",\"ticks\":\"\"},\"baxis\":{\"gridcolor\":\"#506784\",\"linecolor\":\"#506784\",\"ticks\":\"\"},\"caxis\":{\"gridcolor\":\"#506784\",\"linecolor\":\"#506784\",\"ticks\":\"\"}},\"coloraxis\":{\"colorbar\":{\"outlinewidth\":0,\"ticks\":\"\"}},\"colorscale\":{\"sequential\":[[0.0,\"#0d0887\"],[0.1111111111111111,\"#46039f\"],[0.2222222222222222,\"#7201a8\"],[0.3333333333333333,\"#9c179e\"],[0.4444444444444444,\"#bd3786\"],[0.5555555555555556,\"#d8576b\"],[0.6666666666666666,\"#ed7953\"],[0.7777777777777778,\"#fb9f3a\"],[0.8888888888888888,\"#fdca26\"],[1.0,\"#f0f921\"]],\"sequentialminus\":[[0.0,\"#0d0887\"],[0.1111111111111111,\"#46039f\"],[0.2222222222222222,\"#7201a8\"],[0.3333333333333333,\"#9c179e\"],[0.4444444444444444,\"#bd3786\"],[0.5555555555555556,\"#d8576b\"],[0.6666666666666666,\"#ed7953\"],[0.7777777777777778,\"#fb9f3a\"],[0.8888888888888888,\"#fdca26\"],[1.0,\"#f0f921\"]],\"diverging\":[[0,\"#8e0152\"],[0.1,\"#c51b7d\"],[0.2,\"#de77ae\"],[0.3,\"#f1b6da\"],[0.4,\"#fde0ef\"],[0.5,\"#f7f7f7\"],[0.6,\"#e6f5d0\"],[0.7,\"#b8e186\"],[0.8,\"#7fbc41\"],[0.9,\"#4d9221\"],[1,\"#276419\"]]},\"xaxis\":{\"gridcolor\":\"#283442\",\"linecolor\":\"#506784\",\"ticks\":\"\",\"title\":{\"standoff\":15},\"zerolinecolor\":\"#283442\",\"automargin\":true,\"zerolinewidth\":2},\"yaxis\":{\"gridcolor\":\"#283442\",\"linecolor\":\"#506784\",\"ticks\":\"\",\"title\":{\"standoff\":15},\"zerolinecolor\":\"#283442\",\"automargin\":true,\"zerolinewidth\":2},\"scene\":{\"xaxis\":{\"backgroundcolor\":\"rgb(17,17,17)\",\"gridcolor\":\"#506784\",\"linecolor\":\"#506784\",\"showbackground\":true,\"ticks\":\"\",\"zerolinecolor\":\"#C8D4E3\",\"gridwidth\":2},\"yaxis\":{\"backgroundcolor\":\"rgb(17,17,17)\",\"gridcolor\":\"#506784\",\"linecolor\":\"#506784\",\"showbackground\":true,\"ticks\":\"\",\"zerolinecolor\":\"#C8D4E3\",\"gridwidth\":2},\"zaxis\":{\"backgroundcolor\":\"rgb(17,17,17)\",\"gridcolor\":\"#506784\",\"linecolor\":\"#506784\",\"showbackground\":true,\"ticks\":\"\",\"zerolinecolor\":\"#C8D4E3\",\"gridwidth\":2}},\"shapedefaults\":{\"line\":{\"color\":\"#f2f5fa\"}},\"annotationdefaults\":{\"arrowcolor\":\"#f2f5fa\",\"arrowhead\":0,\"arrowwidth\":1},\"geo\":{\"bgcolor\":\"rgb(17,17,17)\",\"landcolor\":\"rgb(17,17,17)\",\"subunitcolor\":\"#506784\",\"showland\":true,\"showlakes\":true,\"lakecolor\":\"rgb(17,17,17)\"},\"title\":{\"x\":0.05},\"updatemenudefaults\":{\"bgcolor\":\"#506784\",\"borderwidth\":0},\"sliderdefaults\":{\"bgcolor\":\"#C8D4E3\",\"borderwidth\":1,\"bordercolor\":\"rgb(17,17,17)\",\"tickwidth\":0},\"mapbox\":{\"style\":\"dark\"}}},\"margin\":{\"l\":65,\"r\":50,\"b\":65,\"t\":90},\"title\":{\"text\":\"Hyperparameter tuning\"},\"autosize\":false,\"width\":500,\"height\":500},                        {\"responsive\": true}                    ).then(function(){\n                            \nvar gd = document.getElementById('d2f871ea-8b2b-4175-9dbe-35c7232cb797');\nvar x = new MutationObserver(function (mutations, observer) {{\n        var display = window.getComputedStyle(gd).display;\n        if (!display || display === 'none') {{\n            console.log([gd, 'removed!']);\n            Plotly.purge(gd);\n            observer.disconnect();\n        }}\n}});\n\n// Listen for the removal of the full notebook cells\nvar notebookContainer = gd.closest('#notebook-container');\nif (notebookContainer) {{\n    x.observe(notebookContainer, {childList: true});\n}}\n\n// Listen for the clearing of the current output cell\nvar outputEl = gd.closest('.output');\nif (outputEl) {{\n    x.observe(outputEl, {childList: true});\n}}\n\n                        })                };                });            </script>        </div>"
     },
     "metadata": {},
     "output_type": "display_data"
    }
   ],
   "source": [
    "import plotly.graph_objects as go\n",
    "\n",
    "# X and Y axes labels\n",
    "layout = go.Layout(\n",
    "            xaxis=go.layout.XAxis(\n",
    "              title=go.layout.xaxis.Title(\n",
    "              text='n_estimators')\n",
    "             ),\n",
    "             yaxis=go.layout.YAxis(\n",
    "              title=go.layout.yaxis.Title(\n",
    "              text='max_features')\n",
    "            ) )\n",
    "\n",
    "fig = go.Figure(data = [go.Contour(z=z, x=x, y=y)], layout=layout )\n",
    "\n",
    "fig.update_layout(title='Hyperparameter tuning', autosize=False,\n",
    "                  width=500, height=500,\n",
    "                  margin=dict(l=65, r=50, b=65, t=90))\n",
    "\n",
    "fig.show()\n",
    "\n",
    "# Create images folder\n",
    "if not os.path.exists('images'):\n",
    "    os.makedirs('images')\n",
    "\n",
    "# Save the plot\n",
    "fig.write_image('images/plotly/contour_plot.png')"
   ],
   "metadata": {
    "collapsed": false,
    "ExecuteTime": {
     "end_time": "2023-06-03T12:42:13.753963Z",
     "start_time": "2023-06-03T12:42:13.744916Z"
    }
   }
  },
  {
   "cell_type": "markdown",
   "source": [
    "The best parameters are visualized in the plots brightest yellow spots."
   ],
   "metadata": {
    "collapsed": false
   }
  },
  {
   "cell_type": "code",
   "execution_count": 140,
   "outputs": [
    {
     "data": {
      "application/vnd.plotly.v1+json": {
       "data": [
        {
         "x": [
          10,
          20,
          30,
          40,
          50,
          60,
          70,
          80,
          90,
          100,
          110,
          120,
          130,
          140,
          150,
          160,
          170,
          180,
          190,
          200,
          210,
          220,
          230,
          240,
          250,
          260,
          270,
          280,
          290,
          300,
          310,
          320,
          330,
          340,
          350,
          360,
          370,
          380,
          390,
          400,
          410,
          420,
          430,
          440,
          450,
          460,
          470,
          480,
          490
         ],
         "y": [
          1,
          2,
          3,
          4,
          5,
          6
         ],
         "z": [
          [
           0.8373047450633658,
           0.8518936044798113,
           0.8527556734453288,
           0.8561818449749483,
           0.8638667845564397,
           0.8552903035661658,
           0.8587533156498675,
           0.8553124078986147,
           0.8536251105216623,
           0.8536030061892133,
           0.8604553492484527,
           0.8561597406424994,
           0.857029177718833,
           0.8536030061892133,
           0.855312407898615,
           0.8552976716769821,
           0.8578765104627175,
           0.855312407898615,
           0.8544503389330977,
           0.8570291777188329,
           0.8535956380783969,
           0.8570218096080167,
           0.8553050397877986,
           0.8561671087533158,
           0.8604479811376364,
           0.858723843206602,
           0.8544503389330977,
           0.8570070733863838,
           0.8570218096080167,
           0.858745947539051,
           0.855312407898615,
           0.8553124078986147,
           0.8578838785735339,
           0.8544577070439141,
           0.8578765104627175,
           0.8544577070439141,
           0.8595859121721192,
           0.8544577070439141,
           0.8595932802829355,
           0.8561671087533158,
           0.855312407898615,
           0.8578765104627175,
           0.8578691423519011,
           0.8578765104627175,
           0.8553050397877986,
           0.8587312113174184,
           0.8544503389330977,
           0.8544503389330977,
           0.8553050397877986
          ],
          [
           0.8467285587975242,
           0.8621647509578544,
           0.8604553492484527,
           0.8544356027114649,
           0.8578838785735338,
           0.8621352785145889,
           0.8561597406424994,
           0.8604185086943709,
           0.8612953138815209,
           0.8578544061302683,
           0.8612805776598881,
           0.8612953138815209,
           0.8604332449160037,
           0.8638520483348071,
           0.8638520483348071,
           0.8595859121721192,
           0.8621426466254054,
           0.8604258768051872,
           0.856152372531683,
           0.8587164750957855,
           0.8638594164456235,
           0.8612879457707046,
           0.8647141173003243,
           0.8604332449160037,
           0.8612953138815209,
           0.8621426466254054,
           0.8595859121721192,
           0.8638594164456235,
           0.8595711759504864,
           0.8630047155909226,
           0.8612658414382552,
           0.8629899793692898,
           0.8595859121721192,
           0.8612953138815209,
           0.8621426466254054,
           0.8621500147362218,
           0.8638594164456235,
           0.8612879457707046,
           0.8630047155909226,
           0.8604332449160037,
           0.8630047155909226,
           0.8569997052755675,
           0.8612879457707046,
           0.8595785440613029,
           0.8638667845564397,
           0.8630047155909226,
           0.864706749189508,
           0.8629973474801063,
           0.858723843206602
          ],
          [
           0.8493147656940762,
           0.8527262010020632,
           0.8544208664898321,
           0.8655614500442088,
           0.8612732095490717,
           0.8569849690539346,
           0.8587091069849692,
           0.8595785440613029,
           0.8621500147362218,
           0.8612879457707046,
           0.8587312113174181,
           0.8604406130268201,
           0.8612805776598881,
           0.8578544061302683,
           0.8595711759504864,
           0.8578691423519011,
           0.8604185086943709,
           0.8604185086943709,
           0.8621279104037726,
           0.8578617742410847,
           0.8638299440023578,
           0.8578544061302683,
           0.85956380783967,
           0.8595711759504864,
           0.8612805776598881,
           0.8595564397288535,
           0.8578765104627173,
           0.85956380783967,
           0.8621500147362215,
           0.8604111405835544,
           0.8612953138815209,
           0.8647141173003243,
           0.8604332449160037,
           0.8621352785145889,
           0.8612732095490717,
           0.8604185086943709,
           0.8638520483348071,
           0.8604258768051872,
           0.8638446802239906,
           0.8629973474801063,
           0.8612732095490717,
           0.8621352785145889,
           0.8535735337459476,
           0.8595711759504864,
           0.8629973474801063,
           0.8629973474801063,
           0.8621352785145889,
           0.8612805776598881,
           0.8621352785145889
          ],
          [
           0.8450265251989391,
           0.8561450044208666,
           0.8552681992337166,
           0.8535735337459476,
           0.853580901856764,
           0.8612805776598881,
           0.8552976716769821,
           0.8604258768051872,
           0.8535735337459476,
           0.8586943707633363,
           0.8612805776598881,
           0.8561376363100501,
           0.85956380783967,
           0.8604258768051872,
           0.8638520483348069,
           0.8612879457707046,
           0.8612732095490717,
           0.8587091069849692,
           0.8604185086943709,
           0.8595711759504864,
           0.8621352785145889,
           0.8612658414382552,
           0.8595711759504864,
           0.8587164750957855,
           0.8595711759504864,
           0.8578544061302683,
           0.8604258768051872,
           0.8621352785145889,
           0.8629973474801063,
           0.8647141173003243,
           0.8587091069849692,
           0.8621426466254054,
           0.8604111405835544,
           0.8604185086943709,
           0.8595711759504864,
           0.8612879457707046,
           0.8604258768051872,
           0.8612805776598881,
           0.8612953138815209,
           0.8595564397288535,
           0.85956380783967,
           0.8569997052755675,
           0.85956380783967,
           0.8612805776598881,
           0.856992337164751,
           0.8595711759504864,
           0.8587017388741527,
           0.8621279104037726,
           0.8612805776598881
          ],
          [
           0.8501473622163278,
           0.8510167992926615,
           0.851009431181845,
           0.8544134983790157,
           0.8518567639257295,
           0.8518567639257295,
           0.8587091069849692,
           0.856152372531683,
           0.8552829354553493,
           0.8527262010020632,
           0.8569997052755675,
           0.8544356027114649,
           0.8535735337459476,
           0.85956380783967,
           0.8587017388741527,
           0.8587164750957855,
           0.8518641320365459,
           0.8569997052755675,
           0.8629826112584734,
           0.8587017388741527,
           0.8621352785145889,
           0.8621205422929561,
           0.85956380783967,
           0.8595564397288535,
           0.8612805776598881,
           0.860403772472738,
           0.8561376363100501,
           0.8561229000884174,
           0.8552829354553493,
           0.8578470380194518,
           0.8552903035661658,
           0.8578396699086355,
           0.8612658414382552,
           0.8587091069849692,
           0.8552829354553493,
           0.8535587975243148,
           0.8604185086943709,
           0.8578396699086355,
           0.8604258768051872,
           0.8612732095490717,
           0.8586943707633363,
           0.856992337164751,
           0.8578470380194518,
           0.8578544061302683,
           0.8604185086943709,
           0.856992337164751,
           0.8578470380194518,
           0.8578544061302683,
           0.85956380783967
          ],
          [
           0.8372973769525494,
           0.8518567639257295,
           0.8475979958738581,
           0.8467285587975244,
           0.8535661656351312,
           0.8510020630710287,
           0.8535735337459476,
           0.8570070733863838,
           0.8484453286177425,
           0.856152372531683,
           0.8544134983790157,
           0.8578544061302683,
           0.8595711759504864,
           0.8552755673445329,
           0.8587017388741527,
           0.8578470380194518,
           0.8569997052755675,
           0.8535735337459476,
           0.8586943707633363,
           0.8552903035661658,
           0.8544208664898321,
           0.8569997052755675,
           0.8552829354553493,
           0.8561376363100501,
           0.8544134983790157,
           0.8552755673445329,
           0.8561302681992338,
           0.8578544061302683,
           0.8552681992337166,
           0.8578470380194518,
           0.856992337164751,
           0.8578544061302683,
           0.8569776009431183,
           0.8544134983790157,
           0.8544134983790157,
           0.8561450044208666,
           0.8552755673445329,
           0.852704096669614,
           0.8552755673445329,
           0.8544208664898321,
           0.8587017388741527,
           0.8552829354553493,
           0.8569849690539346,
           0.856992337164751,
           0.8569997052755675,
           0.8561302681992338,
           0.8561376363100501,
           0.8578544061302683,
           0.8552681992337166
          ]
         ],
         "type": "surface"
        }
       ],
       "layout": {
        "xaxis": {
         "title": {
          "text": "n_estimators"
         }
        },
        "yaxis": {
         "title": {
          "text": "max_features"
         }
        },
        "template": {
         "data": {
          "histogram2dcontour": [
           {
            "type": "histogram2dcontour",
            "colorbar": {
             "outlinewidth": 0,
             "ticks": ""
            },
            "colorscale": [
             [
              0.0,
              "#0d0887"
             ],
             [
              0.1111111111111111,
              "#46039f"
             ],
             [
              0.2222222222222222,
              "#7201a8"
             ],
             [
              0.3333333333333333,
              "#9c179e"
             ],
             [
              0.4444444444444444,
              "#bd3786"
             ],
             [
              0.5555555555555556,
              "#d8576b"
             ],
             [
              0.6666666666666666,
              "#ed7953"
             ],
             [
              0.7777777777777778,
              "#fb9f3a"
             ],
             [
              0.8888888888888888,
              "#fdca26"
             ],
             [
              1.0,
              "#f0f921"
             ]
            ]
           }
          ],
          "choropleth": [
           {
            "type": "choropleth",
            "colorbar": {
             "outlinewidth": 0,
             "ticks": ""
            }
           }
          ],
          "histogram2d": [
           {
            "type": "histogram2d",
            "colorbar": {
             "outlinewidth": 0,
             "ticks": ""
            },
            "colorscale": [
             [
              0.0,
              "#0d0887"
             ],
             [
              0.1111111111111111,
              "#46039f"
             ],
             [
              0.2222222222222222,
              "#7201a8"
             ],
             [
              0.3333333333333333,
              "#9c179e"
             ],
             [
              0.4444444444444444,
              "#bd3786"
             ],
             [
              0.5555555555555556,
              "#d8576b"
             ],
             [
              0.6666666666666666,
              "#ed7953"
             ],
             [
              0.7777777777777778,
              "#fb9f3a"
             ],
             [
              0.8888888888888888,
              "#fdca26"
             ],
             [
              1.0,
              "#f0f921"
             ]
            ]
           }
          ],
          "heatmap": [
           {
            "type": "heatmap",
            "colorbar": {
             "outlinewidth": 0,
             "ticks": ""
            },
            "colorscale": [
             [
              0.0,
              "#0d0887"
             ],
             [
              0.1111111111111111,
              "#46039f"
             ],
             [
              0.2222222222222222,
              "#7201a8"
             ],
             [
              0.3333333333333333,
              "#9c179e"
             ],
             [
              0.4444444444444444,
              "#bd3786"
             ],
             [
              0.5555555555555556,
              "#d8576b"
             ],
             [
              0.6666666666666666,
              "#ed7953"
             ],
             [
              0.7777777777777778,
              "#fb9f3a"
             ],
             [
              0.8888888888888888,
              "#fdca26"
             ],
             [
              1.0,
              "#f0f921"
             ]
            ]
           }
          ],
          "heatmapgl": [
           {
            "type": "heatmapgl",
            "colorbar": {
             "outlinewidth": 0,
             "ticks": ""
            },
            "colorscale": [
             [
              0.0,
              "#0d0887"
             ],
             [
              0.1111111111111111,
              "#46039f"
             ],
             [
              0.2222222222222222,
              "#7201a8"
             ],
             [
              0.3333333333333333,
              "#9c179e"
             ],
             [
              0.4444444444444444,
              "#bd3786"
             ],
             [
              0.5555555555555556,
              "#d8576b"
             ],
             [
              0.6666666666666666,
              "#ed7953"
             ],
             [
              0.7777777777777778,
              "#fb9f3a"
             ],
             [
              0.8888888888888888,
              "#fdca26"
             ],
             [
              1.0,
              "#f0f921"
             ]
            ]
           }
          ],
          "contourcarpet": [
           {
            "type": "contourcarpet",
            "colorbar": {
             "outlinewidth": 0,
             "ticks": ""
            }
           }
          ],
          "contour": [
           {
            "type": "contour",
            "colorbar": {
             "outlinewidth": 0,
             "ticks": ""
            },
            "colorscale": [
             [
              0.0,
              "#0d0887"
             ],
             [
              0.1111111111111111,
              "#46039f"
             ],
             [
              0.2222222222222222,
              "#7201a8"
             ],
             [
              0.3333333333333333,
              "#9c179e"
             ],
             [
              0.4444444444444444,
              "#bd3786"
             ],
             [
              0.5555555555555556,
              "#d8576b"
             ],
             [
              0.6666666666666666,
              "#ed7953"
             ],
             [
              0.7777777777777778,
              "#fb9f3a"
             ],
             [
              0.8888888888888888,
              "#fdca26"
             ],
             [
              1.0,
              "#f0f921"
             ]
            ]
           }
          ],
          "surface": [
           {
            "type": "surface",
            "colorbar": {
             "outlinewidth": 0,
             "ticks": ""
            },
            "colorscale": [
             [
              0.0,
              "#0d0887"
             ],
             [
              0.1111111111111111,
              "#46039f"
             ],
             [
              0.2222222222222222,
              "#7201a8"
             ],
             [
              0.3333333333333333,
              "#9c179e"
             ],
             [
              0.4444444444444444,
              "#bd3786"
             ],
             [
              0.5555555555555556,
              "#d8576b"
             ],
             [
              0.6666666666666666,
              "#ed7953"
             ],
             [
              0.7777777777777778,
              "#fb9f3a"
             ],
             [
              0.8888888888888888,
              "#fdca26"
             ],
             [
              1.0,
              "#f0f921"
             ]
            ]
           }
          ],
          "mesh3d": [
           {
            "type": "mesh3d",
            "colorbar": {
             "outlinewidth": 0,
             "ticks": ""
            }
           }
          ],
          "scatter": [
           {
            "marker": {
             "line": {
              "color": "#283442"
             }
            },
            "type": "scatter"
           }
          ],
          "parcoords": [
           {
            "type": "parcoords",
            "line": {
             "colorbar": {
              "outlinewidth": 0,
              "ticks": ""
             }
            }
           }
          ],
          "scatterpolargl": [
           {
            "type": "scatterpolargl",
            "marker": {
             "colorbar": {
              "outlinewidth": 0,
              "ticks": ""
             }
            }
           }
          ],
          "bar": [
           {
            "error_x": {
             "color": "#f2f5fa"
            },
            "error_y": {
             "color": "#f2f5fa"
            },
            "marker": {
             "line": {
              "color": "rgb(17,17,17)",
              "width": 0.5
             },
             "pattern": {
              "fillmode": "overlay",
              "size": 10,
              "solidity": 0.2
             }
            },
            "type": "bar"
           }
          ],
          "scattergeo": [
           {
            "type": "scattergeo",
            "marker": {
             "colorbar": {
              "outlinewidth": 0,
              "ticks": ""
             }
            }
           }
          ],
          "scatterpolar": [
           {
            "type": "scatterpolar",
            "marker": {
             "colorbar": {
              "outlinewidth": 0,
              "ticks": ""
             }
            }
           }
          ],
          "histogram": [
           {
            "marker": {
             "pattern": {
              "fillmode": "overlay",
              "size": 10,
              "solidity": 0.2
             }
            },
            "type": "histogram"
           }
          ],
          "scattergl": [
           {
            "marker": {
             "line": {
              "color": "#283442"
             }
            },
            "type": "scattergl"
           }
          ],
          "scatter3d": [
           {
            "type": "scatter3d",
            "line": {
             "colorbar": {
              "outlinewidth": 0,
              "ticks": ""
             }
            },
            "marker": {
             "colorbar": {
              "outlinewidth": 0,
              "ticks": ""
             }
            }
           }
          ],
          "scattermapbox": [
           {
            "type": "scattermapbox",
            "marker": {
             "colorbar": {
              "outlinewidth": 0,
              "ticks": ""
             }
            }
           }
          ],
          "scatterternary": [
           {
            "type": "scatterternary",
            "marker": {
             "colorbar": {
              "outlinewidth": 0,
              "ticks": ""
             }
            }
           }
          ],
          "scattercarpet": [
           {
            "type": "scattercarpet",
            "marker": {
             "colorbar": {
              "outlinewidth": 0,
              "ticks": ""
             }
            }
           }
          ],
          "carpet": [
           {
            "aaxis": {
             "endlinecolor": "#A2B1C6",
             "gridcolor": "#506784",
             "linecolor": "#506784",
             "minorgridcolor": "#506784",
             "startlinecolor": "#A2B1C6"
            },
            "baxis": {
             "endlinecolor": "#A2B1C6",
             "gridcolor": "#506784",
             "linecolor": "#506784",
             "minorgridcolor": "#506784",
             "startlinecolor": "#A2B1C6"
            },
            "type": "carpet"
           }
          ],
          "table": [
           {
            "cells": {
             "fill": {
              "color": "#506784"
             },
             "line": {
              "color": "rgb(17,17,17)"
             }
            },
            "header": {
             "fill": {
              "color": "#2a3f5f"
             },
             "line": {
              "color": "rgb(17,17,17)"
             }
            },
            "type": "table"
           }
          ],
          "barpolar": [
           {
            "marker": {
             "line": {
              "color": "rgb(17,17,17)",
              "width": 0.5
             },
             "pattern": {
              "fillmode": "overlay",
              "size": 10,
              "solidity": 0.2
             }
            },
            "type": "barpolar"
           }
          ],
          "pie": [
           {
            "automargin": true,
            "type": "pie"
           }
          ]
         },
         "layout": {
          "autotypenumbers": "strict",
          "colorway": [
           "#636efa",
           "#EF553B",
           "#00cc96",
           "#ab63fa",
           "#FFA15A",
           "#19d3f3",
           "#FF6692",
           "#B6E880",
           "#FF97FF",
           "#FECB52"
          ],
          "font": {
           "color": "#f2f5fa"
          },
          "hovermode": "closest",
          "hoverlabel": {
           "align": "left"
          },
          "paper_bgcolor": "rgb(17,17,17)",
          "plot_bgcolor": "rgb(17,17,17)",
          "polar": {
           "bgcolor": "rgb(17,17,17)",
           "angularaxis": {
            "gridcolor": "#506784",
            "linecolor": "#506784",
            "ticks": ""
           },
           "radialaxis": {
            "gridcolor": "#506784",
            "linecolor": "#506784",
            "ticks": ""
           }
          },
          "ternary": {
           "bgcolor": "rgb(17,17,17)",
           "aaxis": {
            "gridcolor": "#506784",
            "linecolor": "#506784",
            "ticks": ""
           },
           "baxis": {
            "gridcolor": "#506784",
            "linecolor": "#506784",
            "ticks": ""
           },
           "caxis": {
            "gridcolor": "#506784",
            "linecolor": "#506784",
            "ticks": ""
           }
          },
          "coloraxis": {
           "colorbar": {
            "outlinewidth": 0,
            "ticks": ""
           }
          },
          "colorscale": {
           "sequential": [
            [
             0.0,
             "#0d0887"
            ],
            [
             0.1111111111111111,
             "#46039f"
            ],
            [
             0.2222222222222222,
             "#7201a8"
            ],
            [
             0.3333333333333333,
             "#9c179e"
            ],
            [
             0.4444444444444444,
             "#bd3786"
            ],
            [
             0.5555555555555556,
             "#d8576b"
            ],
            [
             0.6666666666666666,
             "#ed7953"
            ],
            [
             0.7777777777777778,
             "#fb9f3a"
            ],
            [
             0.8888888888888888,
             "#fdca26"
            ],
            [
             1.0,
             "#f0f921"
            ]
           ],
           "sequentialminus": [
            [
             0.0,
             "#0d0887"
            ],
            [
             0.1111111111111111,
             "#46039f"
            ],
            [
             0.2222222222222222,
             "#7201a8"
            ],
            [
             0.3333333333333333,
             "#9c179e"
            ],
            [
             0.4444444444444444,
             "#bd3786"
            ],
            [
             0.5555555555555556,
             "#d8576b"
            ],
            [
             0.6666666666666666,
             "#ed7953"
            ],
            [
             0.7777777777777778,
             "#fb9f3a"
            ],
            [
             0.8888888888888888,
             "#fdca26"
            ],
            [
             1.0,
             "#f0f921"
            ]
           ],
           "diverging": [
            [
             0,
             "#8e0152"
            ],
            [
             0.1,
             "#c51b7d"
            ],
            [
             0.2,
             "#de77ae"
            ],
            [
             0.3,
             "#f1b6da"
            ],
            [
             0.4,
             "#fde0ef"
            ],
            [
             0.5,
             "#f7f7f7"
            ],
            [
             0.6,
             "#e6f5d0"
            ],
            [
             0.7,
             "#b8e186"
            ],
            [
             0.8,
             "#7fbc41"
            ],
            [
             0.9,
             "#4d9221"
            ],
            [
             1,
             "#276419"
            ]
           ]
          },
          "xaxis": {
           "gridcolor": "#283442",
           "linecolor": "#506784",
           "ticks": "",
           "title": {
            "standoff": 15
           },
           "zerolinecolor": "#283442",
           "automargin": true,
           "zerolinewidth": 2
          },
          "yaxis": {
           "gridcolor": "#283442",
           "linecolor": "#506784",
           "ticks": "",
           "title": {
            "standoff": 15
           },
           "zerolinecolor": "#283442",
           "automargin": true,
           "zerolinewidth": 2
          },
          "scene": {
           "xaxis": {
            "backgroundcolor": "rgb(17,17,17)",
            "gridcolor": "#506784",
            "linecolor": "#506784",
            "showbackground": true,
            "ticks": "",
            "zerolinecolor": "#C8D4E3",
            "gridwidth": 2
           },
           "yaxis": {
            "backgroundcolor": "rgb(17,17,17)",
            "gridcolor": "#506784",
            "linecolor": "#506784",
            "showbackground": true,
            "ticks": "",
            "zerolinecolor": "#C8D4E3",
            "gridwidth": 2
           },
           "zaxis": {
            "backgroundcolor": "rgb(17,17,17)",
            "gridcolor": "#506784",
            "linecolor": "#506784",
            "showbackground": true,
            "ticks": "",
            "zerolinecolor": "#C8D4E3",
            "gridwidth": 2
           }
          },
          "shapedefaults": {
           "line": {
            "color": "#f2f5fa"
           }
          },
          "annotationdefaults": {
           "arrowcolor": "#f2f5fa",
           "arrowhead": 0,
           "arrowwidth": 1
          },
          "geo": {
           "bgcolor": "rgb(17,17,17)",
           "landcolor": "rgb(17,17,17)",
           "subunitcolor": "#506784",
           "showland": true,
           "showlakes": true,
           "lakecolor": "rgb(17,17,17)"
          },
          "title": {
           "x": 0.05
          },
          "updatemenudefaults": {
           "bgcolor": "#506784",
           "borderwidth": 0
          },
          "sliderdefaults": {
           "bgcolor": "#C8D4E3",
           "borderwidth": 1,
           "bordercolor": "rgb(17,17,17)",
           "tickwidth": 0
          },
          "mapbox": {
           "style": "dark"
          }
         }
        },
        "margin": {
         "l": 65,
         "r": 50,
         "b": 65,
         "t": 90
        },
        "title": {
         "text": "Hyperparameter tuning"
        },
        "scene": {
         "xaxis": {
          "title": {
           "text": "n_estimators"
          }
         },
         "yaxis": {
          "title": {
           "text": "max_features"
          }
         },
         "zaxis": {
          "title": {
           "text": "Accuracy"
          }
         }
        },
        "autosize": false,
        "width": 800,
        "height": 800
       },
       "config": {
        "plotlyServerURL": "https://plot.ly"
       }
      },
      "text/html": "<div>                            <div id=\"fc3be28f-faa5-4a09-9d9d-bd0c1f112bc0\" class=\"plotly-graph-div\" style=\"height:800px; width:800px;\"></div>            <script type=\"text/javascript\">                require([\"plotly\"], function(Plotly) {                    window.PLOTLYENV=window.PLOTLYENV || {};                                    if (document.getElementById(\"fc3be28f-faa5-4a09-9d9d-bd0c1f112bc0\")) {                    Plotly.newPlot(                        \"fc3be28f-faa5-4a09-9d9d-bd0c1f112bc0\",                        [{\"x\":[10,20,30,40,50,60,70,80,90,100,110,120,130,140,150,160,170,180,190,200,210,220,230,240,250,260,270,280,290,300,310,320,330,340,350,360,370,380,390,400,410,420,430,440,450,460,470,480,490],\"y\":[1,2,3,4,5,6],\"z\":[[0.8373047450633658,0.8518936044798113,0.8527556734453288,0.8561818449749483,0.8638667845564397,0.8552903035661658,0.8587533156498675,0.8553124078986147,0.8536251105216623,0.8536030061892133,0.8604553492484527,0.8561597406424994,0.857029177718833,0.8536030061892133,0.855312407898615,0.8552976716769821,0.8578765104627175,0.855312407898615,0.8544503389330977,0.8570291777188329,0.8535956380783969,0.8570218096080167,0.8553050397877986,0.8561671087533158,0.8604479811376364,0.858723843206602,0.8544503389330977,0.8570070733863838,0.8570218096080167,0.858745947539051,0.855312407898615,0.8553124078986147,0.8578838785735339,0.8544577070439141,0.8578765104627175,0.8544577070439141,0.8595859121721192,0.8544577070439141,0.8595932802829355,0.8561671087533158,0.855312407898615,0.8578765104627175,0.8578691423519011,0.8578765104627175,0.8553050397877986,0.8587312113174184,0.8544503389330977,0.8544503389330977,0.8553050397877986],[0.8467285587975242,0.8621647509578544,0.8604553492484527,0.8544356027114649,0.8578838785735338,0.8621352785145889,0.8561597406424994,0.8604185086943709,0.8612953138815209,0.8578544061302683,0.8612805776598881,0.8612953138815209,0.8604332449160037,0.8638520483348071,0.8638520483348071,0.8595859121721192,0.8621426466254054,0.8604258768051872,0.856152372531683,0.8587164750957855,0.8638594164456235,0.8612879457707046,0.8647141173003243,0.8604332449160037,0.8612953138815209,0.8621426466254054,0.8595859121721192,0.8638594164456235,0.8595711759504864,0.8630047155909226,0.8612658414382552,0.8629899793692898,0.8595859121721192,0.8612953138815209,0.8621426466254054,0.8621500147362218,0.8638594164456235,0.8612879457707046,0.8630047155909226,0.8604332449160037,0.8630047155909226,0.8569997052755675,0.8612879457707046,0.8595785440613029,0.8638667845564397,0.8630047155909226,0.864706749189508,0.8629973474801063,0.858723843206602],[0.8493147656940762,0.8527262010020632,0.8544208664898321,0.8655614500442088,0.8612732095490717,0.8569849690539346,0.8587091069849692,0.8595785440613029,0.8621500147362218,0.8612879457707046,0.8587312113174181,0.8604406130268201,0.8612805776598881,0.8578544061302683,0.8595711759504864,0.8578691423519011,0.8604185086943709,0.8604185086943709,0.8621279104037726,0.8578617742410847,0.8638299440023578,0.8578544061302683,0.85956380783967,0.8595711759504864,0.8612805776598881,0.8595564397288535,0.8578765104627173,0.85956380783967,0.8621500147362215,0.8604111405835544,0.8612953138815209,0.8647141173003243,0.8604332449160037,0.8621352785145889,0.8612732095490717,0.8604185086943709,0.8638520483348071,0.8604258768051872,0.8638446802239906,0.8629973474801063,0.8612732095490717,0.8621352785145889,0.8535735337459476,0.8595711759504864,0.8629973474801063,0.8629973474801063,0.8621352785145889,0.8612805776598881,0.8621352785145889],[0.8450265251989391,0.8561450044208666,0.8552681992337166,0.8535735337459476,0.853580901856764,0.8612805776598881,0.8552976716769821,0.8604258768051872,0.8535735337459476,0.8586943707633363,0.8612805776598881,0.8561376363100501,0.85956380783967,0.8604258768051872,0.8638520483348069,0.8612879457707046,0.8612732095490717,0.8587091069849692,0.8604185086943709,0.8595711759504864,0.8621352785145889,0.8612658414382552,0.8595711759504864,0.8587164750957855,0.8595711759504864,0.8578544061302683,0.8604258768051872,0.8621352785145889,0.8629973474801063,0.8647141173003243,0.8587091069849692,0.8621426466254054,0.8604111405835544,0.8604185086943709,0.8595711759504864,0.8612879457707046,0.8604258768051872,0.8612805776598881,0.8612953138815209,0.8595564397288535,0.85956380783967,0.8569997052755675,0.85956380783967,0.8612805776598881,0.856992337164751,0.8595711759504864,0.8587017388741527,0.8621279104037726,0.8612805776598881],[0.8501473622163278,0.8510167992926615,0.851009431181845,0.8544134983790157,0.8518567639257295,0.8518567639257295,0.8587091069849692,0.856152372531683,0.8552829354553493,0.8527262010020632,0.8569997052755675,0.8544356027114649,0.8535735337459476,0.85956380783967,0.8587017388741527,0.8587164750957855,0.8518641320365459,0.8569997052755675,0.8629826112584734,0.8587017388741527,0.8621352785145889,0.8621205422929561,0.85956380783967,0.8595564397288535,0.8612805776598881,0.860403772472738,0.8561376363100501,0.8561229000884174,0.8552829354553493,0.8578470380194518,0.8552903035661658,0.8578396699086355,0.8612658414382552,0.8587091069849692,0.8552829354553493,0.8535587975243148,0.8604185086943709,0.8578396699086355,0.8604258768051872,0.8612732095490717,0.8586943707633363,0.856992337164751,0.8578470380194518,0.8578544061302683,0.8604185086943709,0.856992337164751,0.8578470380194518,0.8578544061302683,0.85956380783967],[0.8372973769525494,0.8518567639257295,0.8475979958738581,0.8467285587975244,0.8535661656351312,0.8510020630710287,0.8535735337459476,0.8570070733863838,0.8484453286177425,0.856152372531683,0.8544134983790157,0.8578544061302683,0.8595711759504864,0.8552755673445329,0.8587017388741527,0.8578470380194518,0.8569997052755675,0.8535735337459476,0.8586943707633363,0.8552903035661658,0.8544208664898321,0.8569997052755675,0.8552829354553493,0.8561376363100501,0.8544134983790157,0.8552755673445329,0.8561302681992338,0.8578544061302683,0.8552681992337166,0.8578470380194518,0.856992337164751,0.8578544061302683,0.8569776009431183,0.8544134983790157,0.8544134983790157,0.8561450044208666,0.8552755673445329,0.852704096669614,0.8552755673445329,0.8544208664898321,0.8587017388741527,0.8552829354553493,0.8569849690539346,0.856992337164751,0.8569997052755675,0.8561302681992338,0.8561376363100501,0.8578544061302683,0.8552681992337166]],\"type\":\"surface\"}],                        {\"xaxis\":{\"title\":{\"text\":\"n_estimators\"}},\"yaxis\":{\"title\":{\"text\":\"max_features\"}},\"template\":{\"data\":{\"histogram2dcontour\":[{\"type\":\"histogram2dcontour\",\"colorbar\":{\"outlinewidth\":0,\"ticks\":\"\"},\"colorscale\":[[0.0,\"#0d0887\"],[0.1111111111111111,\"#46039f\"],[0.2222222222222222,\"#7201a8\"],[0.3333333333333333,\"#9c179e\"],[0.4444444444444444,\"#bd3786\"],[0.5555555555555556,\"#d8576b\"],[0.6666666666666666,\"#ed7953\"],[0.7777777777777778,\"#fb9f3a\"],[0.8888888888888888,\"#fdca26\"],[1.0,\"#f0f921\"]]}],\"choropleth\":[{\"type\":\"choropleth\",\"colorbar\":{\"outlinewidth\":0,\"ticks\":\"\"}}],\"histogram2d\":[{\"type\":\"histogram2d\",\"colorbar\":{\"outlinewidth\":0,\"ticks\":\"\"},\"colorscale\":[[0.0,\"#0d0887\"],[0.1111111111111111,\"#46039f\"],[0.2222222222222222,\"#7201a8\"],[0.3333333333333333,\"#9c179e\"],[0.4444444444444444,\"#bd3786\"],[0.5555555555555556,\"#d8576b\"],[0.6666666666666666,\"#ed7953\"],[0.7777777777777778,\"#fb9f3a\"],[0.8888888888888888,\"#fdca26\"],[1.0,\"#f0f921\"]]}],\"heatmap\":[{\"type\":\"heatmap\",\"colorbar\":{\"outlinewidth\":0,\"ticks\":\"\"},\"colorscale\":[[0.0,\"#0d0887\"],[0.1111111111111111,\"#46039f\"],[0.2222222222222222,\"#7201a8\"],[0.3333333333333333,\"#9c179e\"],[0.4444444444444444,\"#bd3786\"],[0.5555555555555556,\"#d8576b\"],[0.6666666666666666,\"#ed7953\"],[0.7777777777777778,\"#fb9f3a\"],[0.8888888888888888,\"#fdca26\"],[1.0,\"#f0f921\"]]}],\"heatmapgl\":[{\"type\":\"heatmapgl\",\"colorbar\":{\"outlinewidth\":0,\"ticks\":\"\"},\"colorscale\":[[0.0,\"#0d0887\"],[0.1111111111111111,\"#46039f\"],[0.2222222222222222,\"#7201a8\"],[0.3333333333333333,\"#9c179e\"],[0.4444444444444444,\"#bd3786\"],[0.5555555555555556,\"#d8576b\"],[0.6666666666666666,\"#ed7953\"],[0.7777777777777778,\"#fb9f3a\"],[0.8888888888888888,\"#fdca26\"],[1.0,\"#f0f921\"]]}],\"contourcarpet\":[{\"type\":\"contourcarpet\",\"colorbar\":{\"outlinewidth\":0,\"ticks\":\"\"}}],\"contour\":[{\"type\":\"contour\",\"colorbar\":{\"outlinewidth\":0,\"ticks\":\"\"},\"colorscale\":[[0.0,\"#0d0887\"],[0.1111111111111111,\"#46039f\"],[0.2222222222222222,\"#7201a8\"],[0.3333333333333333,\"#9c179e\"],[0.4444444444444444,\"#bd3786\"],[0.5555555555555556,\"#d8576b\"],[0.6666666666666666,\"#ed7953\"],[0.7777777777777778,\"#fb9f3a\"],[0.8888888888888888,\"#fdca26\"],[1.0,\"#f0f921\"]]}],\"surface\":[{\"type\":\"surface\",\"colorbar\":{\"outlinewidth\":0,\"ticks\":\"\"},\"colorscale\":[[0.0,\"#0d0887\"],[0.1111111111111111,\"#46039f\"],[0.2222222222222222,\"#7201a8\"],[0.3333333333333333,\"#9c179e\"],[0.4444444444444444,\"#bd3786\"],[0.5555555555555556,\"#d8576b\"],[0.6666666666666666,\"#ed7953\"],[0.7777777777777778,\"#fb9f3a\"],[0.8888888888888888,\"#fdca26\"],[1.0,\"#f0f921\"]]}],\"mesh3d\":[{\"type\":\"mesh3d\",\"colorbar\":{\"outlinewidth\":0,\"ticks\":\"\"}}],\"scatter\":[{\"marker\":{\"line\":{\"color\":\"#283442\"}},\"type\":\"scatter\"}],\"parcoords\":[{\"type\":\"parcoords\",\"line\":{\"colorbar\":{\"outlinewidth\":0,\"ticks\":\"\"}}}],\"scatterpolargl\":[{\"type\":\"scatterpolargl\",\"marker\":{\"colorbar\":{\"outlinewidth\":0,\"ticks\":\"\"}}}],\"bar\":[{\"error_x\":{\"color\":\"#f2f5fa\"},\"error_y\":{\"color\":\"#f2f5fa\"},\"marker\":{\"line\":{\"color\":\"rgb(17,17,17)\",\"width\":0.5},\"pattern\":{\"fillmode\":\"overlay\",\"size\":10,\"solidity\":0.2}},\"type\":\"bar\"}],\"scattergeo\":[{\"type\":\"scattergeo\",\"marker\":{\"colorbar\":{\"outlinewidth\":0,\"ticks\":\"\"}}}],\"scatterpolar\":[{\"type\":\"scatterpolar\",\"marker\":{\"colorbar\":{\"outlinewidth\":0,\"ticks\":\"\"}}}],\"histogram\":[{\"marker\":{\"pattern\":{\"fillmode\":\"overlay\",\"size\":10,\"solidity\":0.2}},\"type\":\"histogram\"}],\"scattergl\":[{\"marker\":{\"line\":{\"color\":\"#283442\"}},\"type\":\"scattergl\"}],\"scatter3d\":[{\"type\":\"scatter3d\",\"line\":{\"colorbar\":{\"outlinewidth\":0,\"ticks\":\"\"}},\"marker\":{\"colorbar\":{\"outlinewidth\":0,\"ticks\":\"\"}}}],\"scattermapbox\":[{\"type\":\"scattermapbox\",\"marker\":{\"colorbar\":{\"outlinewidth\":0,\"ticks\":\"\"}}}],\"scatterternary\":[{\"type\":\"scatterternary\",\"marker\":{\"colorbar\":{\"outlinewidth\":0,\"ticks\":\"\"}}}],\"scattercarpet\":[{\"type\":\"scattercarpet\",\"marker\":{\"colorbar\":{\"outlinewidth\":0,\"ticks\":\"\"}}}],\"carpet\":[{\"aaxis\":{\"endlinecolor\":\"#A2B1C6\",\"gridcolor\":\"#506784\",\"linecolor\":\"#506784\",\"minorgridcolor\":\"#506784\",\"startlinecolor\":\"#A2B1C6\"},\"baxis\":{\"endlinecolor\":\"#A2B1C6\",\"gridcolor\":\"#506784\",\"linecolor\":\"#506784\",\"minorgridcolor\":\"#506784\",\"startlinecolor\":\"#A2B1C6\"},\"type\":\"carpet\"}],\"table\":[{\"cells\":{\"fill\":{\"color\":\"#506784\"},\"line\":{\"color\":\"rgb(17,17,17)\"}},\"header\":{\"fill\":{\"color\":\"#2a3f5f\"},\"line\":{\"color\":\"rgb(17,17,17)\"}},\"type\":\"table\"}],\"barpolar\":[{\"marker\":{\"line\":{\"color\":\"rgb(17,17,17)\",\"width\":0.5},\"pattern\":{\"fillmode\":\"overlay\",\"size\":10,\"solidity\":0.2}},\"type\":\"barpolar\"}],\"pie\":[{\"automargin\":true,\"type\":\"pie\"}]},\"layout\":{\"autotypenumbers\":\"strict\",\"colorway\":[\"#636efa\",\"#EF553B\",\"#00cc96\",\"#ab63fa\",\"#FFA15A\",\"#19d3f3\",\"#FF6692\",\"#B6E880\",\"#FF97FF\",\"#FECB52\"],\"font\":{\"color\":\"#f2f5fa\"},\"hovermode\":\"closest\",\"hoverlabel\":{\"align\":\"left\"},\"paper_bgcolor\":\"rgb(17,17,17)\",\"plot_bgcolor\":\"rgb(17,17,17)\",\"polar\":{\"bgcolor\":\"rgb(17,17,17)\",\"angularaxis\":{\"gridcolor\":\"#506784\",\"linecolor\":\"#506784\",\"ticks\":\"\"},\"radialaxis\":{\"gridcolor\":\"#506784\",\"linecolor\":\"#506784\",\"ticks\":\"\"}},\"ternary\":{\"bgcolor\":\"rgb(17,17,17)\",\"aaxis\":{\"gridcolor\":\"#506784\",\"linecolor\":\"#506784\",\"ticks\":\"\"},\"baxis\":{\"gridcolor\":\"#506784\",\"linecolor\":\"#506784\",\"ticks\":\"\"},\"caxis\":{\"gridcolor\":\"#506784\",\"linecolor\":\"#506784\",\"ticks\":\"\"}},\"coloraxis\":{\"colorbar\":{\"outlinewidth\":0,\"ticks\":\"\"}},\"colorscale\":{\"sequential\":[[0.0,\"#0d0887\"],[0.1111111111111111,\"#46039f\"],[0.2222222222222222,\"#7201a8\"],[0.3333333333333333,\"#9c179e\"],[0.4444444444444444,\"#bd3786\"],[0.5555555555555556,\"#d8576b\"],[0.6666666666666666,\"#ed7953\"],[0.7777777777777778,\"#fb9f3a\"],[0.8888888888888888,\"#fdca26\"],[1.0,\"#f0f921\"]],\"sequentialminus\":[[0.0,\"#0d0887\"],[0.1111111111111111,\"#46039f\"],[0.2222222222222222,\"#7201a8\"],[0.3333333333333333,\"#9c179e\"],[0.4444444444444444,\"#bd3786\"],[0.5555555555555556,\"#d8576b\"],[0.6666666666666666,\"#ed7953\"],[0.7777777777777778,\"#fb9f3a\"],[0.8888888888888888,\"#fdca26\"],[1.0,\"#f0f921\"]],\"diverging\":[[0,\"#8e0152\"],[0.1,\"#c51b7d\"],[0.2,\"#de77ae\"],[0.3,\"#f1b6da\"],[0.4,\"#fde0ef\"],[0.5,\"#f7f7f7\"],[0.6,\"#e6f5d0\"],[0.7,\"#b8e186\"],[0.8,\"#7fbc41\"],[0.9,\"#4d9221\"],[1,\"#276419\"]]},\"xaxis\":{\"gridcolor\":\"#283442\",\"linecolor\":\"#506784\",\"ticks\":\"\",\"title\":{\"standoff\":15},\"zerolinecolor\":\"#283442\",\"automargin\":true,\"zerolinewidth\":2},\"yaxis\":{\"gridcolor\":\"#283442\",\"linecolor\":\"#506784\",\"ticks\":\"\",\"title\":{\"standoff\":15},\"zerolinecolor\":\"#283442\",\"automargin\":true,\"zerolinewidth\":2},\"scene\":{\"xaxis\":{\"backgroundcolor\":\"rgb(17,17,17)\",\"gridcolor\":\"#506784\",\"linecolor\":\"#506784\",\"showbackground\":true,\"ticks\":\"\",\"zerolinecolor\":\"#C8D4E3\",\"gridwidth\":2},\"yaxis\":{\"backgroundcolor\":\"rgb(17,17,17)\",\"gridcolor\":\"#506784\",\"linecolor\":\"#506784\",\"showbackground\":true,\"ticks\":\"\",\"zerolinecolor\":\"#C8D4E3\",\"gridwidth\":2},\"zaxis\":{\"backgroundcolor\":\"rgb(17,17,17)\",\"gridcolor\":\"#506784\",\"linecolor\":\"#506784\",\"showbackground\":true,\"ticks\":\"\",\"zerolinecolor\":\"#C8D4E3\",\"gridwidth\":2}},\"shapedefaults\":{\"line\":{\"color\":\"#f2f5fa\"}},\"annotationdefaults\":{\"arrowcolor\":\"#f2f5fa\",\"arrowhead\":0,\"arrowwidth\":1},\"geo\":{\"bgcolor\":\"rgb(17,17,17)\",\"landcolor\":\"rgb(17,17,17)\",\"subunitcolor\":\"#506784\",\"showland\":true,\"showlakes\":true,\"lakecolor\":\"rgb(17,17,17)\"},\"title\":{\"x\":0.05},\"updatemenudefaults\":{\"bgcolor\":\"#506784\",\"borderwidth\":0},\"sliderdefaults\":{\"bgcolor\":\"#C8D4E3\",\"borderwidth\":1,\"bordercolor\":\"rgb(17,17,17)\",\"tickwidth\":0},\"mapbox\":{\"style\":\"dark\"}}},\"margin\":{\"l\":65,\"r\":50,\"b\":65,\"t\":90},\"title\":{\"text\":\"Hyperparameter tuning\"},\"scene\":{\"xaxis\":{\"title\":{\"text\":\"n_estimators\"}},\"yaxis\":{\"title\":{\"text\":\"max_features\"}},\"zaxis\":{\"title\":{\"text\":\"Accuracy\"}}},\"autosize\":false,\"width\":800,\"height\":800},                        {\"responsive\": true}                    ).then(function(){\n                            \nvar gd = document.getElementById('fc3be28f-faa5-4a09-9d9d-bd0c1f112bc0');\nvar x = new MutationObserver(function (mutations, observer) {{\n        var display = window.getComputedStyle(gd).display;\n        if (!display || display === 'none') {{\n            console.log([gd, 'removed!']);\n            Plotly.purge(gd);\n            observer.disconnect();\n        }}\n}});\n\n// Listen for the removal of the full notebook cells\nvar notebookContainer = gd.closest('#notebook-container');\nif (notebookContainer) {{\n    x.observe(notebookContainer, {childList: true});\n}}\n\n// Listen for the clearing of the current output cell\nvar outputEl = gd.closest('.output');\nif (outputEl) {{\n    x.observe(outputEl, {childList: true});\n}}\n\n                        })                };                });            </script>        </div>"
     },
     "metadata": {},
     "output_type": "display_data"
    }
   ],
   "source": [
    "import plotly.graph_objects as go\n",
    "\n",
    "\n",
    "fig = go.Figure(data= [go.Surface(z=z, y=y, x=x)], layout=layout )\n",
    "fig.update_layout(title='Hyperparameter tuning',\n",
    "                  scene = dict(\n",
    "                    xaxis_title='n_estimators',\n",
    "                    yaxis_title='max_features',\n",
    "                    zaxis_title='Accuracy'),\n",
    "                  autosize=False,\n",
    "                  width=800, height=800,\n",
    "                  margin=dict(l=65, r=50, b=65, t=90))\n",
    "fig.show()"
   ],
   "metadata": {
    "collapsed": false,
    "ExecuteTime": {
     "end_time": "2023-06-03T16:09:48.013306Z",
     "start_time": "2023-06-03T16:09:48.007664Z"
    }
   }
  },
  {
   "cell_type": "markdown",
   "source": [
    "We will use a modell with 40 estimators and 3 max features, due to the peak in the accuracy score."
   ],
   "metadata": {
    "collapsed": false
   }
  },
  {
   "cell_type": "markdown",
   "source": [
    "## 8. Saving the best model\n",
    "We save the model and deliver a ready data science solution to your weather prediction."
   ],
   "metadata": {
    "collapsed": false
   }
  },
  {
   "cell_type": "code",
   "execution_count": 115,
   "outputs": [
    {
     "data": {
      "text/plain": "RandomForestClassifier(max_features=3, n_estimators=40)",
      "text/html": "<style>#sk-container-id-4 {color: black;background-color: white;}#sk-container-id-4 pre{padding: 0;}#sk-container-id-4 div.sk-toggleable {background-color: white;}#sk-container-id-4 label.sk-toggleable__label {cursor: pointer;display: block;width: 100%;margin-bottom: 0;padding: 0.3em;box-sizing: border-box;text-align: center;}#sk-container-id-4 label.sk-toggleable__label-arrow:before {content: \"▸\";float: left;margin-right: 0.25em;color: #696969;}#sk-container-id-4 label.sk-toggleable__label-arrow:hover:before {color: black;}#sk-container-id-4 div.sk-estimator:hover label.sk-toggleable__label-arrow:before {color: black;}#sk-container-id-4 div.sk-toggleable__content {max-height: 0;max-width: 0;overflow: hidden;text-align: left;background-color: #f0f8ff;}#sk-container-id-4 div.sk-toggleable__content pre {margin: 0.2em;color: black;border-radius: 0.25em;background-color: #f0f8ff;}#sk-container-id-4 input.sk-toggleable__control:checked~div.sk-toggleable__content {max-height: 200px;max-width: 100%;overflow: auto;}#sk-container-id-4 input.sk-toggleable__control:checked~label.sk-toggleable__label-arrow:before {content: \"▾\";}#sk-container-id-4 div.sk-estimator input.sk-toggleable__control:checked~label.sk-toggleable__label {background-color: #d4ebff;}#sk-container-id-4 div.sk-label input.sk-toggleable__control:checked~label.sk-toggleable__label {background-color: #d4ebff;}#sk-container-id-4 input.sk-hidden--visually {border: 0;clip: rect(1px 1px 1px 1px);clip: rect(1px, 1px, 1px, 1px);height: 1px;margin: -1px;overflow: hidden;padding: 0;position: absolute;width: 1px;}#sk-container-id-4 div.sk-estimator {font-family: monospace;background-color: #f0f8ff;border: 1px dotted black;border-radius: 0.25em;box-sizing: border-box;margin-bottom: 0.5em;}#sk-container-id-4 div.sk-estimator:hover {background-color: #d4ebff;}#sk-container-id-4 div.sk-parallel-item::after {content: \"\";width: 100%;border-bottom: 1px solid gray;flex-grow: 1;}#sk-container-id-4 div.sk-label:hover label.sk-toggleable__label {background-color: #d4ebff;}#sk-container-id-4 div.sk-serial::before {content: \"\";position: absolute;border-left: 1px solid gray;box-sizing: border-box;top: 0;bottom: 0;left: 50%;z-index: 0;}#sk-container-id-4 div.sk-serial {display: flex;flex-direction: column;align-items: center;background-color: white;padding-right: 0.2em;padding-left: 0.2em;position: relative;}#sk-container-id-4 div.sk-item {position: relative;z-index: 1;}#sk-container-id-4 div.sk-parallel {display: flex;align-items: stretch;justify-content: center;background-color: white;position: relative;}#sk-container-id-4 div.sk-item::before, #sk-container-id-4 div.sk-parallel-item::before {content: \"\";position: absolute;border-left: 1px solid gray;box-sizing: border-box;top: 0;bottom: 0;left: 50%;z-index: -1;}#sk-container-id-4 div.sk-parallel-item {display: flex;flex-direction: column;z-index: 1;position: relative;background-color: white;}#sk-container-id-4 div.sk-parallel-item:first-child::after {align-self: flex-end;width: 50%;}#sk-container-id-4 div.sk-parallel-item:last-child::after {align-self: flex-start;width: 50%;}#sk-container-id-4 div.sk-parallel-item:only-child::after {width: 0;}#sk-container-id-4 div.sk-dashed-wrapped {border: 1px dashed gray;margin: 0 0.4em 0.5em 0.4em;box-sizing: border-box;padding-bottom: 0.4em;background-color: white;}#sk-container-id-4 div.sk-label label {font-family: monospace;font-weight: bold;display: inline-block;line-height: 1.2em;}#sk-container-id-4 div.sk-label-container {text-align: center;}#sk-container-id-4 div.sk-container {/* jupyter's `normalize.less` sets `[hidden] { display: none; }` but bootstrap.min.css set `[hidden] { display: none !important; }` so we also need the `!important` here to be able to override the default hidden behavior on the sphinx rendered scikit-learn.org. See: https://github.com/scikit-learn/scikit-learn/issues/21755 */display: inline-block !important;position: relative;}#sk-container-id-4 div.sk-text-repr-fallback {display: none;}</style><div id=\"sk-container-id-4\" class=\"sk-top-container\"><div class=\"sk-text-repr-fallback\"><pre>RandomForestClassifier(max_features=3, n_estimators=40)</pre><b>In a Jupyter environment, please rerun this cell to show the HTML representation or trust the notebook. <br />On GitHub, the HTML representation is unable to render, please try loading this page with nbviewer.org.</b></div><div class=\"sk-container\" hidden><div class=\"sk-item\"><div class=\"sk-estimator sk-toggleable\"><input class=\"sk-toggleable__control sk-hidden--visually\" id=\"sk-estimator-id-8\" type=\"checkbox\" checked><label for=\"sk-estimator-id-8\" class=\"sk-toggleable__label sk-toggleable__label-arrow\">RandomForestClassifier</label><div class=\"sk-toggleable__content\"><pre>RandomForestClassifier(max_features=3, n_estimators=40)</pre></div></div></div></div></div>"
     },
     "execution_count": 115,
     "metadata": {},
     "output_type": "execute_result"
    }
   ],
   "source": [
    "# Building the model\n",
    "rf_best = RandomForestClassifier(max_features=3, n_estimators=40)\n",
    "rf_best.fit(X_train, Y_train)"
   ],
   "metadata": {
    "collapsed": false,
    "ExecuteTime": {
     "end_time": "2023-06-03T12:43:26.391613Z",
     "start_time": "2023-06-03T12:43:26.332876Z"
    }
   }
  },
  {
   "cell_type": "code",
   "execution_count": 120,
   "outputs": [],
   "source": [
    "# Create directory models if it doesn't exist\n",
    "if not os.path.exists('models'):\n",
    "    os.makedirs('models')"
   ],
   "metadata": {
    "collapsed": false,
    "ExecuteTime": {
     "end_time": "2023-06-03T12:44:18.243974Z",
     "start_time": "2023-06-03T12:44:18.238985Z"
    }
   }
  },
  {
   "cell_type": "code",
   "execution_count": 121,
   "outputs": [],
   "source": [
    "# Saving rf_best\n",
    "pickle.dump(rf_best, open('models/best_model.sav', 'wb'))"
   ],
   "metadata": {
    "collapsed": false,
    "ExecuteTime": {
     "end_time": "2023-06-03T12:44:21.359589Z",
     "start_time": "2023-06-03T12:44:21.349418Z"
    }
   }
  },
  {
   "cell_type": "markdown",
   "source": [
    "## 9. Usage of the .py file for predictions\n",
    "To predict the weather in Seattle for tomorrow using the given .py file, follow these steps:\n",
    "\n",
    "1. Update the data file: Replace the `seattle-weather.csv` file in the `./FinalProject/data/` directory with a new file containing the weather data for Seattle, including tomorrow's date. Make sure the new file has the same format and columns as the original file.\n",
    "\n",
    "2. Run the script: Execute the .py script. This will perform the following actions:\n",
    "   - Import necessary libraries.\n",
    "   - Load the pre-trained model from the `best_model.sav` file.\n",
    "   - Read the updated weather data from the `seattle-weather.csv` file.\n",
    "   - Preprocess the data by transforming the date and scaling the numerical values.\n",
    "   - Predict the weather for each entry in the data using the loaded model.\n",
    "   - Convert the predicted label numbers to label names (e.g., 0 to 'drizzle', 1 to 'rain', etc.).\n",
    "   - Create or connect to an SQLite database named `classification.db`.\n",
    "   - Create a table named `classification` with fields `id`, `class`, and `class_name`.\n",
    "   - Insert the predicted weather data into the `classification` table.\n",
    "   - Save the changes to the database and close the connection.\n",
    "\n",
    "3. Check the prediction: Open the `classification.db` file using an SQLite database viewer, and look for the row with the date corresponding to tomorrow. The `class_name` field in that row will contain the predicted weather for Seattle tomorrow."
   ],
   "metadata": {
    "collapsed": false
   }
  },
  {
   "cell_type": "code",
   "execution_count": null,
   "outputs": [],
   "source": [],
   "metadata": {
    "collapsed": false
   }
  }
 ],
 "metadata": {
  "kernelspec": {
   "display_name": "Python 3",
   "language": "python",
   "name": "python3"
  },
  "language_info": {
   "codemirror_mode": {
    "name": "ipython",
    "version": 3
   },
   "file_extension": ".py",
   "mimetype": "text/x-python",
   "name": "python",
   "nbconvert_exporter": "python",
   "pygments_lexer": "ipython3",
   "version": "3.7.6"
  }
 },
 "nbformat": 4,
 "nbformat_minor": 4
}
