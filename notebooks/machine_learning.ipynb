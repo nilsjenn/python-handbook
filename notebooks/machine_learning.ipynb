{
 "cells": [
  {
   "metadata": {},
   "cell_type": "markdown",
   "source": "[![Open In Colab](https://colab.research.google.com/assets/colab-badge.svg)](https://colab.research.google.com/github/nilsjennissen/python-handbook/blob/main/notebooks/machine_learning.ipynb)",
   "id": "1e30acdd1616509b"
  },
  {
   "metadata": {},
   "cell_type": "markdown",
   "source": "# Machine Learning",
   "id": "dbe3c171c5425829"
  },
  {
   "cell_type": "code",
   "execution_count": null,
   "id": "initial_id",
   "metadata": {
    "collapsed": true
   },
   "outputs": [],
   "source": ""
  },
  {
   "metadata": {},
   "cell_type": "markdown",
   "source": "## Supervised Learning",
   "id": "6285e77bdc0beac"
  },
  {
   "metadata": {},
   "cell_type": "markdown",
   "source": "### Regression Models",
   "id": "66ba92800fb8f851"
  },
  {
   "metadata": {},
   "cell_type": "code",
   "outputs": [],
   "execution_count": null,
   "source": "",
   "id": "d792663ae007e50c"
  },
  {
   "metadata": {},
   "cell_type": "markdown",
   "source": "### Classification Models",
   "id": "535616b31deab0d"
  },
  {
   "metadata": {},
   "cell_type": "code",
   "outputs": [],
   "execution_count": null,
   "source": "",
   "id": "75ffa19ca268c1d"
  },
  {
   "metadata": {},
   "cell_type": "markdown",
   "source": "## Unsupervised Learning",
   "id": "d9ac79029a3e079e"
  },
  {
   "metadata": {},
   "cell_type": "markdown",
   "source": "### Clustering Models",
   "id": "64d5ae9c444a8ad6"
  },
  {
   "metadata": {},
   "cell_type": "code",
   "outputs": [],
   "execution_count": null,
   "source": "",
   "id": "16c460c562565b3c"
  }
 ],
 "metadata": {
  "kernelspec": {
   "display_name": "Python 3",
   "language": "python",
   "name": "python3"
  },
  "language_info": {
   "codemirror_mode": {
    "name": "ipython",
    "version": 2
   },
   "file_extension": ".py",
   "mimetype": "text/x-python",
   "name": "python",
   "nbconvert_exporter": "python",
   "pygments_lexer": "ipython2",
   "version": "2.7.6"
  }
 },
 "nbformat": 4,
 "nbformat_minor": 5
}
