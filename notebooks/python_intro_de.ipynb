{
 "nbformat": 4,
 "nbformat_minor": 0,
 "metadata": {
  "colab": {
   "name": "Workshop",
   "provenance": [],
   "collapsed_sections": [],
   "toc_visible": true,
   "include_colab_link": true
  },
  "kernelspec": {
   "name": "python3",
   "display_name": "Python 3"
  },
  "language_info": {
   "name": "python"
  }
 },
 "cells": [
  {
   "cell_type": "markdown",
   "source": [
    "[![Open In Colab](https://colab.research.google.com/assets/colab-badge.svg)](https://colab.research.google.com/github/nilsjennissen/python-handbook/blob/main/notebooks/jupyter_intro.ipynb)"
   ],
   "metadata": {
    "collapsed": false
   }
  },
  {
   "cell_type": "markdown",
   "metadata": {
    "id": "YuF5DDhrWc-m"
   },
   "source": [
    "# Jupyter Notebook"
   ]
  },
  {
   "cell_type": "markdown",
   "metadata": {
    "id": "28USGfgw4Klv"
   },
   "source": [
    "**Willkommen in deinem Data Science Notebook!**\n",
    "\n",
    "Wir lernen heute gemeinsam, wie wir Python Code schreiben und Inhalte und Informationen aus Daten generieren.\n",
    "\n",
    "Wir schauen uns an\n",
    "  - wie Python Code geschrieben wird\n",
    "  - wie Daten geladen werden \n",
    "  - wie Visualisierungen erstellt werden"
   ]
  },
  {
   "cell_type": "markdown",
   "metadata": {
    "id": "slTmOOJUWkTY"
   },
   "source": [
    "# Python Grundlagen"
   ]
  },
  {
   "cell_type": "markdown",
   "metadata": {
    "id": "1rQoHiLtf0m0"
   },
   "source": [
    "**1. Pakete laden**\n",
    "\n",
    "Als ersten Schritt, laden wir Pakete, in denen Funktionen enthalten sind. Diese Funktionen nutzen wir im Verlauf der Python-Session um unsere Daten in gewünschter Weise anzupassen. \n",
    "\n",
    "Pakete können neben Funktionen auch Daten enthalten."
   ]
  },
  {
   "cell_type": "code",
   "metadata": {
    "id": "jLG2cO0SdrK_"
   },
   "source": [
    "import pandas as pd\n",
    "import matplotlib.pyplot as plt\n",
    "import seaborn as sns\n",
    "\n",
    "%matplotlib inline"
   ],
   "execution_count": null,
   "outputs": []
  },
  {
   "cell_type": "markdown",
   "metadata": {
    "id": "17SrqD5xggOq"
   },
   "source": [
    "**2. Variablen erstellen**\n",
    "\n",
    "Variablen helfen uns unsere Daten zu organisieren, zuzuweisen und mit Ihnen weitere Berechnungen anzustellen.\n",
    "\n",
    "Variablen \n",
    "  - starten mit einem Buchstaben \n",
    "  - können ansonsten auch Ziffern und Unterstriche enthalten \n",
    "  - dürfen keine Leerzeichen enthalten \n",
    "  - werden nach Groß- und Kleinbuchstaben unterschieden\n"
   ]
  },
  {
   "cell_type": "code",
   "metadata": {
    "colab": {
     "base_uri": "https://localhost:8080/"
    },
    "id": "-inZZiPFgQoe",
    "outputId": "d7eacff6-a971-43ea-fb8a-550e7f68ce60"
   },
   "source": [
    "name = \"Richard\"\n",
    "hight = 193\n",
    "weight = 90.5\n",
    "True != False"
   ],
   "execution_count": null,
   "outputs": [
    {
     "output_type": "execute_result",
     "data": {
      "text/plain": [
       "True"
      ]
     },
     "metadata": {},
     "execution_count": 5
    }
   ]
  },
  {
   "cell_type": "code",
   "metadata": {
    "colab": {
     "base_uri": "https://localhost:8080/",
     "height": 164
    },
    "id": "GR5hwc9RAwqJ",
    "outputId": "d15e0b16-84e4-4e7b-e143-7f180a5240c8"
   },
   "source": [
    "Name == name"
   ],
   "execution_count": null,
   "outputs": [
    {
     "output_type": "error",
     "ename": "NameError",
     "evalue": "ignored",
     "traceback": [
      "\u001B[0;31m---------------------------------------------------------------------------\u001B[0m",
      "\u001B[0;31mNameError\u001B[0m                                 Traceback (most recent call last)",
      "\u001B[0;32m<ipython-input-6-e836ec3ea9b9>\u001B[0m in \u001B[0;36m<module>\u001B[0;34m()\u001B[0m\n\u001B[0;32m----> 1\u001B[0;31m \u001B[0mName\u001B[0m \u001B[0;34m==\u001B[0m \u001B[0mname\u001B[0m\u001B[0;34m\u001B[0m\u001B[0;34m\u001B[0m\u001B[0m\n\u001B[0m",
      "\u001B[0;31mNameError\u001B[0m: name 'Name' is not defined"
     ]
    }
   ]
  },
  {
   "cell_type": "markdown",
   "metadata": {
    "id": "hRqoj3nliKq-"
   },
   "source": [
    "**Warnmeldungen**\n",
    "\n",
    "Warnmeldungen zeigen uns den Weg in die Richtige Richtung, auch wenn es häufig nicht so aussieht."
   ]
  },
  {
   "cell_type": "code",
   "metadata": {
    "colab": {
     "base_uri": "https://localhost:8080/",
     "height": 130
    },
    "id": "o5MlcqyYgQ5q",
    "outputId": "e5b73652-3bf7-40cd-9176-8ec52377a6b4"
   },
   "source": [
    "Zweiter Name = \"YourName\""
   ],
   "execution_count": null,
   "outputs": [
    {
     "output_type": "error",
     "ename": "SyntaxError",
     "evalue": "ignored",
     "traceback": [
      "\u001B[0;36m  File \u001B[0;32m\"<ipython-input-7-f7d42f6656fe>\"\u001B[0;36m, line \u001B[0;32m1\u001B[0m\n\u001B[0;31m    Zweiter Name = \"YourName\"\u001B[0m\n\u001B[0m               ^\u001B[0m\n\u001B[0;31mSyntaxError\u001B[0m\u001B[0;31m:\u001B[0m invalid syntax\n"
     ]
    }
   ]
  },
  {
   "cell_type": "markdown",
   "metadata": {
    "id": "vSOjOqqTWq4V"
   },
   "source": [
    "# Data Science Prozess"
   ]
  },
  {
   "cell_type": "markdown",
   "metadata": {
    "id": "zEsAuk5shruS"
   },
   "source": [
    "Als Gedankenstütze für die Bearbeitung des Notebooks dient der CRISP - DM Prozess. In den einzelnen Phasen des Prozesses können die Prozessschritte abgehackt werden.\n",
    "\n",
    "**CRISP - DM Phasen**\n",
    "\n",
    "Business Understanding\n",
    "\n",
    " - Unternehmensziele festhalten\n",
    " - IST Situation erfassen\n",
    " - Ziele für Datengrundlage festlegen\n",
    " - Projektplan vorbereiten\n",
    "\n",
    "Data Understanding\n",
    " - Datensatz beschaffen\n",
    " - Daten beschreiben\n",
    " - Daten erkunden \n",
    " - Datenquaität prüfen \n",
    "\n",
    "Data Preparation\n",
    "- Daten auswählen\n",
    "- Daten bereinigen\n",
    "- Daten anpassen\n",
    "- Daten verbinden\n",
    "- Daten formatieren\n",
    "\n",
    "Modeling \n",
    "- Modelierungen wählen \n",
    "- Testdesign wählen\n",
    "- Modellzusammenstellung\n",
    "- Modellparameter prüfen\n",
    "\n",
    "Evalualtion\n",
    "- Ergebnisse bewerten\n",
    "- Prozess überprüfen \n",
    "- Nächste Schritte ableiten\n",
    "\n",
    "Deployment\n",
    "- Vorstellung/ Produkt planen\n",
    "- Datenüberprüfung\n",
    "- Finalen Bericht erstellen\n",
    "- Erfahrungsbericht"
   ]
  },
  {
   "cell_type": "markdown",
   "metadata": {
    "id": "TEwge4M3mlR_"
   },
   "source": [
    "**3. Daten laden**\n",
    "\n",
    "Zuallererst laden wir einen beliebigen Datensatz aus den \"Vega Datasets\". Dieser Beispieldatensatz ist frei über Google Colaboratory verfügbar und enthält eine Liste an Datensätzen, die in der entsprechenden Github Bibliothek abgerufen werden kann. "
   ]
  },
  {
   "cell_type": "code",
   "metadata": {
    "id": "lM4vb8aujQqr"
   },
   "source": [
    "from vega_datasets import data"
   ],
   "execution_count": null,
   "outputs": []
  },
  {
   "cell_type": "code",
   "metadata": {
    "id": "1_O_xVCjmlfb",
    "colab": {
     "base_uri": "https://localhost:8080/",
     "height": 204
    },
    "outputId": "75ea63e8-4157-4b8b-d320-a02d8d1af70c"
   },
   "source": [
    "cars = data.cars()\n",
    "cars.tail()"
   ],
   "execution_count": null,
   "outputs": [
    {
     "output_type": "execute_result",
     "data": {
      "text/html": [
       "<div>\n",
       "<style scoped>\n",
       "    .dataframe tbody tr th:only-of-type {\n",
       "        vertical-align: middle;\n",
       "    }\n",
       "\n",
       "    .dataframe tbody tr th {\n",
       "        vertical-align: top;\n",
       "    }\n",
       "\n",
       "    .dataframe thead th {\n",
       "        text-align: right;\n",
       "    }\n",
       "</style>\n",
       "<table border=\"1\" class=\"dataframe\">\n",
       "  <thead>\n",
       "    <tr style=\"text-align: right;\">\n",
       "      <th></th>\n",
       "      <th>Name</th>\n",
       "      <th>Miles_per_Gallon</th>\n",
       "      <th>Cylinders</th>\n",
       "      <th>Displacement</th>\n",
       "      <th>Horsepower</th>\n",
       "      <th>Weight_in_lbs</th>\n",
       "      <th>Acceleration</th>\n",
       "      <th>Year</th>\n",
       "      <th>Origin</th>\n",
       "    </tr>\n",
       "  </thead>\n",
       "  <tbody>\n",
       "    <tr>\n",
       "      <th>401</th>\n",
       "      <td>ford mustang gl</td>\n",
       "      <td>27.0</td>\n",
       "      <td>4</td>\n",
       "      <td>140.0</td>\n",
       "      <td>86.0</td>\n",
       "      <td>2790</td>\n",
       "      <td>15.6</td>\n",
       "      <td>1982-01-01</td>\n",
       "      <td>USA</td>\n",
       "    </tr>\n",
       "    <tr>\n",
       "      <th>402</th>\n",
       "      <td>vw pickup</td>\n",
       "      <td>44.0</td>\n",
       "      <td>4</td>\n",
       "      <td>97.0</td>\n",
       "      <td>52.0</td>\n",
       "      <td>2130</td>\n",
       "      <td>24.6</td>\n",
       "      <td>1982-01-01</td>\n",
       "      <td>Europe</td>\n",
       "    </tr>\n",
       "    <tr>\n",
       "      <th>403</th>\n",
       "      <td>dodge rampage</td>\n",
       "      <td>32.0</td>\n",
       "      <td>4</td>\n",
       "      <td>135.0</td>\n",
       "      <td>84.0</td>\n",
       "      <td>2295</td>\n",
       "      <td>11.6</td>\n",
       "      <td>1982-01-01</td>\n",
       "      <td>USA</td>\n",
       "    </tr>\n",
       "    <tr>\n",
       "      <th>404</th>\n",
       "      <td>ford ranger</td>\n",
       "      <td>28.0</td>\n",
       "      <td>4</td>\n",
       "      <td>120.0</td>\n",
       "      <td>79.0</td>\n",
       "      <td>2625</td>\n",
       "      <td>18.6</td>\n",
       "      <td>1982-01-01</td>\n",
       "      <td>USA</td>\n",
       "    </tr>\n",
       "    <tr>\n",
       "      <th>405</th>\n",
       "      <td>chevy s-10</td>\n",
       "      <td>31.0</td>\n",
       "      <td>4</td>\n",
       "      <td>119.0</td>\n",
       "      <td>82.0</td>\n",
       "      <td>2720</td>\n",
       "      <td>19.4</td>\n",
       "      <td>1982-01-01</td>\n",
       "      <td>USA</td>\n",
       "    </tr>\n",
       "  </tbody>\n",
       "</table>\n",
       "</div>"
      ],
      "text/plain": [
       "                Name  Miles_per_Gallon  ...       Year  Origin\n",
       "401  ford mustang gl              27.0  ... 1982-01-01     USA\n",
       "402        vw pickup              44.0  ... 1982-01-01  Europe\n",
       "403    dodge rampage              32.0  ... 1982-01-01     USA\n",
       "404      ford ranger              28.0  ... 1982-01-01     USA\n",
       "405       chevy s-10              31.0  ... 1982-01-01     USA\n",
       "\n",
       "[5 rows x 9 columns]"
      ]
     },
     "metadata": {},
     "execution_count": 23
    }
   ]
  },
  {
   "cell_type": "markdown",
   "metadata": {
    "id": "xTeQb0t0id-K"
   },
   "source": [
    "**4. Funktionen**\n",
    "\n",
    "Funktionen sind eine Aktionen. Wir nehmen einen Input und wenden eine Aktion an. Daraus resultiert ein Output. Wir inspizieren den Output, um zu schauen, ob unsere Aktion funktioniert hat. Als erstes Beispiel nutzen wir eine Funktion \"head()\" um die ersten Zeilen der Tabelle zu zeigen. \n",
    "\n",
    "*Außerdem: info(), shape(), describe()*"
   ]
  },
  {
   "cell_type": "code",
   "metadata": {
    "colab": {
     "base_uri": "https://localhost:8080/",
     "height": 204
    },
    "id": "TtlbhQr-pZy6",
    "outputId": "ad846bdd-1b29-45e9-81fc-ff6c82b3495f"
   },
   "source": [
    "cars.head()\n"
   ],
   "execution_count": null,
   "outputs": [
    {
     "output_type": "execute_result",
     "data": {
      "text/html": [
       "<div>\n",
       "<style scoped>\n",
       "    .dataframe tbody tr th:only-of-type {\n",
       "        vertical-align: middle;\n",
       "    }\n",
       "\n",
       "    .dataframe tbody tr th {\n",
       "        vertical-align: top;\n",
       "    }\n",
       "\n",
       "    .dataframe thead th {\n",
       "        text-align: right;\n",
       "    }\n",
       "</style>\n",
       "<table border=\"1\" class=\"dataframe\">\n",
       "  <thead>\n",
       "    <tr style=\"text-align: right;\">\n",
       "      <th></th>\n",
       "      <th>Name</th>\n",
       "      <th>Miles_per_Gallon</th>\n",
       "      <th>Cylinders</th>\n",
       "      <th>Displacement</th>\n",
       "      <th>Horsepower</th>\n",
       "      <th>Weight_in_lbs</th>\n",
       "      <th>Acceleration</th>\n",
       "      <th>Year</th>\n",
       "      <th>Origin</th>\n",
       "    </tr>\n",
       "  </thead>\n",
       "  <tbody>\n",
       "    <tr>\n",
       "      <th>0</th>\n",
       "      <td>chevrolet chevelle malibu</td>\n",
       "      <td>18.0</td>\n",
       "      <td>8</td>\n",
       "      <td>307.0</td>\n",
       "      <td>130.0</td>\n",
       "      <td>3504</td>\n",
       "      <td>12.0</td>\n",
       "      <td>1970-01-01</td>\n",
       "      <td>USA</td>\n",
       "    </tr>\n",
       "    <tr>\n",
       "      <th>1</th>\n",
       "      <td>buick skylark 320</td>\n",
       "      <td>15.0</td>\n",
       "      <td>8</td>\n",
       "      <td>350.0</td>\n",
       "      <td>165.0</td>\n",
       "      <td>3693</td>\n",
       "      <td>11.5</td>\n",
       "      <td>1970-01-01</td>\n",
       "      <td>USA</td>\n",
       "    </tr>\n",
       "    <tr>\n",
       "      <th>2</th>\n",
       "      <td>plymouth satellite</td>\n",
       "      <td>18.0</td>\n",
       "      <td>8</td>\n",
       "      <td>318.0</td>\n",
       "      <td>150.0</td>\n",
       "      <td>3436</td>\n",
       "      <td>11.0</td>\n",
       "      <td>1970-01-01</td>\n",
       "      <td>USA</td>\n",
       "    </tr>\n",
       "    <tr>\n",
       "      <th>3</th>\n",
       "      <td>amc rebel sst</td>\n",
       "      <td>16.0</td>\n",
       "      <td>8</td>\n",
       "      <td>304.0</td>\n",
       "      <td>150.0</td>\n",
       "      <td>3433</td>\n",
       "      <td>12.0</td>\n",
       "      <td>1970-01-01</td>\n",
       "      <td>USA</td>\n",
       "    </tr>\n",
       "    <tr>\n",
       "      <th>4</th>\n",
       "      <td>ford torino</td>\n",
       "      <td>17.0</td>\n",
       "      <td>8</td>\n",
       "      <td>302.0</td>\n",
       "      <td>140.0</td>\n",
       "      <td>3449</td>\n",
       "      <td>10.5</td>\n",
       "      <td>1970-01-01</td>\n",
       "      <td>USA</td>\n",
       "    </tr>\n",
       "  </tbody>\n",
       "</table>\n",
       "</div>"
      ],
      "text/plain": [
       "                        Name  Miles_per_Gallon  ...       Year  Origin\n",
       "0  chevrolet chevelle malibu              18.0  ... 1970-01-01     USA\n",
       "1          buick skylark 320              15.0  ... 1970-01-01     USA\n",
       "2         plymouth satellite              18.0  ... 1970-01-01     USA\n",
       "3              amc rebel sst              16.0  ... 1970-01-01     USA\n",
       "4                ford torino              17.0  ... 1970-01-01     USA\n",
       "\n",
       "[5 rows x 9 columns]"
      ]
     },
     "metadata": {},
     "execution_count": 24
    }
   ]
  },
  {
   "cell_type": "markdown",
   "metadata": {
    "id": "E0ZmbLci94FP"
   },
   "source": [
    "**5. Daten ansehen**\n",
    "\n",
    "Tabellenspalten rufen wir auf, um mit ihnen Transformationen oder Berechnungen zu erstellen. Es lohnt sich, einen EIndruck von den enthaltenen Daten zu bekommen und in einem ersten Schritt die reinen Daten zu prüfen. Möglicherweise sind fehlende Werte nicht genau definiert oder eine Datenspalte weist viele leere Felder auf.\n",
    "\n",
    "*Außerdem: values, columns, index*"
   ]
  },
  {
   "cell_type": "code",
   "metadata": {
    "colab": {
     "base_uri": "https://localhost:8080/"
    },
    "id": "2dVmYKqgFJRY",
    "outputId": "948d8be9-87ed-4455-ef56-2f00594ae3ef"
   },
   "source": [
    "cars.Horsepower"
   ],
   "execution_count": null,
   "outputs": [
    {
     "output_type": "execute_result",
     "data": {
      "text/plain": [
       "0      130.0\n",
       "1      165.0\n",
       "2      150.0\n",
       "3      150.0\n",
       "4      140.0\n",
       "       ...  \n",
       "401     86.0\n",
       "402     52.0\n",
       "403     84.0\n",
       "404     79.0\n",
       "405     82.0\n",
       "Name: Horsepower, Length: 406, dtype: float64"
      ]
     },
     "metadata": {},
     "execution_count": 25
    }
   ]
  },
  {
   "cell_type": "markdown",
   "metadata": {
    "id": "ybslopVzGwxb"
   },
   "source": [
    "**6. Daten suchen**\n",
    "\n",
    "Wir haben die Möglichkeit, nach bestimmten Werten oder einer bestimmten Gruppe in den Daten zu filtern, hierfür können wir mit verschiedenen Operatoren einen Teil des Datensatzes wiedergeben, der nur die interessierende Eigenschaft besitzt."
   ]
  },
  {
   "cell_type": "code",
   "metadata": {
    "colab": {
     "base_uri": "https://localhost:8080/",
     "height": 419
    },
    "id": "vG48gwkaBDgs",
    "outputId": "854dcd69-4d20-40ff-9cab-349dba516ddd"
   },
   "source": [
    "cars[cars.Cylinders > 4]\n",
    "#cars[cars.Origin == 'USA']"
   ],
   "execution_count": null,
   "outputs": [
    {
     "output_type": "execute_result",
     "data": {
      "text/html": [
       "<div>\n",
       "<style scoped>\n",
       "    .dataframe tbody tr th:only-of-type {\n",
       "        vertical-align: middle;\n",
       "    }\n",
       "\n",
       "    .dataframe tbody tr th {\n",
       "        vertical-align: top;\n",
       "    }\n",
       "\n",
       "    .dataframe thead th {\n",
       "        text-align: right;\n",
       "    }\n",
       "</style>\n",
       "<table border=\"1\" class=\"dataframe\">\n",
       "  <thead>\n",
       "    <tr style=\"text-align: right;\">\n",
       "      <th></th>\n",
       "      <th>Name</th>\n",
       "      <th>Miles_per_Gallon</th>\n",
       "      <th>Cylinders</th>\n",
       "      <th>Displacement</th>\n",
       "      <th>Horsepower</th>\n",
       "      <th>Weight_in_lbs</th>\n",
       "      <th>Acceleration</th>\n",
       "      <th>Year</th>\n",
       "      <th>Origin</th>\n",
       "    </tr>\n",
       "  </thead>\n",
       "  <tbody>\n",
       "    <tr>\n",
       "      <th>0</th>\n",
       "      <td>chevrolet chevelle malibu</td>\n",
       "      <td>18.0</td>\n",
       "      <td>8</td>\n",
       "      <td>307.0</td>\n",
       "      <td>130.0</td>\n",
       "      <td>3504</td>\n",
       "      <td>12.0</td>\n",
       "      <td>1970-01-01</td>\n",
       "      <td>USA</td>\n",
       "    </tr>\n",
       "    <tr>\n",
       "      <th>1</th>\n",
       "      <td>buick skylark 320</td>\n",
       "      <td>15.0</td>\n",
       "      <td>8</td>\n",
       "      <td>350.0</td>\n",
       "      <td>165.0</td>\n",
       "      <td>3693</td>\n",
       "      <td>11.5</td>\n",
       "      <td>1970-01-01</td>\n",
       "      <td>USA</td>\n",
       "    </tr>\n",
       "    <tr>\n",
       "      <th>2</th>\n",
       "      <td>plymouth satellite</td>\n",
       "      <td>18.0</td>\n",
       "      <td>8</td>\n",
       "      <td>318.0</td>\n",
       "      <td>150.0</td>\n",
       "      <td>3436</td>\n",
       "      <td>11.0</td>\n",
       "      <td>1970-01-01</td>\n",
       "      <td>USA</td>\n",
       "    </tr>\n",
       "    <tr>\n",
       "      <th>3</th>\n",
       "      <td>amc rebel sst</td>\n",
       "      <td>16.0</td>\n",
       "      <td>8</td>\n",
       "      <td>304.0</td>\n",
       "      <td>150.0</td>\n",
       "      <td>3433</td>\n",
       "      <td>12.0</td>\n",
       "      <td>1970-01-01</td>\n",
       "      <td>USA</td>\n",
       "    </tr>\n",
       "    <tr>\n",
       "      <th>4</th>\n",
       "      <td>ford torino</td>\n",
       "      <td>17.0</td>\n",
       "      <td>8</td>\n",
       "      <td>302.0</td>\n",
       "      <td>140.0</td>\n",
       "      <td>3449</td>\n",
       "      <td>10.5</td>\n",
       "      <td>1970-01-01</td>\n",
       "      <td>USA</td>\n",
       "    </tr>\n",
       "    <tr>\n",
       "      <th>...</th>\n",
       "      <td>...</td>\n",
       "      <td>...</td>\n",
       "      <td>...</td>\n",
       "      <td>...</td>\n",
       "      <td>...</td>\n",
       "      <td>...</td>\n",
       "      <td>...</td>\n",
       "      <td>...</td>\n",
       "      <td>...</td>\n",
       "    </tr>\n",
       "    <tr>\n",
       "      <th>373</th>\n",
       "      <td>ford granada gl</td>\n",
       "      <td>20.2</td>\n",
       "      <td>6</td>\n",
       "      <td>200.0</td>\n",
       "      <td>88.0</td>\n",
       "      <td>3060</td>\n",
       "      <td>17.1</td>\n",
       "      <td>1982-01-01</td>\n",
       "      <td>USA</td>\n",
       "    </tr>\n",
       "    <tr>\n",
       "      <th>374</th>\n",
       "      <td>chrysler lebaron salon</td>\n",
       "      <td>17.6</td>\n",
       "      <td>6</td>\n",
       "      <td>225.0</td>\n",
       "      <td>85.0</td>\n",
       "      <td>3465</td>\n",
       "      <td>16.6</td>\n",
       "      <td>1982-01-01</td>\n",
       "      <td>USA</td>\n",
       "    </tr>\n",
       "    <tr>\n",
       "      <th>394</th>\n",
       "      <td>buick century limited</td>\n",
       "      <td>25.0</td>\n",
       "      <td>6</td>\n",
       "      <td>181.0</td>\n",
       "      <td>110.0</td>\n",
       "      <td>2945</td>\n",
       "      <td>16.4</td>\n",
       "      <td>1982-01-01</td>\n",
       "      <td>USA</td>\n",
       "    </tr>\n",
       "    <tr>\n",
       "      <th>395</th>\n",
       "      <td>oldsmobile cutlass ciera (diesel)</td>\n",
       "      <td>38.0</td>\n",
       "      <td>6</td>\n",
       "      <td>262.0</td>\n",
       "      <td>85.0</td>\n",
       "      <td>3015</td>\n",
       "      <td>17.0</td>\n",
       "      <td>1982-01-01</td>\n",
       "      <td>USA</td>\n",
       "    </tr>\n",
       "    <tr>\n",
       "      <th>397</th>\n",
       "      <td>ford granada l</td>\n",
       "      <td>22.0</td>\n",
       "      <td>6</td>\n",
       "      <td>232.0</td>\n",
       "      <td>112.0</td>\n",
       "      <td>2835</td>\n",
       "      <td>14.7</td>\n",
       "      <td>1982-01-01</td>\n",
       "      <td>USA</td>\n",
       "    </tr>\n",
       "  </tbody>\n",
       "</table>\n",
       "<p>195 rows × 9 columns</p>\n",
       "</div>"
      ],
      "text/plain": [
       "                                  Name  Miles_per_Gallon  ...       Year  Origin\n",
       "0            chevrolet chevelle malibu              18.0  ... 1970-01-01     USA\n",
       "1                    buick skylark 320              15.0  ... 1970-01-01     USA\n",
       "2                   plymouth satellite              18.0  ... 1970-01-01     USA\n",
       "3                        amc rebel sst              16.0  ... 1970-01-01     USA\n",
       "4                          ford torino              17.0  ... 1970-01-01     USA\n",
       "..                                 ...               ...  ...        ...     ...\n",
       "373                    ford granada gl              20.2  ... 1982-01-01     USA\n",
       "374             chrysler lebaron salon              17.6  ... 1982-01-01     USA\n",
       "394              buick century limited              25.0  ... 1982-01-01     USA\n",
       "395  oldsmobile cutlass ciera (diesel)              38.0  ... 1982-01-01     USA\n",
       "397                     ford granada l              22.0  ... 1982-01-01     USA\n",
       "\n",
       "[195 rows x 9 columns]"
      ]
     },
     "metadata": {},
     "execution_count": 26
    }
   ]
  },
  {
   "cell_type": "markdown",
   "metadata": {
    "id": "By1jFlRrJRZm"
   },
   "source": [
    "**7. Daten auswählen**\n",
    "\n",
    "Mit Textspalten, die viele unterschiedliche Kombinationen enthalten, müssen wir andere Methoden finden, genaue Inhalte zu identifizieren."
   ]
  },
  {
   "cell_type": "code",
   "metadata": {
    "colab": {
     "base_uri": "https://localhost:8080/",
     "height": 80
    },
    "id": "ZvMdLVuvG-Ks",
    "outputId": "514862bf-dd0c-42c3-a787-1db7069b85eb"
   },
   "source": [
    "cars_with_name = cars[\"Name\"].isin([\"volvo diesel\"])\n",
    "cars[cars_with_name]"
   ],
   "execution_count": null,
   "outputs": [
    {
     "output_type": "execute_result",
     "data": {
      "text/html": [
       "<div>\n",
       "<style scoped>\n",
       "    .dataframe tbody tr th:only-of-type {\n",
       "        vertical-align: middle;\n",
       "    }\n",
       "\n",
       "    .dataframe tbody tr th {\n",
       "        vertical-align: top;\n",
       "    }\n",
       "\n",
       "    .dataframe thead th {\n",
       "        text-align: right;\n",
       "    }\n",
       "</style>\n",
       "<table border=\"1\" class=\"dataframe\">\n",
       "  <thead>\n",
       "    <tr style=\"text-align: right;\">\n",
       "      <th></th>\n",
       "      <th>Name</th>\n",
       "      <th>Miles_per_Gallon</th>\n",
       "      <th>Cylinders</th>\n",
       "      <th>Displacement</th>\n",
       "      <th>Horsepower</th>\n",
       "      <th>Weight_in_lbs</th>\n",
       "      <th>Acceleration</th>\n",
       "      <th>Year</th>\n",
       "      <th>Origin</th>\n",
       "    </tr>\n",
       "  </thead>\n",
       "  <tbody>\n",
       "    <tr>\n",
       "      <th>368</th>\n",
       "      <td>volvo diesel</td>\n",
       "      <td>30.7</td>\n",
       "      <td>6</td>\n",
       "      <td>145.0</td>\n",
       "      <td>76.0</td>\n",
       "      <td>3160</td>\n",
       "      <td>19.6</td>\n",
       "      <td>1982-01-01</td>\n",
       "      <td>Europe</td>\n",
       "    </tr>\n",
       "  </tbody>\n",
       "</table>\n",
       "</div>"
      ],
      "text/plain": [
       "             Name  Miles_per_Gallon  Cylinders  ...  Acceleration       Year  Origin\n",
       "368  volvo diesel              30.7          6  ...          19.6 1982-01-01  Europe\n",
       "\n",
       "[1 rows x 9 columns]"
      ]
     },
     "metadata": {},
     "execution_count": 27
    }
   ]
  },
  {
   "cell_type": "markdown",
   "metadata": {
    "id": "5dI5etLyG5R2"
   },
   "source": [
    "**8. Daten anpassen**\n",
    "\n",
    "Wir können daten laden, inspizieren und filtern. Im nächsten Schritt, sortieren wir unseren Datensatz um die Ausprägungen der Variablen zu untersuchen."
   ]
  },
  {
   "cell_type": "code",
   "metadata": {
    "colab": {
     "base_uri": "https://localhost:8080/",
     "height": 204
    },
    "id": "scfeJQmlJUW6",
    "outputId": "b2184356-3c65-41e9-c24c-a706776ef85e"
   },
   "source": [
    "cars_sortiert = cars.sort_values(\"Horsepower\", ascending=False)\n",
    "cars_sortiert.head()"
   ],
   "execution_count": null,
   "outputs": [
    {
     "output_type": "execute_result",
     "data": {
      "text/html": [
       "<div>\n",
       "<style scoped>\n",
       "    .dataframe tbody tr th:only-of-type {\n",
       "        vertical-align: middle;\n",
       "    }\n",
       "\n",
       "    .dataframe tbody tr th {\n",
       "        vertical-align: top;\n",
       "    }\n",
       "\n",
       "    .dataframe thead th {\n",
       "        text-align: right;\n",
       "    }\n",
       "</style>\n",
       "<table border=\"1\" class=\"dataframe\">\n",
       "  <thead>\n",
       "    <tr style=\"text-align: right;\">\n",
       "      <th></th>\n",
       "      <th>Name</th>\n",
       "      <th>Miles_per_Gallon</th>\n",
       "      <th>Cylinders</th>\n",
       "      <th>Displacement</th>\n",
       "      <th>Horsepower</th>\n",
       "      <th>Weight_in_lbs</th>\n",
       "      <th>Acceleration</th>\n",
       "      <th>Year</th>\n",
       "      <th>Origin</th>\n",
       "    </tr>\n",
       "  </thead>\n",
       "  <tbody>\n",
       "    <tr>\n",
       "      <th>123</th>\n",
       "      <td>pontiac grand prix</td>\n",
       "      <td>16.0</td>\n",
       "      <td>8</td>\n",
       "      <td>400.0</td>\n",
       "      <td>230.0</td>\n",
       "      <td>4278</td>\n",
       "      <td>9.5</td>\n",
       "      <td>1973-01-01</td>\n",
       "      <td>USA</td>\n",
       "    </tr>\n",
       "    <tr>\n",
       "      <th>19</th>\n",
       "      <td>buick estate wagon (sw)</td>\n",
       "      <td>14.0</td>\n",
       "      <td>8</td>\n",
       "      <td>455.0</td>\n",
       "      <td>225.0</td>\n",
       "      <td>3086</td>\n",
       "      <td>10.0</td>\n",
       "      <td>1970-01-01</td>\n",
       "      <td>USA</td>\n",
       "    </tr>\n",
       "    <tr>\n",
       "      <th>8</th>\n",
       "      <td>pontiac catalina</td>\n",
       "      <td>14.0</td>\n",
       "      <td>8</td>\n",
       "      <td>455.0</td>\n",
       "      <td>225.0</td>\n",
       "      <td>4425</td>\n",
       "      <td>10.0</td>\n",
       "      <td>1970-01-01</td>\n",
       "      <td>USA</td>\n",
       "    </tr>\n",
       "    <tr>\n",
       "      <th>102</th>\n",
       "      <td>buick electra 225 custom</td>\n",
       "      <td>12.0</td>\n",
       "      <td>8</td>\n",
       "      <td>455.0</td>\n",
       "      <td>225.0</td>\n",
       "      <td>4951</td>\n",
       "      <td>11.0</td>\n",
       "      <td>1973-01-01</td>\n",
       "      <td>USA</td>\n",
       "    </tr>\n",
       "    <tr>\n",
       "      <th>6</th>\n",
       "      <td>chevrolet impala</td>\n",
       "      <td>14.0</td>\n",
       "      <td>8</td>\n",
       "      <td>454.0</td>\n",
       "      <td>220.0</td>\n",
       "      <td>4354</td>\n",
       "      <td>9.0</td>\n",
       "      <td>1970-01-01</td>\n",
       "      <td>USA</td>\n",
       "    </tr>\n",
       "  </tbody>\n",
       "</table>\n",
       "</div>"
      ],
      "text/plain": [
       "                         Name  Miles_per_Gallon  ...       Year  Origin\n",
       "123        pontiac grand prix              16.0  ... 1973-01-01     USA\n",
       "19    buick estate wagon (sw)              14.0  ... 1970-01-01     USA\n",
       "8            pontiac catalina              14.0  ... 1970-01-01     USA\n",
       "102  buick electra 225 custom              12.0  ... 1973-01-01     USA\n",
       "6            chevrolet impala              14.0  ... 1970-01-01     USA\n",
       "\n",
       "[5 rows x 9 columns]"
      ]
     },
     "metadata": {},
     "execution_count": 28
    }
   ]
  },
  {
   "cell_type": "code",
   "metadata": {
    "colab": {
     "base_uri": "https://localhost:8080/",
     "height": 204
    },
    "id": "w36ezvYtJRlm",
    "outputId": "a165d7c7-2117-4f9c-ce22-24781ababbfb"
   },
   "source": [
    "cars_nochmal_sortiert = cars.sort_values([\"Horsepower\", \"Weight_in_lbs\"], ascending=[False, True])\n",
    "cars_nochmal_sortiert.head()"
   ],
   "execution_count": null,
   "outputs": [
    {
     "output_type": "execute_result",
     "data": {
      "text/html": [
       "<div>\n",
       "<style scoped>\n",
       "    .dataframe tbody tr th:only-of-type {\n",
       "        vertical-align: middle;\n",
       "    }\n",
       "\n",
       "    .dataframe tbody tr th {\n",
       "        vertical-align: top;\n",
       "    }\n",
       "\n",
       "    .dataframe thead th {\n",
       "        text-align: right;\n",
       "    }\n",
       "</style>\n",
       "<table border=\"1\" class=\"dataframe\">\n",
       "  <thead>\n",
       "    <tr style=\"text-align: right;\">\n",
       "      <th></th>\n",
       "      <th>Name</th>\n",
       "      <th>Miles_per_Gallon</th>\n",
       "      <th>Cylinders</th>\n",
       "      <th>Displacement</th>\n",
       "      <th>Horsepower</th>\n",
       "      <th>Weight_in_lbs</th>\n",
       "      <th>Acceleration</th>\n",
       "      <th>Year</th>\n",
       "      <th>Origin</th>\n",
       "    </tr>\n",
       "  </thead>\n",
       "  <tbody>\n",
       "    <tr>\n",
       "      <th>123</th>\n",
       "      <td>pontiac grand prix</td>\n",
       "      <td>16.0</td>\n",
       "      <td>8</td>\n",
       "      <td>400.0</td>\n",
       "      <td>230.0</td>\n",
       "      <td>4278</td>\n",
       "      <td>9.5</td>\n",
       "      <td>1973-01-01</td>\n",
       "      <td>USA</td>\n",
       "    </tr>\n",
       "    <tr>\n",
       "      <th>19</th>\n",
       "      <td>buick estate wagon (sw)</td>\n",
       "      <td>14.0</td>\n",
       "      <td>8</td>\n",
       "      <td>455.0</td>\n",
       "      <td>225.0</td>\n",
       "      <td>3086</td>\n",
       "      <td>10.0</td>\n",
       "      <td>1970-01-01</td>\n",
       "      <td>USA</td>\n",
       "    </tr>\n",
       "    <tr>\n",
       "      <th>8</th>\n",
       "      <td>pontiac catalina</td>\n",
       "      <td>14.0</td>\n",
       "      <td>8</td>\n",
       "      <td>455.0</td>\n",
       "      <td>225.0</td>\n",
       "      <td>4425</td>\n",
       "      <td>10.0</td>\n",
       "      <td>1970-01-01</td>\n",
       "      <td>USA</td>\n",
       "    </tr>\n",
       "    <tr>\n",
       "      <th>102</th>\n",
       "      <td>buick electra 225 custom</td>\n",
       "      <td>12.0</td>\n",
       "      <td>8</td>\n",
       "      <td>455.0</td>\n",
       "      <td>225.0</td>\n",
       "      <td>4951</td>\n",
       "      <td>11.0</td>\n",
       "      <td>1973-01-01</td>\n",
       "      <td>USA</td>\n",
       "    </tr>\n",
       "    <tr>\n",
       "      <th>6</th>\n",
       "      <td>chevrolet impala</td>\n",
       "      <td>14.0</td>\n",
       "      <td>8</td>\n",
       "      <td>454.0</td>\n",
       "      <td>220.0</td>\n",
       "      <td>4354</td>\n",
       "      <td>9.0</td>\n",
       "      <td>1970-01-01</td>\n",
       "      <td>USA</td>\n",
       "    </tr>\n",
       "  </tbody>\n",
       "</table>\n",
       "</div>"
      ],
      "text/plain": [
       "                         Name  Miles_per_Gallon  ...       Year  Origin\n",
       "123        pontiac grand prix              16.0  ... 1973-01-01     USA\n",
       "19    buick estate wagon (sw)              14.0  ... 1970-01-01     USA\n",
       "8            pontiac catalina              14.0  ... 1970-01-01     USA\n",
       "102  buick electra 225 custom              12.0  ... 1973-01-01     USA\n",
       "6            chevrolet impala              14.0  ... 1970-01-01     USA\n",
       "\n",
       "[5 rows x 9 columns]"
      ]
     },
     "metadata": {},
     "execution_count": 29
    }
   ]
  },
  {
   "cell_type": "code",
   "metadata": {
    "colab": {
     "base_uri": "https://localhost:8080/",
     "height": 419
    },
    "id": "tUVDx3miLlyc",
    "outputId": "7d83bb77-a420-4007-c9b4-dc52a0035972"
   },
   "source": [
    "is_US = cars[\"Origin\"] == \"USA\"\n",
    "is_8Cylinder = cars[\"Cylinders\"] == 8\n",
    "cars_gefiltert = cars[is_US & is_8Cylinder]\n",
    "cars_gefiltert"
   ],
   "execution_count": null,
   "outputs": [
    {
     "output_type": "execute_result",
     "data": {
      "text/html": [
       "<div>\n",
       "<style scoped>\n",
       "    .dataframe tbody tr th:only-of-type {\n",
       "        vertical-align: middle;\n",
       "    }\n",
       "\n",
       "    .dataframe tbody tr th {\n",
       "        vertical-align: top;\n",
       "    }\n",
       "\n",
       "    .dataframe thead th {\n",
       "        text-align: right;\n",
       "    }\n",
       "</style>\n",
       "<table border=\"1\" class=\"dataframe\">\n",
       "  <thead>\n",
       "    <tr style=\"text-align: right;\">\n",
       "      <th></th>\n",
       "      <th>Name</th>\n",
       "      <th>Miles_per_Gallon</th>\n",
       "      <th>Cylinders</th>\n",
       "      <th>Displacement</th>\n",
       "      <th>Horsepower</th>\n",
       "      <th>Weight_in_lbs</th>\n",
       "      <th>Acceleration</th>\n",
       "      <th>Year</th>\n",
       "      <th>Origin</th>\n",
       "    </tr>\n",
       "  </thead>\n",
       "  <tbody>\n",
       "    <tr>\n",
       "      <th>0</th>\n",
       "      <td>chevrolet chevelle malibu</td>\n",
       "      <td>18.0</td>\n",
       "      <td>8</td>\n",
       "      <td>307.0</td>\n",
       "      <td>130.0</td>\n",
       "      <td>3504</td>\n",
       "      <td>12.0</td>\n",
       "      <td>1970-01-01</td>\n",
       "      <td>USA</td>\n",
       "    </tr>\n",
       "    <tr>\n",
       "      <th>1</th>\n",
       "      <td>buick skylark 320</td>\n",
       "      <td>15.0</td>\n",
       "      <td>8</td>\n",
       "      <td>350.0</td>\n",
       "      <td>165.0</td>\n",
       "      <td>3693</td>\n",
       "      <td>11.5</td>\n",
       "      <td>1970-01-01</td>\n",
       "      <td>USA</td>\n",
       "    </tr>\n",
       "    <tr>\n",
       "      <th>2</th>\n",
       "      <td>plymouth satellite</td>\n",
       "      <td>18.0</td>\n",
       "      <td>8</td>\n",
       "      <td>318.0</td>\n",
       "      <td>150.0</td>\n",
       "      <td>3436</td>\n",
       "      <td>11.0</td>\n",
       "      <td>1970-01-01</td>\n",
       "      <td>USA</td>\n",
       "    </tr>\n",
       "    <tr>\n",
       "      <th>3</th>\n",
       "      <td>amc rebel sst</td>\n",
       "      <td>16.0</td>\n",
       "      <td>8</td>\n",
       "      <td>304.0</td>\n",
       "      <td>150.0</td>\n",
       "      <td>3433</td>\n",
       "      <td>12.0</td>\n",
       "      <td>1970-01-01</td>\n",
       "      <td>USA</td>\n",
       "    </tr>\n",
       "    <tr>\n",
       "      <th>4</th>\n",
       "      <td>ford torino</td>\n",
       "      <td>17.0</td>\n",
       "      <td>8</td>\n",
       "      <td>302.0</td>\n",
       "      <td>140.0</td>\n",
       "      <td>3449</td>\n",
       "      <td>10.5</td>\n",
       "      <td>1970-01-01</td>\n",
       "      <td>USA</td>\n",
       "    </tr>\n",
       "    <tr>\n",
       "      <th>...</th>\n",
       "      <td>...</td>\n",
       "      <td>...</td>\n",
       "      <td>...</td>\n",
       "      <td>...</td>\n",
       "      <td>...</td>\n",
       "      <td>...</td>\n",
       "      <td>...</td>\n",
       "      <td>...</td>\n",
       "      <td>...</td>\n",
       "    </tr>\n",
       "    <tr>\n",
       "      <th>400</th>\n",
       "      <td>chevrolet camaro</td>\n",
       "      <td>27.0</td>\n",
       "      <td>8</td>\n",
       "      <td>151.0</td>\n",
       "      <td>90.0</td>\n",
       "      <td>2950</td>\n",
       "      <td>17.3</td>\n",
       "      <td>1982-01-01</td>\n",
       "      <td>USA</td>\n",
       "    </tr>\n",
       "    <tr>\n",
       "      <th>401</th>\n",
       "      <td>ford mustang gl</td>\n",
       "      <td>27.0</td>\n",
       "      <td>8</td>\n",
       "      <td>140.0</td>\n",
       "      <td>86.0</td>\n",
       "      <td>2790</td>\n",
       "      <td>15.6</td>\n",
       "      <td>1982-01-01</td>\n",
       "      <td>USA</td>\n",
       "    </tr>\n",
       "    <tr>\n",
       "      <th>403</th>\n",
       "      <td>dodge rampage</td>\n",
       "      <td>32.0</td>\n",
       "      <td>8</td>\n",
       "      <td>135.0</td>\n",
       "      <td>84.0</td>\n",
       "      <td>2295</td>\n",
       "      <td>11.6</td>\n",
       "      <td>1982-01-01</td>\n",
       "      <td>USA</td>\n",
       "    </tr>\n",
       "    <tr>\n",
       "      <th>404</th>\n",
       "      <td>ford ranger</td>\n",
       "      <td>28.0</td>\n",
       "      <td>8</td>\n",
       "      <td>120.0</td>\n",
       "      <td>79.0</td>\n",
       "      <td>2625</td>\n",
       "      <td>18.6</td>\n",
       "      <td>1982-01-01</td>\n",
       "      <td>USA</td>\n",
       "    </tr>\n",
       "    <tr>\n",
       "      <th>405</th>\n",
       "      <td>chevy s-10</td>\n",
       "      <td>31.0</td>\n",
       "      <td>8</td>\n",
       "      <td>119.0</td>\n",
       "      <td>82.0</td>\n",
       "      <td>2720</td>\n",
       "      <td>19.4</td>\n",
       "      <td>1982-01-01</td>\n",
       "      <td>USA</td>\n",
       "    </tr>\n",
       "  </tbody>\n",
       "</table>\n",
       "<p>254 rows × 9 columns</p>\n",
       "</div>"
      ],
      "text/plain": [
       "                          Name  Miles_per_Gallon  ...       Year  Origin\n",
       "0    chevrolet chevelle malibu              18.0  ... 1970-01-01     USA\n",
       "1            buick skylark 320              15.0  ... 1970-01-01     USA\n",
       "2           plymouth satellite              18.0  ... 1970-01-01     USA\n",
       "3                amc rebel sst              16.0  ... 1970-01-01     USA\n",
       "4                  ford torino              17.0  ... 1970-01-01     USA\n",
       "..                         ...               ...  ...        ...     ...\n",
       "400           chevrolet camaro              27.0  ... 1982-01-01     USA\n",
       "401            ford mustang gl              27.0  ... 1982-01-01     USA\n",
       "403              dodge rampage              32.0  ... 1982-01-01     USA\n",
       "404                ford ranger              28.0  ... 1982-01-01     USA\n",
       "405                 chevy s-10              31.0  ... 1982-01-01     USA\n",
       "\n",
       "[254 rows x 9 columns]"
      ]
     },
     "metadata": {},
     "execution_count": 37
    }
   ]
  },
  {
   "cell_type": "markdown",
   "metadata": {
    "id": "AHQPB2pjPCpP"
   },
   "source": [
    "**9. Neue Informationen**\n",
    "\n",
    "Neben Filtern und Sortierungen können wir aber auch neue Informationen innerhalb des Datensatzes generieren. Beispielsweise lässt sich eine neue Datenspalte aus mehreren vorhandenen Informationen berechnen. Ein Beispiel: "
   ]
  },
  {
   "cell_type": "code",
   "metadata": {
    "colab": {
     "base_uri": "https://localhost:8080/",
     "height": 421
    },
    "id": "6HKMCFszPICZ",
    "outputId": "48a0b130-933b-44b7-95e1-8f7e02886682"
   },
   "source": [
    "cars[\"PpC\"] = cars[\"Horsepower\"] / cars[\"Cylinders\"]\n",
    "cars.sort_values(\"PpC\", ascending=False)"
   ],
   "execution_count": null,
   "outputs": [
    {
     "output_type": "execute_result",
     "data": {
      "text/html": [
       "<div>\n",
       "<style scoped>\n",
       "    .dataframe tbody tr th:only-of-type {\n",
       "        vertical-align: middle;\n",
       "    }\n",
       "\n",
       "    .dataframe tbody tr th {\n",
       "        vertical-align: top;\n",
       "    }\n",
       "\n",
       "    .dataframe thead th {\n",
       "        text-align: right;\n",
       "    }\n",
       "</style>\n",
       "<table border=\"1\" class=\"dataframe\">\n",
       "  <thead>\n",
       "    <tr style=\"text-align: right;\">\n",
       "      <th></th>\n",
       "      <th>Name</th>\n",
       "      <th>Miles_per_Gallon</th>\n",
       "      <th>Cylinders</th>\n",
       "      <th>Displacement</th>\n",
       "      <th>Horsepower</th>\n",
       "      <th>Weight_in_lbs</th>\n",
       "      <th>Acceleration</th>\n",
       "      <th>Year</th>\n",
       "      <th>Origin</th>\n",
       "      <th>PpC</th>\n",
       "    </tr>\n",
       "  </thead>\n",
       "  <tbody>\n",
       "    <tr>\n",
       "      <th>250</th>\n",
       "      <td>mazda rx-4</td>\n",
       "      <td>21.5</td>\n",
       "      <td>3</td>\n",
       "      <td>80.0</td>\n",
       "      <td>110.0</td>\n",
       "      <td>2720</td>\n",
       "      <td>13.5</td>\n",
       "      <td>1977-01-01</td>\n",
       "      <td>Japan</td>\n",
       "      <td>36.666667</td>\n",
       "    </tr>\n",
       "    <tr>\n",
       "      <th>341</th>\n",
       "      <td>mazda rx-7 gs</td>\n",
       "      <td>23.7</td>\n",
       "      <td>3</td>\n",
       "      <td>70.0</td>\n",
       "      <td>100.0</td>\n",
       "      <td>2420</td>\n",
       "      <td>12.5</td>\n",
       "      <td>1980-01-01</td>\n",
       "      <td>Japan</td>\n",
       "      <td>33.333333</td>\n",
       "    </tr>\n",
       "    <tr>\n",
       "      <th>78</th>\n",
       "      <td>mazda rx2 coupe</td>\n",
       "      <td>19.0</td>\n",
       "      <td>3</td>\n",
       "      <td>70.0</td>\n",
       "      <td>97.0</td>\n",
       "      <td>2330</td>\n",
       "      <td>13.5</td>\n",
       "      <td>1972-01-01</td>\n",
       "      <td>Japan</td>\n",
       "      <td>32.333333</td>\n",
       "    </tr>\n",
       "    <tr>\n",
       "      <th>118</th>\n",
       "      <td>maxda rx3</td>\n",
       "      <td>18.0</td>\n",
       "      <td>3</td>\n",
       "      <td>70.0</td>\n",
       "      <td>90.0</td>\n",
       "      <td>2124</td>\n",
       "      <td>13.5</td>\n",
       "      <td>1973-01-01</td>\n",
       "      <td>Japan</td>\n",
       "      <td>30.000000</td>\n",
       "    </tr>\n",
       "    <tr>\n",
       "      <th>123</th>\n",
       "      <td>pontiac grand prix</td>\n",
       "      <td>16.0</td>\n",
       "      <td>8</td>\n",
       "      <td>400.0</td>\n",
       "      <td>230.0</td>\n",
       "      <td>4278</td>\n",
       "      <td>9.5</td>\n",
       "      <td>1973-01-01</td>\n",
       "      <td>USA</td>\n",
       "      <td>28.750000</td>\n",
       "    </tr>\n",
       "    <tr>\n",
       "      <th>...</th>\n",
       "      <td>...</td>\n",
       "      <td>...</td>\n",
       "      <td>...</td>\n",
       "      <td>...</td>\n",
       "      <td>...</td>\n",
       "      <td>...</td>\n",
       "      <td>...</td>\n",
       "      <td>...</td>\n",
       "      <td>...</td>\n",
       "      <td>...</td>\n",
       "    </tr>\n",
       "    <tr>\n",
       "      <th>133</th>\n",
       "      <td>ford maverick</td>\n",
       "      <td>21.0</td>\n",
       "      <td>6</td>\n",
       "      <td>200.0</td>\n",
       "      <td>NaN</td>\n",
       "      <td>2875</td>\n",
       "      <td>17.0</td>\n",
       "      <td>1974-01-01</td>\n",
       "      <td>USA</td>\n",
       "      <td>NaN</td>\n",
       "    </tr>\n",
       "    <tr>\n",
       "      <th>337</th>\n",
       "      <td>renault lecar deluxe</td>\n",
       "      <td>40.9</td>\n",
       "      <td>4</td>\n",
       "      <td>85.0</td>\n",
       "      <td>NaN</td>\n",
       "      <td>1835</td>\n",
       "      <td>17.3</td>\n",
       "      <td>1980-01-01</td>\n",
       "      <td>Europe</td>\n",
       "      <td>NaN</td>\n",
       "    </tr>\n",
       "    <tr>\n",
       "      <th>343</th>\n",
       "      <td>ford mustang cobra</td>\n",
       "      <td>23.6</td>\n",
       "      <td>4</td>\n",
       "      <td>140.0</td>\n",
       "      <td>NaN</td>\n",
       "      <td>2905</td>\n",
       "      <td>14.3</td>\n",
       "      <td>1980-01-01</td>\n",
       "      <td>USA</td>\n",
       "      <td>NaN</td>\n",
       "    </tr>\n",
       "    <tr>\n",
       "      <th>361</th>\n",
       "      <td>renault 18i</td>\n",
       "      <td>34.5</td>\n",
       "      <td>4</td>\n",
       "      <td>100.0</td>\n",
       "      <td>NaN</td>\n",
       "      <td>2320</td>\n",
       "      <td>15.8</td>\n",
       "      <td>1982-01-01</td>\n",
       "      <td>Europe</td>\n",
       "      <td>NaN</td>\n",
       "    </tr>\n",
       "    <tr>\n",
       "      <th>382</th>\n",
       "      <td>amc concord dl</td>\n",
       "      <td>23.0</td>\n",
       "      <td>4</td>\n",
       "      <td>151.0</td>\n",
       "      <td>NaN</td>\n",
       "      <td>3035</td>\n",
       "      <td>20.5</td>\n",
       "      <td>1982-01-01</td>\n",
       "      <td>USA</td>\n",
       "      <td>NaN</td>\n",
       "    </tr>\n",
       "  </tbody>\n",
       "</table>\n",
       "<p>406 rows × 10 columns</p>\n",
       "</div>"
      ],
      "text/plain": [
       "                     Name  Miles_per_Gallon  ...  Origin        PpC\n",
       "250            mazda rx-4              21.5  ...   Japan  36.666667\n",
       "341         mazda rx-7 gs              23.7  ...   Japan  33.333333\n",
       "78        mazda rx2 coupe              19.0  ...   Japan  32.333333\n",
       "118             maxda rx3              18.0  ...   Japan  30.000000\n",
       "123    pontiac grand prix              16.0  ...     USA  28.750000\n",
       "..                    ...               ...  ...     ...        ...\n",
       "133         ford maverick              21.0  ...     USA        NaN\n",
       "337  renault lecar deluxe              40.9  ...  Europe        NaN\n",
       "343    ford mustang cobra              23.6  ...     USA        NaN\n",
       "361           renault 18i              34.5  ...  Europe        NaN\n",
       "382        amc concord dl              23.0  ...     USA        NaN\n",
       "\n",
       "[406 rows x 10 columns]"
      ]
     },
     "metadata": {},
     "execution_count": 18
    }
   ]
  },
  {
   "cell_type": "markdown",
   "metadata": {
    "id": "FKe3dIfKG-dd"
   },
   "source": [
    "**10. Daten aggregieren**\n",
    "\n",
    "Wir aggregieren Daten, um einen Eindruck über die Ausprägung von unüberschaubaren Daten zu erhalten. Hierfür hilft es uns, Messinstrumente der deskirptiven Statistik anzuwenden. Wir untersuchen häufig zuerst die sogenannten \"Summary Statistsics\"."
   ]
  },
  {
   "cell_type": "code",
   "metadata": {
    "colab": {
     "base_uri": "https://localhost:8080/"
    },
    "id": "4JlIcQc2-RDI",
    "outputId": "0557bb80-b1e4-421e-9ed8-85a214fc204a"
   },
   "source": [
    "cars[\"Horsepower\"].mean()\n"
   ],
   "execution_count": null,
   "outputs": [
    {
     "output_type": "execute_result",
     "data": {
      "text/plain": [
       "105.0825"
      ]
     },
     "metadata": {},
     "execution_count": 19
    }
   ]
  },
  {
   "cell_type": "code",
   "metadata": {
    "colab": {
     "base_uri": "https://localhost:8080/"
    },
    "id": "R2yovQ7wRmOO",
    "outputId": "4ec2b497-142a-4946-b184-f80e2ab02523"
   },
   "source": [
    "cars.Displacement.sum()"
   ],
   "execution_count": null,
   "outputs": [
    {
     "output_type": "execute_result",
     "data": {
      "text/plain": [
       "79080.5"
      ]
     },
     "metadata": {},
     "execution_count": 177
    }
   ]
  },
  {
   "cell_type": "markdown",
   "metadata": {
    "id": "yia7I3L1TSSb"
   },
   "source": [
    "Sollten uns Gruppenunterschiede in den Daten auffallen, oder unser Vorhaben der Vergleich von Gruppen beinhalten, dann Gruppieren wir die Stichprobe häufig nach der interessierenden Variable."
   ]
  },
  {
   "cell_type": "code",
   "metadata": {
    "colab": {
     "base_uri": "https://localhost:8080/"
    },
    "id": "5uaD_xirTLBo",
    "outputId": "c9c94ea7-fe52-49b3-839d-232af1f687f5"
   },
   "source": [
    "cars.groupby(\"Origin\")[\"Horsepower\"].mean()"
   ],
   "execution_count": null,
   "outputs": [
    {
     "output_type": "execute_result",
     "data": {
      "text/plain": [
       "Origin\n",
       "Europe     81.000000\n",
       "Japan      79.835443\n",
       "USA       119.900000\n",
       "Name: Horsepower, dtype: float64"
      ]
     },
     "metadata": {},
     "execution_count": 179
    }
   ]
  },
  {
   "cell_type": "code",
   "metadata": {
    "colab": {
     "base_uri": "https://localhost:8080/",
     "height": 155
    },
    "id": "0DVVwNHrTwBk",
    "outputId": "d2cd0f76-d594-4017-dc0b-cbc9cda14433"
   },
   "source": [
    "cars.groupby(\"Origin\")[\"Horsepower\"].agg([min, max, sum])\n",
    "#cars.pivot_table(\"Origin\")[\"Horsepower\"].agg([min, max, sum])"
   ],
   "execution_count": null,
   "outputs": [
    {
     "output_type": "execute_result",
     "data": {
      "application/vnd.google.colaboratory.module+javascript": "\n      import \"https://ssl.gstatic.com/colaboratory/data_table/a6224c040fa35dcf/data_table.js\";\n\n      window.createDataTable({\n        data: [[\"Europe\",\n{\n            'v': 46.0,\n            'f': \"46.0\",\n        },\n{\n            'v': 133.0,\n            'f': \"133.0\",\n        },\n{\n            'v': 5751.0,\n            'f': \"5751.0\",\n        }],\n [\"Japan\",\n{\n            'v': 52.0,\n            'f': \"52.0\",\n        },\n{\n            'v': 132.0,\n            'f': \"132.0\",\n        },\n{\n            'v': 6307.0,\n            'f': \"6307.0\",\n        }],\n [\"USA\",\n{\n            'v': 52.0,\n            'f': \"52.0\",\n        },\n{\n            'v': 230.0,\n            'f': \"230.0\",\n        },\n{\n            'v': 29975.0,\n            'f': \"29975.0\",\n        }]],\n        columns: [[\"string\", \"Origin\"], [\"number\", \"min\"], [\"number\", \"max\"], [\"number\", \"sum\"]],\n        columnOptions: [{\"width\": \"1px\", \"className\": \"index_column\"}],\n        rowsPerPage: 25,\n        helpUrl: \"https://colab.research.google.com/notebooks/data_table.ipynb\",\n        suppressOutputScrolling: true,\n        minimumWidth: undefined,\n      });\n    ",
      "text/html": [
       "<div>\n",
       "<style scoped>\n",
       "    .dataframe tbody tr th:only-of-type {\n",
       "        vertical-align: middle;\n",
       "    }\n",
       "\n",
       "    .dataframe tbody tr th {\n",
       "        vertical-align: top;\n",
       "    }\n",
       "\n",
       "    .dataframe thead th {\n",
       "        text-align: right;\n",
       "    }\n",
       "</style>\n",
       "<table border=\"1\" class=\"dataframe\">\n",
       "  <thead>\n",
       "    <tr style=\"text-align: right;\">\n",
       "      <th></th>\n",
       "      <th>min</th>\n",
       "      <th>max</th>\n",
       "      <th>sum</th>\n",
       "    </tr>\n",
       "    <tr>\n",
       "      <th>Origin</th>\n",
       "      <th></th>\n",
       "      <th></th>\n",
       "      <th></th>\n",
       "    </tr>\n",
       "  </thead>\n",
       "  <tbody>\n",
       "    <tr>\n",
       "      <th>Europe</th>\n",
       "      <td>46.0</td>\n",
       "      <td>133.0</td>\n",
       "      <td>5751.0</td>\n",
       "    </tr>\n",
       "    <tr>\n",
       "      <th>Japan</th>\n",
       "      <td>52.0</td>\n",
       "      <td>132.0</td>\n",
       "      <td>6307.0</td>\n",
       "    </tr>\n",
       "    <tr>\n",
       "      <th>USA</th>\n",
       "      <td>52.0</td>\n",
       "      <td>230.0</td>\n",
       "      <td>29975.0</td>\n",
       "    </tr>\n",
       "  </tbody>\n",
       "</table>\n",
       "</div>"
      ],
      "text/plain": [
       "         min    max      sum\n",
       "Origin                      \n",
       "Europe  46.0  133.0   5751.0\n",
       "Japan   52.0  132.0   6307.0\n",
       "USA     52.0  230.0  29975.0"
      ]
     },
     "metadata": {},
     "execution_count": 183
    }
   ]
  },
  {
   "cell_type": "markdown",
   "metadata": {
    "id": "dQbaDmCNpaNA"
   },
   "source": [
    "**5. Visualisierungen**\n",
    "\n",
    "Nun kommt der kreative Part. Uns stehen eine Reihe von Visualisierungen zur Verfügung, die uns mehr Eindrücke über den Informationsgehalt unserer Daten erlauben. Visualisierungen bieten uns eine neue Perspektive und lassen uns Muster in den Daten erkennen. Je nach Datengrundlage und geforderter Analyse können wir zwischen passenden Vergleichen wählen. "
   ]
  },
  {
   "cell_type": "code",
   "metadata": {
    "colab": {
     "base_uri": "https://localhost:8080/",
     "height": 350
    },
    "id": "wkIuDvyriJFY",
    "outputId": "dedb7e5b-8054-434e-9e30-e3a076a7e90a"
   },
   "source": [
    "sns.countplot(cars['Origin'])\n"
   ],
   "execution_count": null,
   "outputs": [
    {
     "output_type": "stream",
     "name": "stderr",
     "text": [
      "/usr/local/lib/python3.7/dist-packages/seaborn/_decorators.py:43: FutureWarning: Pass the following variable as a keyword arg: x. From version 0.12, the only valid positional argument will be `data`, and passing other arguments without an explicit keyword will result in an error or misinterpretation.\n",
      "  FutureWarning\n"
     ]
    },
    {
     "output_type": "execute_result",
     "data": {
      "text/plain": [
       "<matplotlib.axes._subplots.AxesSubplot at 0x7f0e90581b10>"
      ]
     },
     "metadata": {},
     "execution_count": 87
    },
    {
     "output_type": "display_data",
     "data": {
      "image/png": "[encoded data removed]",
      "text/plain": [
       "<Figure size 432x288 with 1 Axes>"
      ]
     },
     "metadata": {
      "needs_background": "light"
     }
    }
   ]
  },
  {
   "cell_type": "code",
   "metadata": {
    "colab": {
     "base_uri": "https://localhost:8080/",
     "height": 350
    },
    "id": "9r-s8OmB36Xn",
    "outputId": "d7627d89-5671-42d3-afe6-4f2ff2422bd3"
   },
   "source": [
    "sns.distplot(cars['Horsepower'], bins = 30)"
   ],
   "execution_count": null,
   "outputs": [
    {
     "output_type": "stream",
     "name": "stderr",
     "text": [
      "/usr/local/lib/python3.7/dist-packages/seaborn/distributions.py:2619: FutureWarning: `distplot` is a deprecated function and will be removed in a future version. Please adapt your code to use either `displot` (a figure-level function with similar flexibility) or `histplot` (an axes-level function for histograms).\n",
      "  warnings.warn(msg, FutureWarning)\n"
     ]
    },
    {
     "output_type": "execute_result",
     "data": {
      "text/plain": [
       "<matplotlib.axes._subplots.AxesSubplot at 0x7f0e874a8250>"
      ]
     },
     "metadata": {},
     "execution_count": 108
    },
    {
     "output_type": "display_data",
     "data": {
      "image/png": "[encoded data removed]",
      "text/plain": [
       "<Figure size 432x288 with 1 Axes>"
      ]
     },
     "metadata": {
      "needs_background": "light"
     }
    }
   ]
  },
  {
   "cell_type": "code",
   "metadata": {
    "colab": {
     "base_uri": "https://localhost:8080/",
     "height": 475
    },
    "id": "Wuhzjyds4Cc8",
    "outputId": "dde195fb-b2b0-495e-d3a0-16b34d866cdf"
   },
   "source": [
    "plt.figure(figsize=(10,6))\n",
    "sns.jointplot(x='Horsepower', y='Miles_per_Gallon', data=cars, kind='reg')"
   ],
   "execution_count": null,
   "outputs": [
    {
     "output_type": "execute_result",
     "data": {
      "text/plain": [
       "<seaborn.axisgrid.JointGrid at 0x7ff84422b210>"
      ]
     },
     "metadata": {},
     "execution_count": 39
    },
    {
     "output_type": "display_data",
     "data": {
      "text/plain": [
       "<Figure size 720x432 with 0 Axes>"
      ]
     },
     "metadata": {}
    },
    {
     "output_type": "display_data",
     "data": {
      "image/png": "[encoded data removed]",
      "text/plain": [
       "<Figure size 432x432 with 3 Axes>"
      ]
     },
     "metadata": {
      "needs_background": "light"
     }
    }
   ]
  },
  {
   "cell_type": "code",
   "metadata": {
    "colab": {
     "base_uri": "https://localhost:8080/",
     "height": 405
    },
    "id": "7T-mxCNvval0",
    "outputId": "97c7db95-cb37-409b-b4a3-1e2065aa91ea"
   },
   "source": [
    "plt.figure(figsize=(10,6))\n",
    "sns.boxplot(x='Horsepower', y='Origin', data=cars, hue='Cylinders')\n"
   ],
   "execution_count": null,
   "outputs": [
    {
     "output_type": "execute_result",
     "data": {
      "text/plain": [
       "<matplotlib.axes._subplots.AxesSubplot at 0x7f0e87093e90>"
      ]
     },
     "metadata": {},
     "execution_count": 104
    },
    {
     "output_type": "display_data",
     "data": {
      "image/png": "[encoded data removed]",
      "text/plain": [
       "<Figure size 720x432 with 1 Axes>"
      ]
     },
     "metadata": {
      "needs_background": "light"
     }
    }
   ]
  },
  {
   "cell_type": "code",
   "metadata": {
    "colab": {
     "base_uri": "https://localhost:8080/",
     "height": 297
    },
    "id": "AZAWOEHkYqCY",
    "outputId": "24d651f3-7a48-4aab-8423-6b28c8c95fe2"
   },
   "source": [
    "sns.regplot(x=\"Horsepower\", y=\"Cylinders\", data=cars)"
   ],
   "execution_count": null,
   "outputs": [
    {
     "output_type": "execute_result",
     "data": {
      "text/plain": [
       "<matplotlib.axes._subplots.AxesSubplot at 0x7f51b3791a50>"
      ]
     },
     "metadata": {},
     "execution_count": 20
    },
    {
     "output_type": "display_data",
     "data": {
      "image/png": "[encoded data removed]",
      "text/plain": [
       "<Figure size 432x288 with 1 Axes>"
      ]
     },
     "metadata": {
      "needs_background": "light"
     }
    }
   ]
  },
  {
   "cell_type": "code",
   "metadata": {
    "colab": {
     "base_uri": "https://localhost:8080/",
     "height": 406
    },
    "id": "0oNb6-htVmq5",
    "outputId": "bacb46b0-7a7a-4513-a2fe-a26311252a5f"
   },
   "source": [
    "plt.figure(figsize=(10,10))\n",
    "sns.set_theme(style=\"whitegrid\")\n",
    "\n",
    "\n",
    "cmap = sns.cubehelix_palette(rot=-.2, as_cmap=True)\n",
    "g = sns.relplot(\n",
    "    data=cars,\n",
    "    x=\"Acceleration\", y=\"Horsepower\",\n",
    "    hue=\"Origin\", size=\"Cylinders\"\n",
    ")\n",
    "g.set(xscale=\"log\", yscale=\"log\")\n",
    "g.ax.xaxis.grid(True, \"minor\", linewidth=.25)\n",
    "g.ax.yaxis.grid(True, \"minor\", linewidth=.25)\n",
    "g.despine(left=True, bottom=True)"
   ],
   "execution_count": null,
   "outputs": [
    {
     "output_type": "execute_result",
     "data": {
      "text/plain": [
       "<seaborn.axisgrid.FacetGrid at 0x7f0e8688c850>"
      ]
     },
     "metadata": {},
     "execution_count": 189
    },
    {
     "output_type": "display_data",
     "data": {
      "text/plain": [
       "<Figure size 720x720 with 0 Axes>"
      ]
     },
     "metadata": {}
    },
    {
     "output_type": "display_data",
     "data": {
      "image/png": "[encoded data removed]",
      "text/plain": [
       "<Figure size 441.725x360 with 1 Axes>"
      ]
     },
     "metadata": {}
    }
   ]
  },
  {
   "cell_type": "markdown",
   "metadata": {
    "id": "3ktuuMSM6d-U"
   },
   "source": [
    "# Eine kleine Aufgabe"
   ]
  },
  {
   "cell_type": "markdown",
   "metadata": {
    "id": "eJkUlZe270FY"
   },
   "source": [
    "Füge weitere Text- und Codezeilen ein und erweitere die Analyse. Du kannst diesen, oder einen anderen Datensatz aus der Beispieldatensammlung laden und dich mit anderen Inhalten als Autos beschäftigen. "
   ]
  },
  {
   "cell_type": "code",
   "metadata": {
    "id": "TPgMKZ6X-WcG"
   },
   "source": [],
   "execution_count": null,
   "outputs": []
  }
 ]
}
