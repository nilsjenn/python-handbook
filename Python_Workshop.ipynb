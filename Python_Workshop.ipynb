{
  "nbformat": 4,
  "nbformat_minor": 0,
  "metadata": {
    "colab": {
      "name": "Python Workshop.ipynb",
      "provenance": [],
      "collapsed_sections": [],
      "toc_visible": true,
      "authorship_tag": "ABX9TyNgXxwLI/w6nP8nES4A1vIr",
      "include_colab_link": true
    },
    "kernelspec": {
      "name": "python3",
      "display_name": "Python 3"
    },
    "language_info": {
      "name": "python"
    }
  },
  "cells": [
    {
      "cell_type": "markdown",
      "metadata": {
        "id": "view-in-github",
        "colab_type": "text"
      },
      "source": [
        "<a href=\"https://colab.research.google.com/github/nilsjenn/Workshop/blob/main/Python_Workshop.ipynb\" target=\"_parent\"><img src=\"https://colab.research.google.com/assets/colab-badge.svg\" alt=\"Open In Colab\"/></a>"
      ]
    },
    {
      "cell_type": "markdown",
      "source": [
        "# Python\n",
        "\n",
        " \n",
        "\n",
        "Calculation"
      ],
      "metadata": {
        "id": "DtXDGxD4Hjda"
      }
    },
    {
      "cell_type": "code",
      "execution_count": null,
      "metadata": {
        "id": "CwAAe1_jHic5"
      },
      "outputs": [],
      "source": [
        "# Example, do not modify!\n",
        "print(5 / 8)\n",
        "\n",
        "# Print the sum of 7 and 10\n",
        "print(7 + 10)\n",
        "\n",
        "# Division\n",
        "print(518 / 8)\n",
        "\n",
        "# Summarization\n",
        "print(723 + 10)"
      ]
    },
    {
      "cell_type": "markdown",
      "source": [
        "Calculation Signs"
      ],
      "metadata": {
        "id": "qCpIw-GNIHZU"
      }
    },
    {
      "cell_type": "code",
      "source": [
        "# Addition, subtraction\n",
        "print(5 + 5)\n",
        "print(5 - 5)\n",
        "\n",
        "# Multiplication, division, modulo, and exponentiation\n",
        "print(3 * 5)\n",
        "print(10 / 2)\n",
        "print(18 % 7)\n",
        "print(4 ** 2)\n",
        "\n",
        "# How much is your $100 worth after 7 years?\n",
        "print(100 * 1.1 ** 7)"
      ],
      "metadata": {
        "id": "6I74gBH8IHGV"
      },
      "execution_count": null,
      "outputs": []
    },
    {
      "cell_type": "markdown",
      "source": [
        "## Variables and Types\n",
        "\n",
        "Float = real numbers\n",
        "Integer = whole numbers\n",
        "Strings = text string\n",
        "Boolean = True, False"
      ],
      "metadata": {
        "id": "Qz_0F0KeIeVj"
      }
    },
    {
      "cell_type": "code",
      "source": [
        "# Variable Assignement with =\n",
        "\n",
        "x = 10\n",
        "y = \"apples\"\n",
        "z = True\n",
        "\n",
        "\n",
        "type(y)"
      ],
      "metadata": {
        "id": "PlFDNVUUIejE"
      },
      "execution_count": null,
      "outputs": []
    },
    {
      "cell_type": "markdown",
      "source": [
        "Sample Case"
      ],
      "metadata": {
        "id": "MKg1zPGyKayg"
      }
    },
    {
      "cell_type": "code",
      "source": [
        "# Create a variable savings\n",
        "savings = 100\n",
        "\n",
        "# Print out savings\n",
        "print(savings)"
      ],
      "metadata": {
        "id": "tJH4W8KnKa_6"
      },
      "execution_count": null,
      "outputs": []
    },
    {
      "cell_type": "code",
      "source": [
        "# Create a variable savings\n",
        "savings = 100\n",
        "\n",
        "# Create a variable growth_multiplier\n",
        "growth_multiplier = 1.1\n",
        "\n",
        "# Calculate result\n",
        "result = savings * growth_multiplier ** 7\n",
        "\n",
        "# Print out result\n",
        "print(result)"
      ],
      "metadata": {
        "id": "q5WnEKimKksJ"
      },
      "execution_count": null,
      "outputs": []
    },
    {
      "cell_type": "code",
      "source": [
        "# Create a variable desc\n",
        "desc = \"compound interest\"\n",
        "\n",
        "# Create a variable profitable\n",
        "profitable = True"
      ],
      "metadata": {
        "id": "eURQTrhgK3ZA"
      },
      "execution_count": null,
      "outputs": []
    },
    {
      "cell_type": "code",
      "source": [
        "savings = 100\n",
        "growth_multiplier = 1.1\n",
        "desc = \"compound interest\"\n",
        "\n",
        "# Assign product of growth_multiplier and savings to year1\n",
        "year1 = savings * growth_multiplier\n",
        "\n",
        "# Print the type of year1\n",
        "print(type(year1))\n",
        "\n",
        "# Assign sum of desc and desc to doubledesc\n",
        "doubledesc = desc + desc\n",
        "\n",
        "# Print out doubledesc\n",
        "print( doubledesc)"
      ],
      "metadata": {
        "id": "705FQWFkLyGL"
      },
      "execution_count": null,
      "outputs": []
    },
    {
      "cell_type": "code",
      "source": [
        "# Definition of savings and result\n",
        "savings = 100\n",
        "result = 100 * 1.10 ** 7\n",
        "\n",
        "# Fix the printout\n",
        "print(\"I started with $\" + str(savings) + \" and now have $\" + str(result) + \". Awesome!\")\n",
        "\n",
        "# Definition of pi_string\n",
        "pi_string = \"3.1415926\"\n",
        "\n",
        "# Convert pi_string into float: pi_float\n",
        "pi_float = float(pi_string)"
      ],
      "metadata": {
        "id": "L-AI0CZsL1xr"
      },
      "execution_count": null,
      "outputs": []
    },
    {
      "cell_type": "markdown",
      "source": [
        "## Python Lists\n",
        "\n"
      ],
      "metadata": {
        "id": "gPPwVkerL69B"
      }
    },
    {
      "cell_type": "code",
      "source": [
        "list1 = [3, 5, 8, 4, 5]\n",
        "list2 = [5.1, 4.5, 3.4, 6.7]\n",
        "type(list1)\n",
        " "
      ],
      "metadata": {
        "id": "eTnoD6HSL_s-"
      },
      "execution_count": null,
      "outputs": []
    },
    {
      "cell_type": "markdown",
      "source": [
        "Sample"
      ],
      "metadata": {
        "id": "g8VxcoIHM8v9"
      }
    },
    {
      "cell_type": "code",
      "source": [
        "# area variables (in square meters)\n",
        "hall = 11.25\n",
        "kit = 18.0\n",
        "liv = 20.0\n",
        "bed = 10.75\n",
        "bath = 9.50\n",
        "\n",
        "# Create list areas\n",
        "areas = [hall, kit, liv, bed, bath]\n",
        "\n",
        "# Print areas\n",
        "print(areas)\n"
      ],
      "metadata": {
        "id": "FGIDO2CaM6bI"
      },
      "execution_count": null,
      "outputs": []
    },
    {
      "cell_type": "code",
      "source": [
        "# area variables (in square meters)\n",
        "hall = 11.25\n",
        "kit = 18.0\n",
        "liv = 20.0\n",
        "bed = 10.75\n",
        "bath = 9.50\n",
        "\n",
        "# Adapt list areas\n",
        "areas = [\"hallway\", hall, \"kitchen\",  kit, \"living room\", liv, \"bedroom\", bed, \"bathroom\", bath]\n",
        "\n",
        "# Print areas\n",
        "print(areas)"
      ],
      "metadata": {
        "id": "vh0Ou4DSNR1j"
      },
      "execution_count": null,
      "outputs": []
    },
    {
      "cell_type": "code",
      "source": [
        "# area variables (in square meters)\n",
        "hall = 11.25\n",
        "kit = 18.0\n",
        "liv = 20.0\n",
        "bed = 10.75\n",
        "bath = 9.50\n",
        "\n",
        "# house information as list of lists\n",
        "house = [[\"hallway\", hall],\n",
        "         [\"kitchen\", kit],\n",
        "         [\"living room\", liv],\n",
        "         [\"bedroom\", bed],\n",
        "         [\"bathroom\", bath]]\n",
        "\n",
        "# Print out house\n",
        "print(house)\n",
        "\n",
        "# Print out the type of house\n",
        "print(type(house))"
      ],
      "metadata": {
        "id": "TFHbJRDqNWWt"
      },
      "execution_count": null,
      "outputs": []
    },
    {
      "cell_type": "markdown",
      "source": [
        "Subsetting Lists with the Index\n",
        "\n",
        "Starting with 0!\n",
        "\n",
        "[Inclusive:Exclusiv]"
      ],
      "metadata": {
        "id": "cBBwDdDzNbPF"
      }
    },
    {
      "cell_type": "code",
      "source": [
        "# Create the areas list\n",
        "areas = [\"hallway\", 11.25, \"kitchen\", 18.0, \"living room\", 20.0, \"bedroom\", 10.75, \"bathroom\", 9.50]\n",
        "\n",
        "# Print out second element from areas\n",
        "print(areas[1])\n",
        "\n",
        "# Print out last element from areas\n",
        "print(areas[-1])\n",
        "\n",
        "# Print out the area of the living room\n",
        "print(areas[5:8])"
      ],
      "metadata": {
        "id": "IVoIYsiONd5y"
      },
      "execution_count": null,
      "outputs": []
    },
    {
      "cell_type": "code",
      "source": [
        "# Create the areas list\n",
        "areas = [\"hallway\", 11.25, \"kitchen\", 18.0, \"living room\", 20.0, \"bedroom\", 10.75, \"bathroom\", 9.50]\n",
        "\n",
        "# Sum of kitchen and bedroom area: eat_sleep_area\n",
        "eat_sleep_area = areas[3] + areas[-3]\n",
        "\n",
        "# Print the variable eat_sleep_area\n",
        "print(eat_sleep_area)"
      ],
      "metadata": {
        "id": "7p01xS7lO2ts"
      },
      "execution_count": null,
      "outputs": []
    },
    {
      "cell_type": "code",
      "source": [
        "# Create the areas list\n",
        "areas = [\"hallway\", 11.25, \"kitchen\", 18.0, \"living room\", 20.0, \"bedroom\", 10.75, \"bathroom\", 9.50]\n",
        "\n",
        "# Use slicing to create downstairs\n",
        "downstairs = areas[0:6]\n",
        "\n",
        "# Use slicing to create upstairs\n",
        "upstairs = areas[6:11]\n",
        "\n",
        "# Print out downstairs and upstairs\n",
        "print(downstairs)\n",
        "print(upstairs)"
      ],
      "metadata": {
        "id": "fl6cIBEOO5wC"
      },
      "execution_count": null,
      "outputs": []
    },
    {
      "cell_type": "code",
      "source": [
        "# Create the areas list\n",
        "areas = [\"hallway\", 11.25, \"kitchen\", 18.0, \"living room\", 20.0, \"bedroom\", 10.75, \"bathroom\", 9.50]\n",
        "\n",
        "# Alternative slicing to create downstairs\n",
        "downstairs = areas[:6]\n",
        "\n",
        "# Alternative slicing to create upstairs\n",
        "upstairs = areas[6:]"
      ],
      "metadata": {
        "id": "wQNTXfEtPNWB"
      },
      "execution_count": null,
      "outputs": []
    },
    {
      "cell_type": "markdown",
      "source": [
        "Manipulating Lists\n",
        "\n",
        "Behind the Scenes"
      ],
      "metadata": {
        "id": "p1PgI7cnPTSF"
      }
    },
    {
      "cell_type": "code",
      "source": [
        "# Create the areas list\n",
        "areas = [\"hallway\", 11.25, \"kitchen\", 18.0, \"living room\", 20.0, \"bedroom\", 10.75, \"bathroom\", 9.50]\n",
        "\n",
        "# Correct the bathroom area\n",
        "areas[-1] = 10.50\n",
        "\n",
        "# Change \"living room\" to \"chill zone\"\n",
        "areas[4] = \"chill zone\""
      ],
      "metadata": {
        "id": "T9ZsBhP0PU09"
      },
      "execution_count": null,
      "outputs": []
    },
    {
      "cell_type": "code",
      "source": [
        "# Create the areas list and make some changes\n",
        "areas = [\"hallway\", 11.25, \"kitchen\", 18.0, \"chill zone\", 20.0,\n",
        "         \"bedroom\", 10.75, \"bathroom\", 10.50]\n",
        "\n",
        "# Add poolhouse data to areas, new list is areas_1\n",
        "areas_1 = areas + [\"poolhouse\", 24.5]\n",
        "\n",
        "# Add garage data to areas_1, new list is areas_2\n",
        "areas_2 = areas_1 + [\"garage\", 15.45]"
      ],
      "metadata": {
        "id": "wk02pNWhQVMD"
      },
      "execution_count": null,
      "outputs": []
    },
    {
      "cell_type": "markdown",
      "source": [
        "Creating a List"
      ],
      "metadata": {
        "id": "ogP93npLQhtP"
      }
    },
    {
      "cell_type": "code",
      "source": [
        "# Create list areas\n",
        "areas = [11.25, 18.0, 20.0, 10.75, 9.50]\n",
        "\n",
        "# Create areas_copy\n",
        "areas_copy = list(areas)\n",
        "\n",
        "# Change areas_copy\n",
        "areas_copy[0] = 5.0\n",
        "\n",
        "# Print areas\n",
        "print(areas)"
      ],
      "metadata": {
        "id": "3Jbu7zauQgJY"
      },
      "execution_count": null,
      "outputs": []
    },
    {
      "cell_type": "markdown",
      "source": [
        "## Functions"
      ],
      "metadata": {
        "id": "7fX2WG-jQnEO"
      }
    },
    {
      "cell_type": "markdown",
      "source": [
        "Functions are reusable code"
      ],
      "metadata": {
        "id": "QPK9nHciQqFF"
      }
    },
    {
      "cell_type": "code",
      "source": [
        "rounded = round(173.9832, 2)\n",
        "print(rounded)\n",
        "help(round)"
      ],
      "metadata": {
        "id": "8D07xmqeQq69"
      },
      "execution_count": null,
      "outputs": []
    },
    {
      "cell_type": "code",
      "source": [
        "# Create variables var1 and var2\n",
        "var1 = [1, 2, 3, 4]\n",
        "var2 = True\n",
        "\n",
        "# Print out type of var1\n",
        "result = type(var1)\n",
        "print(result)\n",
        "# Print out length of var1\n",
        "print(len(var1))\n",
        "# Convert var2 to an integer: out2\n",
        "out2 = int(var2)"
      ],
      "metadata": {
        "id": "gy3KT3ZoRTu6"
      },
      "execution_count": null,
      "outputs": []
    },
    {
      "cell_type": "code",
      "source": [
        "# Create lists first and second\n",
        "first = [11.25, 18.0, 20.0]\n",
        "second = [10.75, 9.50]\n",
        "\n",
        "# Paste together first and second: full\n",
        "full = first + second\n",
        "\n",
        "# Sort full in descending order: full_sorted\n",
        "full_sorted = sorted(full, reverse = True)\n",
        "\n",
        "# Print out full_sorted\n",
        "print(full_sorted)"
      ],
      "metadata": {
        "id": "T02Hvum3Ryy8"
      },
      "execution_count": null,
      "outputs": []
    },
    {
      "cell_type": "markdown",
      "source": [
        "## Methods"
      ],
      "metadata": {
        "id": "NIMmZ9iFR4RC"
      }
    },
    {
      "cell_type": "markdown",
      "source": [
        "Python Objects have built-in functions"
      ],
      "metadata": {
        "id": "GZq__qa6R6s6"
      }
    },
    {
      "cell_type": "code",
      "source": [
        "areas.index(\"hallway\")"
      ],
      "metadata": {
        "id": "R72NTlHDR6_5"
      },
      "execution_count": null,
      "outputs": []
    },
    {
      "cell_type": "markdown",
      "source": [
        "STR Methods"
      ],
      "metadata": {
        "id": "0FqYv1LOTKUQ"
      }
    },
    {
      "cell_type": "code",
      "source": [
        "hello = \"hello\"\n",
        "\n",
        "hello = hello.replace(\"llo\", \"y\")\n",
        "print(hello)"
      ],
      "metadata": {
        "id": "w-o91EOPS88c"
      },
      "execution_count": null,
      "outputs": []
    },
    {
      "cell_type": "code",
      "source": [
        "hello = hello + \" world\"\n",
        "print(hello)"
      ],
      "metadata": {
        "id": "nuDaazACURtq"
      },
      "execution_count": null,
      "outputs": []
    },
    {
      "cell_type": "markdown",
      "source": [
        "Sample"
      ],
      "metadata": {
        "id": "fF8oQjEGUk2a"
      }
    },
    {
      "cell_type": "code",
      "source": [
        "# string to experiment with: place\n",
        "place = \"poolhouse\"\n",
        "\n",
        "# Use upper() on place: place_up\n",
        "place_up = place.upper()\n",
        "\n",
        "# Print out place and place_up\n",
        "print(place)\n",
        "print(place_up)\n",
        "\n",
        "# Print out the number of o's in place\n",
        "print(place.count('o'))"
      ],
      "metadata": {
        "id": "nF2Pc4PNUjrZ"
      },
      "execution_count": null,
      "outputs": []
    },
    {
      "cell_type": "code",
      "source": [
        "# Create list areas\n",
        "areas = [11.25, 18.0, 20.0, 10.75, 9.50]\n",
        "\n",
        "# Print out the index of the element 20.0\n",
        "print(areas.index(20.0))\n",
        "\n",
        "# Print out how often 9.50 appears in areas\n",
        "print(areas.count(9.50))"
      ],
      "metadata": {
        "id": "va4iP-eZUqQX"
      },
      "execution_count": null,
      "outputs": []
    },
    {
      "cell_type": "code",
      "source": [
        "# Create list areas\n",
        "areas = [11.25, 18.0, 20.0, 10.75, 9.50]\n",
        "\n",
        "# Use append twice to add poolhouse and garage size\n",
        "areas.append(24.5)\n",
        "areas.append(15.45)\n",
        "\n",
        "# Print out areas\n",
        "print(areas)\n",
        "\n",
        "# Reverse the orders of the elements in areas\n",
        "areas.reverse()\n",
        "\n",
        "# Print out areas\n",
        "print(areas)"
      ],
      "metadata": {
        "id": "7Tkfrq_ZUtKF"
      },
      "execution_count": null,
      "outputs": []
    },
    {
      "cell_type": "markdown",
      "source": [
        "## Packages"
      ],
      "metadata": {
        "id": "IszlLJDxUwWY"
      }
    },
    {
      "cell_type": "markdown",
      "source": [
        "Import Packages"
      ],
      "metadata": {
        "id": "VTAqJ9WcVTnY"
      }
    },
    {
      "cell_type": "code",
      "source": [
        "import pandas\n",
        "import seaborn as sns\n",
        "from numpy import array"
      ],
      "metadata": {
        "id": "SyOE6FmSVMZF"
      },
      "execution_count": null,
      "outputs": []
    },
    {
      "cell_type": "code",
      "source": [
        "# Definition of radius\n",
        "r = 0.43\n",
        "\n",
        "# Import the math package\n",
        "import math\n",
        "\n",
        "# Calculate C\n",
        "C = 2 * r * math.pi\n",
        "\n",
        "# Calculate A\n",
        "A = math.pi * r ** 2\n",
        "\n",
        "# Build printout\n",
        "print(\"Circumference: \" + str(C))\n",
        "print(\"Area: \" + str(A))"
      ],
      "metadata": {
        "id": "YkE_3lrRV0HA"
      },
      "execution_count": null,
      "outputs": []
    },
    {
      "cell_type": "code",
      "source": [
        "# Definition of radius\n",
        "r = 192500\n",
        "\n",
        "# Import radians function of math package\n",
        "from math import radians\n",
        "\n",
        "# Travel distance of Moon over 12 degrees. Store in dist.\n",
        "dist = r * radians(12)\n",
        "\n",
        "# Print out dist\n",
        "print(dist)"
      ],
      "metadata": {
        "id": "wTQCNj-6V1Gs"
      },
      "execution_count": null,
      "outputs": []
    },
    {
      "cell_type": "markdown",
      "source": [
        "Numpy = Numeric Python"
      ],
      "metadata": {
        "id": "rxKzDh0sWfbM"
      }
    },
    {
      "cell_type": "code",
      "source": [
        "# Create list baseball\n",
        "baseball = [180, 215, 210, 210, 188, 176, 209, 200]\n",
        "height_in = [74, 74, 75, 76, 78, 84, 84, 89, 76, 76, 74, 72, 78]\n",
        "\n",
        "# Import the numpy package as np\n",
        "import numpy as np\n",
        "\n",
        "# Create a NumPy array from baseball: np_baseball\n",
        "np_baseball = np.array(baseball)\n",
        "\n",
        "# Print out type of np_baseball\n",
        "print(type(np_baseball))"
      ],
      "metadata": {
        "colab": {
          "base_uri": "https://localhost:8080/"
        },
        "id": "NGYizzhrWgvx",
        "outputId": "d48a398f-862b-42f2-f55f-7d1cf353de6a"
      },
      "execution_count": null,
      "outputs": [
        {
          "output_type": "stream",
          "name": "stdout",
          "text": [
            "<class 'numpy.ndarray'>\n"
          ]
        }
      ]
    },
    {
      "cell_type": "code",
      "source": [
        "# height_in is available as a regular list\n",
        "\n",
        "# Import numpy\n",
        "import numpy as np\n",
        "\n",
        "# Create a numpy array from height_in: np_height_in\n",
        "np_height_in = np.array(height_in)\n",
        "\n",
        "# Print out np_height_in\n",
        "print(np_height_in)\n",
        "\n",
        "# Convert np_height_in to m: np_height_m\n",
        "np_height_m = np_height_in * 0.0254\n",
        "\n",
        "# Print np_height_m\n",
        "print(np_height_m)"
      ],
      "metadata": {
        "id": "KHHVwcqTX9Qy"
      },
      "execution_count": null,
      "outputs": []
    },
    {
      "cell_type": "code",
      "source": [
        "# height_in and weight_lb are available as regular lists\n",
        "\n",
        "# Import numpy\n",
        "import numpy as np\n",
        "\n",
        "# Create array from height_in with metric units: np_height_m\n",
        "np_height_m = np.array(height_in) * 0.0254\n",
        "\n",
        "# Create array from weight_lb with metric units: np_weight_kg\n",
        "np_weight_kg = np.array(weight_lb) * 0.453592\n",
        "\n",
        "# Calculate the BMI: bmi\n",
        "bmi = np_weight_kg / np_height_m ** 2\n",
        "\n",
        "# Print out bmi\n",
        "print(bmi)"
      ],
      "metadata": {
        "id": "VIoH-0YqYA6A"
      },
      "execution_count": null,
      "outputs": []
    },
    {
      "cell_type": "code",
      "source": [
        "# height_in and weight_lb are available as a regular lists\n",
        "\n",
        "# Import numpy\n",
        "import numpy as np\n",
        "\n",
        "# Calculate the BMI: bmi\n",
        "np_height_m = np.array(height_in) * 0.0254\n",
        "np_weight_kg = np.array(weight_lb) * 0.453592\n",
        "bmi = np_weight_kg / np_height_m ** 2\n",
        "\n",
        "# Create the light array\n",
        "light = bmi < 21\n",
        "\n",
        "# Print out light\n",
        "print(light)\n",
        "\n",
        "# Print out BMIs of all baseball players whose BMI is below 21\n",
        "print(bmi[light])"
      ],
      "metadata": {
        "id": "V2JH-lnCYFd2"
      },
      "execution_count": null,
      "outputs": []
    },
    {
      "cell_type": "code",
      "source": [
        "# height_in and weight_lb are available as a regular lists\n",
        "\n",
        "# Import numpy\n",
        "import numpy as np\n",
        "\n",
        "# Store weight and height lists as numpy arrays\n",
        "np_weight_lb = np.array(weight_lb)\n",
        "np_height_in = np.array(height_in)\n",
        "\n",
        "# Print out the weight at index 50\n",
        "print(np_weight_lb[50])\n",
        "\n",
        "# Print out sub-array of np_height_in: index 100 up to and including index 110\n",
        "print(np_height_in[100:111])"
      ],
      "metadata": {
        "id": "mowJZqzDYOak"
      },
      "execution_count": null,
      "outputs": []
    },
    {
      "cell_type": "markdown",
      "source": [
        "## Numpy 2D"
      ],
      "metadata": {
        "id": "iLcLgWT3YSCM"
      }
    },
    {
      "cell_type": "code",
      "source": [
        "# Create baseball, a list of lists\n",
        "baseball = [[180, 78.4],\n",
        "            [215, 102.7],\n",
        "            [210, 98.5],\n",
        "            [188, 75.2]]\n",
        "\n",
        "# Import numpy\n",
        "import numpy as np\n",
        "\n",
        "# Create a 2D numpy array from baseball: np_baseball\n",
        "np_baseball = np.array(baseball)\n",
        "\n",
        "# Print out the type of np_baseball\n",
        "print(type(np_baseball))\n",
        "\n",
        "# Print out the shape of np_baseball\n",
        "print(np_baseball.shape)"
      ],
      "metadata": {
        "id": "F11kXXseZNbI"
      },
      "execution_count": null,
      "outputs": []
    },
    {
      "cell_type": "code",
      "source": [
        "# baseball is available as a regular list of lists\n",
        "\n",
        "# Import numpy package\n",
        "import numpy as np\n",
        "\n",
        "# Create a 2D numpy array from baseball: np_baseball\n",
        "np_baseball = np.array(baseball)\n",
        "\n",
        "# Print out the shape of np_baseball\n",
        "print(np_baseball.shape)"
      ],
      "metadata": {
        "id": "hFgBrXKKZOZo"
      },
      "execution_count": null,
      "outputs": []
    },
    {
      "cell_type": "code",
      "source": [
        "# baseball is available as a regular list of lists\n",
        "\n",
        "# Import numpy package\n",
        "import numpy as np\n",
        "\n",
        "# Create np_baseball (2 cols)\n",
        "np_baseball = np.array(baseball)\n",
        "\n",
        "# Print out the 50th row of np_baseball\n",
        "print(np_baseball[49,:])\n",
        "\n",
        "# Select the entire second column of np_baseball: np_weight_lb\n",
        "np_weight_lb = np_baseball[:,1]\n",
        "\n",
        "# Print out height of 124th player\n",
        "print(np_baseball[123, 0])"
      ],
      "metadata": {
        "id": "EFB8TjtIZR3S"
      },
      "execution_count": null,
      "outputs": []
    },
    {
      "cell_type": "code",
      "source": [
        "# baseball is available as a regular list of lists\n",
        "# updated is available as 2D numpy array\n",
        "\n",
        "# Import numpy package\n",
        "import numpy as np\n",
        "\n",
        "# Create np_baseball (3 cols)\n",
        "np_baseball = np.array(baseball)\n",
        "\n",
        "# Print out addition of np_baseball and updated\n",
        "print(np_baseball + updated)\n",
        "\n",
        "# Create numpy array: conversion\n",
        "conversion = np.array([0.0254, 0.453592, 1])\n",
        "\n",
        "# Print out product of np_baseball and conversion\n",
        "print(np_baseball * conversion)"
      ],
      "metadata": {
        "id": "RDKowl_QZZUv"
      },
      "execution_count": null,
      "outputs": []
    },
    {
      "cell_type": "markdown",
      "source": [
        "## Numpy Basic Statistics"
      ],
      "metadata": {
        "id": "6WvjjJZWZcik"
      }
    },
    {
      "cell_type": "code",
      "source": [
        "# np_baseball is available\n",
        "\n",
        "# Import numpy\n",
        "import numpy as np\n",
        "\n",
        "# Create np_height_in from np_baseball\n",
        "np_height_in = np_baseball[:,0]\n",
        "\n",
        "# Print out the mean of np_height_in\n",
        "print(np.mean(np_height_in))\n",
        "\n",
        "# Print out the median of np_height_in\n",
        "print(np.median(np_height_in))"
      ],
      "metadata": {
        "id": "eBJELEySZaNQ"
      },
      "execution_count": null,
      "outputs": []
    },
    {
      "cell_type": "code",
      "source": [
        "# np_baseball is available\n",
        "\n",
        "# Import numpy\n",
        "import numpy as np\n",
        "\n",
        "# Print mean height (first column)\n",
        "avg = np.mean(np_baseball[:,0])\n",
        "print(\"Average: \" + str(avg))\n",
        "\n",
        "# Print median height. Replace 'None'\n",
        "med = None\n",
        "print(\"Median: \" + str(med))\n",
        "\n",
        "# Print out the standard deviation on height. Replace 'None'\n",
        "stddev = None\n",
        "print(\"Standard Deviation: \" + str(stddev))\n",
        "\n",
        "# Print out correlation between first and second column. Replace 'None'\n",
        "corr = None\n",
        "print(\"Correlation: \" + str(corr))"
      ],
      "metadata": {
        "id": "EqOPkt4daPrA"
      },
      "execution_count": null,
      "outputs": []
    },
    {
      "cell_type": "code",
      "source": [
        "# np_baseball is available\n",
        "\n",
        "# Import numpy\n",
        "import numpy as np\n",
        "\n",
        "# Print mean height (first column)\n",
        "avg = np.mean(np_baseball[:,0])\n",
        "print(\"Average: \" + str(avg))\n",
        "\n",
        "# Print median height. Replace 'None'\n",
        "med = np.median(np_baseball[:,0])\n",
        "print(\"Median: \" + str(med))\n",
        "\n",
        "# Print out the standard deviation on height. Replace 'None'\n",
        "stddev = np.std(np_baseball[:,0])\n",
        "print(\"Standard Deviation: \" + str(stddev))\n",
        "\n",
        "# Print out correlation between first and second column. Replace 'None'\n",
        "corr = np.corrcoef(np_baseball[:,0], np_baseball[:,1])\n",
        "print(\"Correlation: \" + str(corr))"
      ],
      "metadata": {
        "id": "qoMcySr1aVBG"
      },
      "execution_count": null,
      "outputs": []
    },
    {
      "cell_type": "code",
      "source": [
        "# heights and positions are available as lists\n",
        "\n",
        "# Import numpy\n",
        "import numpy as np\n",
        "\n",
        "# Convert positions and heights to numpy arrays: np_positions, np_heights\n",
        "np_positions = np.array(positions)\n",
        "np_heights = np.array(heights)\n",
        "\n",
        "# Heights of the goalkeepers: gk_heights\n",
        "gk_heights = np_heights[np_positions == 'GK']\n",
        "\n",
        "# Heights of the other players: other_heights\n",
        "other_heights = np_heights[np_positions != 'GK']\n",
        "\n",
        "# Print out the median height of goalkeepers. Replace 'None'\n",
        "print(\"Median height of goalkeepers: \" + str(np.median(gk_heights)))\n",
        "\n",
        "# Print out the median height of other players. Replace 'None'\n",
        "print(\"Median height of other players: \" + str(np.median(other_heights)))"
      ],
      "metadata": {
        "id": "R9-0-PTqaZmO"
      },
      "execution_count": null,
      "outputs": []
    },
    {
      "cell_type": "markdown",
      "source": [
        "# Intermediate Python\n",
        "\n",
        "- Visualization\n",
        "- Data Structure\n",
        "- Control Structures\n",
        "- Case Study"
      ],
      "metadata": {
        "id": "9uPTuIt6a1sk"
      }
    },
    {
      "cell_type": "markdown",
      "source": [
        "## Visualization"
      ],
      "metadata": {
        "id": "NBpCaZnDbcyx"
      }
    },
    {
      "cell_type": "markdown",
      "source": [
        "Explore data \n",
        "\n",
        "Report insights"
      ],
      "metadata": {
        "id": "g3Q6x6uwa-Cu"
      }
    },
    {
      "cell_type": "code",
      "source": [
        "import plotly.express as px\n",
        "\n",
        "gapminder = px.data.gapminder()\n",
        "print(gapminder)"
      ],
      "metadata": {
        "id": "Q7fDyQyLjgVP"
      },
      "execution_count": null,
      "outputs": []
    },
    {
      "cell_type": "code",
      "source": [
        "# Print the first item from year and pop\n",
        "\n",
        "year = gapminder[\"year\"]\n",
        "pop = gapminder[\"pop\"]\n",
        "\n",
        "print(year[0])\n",
        "print(pop[0])\n",
        "\n",
        "# Import matplotlib.pyplot as plt\n",
        "import matplotlib.pyplot as plt\n",
        "\n",
        "# Make a line plot: year on the x-axis, pop on the y-axis\n",
        "plt.plot(year, pop)\n",
        "\n",
        "# Display the plot with plt.show()\n",
        "plt.show()"
      ],
      "metadata": {
        "id": "lwuPXXvnbGAv"
      },
      "execution_count": null,
      "outputs": []
    },
    {
      "cell_type": "code",
      "source": [
        "# Print the first item of gdp_cap and life_exp\n",
        "gdp_cap = gapminder[\"gdpPercap\"]\n",
        "life_exp = gapminder[\"lifeExp\"]\n",
        "\n",
        "\n",
        "print(gdp_cap[1])\n",
        "print(life_exp[1])\n",
        "\n",
        "# Make a line plot, gdp_cap on the x-axis, life_exp on the y-axis\n",
        "plt.plot(gdp_cap, life_exp)\n",
        "\n",
        "# Display the plot\n",
        "plt.show()"
      ],
      "metadata": {
        "id": "KQ4bEiICk_MQ"
      },
      "execution_count": null,
      "outputs": []
    },
    {
      "cell_type": "code",
      "source": [
        "# Change the line plot below to a scatter plot\n",
        "plt.scatter(gdp_cap, life_exp)\n",
        "\n",
        "# Put the x-axis on a logarithmic scale\n",
        "plt.xscale('log')\n",
        "\n",
        "# Show plot\n",
        "plt.show()"
      ],
      "metadata": {
        "id": "w-7GLHZcleLp"
      },
      "execution_count": null,
      "outputs": []
    },
    {
      "cell_type": "code",
      "source": [
        "# Import package\n",
        "import matplotlib.pyplot as plt\n",
        "\n",
        "# Build Scatter plot\n",
        "plt.scatter(pop, life_exp)\n",
        "\n",
        "# Show plot\n",
        "plt.show()"
      ],
      "metadata": {
        "id": "M7j63G3fll7R"
      },
      "execution_count": null,
      "outputs": []
    },
    {
      "cell_type": "code",
      "source": [
        "# Create histogram of life_exp data\n",
        "plt.hist(life_exp)\n",
        "\n",
        "# Display histogram\n",
        "plt.show()"
      ],
      "metadata": {
        "id": "HuZX_-DBmBVC"
      },
      "execution_count": null,
      "outputs": []
    },
    {
      "cell_type": "code",
      "source": [
        "# Build histogram with 5 bins\n",
        "plt.hist(life_exp, bins = 5)\n",
        "\n",
        "# Show and clear plot\n",
        "plt.show()\n",
        "plt.clf()\n",
        "\n",
        "# Build histogram with 20 bins\n",
        "plt.hist(life_exp, bins = 20)\n",
        "\n",
        "# Show and clear plot again\n",
        "plt.show()\n",
        "plt.clf()"
      ],
      "metadata": {
        "id": "0IJGiXFimk6A"
      },
      "execution_count": null,
      "outputs": []
    },
    {
      "cell_type": "code",
      "source": [
        "# Histogram of life_exp, 15 bins\n",
        "plt.hist(life_exp, bins = 15)\n",
        "\n",
        "# Show and clear plot\n",
        "plt.show()\n",
        "plt.clf()\n",
        "\n",
        "# Histogram of life_exp1950, 15 bins\n",
        "plt.hist(life_exp1950, bins = 15)\n",
        "\n",
        "# Show and clear plot again\n",
        "plt.show()\n",
        "plt.clf()"
      ],
      "metadata": {
        "id": "fHlnzRcFmwoR"
      },
      "execution_count": null,
      "outputs": []
    },
    {
      "cell_type": "markdown",
      "source": [
        "## Customization"
      ],
      "metadata": {
        "id": "-j9X6blgm67_"
      }
    },
    {
      "cell_type": "markdown",
      "source": [
        "Labeling\n",
        "Colours\n",
        "etc."
      ],
      "metadata": {
        "id": "BCmn7_nRnSG6"
      }
    },
    {
      "cell_type": "code",
      "source": [
        "# Basic scatter plot, log scale\n",
        "plt.scatter(gdp_cap, life_exp)\n",
        "plt.xscale('log') \n",
        "\n",
        "# Strings\n",
        "xlab = 'GDP per Capita [in USD]'\n",
        "ylab = 'Life Expectancy [in years]'\n",
        "title = 'World Development in 2007'\n",
        "\n",
        "# Add axis labels\n",
        "plt.xlabel(xlab)\n",
        "plt.ylabel(ylab)\n",
        "\n",
        "# Add title\n",
        "plt.title(title)\n",
        "\n",
        "# After customizing, display the plot\n",
        "plt.show()"
      ],
      "metadata": {
        "id": "qRdUoNa-nVr2"
      },
      "execution_count": null,
      "outputs": []
    },
    {
      "cell_type": "code",
      "source": [
        "# Scatter plot\n",
        "plt.scatter(gdp_cap, life_exp)\n",
        "\n",
        "# Previous customizations\n",
        "plt.xscale('log') \n",
        "plt.xlabel('GDP per Capita [in USD]')\n",
        "plt.ylabel('Life Expectancy [in years]')\n",
        "plt.title('World Development in 2007')\n",
        "\n",
        "# Definition of tick_val and tick_lab\n",
        "tick_val = [1000, 10000, 100000]\n",
        "tick_lab = ['1k', '10k', '100k']\n",
        "\n",
        "# Adapt the ticks on the x-axis\n",
        "plt.xticks(tick_val, tick_lab)\n",
        "\n",
        "# After customizing, display the plot\n",
        "plt.show()"
      ],
      "metadata": {
        "id": "7jjs_a1rn8G-"
      },
      "execution_count": null,
      "outputs": []
    },
    {
      "cell_type": "code",
      "source": [
        "px.scatter(px.data.gapminder(), x=\"gdpPercap\", y=\"lifeExp\", animation_frame=\"year\",\n",
        "           size=\"pop\", color=\"country\", hover_name=\"country\", \n",
        "           log_x = True, \n",
        "           size_max=45, range_x=[100,100000], range_y=[25,90])"
      ],
      "metadata": {
        "id": "yMiF6OfVtAhn"
      },
      "execution_count": null,
      "outputs": []
    },
    {
      "cell_type": "markdown",
      "source": [
        "## Dictionaries"
      ],
      "metadata": {
        "id": "it4Dz5S6wzs1"
      }
    },
    {
      "cell_type": "markdown",
      "source": [],
      "metadata": {
        "id": "oMx0Mxjqw4Tn"
      }
    },
    {
      "cell_type": "code",
      "source": [
        "# Definition of countries and capital\n",
        "countries = ['spain', 'france', 'germany', 'norway']\n",
        "capitals = ['madrid', 'paris', 'berlin', 'oslo']\n",
        "\n",
        "# Get index of 'germany': ind_ger\n",
        "ind_ger = countries.index('germany')\n",
        "\n",
        "# Use ind_ger to print out capital of Germany\n",
        "print(capitals[ind_ger])"
      ],
      "metadata": {
        "colab": {
          "base_uri": "https://localhost:8080/"
        },
        "id": "HRinS7u6w4p5",
        "outputId": "6d1ee826-a7c9-4a1a-b100-b3879273111e"
      },
      "execution_count": null,
      "outputs": [
        {
          "output_type": "stream",
          "name": "stdout",
          "text": [
            "berlin\n"
          ]
        }
      ]
    },
    {
      "cell_type": "code",
      "source": [
        "# Definition of countries and capital\n",
        "countries = ['spain', 'france', 'germany', 'norway']\n",
        "capitals = ['madrid', 'paris', 'berlin', 'oslo']\n",
        "\n",
        "# From string in countries and capitals, create dictionary europe\n",
        "europe = {'spain':'madrid', 'france':'paris', 'germany':'berlin', 'norway':'oslo'}\n",
        "\n",
        "# Print europe\n",
        "print(europe)"
      ],
      "metadata": {
        "id": "XWqjXlhWyCpb"
      },
      "execution_count": null,
      "outputs": []
    },
    {
      "cell_type": "code",
      "source": [
        "# Definition of dictionary\n",
        "europe = {'spain':'madrid', 'france':'paris', 'germany':'berlin', 'norway':'oslo' }\n",
        "\n",
        "# Print out the keys in europe\n",
        "print(europe.keys())\n",
        "\n",
        "# Print out value that belongs to key 'norway'\n",
        "print(europe['norway'])"
      ],
      "metadata": {
        "id": "LMV-1yI2yO1_"
      },
      "execution_count": null,
      "outputs": []
    },
    {
      "cell_type": "markdown",
      "source": [
        "Mutable and immutable objects"
      ],
      "metadata": {
        "id": "1pn5EWQiyiFv"
      }
    },
    {
      "cell_type": "code",
      "source": [
        "# Definition of dictionary\n",
        "europe = {'spain':'madrid', 'france':'paris', 'germany':'berlin', 'norway':'oslo' }\n",
        "\n",
        "# Add italy to europe\n",
        "europe['italy'] = 'rome'\n",
        "\n",
        "# Print out italy in europe\n",
        "print('italy' in europe)\n",
        "\n",
        "# Add poland to europe\n",
        "europe['poland'] = 'warsaw'\n",
        "\n",
        "# Print europe\n",
        "print(europe)"
      ],
      "metadata": {
        "id": "5Je7_6GEylTw"
      },
      "execution_count": null,
      "outputs": []
    },
    {
      "cell_type": "code",
      "source": [
        "# Definition of dictionary\n",
        "europe = {'spain':'madrid', 'france':'paris', 'germany':'bonn',\n",
        "          'norway':'oslo', 'italy':'rome', 'poland':'warsaw',\n",
        "          'australia':'vienna' }\n",
        "\n",
        "# Update capital of germany\n",
        "europe['germany'] = 'berlin'\n",
        "\n",
        "# Remove australia\n",
        "del(europe['australia'])\n",
        "\n",
        "# Print europe\n",
        "print(europe)"
      ],
      "metadata": {
        "id": "imJ5kbLQzSim"
      },
      "execution_count": null,
      "outputs": []
    },
    {
      "cell_type": "code",
      "source": [
        "# Dictionary of dictionaries\n",
        "europe = { 'spain': { 'capital':'madrid', 'population':46.77 },\n",
        "           'france': { 'capital':'paris', 'population':66.03 },\n",
        "           'germany': { 'capital':'berlin', 'population':80.62 },\n",
        "           'norway': { 'capital':'oslo', 'population':5.084 } }\n",
        "\n",
        "\n",
        "# Print out the capital of France\n",
        "print(europe['france']['capital'])\n",
        "\n",
        "# Create sub-dictionary data\n",
        "data = { 'capital':'rome', 'population':59.83 }\n",
        "\n",
        "# Add data to europe under key 'italy'\n",
        "europe['italy'] = data\n",
        "\n",
        "# Print europe\n",
        "print(europe)"
      ],
      "metadata": {
        "id": "9hhAhdyBzbgv"
      },
      "execution_count": null,
      "outputs": []
    },
    {
      "cell_type": "markdown",
      "source": [
        "## Pandas"
      ],
      "metadata": {
        "id": "Ebx02NpDzfGt"
      }
    },
    {
      "cell_type": "code",
      "source": [
        "High level data manipulation tool\n",
        "\n",
        "Buit on Numpy\n",
        "\n"
      ],
      "metadata": {
        "id": "NxbRngySzfP7"
      },
      "execution_count": null,
      "outputs": []
    },
    {
      "cell_type": "code",
      "source": [
        "dict = {\"country\": [\"Brazil\", \"Russia\", \"India\", \"China\", \"South Africa\"],\n",
        "       \"capital\": [\"Brasilia\", \"Moscow\", \"New Dehli\", \"Beijing\", \"Pretoria\"],\n",
        "       \"area\": [8.516, 17.10, 3.286, 9.597, 1.221],\n",
        "       \"population\": [200.4, 143.5, 1252, 1357, 52.98] }\n",
        "\n",
        "import pandas as pd\n",
        "brics = pd.DataFrame(dict)\n",
        "print(brics)"
      ],
      "metadata": {
        "id": "82fiSRS30il3"
      },
      "execution_count": null,
      "outputs": []
    },
    {
      "cell_type": "code",
      "source": [
        "# Pre-defined lists\n",
        "names = ['United States', 'Australia', 'Japan', 'India', 'Russia', 'Morocco', 'Egypt']\n",
        "dr =  [True, False, False, False, True, True, True]\n",
        "cpc = [809, 731, 588, 18, 200, 70, 45]\n",
        "\n",
        "# Import pandas as pd\n",
        "import pandas as pd\n",
        "\n",
        "# Create dictionary my_dict with three key:value pairs: my_dict\n",
        "my_dict = { 'country':names, 'drives_right':dr, 'cars_per_cap':cpc }\n",
        "\n",
        "# Build a DataFrame cars from my_dict: cars\n",
        "cars = pd.DataFrame(my_dict)\n",
        "\n",
        "# Print cars\n",
        "print(cars)"
      ],
      "metadata": {
        "id": "hJP89g310p5e"
      },
      "execution_count": null,
      "outputs": []
    },
    {
      "cell_type": "code",
      "source": [
        "import pandas as pd\n",
        "\n",
        "# Build cars DataFrame\n",
        "names = ['United States', 'Australia', 'Japan', 'India', 'Russia', 'Morocco', 'Egypt']\n",
        "dr =  [True, False, False, False, True, True, True]\n",
        "cpc = [809, 731, 588, 18, 200, 70, 45]\n",
        "cars_dict = { 'country':names, 'drives_right':dr, 'cars_per_cap':cpc }\n",
        "cars_summary = pd.DataFrame(cars_dict)\n",
        "print(cars)\n",
        "\n",
        "# Definition of row_labels\n",
        "row_labels = ['US', 'AUS', 'JPN', 'IN', 'RU', 'MOR', 'EG']\n",
        "\n",
        "# Specify row labels of cars\n",
        "cars_summary.index = row_labels\n",
        "\n",
        "# Print cars again\n",
        "print(cars_summary)"
      ],
      "metadata": {
        "id": "rrDumgB20vfh"
      },
      "execution_count": null,
      "outputs": []
    },
    {
      "cell_type": "code",
      "source": [
        "# Import pandas as pd\n",
        "import pandas as pd\n",
        "\n",
        "# Import the cars.csv data: cars\n",
        "\n",
        "from vega_datasets import data\n",
        "cars = data.cars()\n",
        "\n",
        "# Print out cars\n",
        "print(cars)"
      ],
      "metadata": {
        "id": "k8gSNVGj05Bw"
      },
      "execution_count": null,
      "outputs": []
    },
    {
      "cell_type": "code",
      "source": [
        "# load an example dataset\n",
        "from vega_datasets import data\n",
        "cars = data.cars()\n",
        "\n",
        "# plot the dataset, referencing dataframe column names\n",
        "import altair as alt\n",
        "alt.Chart(cars).mark_bar().encode(\n",
        "  x='mean(Miles_per_Gallon)',\n",
        "  y='Origin',\n",
        "  color='Origin'\n",
        ")"
      ],
      "metadata": {
        "id": "-NruDqjs2w4W"
      },
      "execution_count": null,
      "outputs": []
    },
    {
      "cell_type": "markdown",
      "source": [
        "iloc = index location\n",
        "\n",
        "loc = location"
      ],
      "metadata": {
        "id": "tA1njXwX17wz"
      }
    },
    {
      "cell_type": "code",
      "source": [
        "# Import cars data\n",
        "import pandas as pd\n",
        "\n",
        "# Print out origin column as Pandas Series\n",
        "print(cars['Origin'])\n",
        "\n",
        "# Print out origin column as Pandas DataFrame\n",
        "print(cars[['Origin']])\n",
        "\n",
        "# Print out DataFrame with origin and cylinder columns\n",
        "print(cars[['Origin', 'Cylinders']])"
      ],
      "metadata": {
        "id": "1bAM857B3IWX"
      },
      "execution_count": null,
      "outputs": []
    },
    {
      "cell_type": "code",
      "source": [
        "# Import cars data\n",
        "import pandas as pd\n",
        "\n",
        "# Print out first 3 observations\n",
        "print(cars[0:3])\n",
        "\n",
        "# Print out fourth, fifth and sixth observation\n",
        "print(cars[3:6])"
      ],
      "metadata": {
        "id": "19EaBuA_3tkE"
      },
      "execution_count": null,
      "outputs": []
    },
    {
      "cell_type": "code",
      "source": [
        "# Import cars data\n",
        "import pandas as pd\n",
        "\n",
        "# Print out observation for Japan\n",
        "print(cars_summary.iloc[2])\n",
        "\n",
        "# Print out observations for Australia and Egypt\n",
        "print(cars_summary.loc[['AUS', 'EG']])"
      ],
      "metadata": {
        "id": "RvANGv3_4Yk-"
      },
      "execution_count": null,
      "outputs": []
    },
    {
      "cell_type": "code",
      "source": [
        "# Import cars data\n",
        "import pandas as pd\n",
        "\n",
        "\n",
        "# Print out drives_right value of Morocco\n",
        "print(cars_summary.iloc[5, 2])\n",
        "\n",
        "# Print sub-DataFrame\n",
        "print(cars_summary.loc[['RU', 'MOR'], ['country', 'drives_right']])"
      ],
      "metadata": {
        "id": "zjq6Vl7m4-Cy"
      },
      "execution_count": null,
      "outputs": []
    },
    {
      "cell_type": "code",
      "source": [
        "# Import cars data\n",
        "import pandas as pd\n",
        "\n",
        "# Print out drives_right column as Series\n",
        "print(cars_summary.iloc[:, 2])\n",
        "\n",
        "# Print out drives_right column as DataFrame\n",
        "print(cars_summary.iloc[:, [2]])\n",
        "\n",
        "# Print out cars_per_cap and drives_right as DataFrame\n",
        "print(cars_summary.loc[:, ['cars_per_cap', 'drives_right']])"
      ],
      "metadata": {
        "id": "DygYkcYS5HNp"
      },
      "execution_count": null,
      "outputs": []
    },
    {
      "cell_type": "markdown",
      "source": [
        "## Comparison Operators"
      ],
      "metadata": {
        "id": "WSx9vPMn5T0l"
      }
    },
    {
      "cell_type": "markdown",
      "source": [],
      "metadata": {
        "id": "8aOy85Oh5Wk0"
      }
    },
    {
      "cell_type": "code",
      "source": [
        "# Comparison of booleans\n",
        "print(True == False)\n",
        "\n",
        "# Comparison of integers\n",
        "print(-5 * 15 != 75)\n",
        "\n",
        "# Comparison of strings\n",
        "print(\"pyscript\" == \"PyScript\")\n",
        "\n",
        "# Compare a boolean with a numeric\n",
        "print(True == 1)"
      ],
      "metadata": {
        "id": "6O_BP-2k6KYP"
      },
      "execution_count": null,
      "outputs": []
    },
    {
      "cell_type": "code",
      "source": [
        "# Comparison of integers\n",
        "x = -3 * 6\n",
        "print(x >= -10)\n",
        "\n",
        "# Comparison of strings\n",
        "y = \"test\"\n",
        "print(\"test\" <= y)\n",
        "\n",
        "# Comparison of booleans\n",
        "print(True > False)"
      ],
      "metadata": {
        "id": "fiN8zOxU6TOT"
      },
      "execution_count": null,
      "outputs": []
    },
    {
      "cell_type": "code",
      "source": [
        "# Create arrays\n",
        "import numpy as np\n",
        "my_house = np.array([18.0, 20.0, 10.75, 9.50])\n",
        "your_house = np.array([14.0, 24.0, 14.25, 9.0])\n",
        "\n",
        "# my_house greater than or equal to 18\n",
        "print(my_house >= 18)\n",
        "\n",
        "# my_house less than your_house\n",
        "print(my_house < your_house)"
      ],
      "metadata": {
        "id": "3h0yiKhk6Wcl"
      },
      "execution_count": null,
      "outputs": []
    },
    {
      "cell_type": "markdown",
      "source": [
        "## Boolean Operators"
      ],
      "metadata": {
        "id": "tGJi0Dhy6gZc"
      }
    },
    {
      "cell_type": "code",
      "source": [
        "print(True and True)\n",
        "print(False and True)\n",
        "print(6 > 5 and 4 > 9)"
      ],
      "metadata": {
        "id": "zJf26FRJ8pWB"
      },
      "execution_count": null,
      "outputs": []
    },
    {
      "cell_type": "code",
      "source": [
        "print(True or False)\n",
        "print(False or False)\n",
        "print(True or True)"
      ],
      "metadata": {
        "id": "j_ZXuSQa85T-"
      },
      "execution_count": null,
      "outputs": []
    },
    {
      "cell_type": "code",
      "source": [
        "print(not True)\n",
        "print(not False)"
      ],
      "metadata": {
        "id": "V-NrBbyz9QW1"
      },
      "execution_count": null,
      "outputs": []
    },
    {
      "cell_type": "code",
      "source": [
        "# Define variables\n",
        "my_kitchen = 18.0\n",
        "your_kitchen = 14.0\n",
        "\n",
        "# my_kitchen bigger than 10 and smaller than 18?\n",
        "print(my_kitchen > 10 and my_kitchen < 18)\n",
        "\n",
        "# my_kitchen smaller than 14 or bigger than 17?\n",
        "print(my_kitchen < 14 or my_kitchen > 17)\n",
        "\n",
        "# Double my_kitchen smaller than triple your_kitchen?\n",
        "print(my_kitchen * 2 < your_kitchen * 3)"
      ],
      "metadata": {
        "id": "tKwQRKw06jFG"
      },
      "execution_count": null,
      "outputs": []
    },
    {
      "cell_type": "code",
      "source": [
        "# Create arrays\n",
        "import numpy as np\n",
        "my_house = np.array([18.0, 20.0, 10.75, 9.50])\n",
        "your_house = np.array([14.0, 24.0, 14.25, 9.0])\n",
        "\n",
        "# my_house greater than 18.5 or smaller than 10\n",
        "print(np.logical_or(my_house > 18.5, my_house < 10))\n",
        "\n",
        "# Both my_house and your_house smaller than 11\n",
        "print(np.logical_and(my_house < 11, your_house < 11))"
      ],
      "metadata": {
        "id": "Y54p-G_u7gPs"
      },
      "execution_count": null,
      "outputs": []
    },
    {
      "cell_type": "markdown",
      "source": [
        "## Conditional Statements"
      ],
      "metadata": {
        "id": "p9yD3Q8V-d0x"
      }
    },
    {
      "cell_type": "code",
      "source": [
        "condition = 4 \n",
        "expression = \"\"\n",
        "\n",
        "if condition % 2 == 0 :\n",
        "  print(\"contition is even\")\n",
        "  print(\"checking \" + str(condition))"
      ],
      "metadata": {
        "id": "7r9oM2XO93nH"
      },
      "execution_count": null,
      "outputs": []
    },
    {
      "cell_type": "markdown",
      "source": [],
      "metadata": {
        "id": "bMxQuGeq_QGU"
      }
    },
    {
      "cell_type": "code",
      "source": [
        "if condition > 4 :\n",
        "  print(\"condition greater than 4\")\n",
        "else :\n",
        "  print(\"condition smaller or equal to 4\")"
      ],
      "metadata": {
        "id": "vHvkACz79_IT"
      },
      "execution_count": null,
      "outputs": []
    },
    {
      "cell_type": "code",
      "source": [
        "if condition > 4 :\n",
        "  print(\"condition greater than 4\")\n",
        "elif condition == 4 :\n",
        "  print(\"condition equal to 4\")\n",
        "else :\n",
        "  print(\"condition smaller than 4\")"
      ],
      "metadata": {
        "id": "as5D-NKSBDh9"
      },
      "execution_count": null,
      "outputs": []
    },
    {
      "cell_type": "code",
      "source": [
        "number = 23866\n",
        "if number % 2 == 0:\n",
        "  print(\"number is divisible by 3\") # If true\n",
        "elif number % 8  == 0:\n",
        "  print(\"number is divisible by 8\") # Never reached\n",
        "else :\n",
        "  print(\"no condition true\")"
      ],
      "metadata": {
        "id": "cgUsdoEtBZ05"
      },
      "execution_count": null,
      "outputs": []
    },
    {
      "cell_type": "markdown",
      "source": [
        "## Controll flow"
      ],
      "metadata": {
        "id": "16HUVNnfCq7G"
      }
    },
    {
      "cell_type": "code",
      "source": [
        "# Define variables\n",
        "room = \"kitchen\"\n",
        "area = 14.0\n",
        "\n",
        "# if statement for room\n",
        "if room == \"kitchen\" :\n",
        "    print(\"looking around in the kitchen.\")\n",
        "\n",
        "# if statement for area\n",
        "if area > 15 :\n",
        "    print(\"big place!\")"
      ],
      "metadata": {
        "colab": {
          "base_uri": "https://localhost:8080/"
        },
        "id": "V_MFZhvzCxz9",
        "outputId": "aaa68a27-64a1-43a9-917d-d6d7d2cbb3f0"
      },
      "execution_count": null,
      "outputs": [
        {
          "output_type": "stream",
          "name": "stdout",
          "text": [
            "looking around in the kitchen.\n"
          ]
        }
      ]
    },
    {
      "cell_type": "code",
      "source": [
        "# Define variables\n",
        "room = \"kit\"\n",
        "area = 14.0\n",
        "\n",
        "# if-else construct for room\n",
        "if room == \"kit\" :\n",
        "    print(\"looking around in the kitchen.\")\n",
        "else :\n",
        "    print(\"looking around elsewhere.\")\n",
        "\n",
        "# if-else construct for area :\n",
        "if area > 15 :\n",
        "    print(\"big place!\")\n",
        "else :\n",
        "    print(\"pretty small.\")"
      ],
      "metadata": {
        "id": "QGxZfJl9DHia"
      },
      "execution_count": null,
      "outputs": []
    },
    {
      "cell_type": "code",
      "source": [
        "# Define variables\n",
        "room = \"bed\"\n",
        "area = 14.0\n",
        "\n",
        "# if-elif-else construct for room\n",
        "if room == \"kit\" :\n",
        "    print(\"looking around in the kitchen.\")\n",
        "elif room == \"bed\":\n",
        "    print(\"looking around in the bedroom.\")\n",
        "else :\n",
        "    print(\"looking around elsewhere.\")\n",
        "\n",
        "# if-elif-else construct for area\n",
        "if area > 15 :\n",
        "    print(\"big place!\")\n",
        "elif area > 10 :\n",
        "    print(\"medium size, nice!\")\n",
        "else :\n",
        "    print(\"pretty small.\")"
      ],
      "metadata": {
        "id": "_zmTyVoIDNYN"
      },
      "execution_count": null,
      "outputs": []
    },
    {
      "cell_type": "markdown",
      "source": [
        "## Filtering Pandas Data Frame"
      ],
      "metadata": {
        "id": "mKUgmcZLDRSb"
      }
    },
    {
      "cell_type": "code",
      "source": [
        "# Build cars DataFrame\n",
        "import pandas as pd\n",
        "names = ['United States', 'Australia', 'Japan', 'India', 'Russia', 'Morocco', 'Egypt']\n",
        "dr =  [True, False, False, False, True, True, True]\n",
        "cpc = [809, 731, 588, 18, 200, 70, 45]\n",
        "cars_dict = { 'country':names, 'drives_right':dr, 'cars_per_cap':cpc }\n",
        "cars_summary = pd.DataFrame(cars_dict)\n",
        "\n",
        "# Extract drives_right column as Series: dr\n",
        "dr = cars_summary['drives_right']\n",
        "\n",
        "# Use dr to subset cars: sel\n",
        "sel = cars_summary[dr]\n",
        "\n",
        "# Print sel\n",
        "print(sel)"
      ],
      "metadata": {
        "id": "oS2z5v7cDQ-p"
      },
      "execution_count": null,
      "outputs": []
    },
    {
      "cell_type": "code",
      "source": [
        "\n",
        "# Convert code to a one-liner\n",
        "sel = cars_summary[cars_summary['drives_right']]\n",
        "\n",
        "# Print sel\n",
        "print(sel)"
      ],
      "metadata": {
        "id": "3KozGrelOd9p"
      },
      "execution_count": null,
      "outputs": []
    },
    {
      "cell_type": "code",
      "source": [
        "# Create car_maniac: observations that have a cars_per_cap over 500\n",
        "cpc = cars_summary['cars_per_cap']\n",
        "many_cars = cpc > 500\n",
        "car_maniac = cars_summary[many_cars]\n",
        "\n",
        "# Print car_maniac\n",
        "print(car_maniac)"
      ],
      "metadata": {
        "id": "40R3dVIjPHgG"
      },
      "execution_count": null,
      "outputs": []
    },
    {
      "cell_type": "code",
      "source": [
        "# Import numpy, you'll need this\n",
        "import numpy as np\n",
        "\n",
        "# Create medium: observations with cars_per_cap between 100 and 500\n",
        "cpc = cars_summary['cars_per_cap']\n",
        "between = np.logical_and(cpc > 100, cpc < 500)\n",
        "medium = cars_summary[between]\n",
        "\n",
        "# Print medium\n",
        "print(medium)"
      ],
      "metadata": {
        "id": "uvo08yVfPpN5"
      },
      "execution_count": null,
      "outputs": []
    },
    {
      "cell_type": "markdown",
      "source": [
        "##While loop"
      ],
      "metadata": {
        "id": "xRbhWuFOQtID"
      }
    },
    {
      "cell_type": "markdown",
      "source": [
        "Attention, while loops only stop when the condition is met"
      ],
      "metadata": {
        "id": "O3bX5E7eR09r"
      }
    },
    {
      "cell_type": "code",
      "source": [
        "# Initialize offset\n",
        "offset = 8\n",
        "\n",
        "# Code the while loop\n",
        "while offset != 0 :\n",
        "    print(\"correcting...\")\n",
        "    offset = offset - 1\n",
        "    print(offset)"
      ],
      "metadata": {
        "id": "iZU9nBlJQvKz"
      },
      "execution_count": null,
      "outputs": []
    },
    {
      "cell_type": "code",
      "source": [
        "# Initialize offset\n",
        "offset = -6\n",
        "\n",
        "# Code the while loop\n",
        "while offset != 0 :\n",
        "    print(\"correcting...\")\n",
        "    if offset > 0 :\n",
        "        offset = offset - 1\n",
        "    else :\n",
        "        offset = offset + 1\n",
        "    print(offset)"
      ],
      "metadata": {
        "id": "SaYVxF13SAW4"
      },
      "execution_count": null,
      "outputs": []
    },
    {
      "cell_type": "markdown",
      "source": [
        "## For loop"
      ],
      "metadata": {
        "id": "_8-UushASFGM"
      }
    },
    {
      "cell_type": "code",
      "source": [
        "# areas list\n",
        "areas = [11.25, 18.0, 20.0, 10.75, 9.50]\n",
        "\n",
        "# Code the for loop\n",
        "for area in areas :\n",
        "    print(area)"
      ],
      "metadata": {
        "id": "h6VqrOGGSLMB"
      },
      "execution_count": null,
      "outputs": []
    },
    {
      "cell_type": "code",
      "source": [
        "# areas list\n",
        "areas = [11.25, 18.0, 20.0, 10.75, 9.50]\n",
        "\n",
        "# Change for loop to use enumerate() and update print()\n",
        "for index, area in enumerate(areas) :\n",
        "    print(\"room \" + str(index) + \": \" + str(area))"
      ],
      "metadata": {
        "id": "xWWcm7TQUpc6"
      },
      "execution_count": null,
      "outputs": []
    },
    {
      "cell_type": "code",
      "source": [
        "# areas list\n",
        "areas = [11.25, 18.0, 20.0, 10.75, 9.50]\n",
        "\n",
        "# Adapt the printout\n",
        "for index, area in enumerate(areas) :\n",
        "    print(\"room \" + str(index + 1) + \": \" + str(area))"
      ],
      "metadata": {
        "id": "BggPzC9jU_Zy"
      },
      "execution_count": null,
      "outputs": []
    },
    {
      "cell_type": "code",
      "source": [
        "# house list of lists\n",
        "house = [[\"hallway\", 11.25], \n",
        "         [\"kitchen\", 18.0], \n",
        "         [\"living room\", 20.0], \n",
        "         [\"bedroom\", 10.75], \n",
        "         [\"bathroom\", 9.50]]\n",
        "         \n",
        "# Build a for loop from scratch\n",
        "for x in house :\n",
        "    print(\"the \" + x[0] + \" is \" + str(x[1]) + \" sqm\")"
      ],
      "metadata": {
        "id": "GgjdTwANVDud"
      },
      "execution_count": null,
      "outputs": []
    },
    {
      "cell_type": "markdown",
      "source": [
        "## Loop data structures"
      ],
      "metadata": {
        "id": "CCp1oN-xVG4l"
      }
    },
    {
      "cell_type": "markdown",
      "source": [
        "Numpy Arrays\n",
        "\n",
        "Pandas Data Frames"
      ],
      "metadata": {
        "id": "_soeyGvBV1TG"
      }
    },
    {
      "cell_type": "code",
      "source": [
        "# Definition of dictionary\n",
        "europe = {'spain':'madrid', 'france':'paris', 'germany':'berlin',\n",
        "          'norway':'oslo', 'italy':'rome', 'poland':'warsaw', 'austria':'vienna' }\n",
        "          \n",
        "# Iterate over europe\n",
        "for key, value in europe.items() :\n",
        "     print(\"the capital of \" + str(key) + \" is \" + str(value))"
      ],
      "metadata": {
        "id": "mwWeBnPyVMdQ"
      },
      "execution_count": null,
      "outputs": []
    },
    {
      "cell_type": "code",
      "source": [
        "# Import numpy as np\n",
        "import numpy as np\n",
        "\n",
        "# Crate Arrays\n",
        "baseball = [180, 215, 210, 210, 188, 176, 209, 200]\n",
        "height_in = [74, 74, 75, 76, 78, 84, 84, 89, 76, 76, 74, 72, 78]\n",
        "\n",
        "np_baseball = np.array(baseball)\n",
        "np_height = np.array(height_in)\n",
        "\n",
        "# For loop over np_height\n",
        "for x in np_height :\n",
        "    print(str(x) + \" inches\")\n",
        "\n",
        "# For loop over np_baseball\n",
        "for x in np.nditer(np_baseball) :\n",
        "    print(x)\n",
        "\n"
      ],
      "metadata": {
        "id": "lbn6dZmgWMCa"
      },
      "execution_count": null,
      "outputs": []
    },
    {
      "cell_type": "markdown",
      "source": [
        " Pandas Iterrows"
      ],
      "metadata": {
        "id": "g03ioGgUZXaQ"
      }
    },
    {
      "cell_type": "code",
      "source": [
        "# Import cars data\n",
        "import pandas as pd\n",
        "cars = cars_summary\n",
        "\n",
        "# Iterate over rows of cars\n",
        "for lab, row in cars.iterrows() :\n",
        "    print(lab)\n",
        "    print(row)"
      ],
      "metadata": {
        "id": "tikU8o4sZK5o"
      },
      "execution_count": null,
      "outputs": []
    },
    {
      "cell_type": "code",
      "source": [
        "# Pre-defined lists\n",
        "names = ['United States', 'Australia', 'Japan', 'India', 'Russia', 'Morocco', 'Egypt']\n",
        "dr =  [True, False, False, False, True, True, True]\n",
        "cpc = [809, 731, 588, 18, 200, 70, 45]\n",
        "\n",
        "# Import pandas as pd\n",
        "import pandas as pd\n",
        "\n",
        "# Create dictionary my_dict with three key:value pairs: my_dict\n",
        "my_dict = { 'country':names, 'drives_right':dr, 'cars_per_cap':cpc }\n",
        "\n",
        "# Build a DataFrame cars from my_dict: cars\n",
        "cars = pd.DataFrame(my_dict)\n",
        "\n",
        "# Adapt for loop\n",
        "for lab, row in cars.iterrows() :\n",
        "    print(str(lab) + \": \" + str(row['cars_per_cap']))"
      ],
      "metadata": {
        "id": "zMryEexpaY3n"
      },
      "execution_count": null,
      "outputs": []
    },
    {
      "cell_type": "code",
      "source": [
        "# Import cars data\n",
        "import pandas as pd\n",
        "\n",
        "# Code for loop that adds COUNTRY column\n",
        "for lab, row in cars.iterrows() :\n",
        "    cars.loc[lab, \"COUNTRY\"] = row[\"country\"].upper()\n",
        "    \n",
        "# Print cars\n",
        "print(cars)"
      ],
      "metadata": {
        "id": "Oieox_GEcVA-"
      },
      "execution_count": null,
      "outputs": []
    },
    {
      "cell_type": "code",
      "source": [
        "# Use .apply(str.upper)\n",
        "for lab, row in cars.iterrows() :\n",
        "    cars.loc[lab, \"COUNTRY\"] = row[\"country\"].upper()\n",
        "\n",
        "# Use .apply(str.upper)\n",
        "cars[\"COUNTRY\"] = cars[\"country\"].apply(str.upper)\n",
        "print(cars)"
      ],
      "metadata": {
        "id": "VgCC7UwRcX9i"
      },
      "execution_count": null,
      "outputs": []
    },
    {
      "cell_type": "markdown",
      "source": [
        "## Hackerstatistics"
      ],
      "metadata": {
        "id": "_uyXG8JndH7q"
      }
    },
    {
      "cell_type": "markdown",
      "source": [
        "Random Numbers\n",
        "\n",
        "100 dice throws\n",
        "1 or 2 = -1\n",
        "3, 4, 5 = +1\n",
        "6 = roll and walk"
      ],
      "metadata": {
        "id": "kc5b_VSfd6kB"
      }
    },
    {
      "cell_type": "code",
      "source": [
        "# Import numpy as np\n",
        "import numpy as np\n",
        "\n",
        "# Set the seed\n",
        "np.random.seed(123)\n",
        "\n",
        "# Generate and print random float\n",
        "print(np.random.rand())"
      ],
      "metadata": {
        "colab": {
          "base_uri": "https://localhost:8080/"
        },
        "id": "y-m8AGRidvyn",
        "outputId": "60ae47b8-baf8-4fc9-a7fc-898ebcea022b"
      },
      "execution_count": null,
      "outputs": [
        {
          "output_type": "stream",
          "name": "stdout",
          "text": [
            "0.6964691855978616\n"
          ]
        }
      ]
    },
    {
      "cell_type": "code",
      "source": [
        "# Import numpy and set seed\n",
        "import numpy as np\n",
        "np.random.seed(123)\n",
        "\n",
        "# Use randint() to simulate a dice\n",
        "print(np.random.randint(1,7))\n",
        "\n",
        "# Use randint() again\n",
        "print(np.random.randint(1,7))"
      ],
      "metadata": {
        "id": "e7sACBN1d_MT"
      },
      "execution_count": null,
      "outputs": []
    },
    {
      "cell_type": "code",
      "source": [
        "# NumPy is imported, seed is set\n",
        "\n",
        "# Starting step\n",
        "step = 50\n",
        "\n",
        "# Roll the dice\n",
        "dice = np.random.randint(1,7)\n",
        "\n",
        "# Finish the control construct\n",
        "if dice <= 2 :\n",
        "    step = step - 1\n",
        "elif dice <= 5 :\n",
        "    step = step + 1\n",
        "else :\n",
        "    step = step + np.random.randint(1,7)\n",
        "\n",
        "# Print out dice and step\n",
        "print(dice)\n",
        "print(step)"
      ],
      "metadata": {
        "id": "d5N9n1iZeE44"
      },
      "execution_count": null,
      "outputs": []
    },
    {
      "cell_type": "markdown",
      "source": [
        "## Saving random walks"
      ],
      "metadata": {
        "id": "L2BTuj4oeEjc"
      }
    },
    {
      "cell_type": "code",
      "source": [
        "# NumPy is imported, seed is set\n",
        "\n",
        "# Initialize random_walk\n",
        "random_walk = [0]\n",
        "\n",
        "# Complete the ___\n",
        "for x in range(100) :\n",
        "    # Set step: last element in random_walk\n",
        "    step = random_walk[-1]\n",
        "\n",
        "    # Roll the dice\n",
        "    dice = np.random.randint(1,7)\n",
        "\n",
        "    # Determine next step\n",
        "    if dice <= 2:\n",
        "        step = step - 1\n",
        "    elif dice <= 5:\n",
        "        step = step + 1\n",
        "    else:\n",
        "        step = step + np.random.randint(1,7)\n",
        "\n",
        "    # append next_step to random_walk\n",
        "    random_walk.append(step)\n",
        "\n",
        "# Print random_walk\n",
        "print(random_walk)"
      ],
      "metadata": {
        "id": "ww84ePtbfvI1"
      },
      "execution_count": null,
      "outputs": []
    },
    {
      "cell_type": "code",
      "source": [
        "# NumPy is imported, seed is set\n",
        "\n",
        "# Initialize random_walk\n",
        "random_walk = [0]\n",
        "\n",
        "for x in range(100) :\n",
        "    step = random_walk[-1]\n",
        "    dice = np.random.randint(1,7)\n",
        "\n",
        "    if dice <= 2:\n",
        "        # Replace below: use max to make sure step can't go below 0\n",
        "        step = max(0, step - 1)\n",
        "    elif dice <= 5:\n",
        "        step = step + 1\n",
        "    else:\n",
        "        step = step + np.random.randint(1,7)\n",
        "\n",
        "    random_walk.append(step)\n",
        "\n",
        "print(random_walk)"
      ],
      "metadata": {
        "id": "0ucAUJ6ssRYo"
      },
      "execution_count": null,
      "outputs": []
    },
    {
      "cell_type": "code",
      "source": [
        "# NumPy is imported, seed is set\n",
        "\n",
        "# Initialization\n",
        "random_walk = [0]\n",
        "\n",
        "for x in range(100) :\n",
        "    step = random_walk[-1]\n",
        "    dice = np.random.randint(1,7)\n",
        "\n",
        "    if dice <= 2:\n",
        "        step = max(0, step - 1)\n",
        "    elif dice <= 5:\n",
        "        step = step + 1\n",
        "    else:\n",
        "        step = step + np.random.randint(1,7)\n",
        "\n",
        "    random_walk.append(step)\n",
        "\n",
        "# Import matplotlib.pyplot as plt\n",
        "import matplotlib.pyplot as plt\n",
        "\n",
        "# Plot random_walk\n",
        "plt.plot(random_walk)\n",
        "\n",
        "# Show the plot\n",
        "plt.show()"
      ],
      "metadata": {
        "id": "bPiE3jWqsaCn"
      },
      "execution_count": null,
      "outputs": []
    },
    {
      "cell_type": "markdown",
      "source": [
        "## Distribution"
      ],
      "metadata": {
        "id": "saO3As1usgAF"
      }
    },
    {
      "cell_type": "code",
      "source": [
        "# NumPy is imported; seed is set\n",
        "\n",
        "# Initialize all_walks (don't change this line)\n",
        "all_walks = []\n",
        "\n",
        "# Simulate random walk 10 times\n",
        "for i in range(10) :\n",
        "\n",
        "    # Code from before\n",
        "    random_walk = [0]\n",
        "    for x in range(100) :\n",
        "        step = random_walk[-1]\n",
        "        dice = np.random.randint(1,7)\n",
        "\n",
        "        if dice <= 2:\n",
        "            step = max(0, step - 1)\n",
        "        elif dice <= 5:\n",
        "            step = step + 1\n",
        "        else:\n",
        "            step = step + np.random.randint(1,7)\n",
        "        random_walk.append(step)\n",
        "\n",
        "    # Append random_walk to all_walks\n",
        "    all_walks.append(random_walk)\n",
        "\n",
        "# Print all_walks\n",
        "print(all_walks)"
      ],
      "metadata": {
        "colab": {
          "base_uri": "https://localhost:8080/"
        },
        "id": "xvXlZky8si5o",
        "outputId": "f4df9093-57fd-436f-d261-df3c148ebd7a"
      },
      "execution_count": null,
      "outputs": [
        {
          "output_type": "stream",
          "name": "stdout",
          "text": [
            "[[0, 1, 2, 5, 4, 5, 4, 5, 6, 7, 6, 7, 6, 7, 8, 10, 9, 8, 9, 10, 9, 11, 12, 13, 14, 15, 16, 17, 16, 17, 18, 23, 24, 23, 22, 21, 20, 21, 22, 23, 28, 29, 28, 29, 30, 31, 32, 33, 34, 33, 32, 33, 32, 38, 37, 38, 37, 38, 37, 38, 42, 46, 48, 50, 49, 50, 52, 51, 57, 58, 60, 61, 60, 61, 62, 63, 62, 63, 64, 65, 67, 66, 65, 66, 72, 77, 76, 75, 79, 80, 81, 82, 84, 83, 84, 83, 84, 83, 82, 88, 87], [0, 1, 2, 3, 4, 5, 6, 7, 8, 7, 8, 7, 6, 7, 6, 7, 6, 7, 8, 12, 13, 12, 18, 17, 16, 17, 16, 15, 16, 15, 19, 18, 19, 18, 19, 18, 19, 21, 20, 19, 18, 19, 18, 23, 24, 25, 24, 23, 24, 23, 24, 23, 28, 29, 28, 27, 26, 25, 26, 27, 31, 37, 38, 39, 40, 41, 40, 41, 43, 44, 45, 46, 45, 44, 45, 44, 45, 46, 47, 46, 47, 48, 49, 48, 47, 48, 49, 54, 55, 56, 61, 60, 61, 60, 61, 62, 63, 64, 63, 69, 68], [0, 1, 0, 0, 1, 5, 6, 7, 8, 9, 8, 7, 6, 5, 4, 5, 6, 7, 8, 9, 10, 9, 10, 11, 10, 11, 12, 15, 14, 15, 14, 15, 18, 19, 20, 21, 20, 19, 22, 23, 24, 25, 24, 23, 24, 27, 28, 33, 34, 33, 34, 33, 34, 33, 39, 38, 37, 38, 40, 39, 38, 37, 38, 39, 40, 41, 45, 50, 51, 52, 53, 56, 57, 58, 59, 60, 61, 62, 61, 60, 61, 62, 61, 67, 66, 67, 68, 67, 66, 67, 66, 65, 71, 70, 69, 70, 71, 70, 69, 68, 67], [0, 1, 7, 8, 11, 12, 18, 19, 20, 26, 25, 31, 30, 31, 32, 33, 32, 38, 39, 38, 39, 38, 39, 38, 39, 38, 39, 43, 44, 46, 45, 46, 45, 44, 45, 44, 45, 44, 48, 52, 51, 50, 49, 50, 51, 55, 56, 57, 61, 60, 59, 58, 59, 60, 62, 61, 60, 61, 62, 64, 67, 72, 73, 72, 73, 74, 75, 76, 77, 76, 77, 78, 84, 83, 88, 87, 91, 90, 94, 93, 96, 97, 96, 97, 103, 102, 101, 100, 104, 103, 102, 103, 104, 103, 104, 105, 106, 107, 106, 105, 104], [0, 1, 0, 0, 4, 5, 7, 11, 17, 16, 15, 16, 17, 18, 17, 18, 17, 18, 19, 18, 17, 18, 19, 20, 21, 22, 23, 24, 25, 26, 27, 33, 32, 35, 36, 35, 34, 35, 36, 37, 36, 35, 34, 33, 34, 35, 36, 37, 38, 39, 40, 39, 40, 41, 43, 42, 43, 44, 47, 49, 50, 49, 48, 47, 46, 45, 46, 45, 46, 48, 49, 50, 49, 50, 49, 48, 49, 48, 47, 46, 47, 46, 45, 46, 47, 48, 50, 51, 52, 51, 50, 51, 57, 56, 57, 58, 63, 62, 63, 62, 63], [0, 1, 0, 1, 2, 8, 9, 10, 11, 10, 12, 13, 14, 15, 14, 15, 16, 17, 18, 17, 18, 17, 18, 19, 18, 19, 23, 24, 27, 28, 32, 33, 32, 33, 34, 33, 32, 37, 38, 39, 38, 37, 38, 39, 40, 39, 43, 42, 43, 44, 45, 46, 47, 48, 49, 48, 47, 46, 47, 48, 52, 53, 52, 53, 54, 53, 59, 60, 61, 62, 61, 62, 63, 66, 65, 66, 65, 64, 63, 64, 65, 67, 68, 69, 73, 74, 73, 72, 73, 74, 73, 72, 73, 74, 75, 74, 73, 74, 75, 76, 75], [0, 1, 2, 1, 0, 0, 1, 2, 3, 4, 5, 10, 14, 13, 14, 13, 12, 11, 12, 11, 12, 13, 12, 16, 17, 16, 17, 16, 15, 16, 15, 19, 20, 21, 22, 23, 24, 23, 24, 25, 26, 27, 28, 27, 32, 33, 34, 33, 34, 33, 34, 35, 34, 35, 40, 41, 42, 41, 42, 43, 44, 43, 44, 43, 44, 45, 44, 43, 42, 43, 44, 43, 42, 41, 42, 46, 47, 48, 49, 50, 51, 50, 51, 52, 51, 52, 57, 58, 57, 56, 57, 56, 55, 54, 58, 59, 60, 61, 60, 61, 62], [0, 1, 2, 3, 2, 1, 4, 3, 2, 1, 0, 1, 7, 8, 7, 8, 9, 8, 7, 8, 9, 10, 9, 13, 14, 13, 15, 16, 15, 16, 17, 18, 19, 20, 21, 20, 19, 20, 21, 20, 21, 22, 21, 20, 19, 23, 24, 25, 26, 27, 28, 29, 30, 31, 32, 31, 32, 33, 34, 35, 36, 35, 34, 40, 41, 42, 41, 40, 39, 43, 44, 48, 47, 53, 54, 55, 59, 60, 59, 58, 59, 60, 61, 62, 61, 67, 68, 67, 71, 72, 71, 72, 71, 77, 83, 84, 83, 84, 85, 86, 87], [0, 1, 0, 3, 2, 4, 5, 11, 10, 11, 12, 11, 10, 11, 10, 11, 12, 13, 14, 15, 16, 17, 18, 19, 20, 21, 22, 23, 24, 23, 24, 25, 26, 25, 24, 23, 24, 23, 27, 26, 25, 26, 28, 29, 34, 33, 34, 35, 39, 38, 39, 40, 39, 38, 39, 40, 41, 40, 39, 38, 39, 38, 37, 38, 37, 36, 35, 36, 37, 36, 35, 34, 35, 36, 37, 36, 35, 36, 37, 38, 39, 38, 39, 38, 39, 40, 41, 42, 43, 48, 53, 52, 53, 54, 53, 54, 60, 59, 60, 59, 60], [0, 0, 1, 2, 3, 2, 1, 2, 3, 4, 3, 2, 1, 3, 4, 5, 4, 3, 2, 3, 4, 5, 4, 3, 4, 7, 12, 15, 16, 17, 23, 24, 25, 26, 25, 27, 32, 33, 34, 35, 36, 37, 38, 37, 38, 39, 40, 41, 42, 44, 48, 49, 50, 51, 52, 56, 61, 60, 59, 58, 57, 60, 61, 62, 63, 62, 61, 64, 65, 64, 63, 62, 63, 64, 65, 66, 65, 66, 65, 66, 67, 66, 67, 68, 69, 70, 71, 72, 73, 72, 71, 72, 73, 76, 77, 76, 75, 76, 77, 78, 83]]\n"
          ]
        }
      ]
    },
    {
      "cell_type": "code",
      "source": [
        "# numpy and matplotlib imported, seed set.\n",
        "\n",
        "# initialize and populate all_walks\n",
        "all_walks = []\n",
        "for i in range(10) :\n",
        "    random_walk = [0]\n",
        "    for x in range(100) :\n",
        "        step = random_walk[-1]\n",
        "        dice = np.random.randint(1,7)\n",
        "        if dice <= 2:\n",
        "            step = max(0, step - 1)\n",
        "        elif dice <= 5:\n",
        "            step = step + 1\n",
        "        else:\n",
        "            step = step + np.random.randint(1,7)\n",
        "        random_walk.append(step)\n",
        "    all_walks.append(random_walk)\n",
        "\n",
        "# Convert all_walks to NumPy array: np_aw\n",
        "np_aw = np.array(all_walks)\n",
        "\n",
        "# Plot np_aw and show\n",
        "plt.plot(np_aw)\n",
        "plt.show()\n",
        "\n",
        "# Clear the figure\n",
        "plt.clf()\n",
        "\n",
        "# Transpose np_aw: np_aw_t\n",
        "np_aw_t = np.transpose(np_aw)\n",
        "\n",
        "# Plot np_aw_t and show\n",
        "plt.plot(np_aw_t)\n",
        "plt.show()"
      ],
      "metadata": {
        "id": "AGlyH4FLtlgl"
      },
      "execution_count": null,
      "outputs": []
    },
    {
      "cell_type": "code",
      "source": [
        "# numpy and matplotlib imported, seed set\n",
        "\n",
        "# Simulate random walk 250 times\n",
        "all_walks = []\n",
        "for i in range(250) :\n",
        "    random_walk = [0]\n",
        "    for x in range(100) :\n",
        "        step = random_walk[-1]\n",
        "        dice = np.random.randint(1,7)\n",
        "        if dice <= 2:\n",
        "            step = max(0, step - 1)\n",
        "        elif dice <= 5:\n",
        "            step = step + 1\n",
        "        else:\n",
        "            step = step + np.random.randint(1,7)\n",
        "\n",
        "        # Implement clumsiness\n",
        "        if np.random.rand() <= 0.001 :\n",
        "            step = 0\n",
        "\n",
        "        random_walk.append(step)\n",
        "    all_walks.append(random_walk)\n",
        "\n",
        "# Create and plot np_aw_t\n",
        "np_aw_t = np.transpose(np.array(all_walks))\n",
        "plt.plot(np_aw_t)\n",
        "plt.show()"
      ],
      "metadata": {
        "id": "oF2scpsBtsX9"
      },
      "execution_count": null,
      "outputs": []
    },
    {
      "cell_type": "code",
      "source": [
        "# numpy and matplotlib imported, seed set\n",
        "\n",
        "# Simulate random walk 500 times\n",
        "all_walks = []\n",
        "for i in range(500) :\n",
        "    random_walk = [0]\n",
        "    for x in range(100) :\n",
        "        step = random_walk[-1]\n",
        "        dice = np.random.randint(1,7)\n",
        "        if dice <= 2:\n",
        "            step = max(0, step - 1)\n",
        "        elif dice <= 5:\n",
        "            step = step + 1\n",
        "        else:\n",
        "            step = step + np.random.randint(1,7)\n",
        "        if np.random.rand() <= 0.001 :\n",
        "            step = 0\n",
        "        random_walk.append(step)\n",
        "    all_walks.append(random_walk)\n",
        "\n",
        "# Create and plot np_aw_t\n",
        "np_aw_t = np.transpose(np.array(all_walks))\n",
        "\n",
        "# Select last row from np_aw_t: ends\n",
        "ends = np_aw_t[-1,:]\n",
        "\n",
        "# Plot histogram of ends, display plot\n",
        "plt.hist(ends)\n",
        "plt.show()"
      ],
      "metadata": {
        "id": "vIcR7xRJt2O2"
      },
      "execution_count": null,
      "outputs": []
    },
    {
      "cell_type": "code",
      "source": [
        "# Count Integers above 60 in ends\n",
        "np.mean(ends >= 60)"
      ],
      "metadata": {
        "colab": {
          "base_uri": "https://localhost:8080/"
        },
        "id": "ahVglTn7uT4Z",
        "outputId": "85496c90-5a41-4cbe-b98f-c0450c2e0758"
      },
      "execution_count": null,
      "outputs": [
        {
          "output_type": "execute_result",
          "data": {
            "text/plain": [
              "0.782"
            ]
          },
          "metadata": {},
          "execution_count": 57
        }
      ]
    }
  ]
}